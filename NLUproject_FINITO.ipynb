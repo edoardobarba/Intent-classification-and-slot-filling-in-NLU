{
  "nbformat": 4,
  "nbformat_minor": 0,
  "metadata": {
    "colab": {
      "name": "NLUproject.ipynb",
      "provenance": [],
      "collapsed_sections": [
        "d297a312"
      ]
    },
    "kernelspec": {
      "name": "python3",
      "display_name": "Python 3"
    },
    "language_info": {
      "name": "python"
    },
    "accelerator": "GPU",
    "gpuClass": "standard",
    "widgets": {
      "application/vnd.jupyter.widget-state+json": {
        "b0f6519363854974810a92c69e572157": {
          "model_module": "@jupyter-widgets/controls",
          "model_name": "HBoxModel",
          "model_module_version": "1.5.0",
          "state": {
            "_dom_classes": [],
            "_model_module": "@jupyter-widgets/controls",
            "_model_module_version": "1.5.0",
            "_model_name": "HBoxModel",
            "_view_count": null,
            "_view_module": "@jupyter-widgets/controls",
            "_view_module_version": "1.5.0",
            "_view_name": "HBoxView",
            "box_style": "",
            "children": [
              "IPY_MODEL_b668ec350d634a32bfd0fb0bc753d87a",
              "IPY_MODEL_5740f58f84c34a7e99f4984db13b956e",
              "IPY_MODEL_900fedd80c984cdaa1df431f4105c2c0"
            ],
            "layout": "IPY_MODEL_a7395d0b5ee54e66ae7d9ea177ecd3b1"
          }
        },
        "b668ec350d634a32bfd0fb0bc753d87a": {
          "model_module": "@jupyter-widgets/controls",
          "model_name": "HTMLModel",
          "model_module_version": "1.5.0",
          "state": {
            "_dom_classes": [],
            "_model_module": "@jupyter-widgets/controls",
            "_model_module_version": "1.5.0",
            "_model_name": "HTMLModel",
            "_view_count": null,
            "_view_module": "@jupyter-widgets/controls",
            "_view_module_version": "1.5.0",
            "_view_name": "HTMLView",
            "description": "",
            "description_tooltip": null,
            "layout": "IPY_MODEL_06bd04b9f45e4b2ca28e34b9c754f10d",
            "placeholder": "​",
            "style": "IPY_MODEL_2c73d229ee7541c1aaaad011b778ac17",
            "value": "100%"
          }
        },
        "5740f58f84c34a7e99f4984db13b956e": {
          "model_module": "@jupyter-widgets/controls",
          "model_name": "FloatProgressModel",
          "model_module_version": "1.5.0",
          "state": {
            "_dom_classes": [],
            "_model_module": "@jupyter-widgets/controls",
            "_model_module_version": "1.5.0",
            "_model_name": "FloatProgressModel",
            "_view_count": null,
            "_view_module": "@jupyter-widgets/controls",
            "_view_module_version": "1.5.0",
            "_view_name": "ProgressView",
            "bar_style": "success",
            "description": "",
            "description_tooltip": null,
            "layout": "IPY_MODEL_239b4b7a0c17452c92ac6a4d89ae2a36",
            "max": 1,
            "min": 0,
            "orientation": "horizontal",
            "style": "IPY_MODEL_1c306494f41b44a9a017adce5e4286d7",
            "value": 1
          }
        },
        "900fedd80c984cdaa1df431f4105c2c0": {
          "model_module": "@jupyter-widgets/controls",
          "model_name": "HTMLModel",
          "model_module_version": "1.5.0",
          "state": {
            "_dom_classes": [],
            "_model_module": "@jupyter-widgets/controls",
            "_model_module_version": "1.5.0",
            "_model_name": "HTMLModel",
            "_view_count": null,
            "_view_module": "@jupyter-widgets/controls",
            "_view_module_version": "1.5.0",
            "_view_name": "HTMLView",
            "description": "",
            "description_tooltip": null,
            "layout": "IPY_MODEL_21111f4e1d6648469abb292abb5b2a48",
            "placeholder": "​",
            "style": "IPY_MODEL_68599ee639e842c2b60698074d3ae49d",
            "value": " 1/1 [09:34&lt;00:00, 574.34s/it]"
          }
        },
        "a7395d0b5ee54e66ae7d9ea177ecd3b1": {
          "model_module": "@jupyter-widgets/base",
          "model_name": "LayoutModel",
          "model_module_version": "1.2.0",
          "state": {
            "_model_module": "@jupyter-widgets/base",
            "_model_module_version": "1.2.0",
            "_model_name": "LayoutModel",
            "_view_count": null,
            "_view_module": "@jupyter-widgets/base",
            "_view_module_version": "1.2.0",
            "_view_name": "LayoutView",
            "align_content": null,
            "align_items": null,
            "align_self": null,
            "border": null,
            "bottom": null,
            "display": null,
            "flex": null,
            "flex_flow": null,
            "grid_area": null,
            "grid_auto_columns": null,
            "grid_auto_flow": null,
            "grid_auto_rows": null,
            "grid_column": null,
            "grid_gap": null,
            "grid_row": null,
            "grid_template_areas": null,
            "grid_template_columns": null,
            "grid_template_rows": null,
            "height": null,
            "justify_content": null,
            "justify_items": null,
            "left": null,
            "margin": null,
            "max_height": null,
            "max_width": null,
            "min_height": null,
            "min_width": null,
            "object_fit": null,
            "object_position": null,
            "order": null,
            "overflow": null,
            "overflow_x": null,
            "overflow_y": null,
            "padding": null,
            "right": null,
            "top": null,
            "visibility": null,
            "width": null
          }
        },
        "06bd04b9f45e4b2ca28e34b9c754f10d": {
          "model_module": "@jupyter-widgets/base",
          "model_name": "LayoutModel",
          "model_module_version": "1.2.0",
          "state": {
            "_model_module": "@jupyter-widgets/base",
            "_model_module_version": "1.2.0",
            "_model_name": "LayoutModel",
            "_view_count": null,
            "_view_module": "@jupyter-widgets/base",
            "_view_module_version": "1.2.0",
            "_view_name": "LayoutView",
            "align_content": null,
            "align_items": null,
            "align_self": null,
            "border": null,
            "bottom": null,
            "display": null,
            "flex": null,
            "flex_flow": null,
            "grid_area": null,
            "grid_auto_columns": null,
            "grid_auto_flow": null,
            "grid_auto_rows": null,
            "grid_column": null,
            "grid_gap": null,
            "grid_row": null,
            "grid_template_areas": null,
            "grid_template_columns": null,
            "grid_template_rows": null,
            "height": null,
            "justify_content": null,
            "justify_items": null,
            "left": null,
            "margin": null,
            "max_height": null,
            "max_width": null,
            "min_height": null,
            "min_width": null,
            "object_fit": null,
            "object_position": null,
            "order": null,
            "overflow": null,
            "overflow_x": null,
            "overflow_y": null,
            "padding": null,
            "right": null,
            "top": null,
            "visibility": null,
            "width": null
          }
        },
        "2c73d229ee7541c1aaaad011b778ac17": {
          "model_module": "@jupyter-widgets/controls",
          "model_name": "DescriptionStyleModel",
          "model_module_version": "1.5.0",
          "state": {
            "_model_module": "@jupyter-widgets/controls",
            "_model_module_version": "1.5.0",
            "_model_name": "DescriptionStyleModel",
            "_view_count": null,
            "_view_module": "@jupyter-widgets/base",
            "_view_module_version": "1.2.0",
            "_view_name": "StyleView",
            "description_width": ""
          }
        },
        "239b4b7a0c17452c92ac6a4d89ae2a36": {
          "model_module": "@jupyter-widgets/base",
          "model_name": "LayoutModel",
          "model_module_version": "1.2.0",
          "state": {
            "_model_module": "@jupyter-widgets/base",
            "_model_module_version": "1.2.0",
            "_model_name": "LayoutModel",
            "_view_count": null,
            "_view_module": "@jupyter-widgets/base",
            "_view_module_version": "1.2.0",
            "_view_name": "LayoutView",
            "align_content": null,
            "align_items": null,
            "align_self": null,
            "border": null,
            "bottom": null,
            "display": null,
            "flex": null,
            "flex_flow": null,
            "grid_area": null,
            "grid_auto_columns": null,
            "grid_auto_flow": null,
            "grid_auto_rows": null,
            "grid_column": null,
            "grid_gap": null,
            "grid_row": null,
            "grid_template_areas": null,
            "grid_template_columns": null,
            "grid_template_rows": null,
            "height": null,
            "justify_content": null,
            "justify_items": null,
            "left": null,
            "margin": null,
            "max_height": null,
            "max_width": null,
            "min_height": null,
            "min_width": null,
            "object_fit": null,
            "object_position": null,
            "order": null,
            "overflow": null,
            "overflow_x": null,
            "overflow_y": null,
            "padding": null,
            "right": null,
            "top": null,
            "visibility": null,
            "width": null
          }
        },
        "1c306494f41b44a9a017adce5e4286d7": {
          "model_module": "@jupyter-widgets/controls",
          "model_name": "ProgressStyleModel",
          "model_module_version": "1.5.0",
          "state": {
            "_model_module": "@jupyter-widgets/controls",
            "_model_module_version": "1.5.0",
            "_model_name": "ProgressStyleModel",
            "_view_count": null,
            "_view_module": "@jupyter-widgets/base",
            "_view_module_version": "1.2.0",
            "_view_name": "StyleView",
            "bar_color": null,
            "description_width": ""
          }
        },
        "21111f4e1d6648469abb292abb5b2a48": {
          "model_module": "@jupyter-widgets/base",
          "model_name": "LayoutModel",
          "model_module_version": "1.2.0",
          "state": {
            "_model_module": "@jupyter-widgets/base",
            "_model_module_version": "1.2.0",
            "_model_name": "LayoutModel",
            "_view_count": null,
            "_view_module": "@jupyter-widgets/base",
            "_view_module_version": "1.2.0",
            "_view_name": "LayoutView",
            "align_content": null,
            "align_items": null,
            "align_self": null,
            "border": null,
            "bottom": null,
            "display": null,
            "flex": null,
            "flex_flow": null,
            "grid_area": null,
            "grid_auto_columns": null,
            "grid_auto_flow": null,
            "grid_auto_rows": null,
            "grid_column": null,
            "grid_gap": null,
            "grid_row": null,
            "grid_template_areas": null,
            "grid_template_columns": null,
            "grid_template_rows": null,
            "height": null,
            "justify_content": null,
            "justify_items": null,
            "left": null,
            "margin": null,
            "max_height": null,
            "max_width": null,
            "min_height": null,
            "min_width": null,
            "object_fit": null,
            "object_position": null,
            "order": null,
            "overflow": null,
            "overflow_x": null,
            "overflow_y": null,
            "padding": null,
            "right": null,
            "top": null,
            "visibility": null,
            "width": null
          }
        },
        "68599ee639e842c2b60698074d3ae49d": {
          "model_module": "@jupyter-widgets/controls",
          "model_name": "DescriptionStyleModel",
          "model_module_version": "1.5.0",
          "state": {
            "_model_module": "@jupyter-widgets/controls",
            "_model_module_version": "1.5.0",
            "_model_name": "DescriptionStyleModel",
            "_view_count": null,
            "_view_module": "@jupyter-widgets/base",
            "_view_module_version": "1.2.0",
            "_view_name": "StyleView",
            "description_width": ""
          }
        },
        "3fc367d32f4747afbe6379241d72ba91": {
          "model_module": "@jupyter-widgets/controls",
          "model_name": "HBoxModel",
          "model_module_version": "1.5.0",
          "state": {
            "_dom_classes": [],
            "_model_module": "@jupyter-widgets/controls",
            "_model_module_version": "1.5.0",
            "_model_name": "HBoxModel",
            "_view_count": null,
            "_view_module": "@jupyter-widgets/controls",
            "_view_module_version": "1.5.0",
            "_view_name": "HBoxView",
            "box_style": "",
            "children": [
              "IPY_MODEL_12d973bbeeab4dcd820f0b1ac9d6b8d8",
              "IPY_MODEL_0c2749ba96854a09a48d33006c598696",
              "IPY_MODEL_3178e1bdc24a407ea2e04b2071c54c5a"
            ],
            "layout": "IPY_MODEL_80303f59b7ef4ac1ba9897af6b2f8ae8"
          }
        },
        "12d973bbeeab4dcd820f0b1ac9d6b8d8": {
          "model_module": "@jupyter-widgets/controls",
          "model_name": "HTMLModel",
          "model_module_version": "1.5.0",
          "state": {
            "_dom_classes": [],
            "_model_module": "@jupyter-widgets/controls",
            "_model_module_version": "1.5.0",
            "_model_name": "HTMLModel",
            "_view_count": null,
            "_view_module": "@jupyter-widgets/controls",
            "_view_module_version": "1.5.0",
            "_view_name": "HTMLView",
            "description": "",
            "description_tooltip": null,
            "layout": "IPY_MODEL_83f5c7c431314521bb9d91bfc8a35aec",
            "placeholder": "​",
            "style": "IPY_MODEL_1c465efdb5204bb28f6ef17068716654",
            "value": " 12%"
          }
        },
        "0c2749ba96854a09a48d33006c598696": {
          "model_module": "@jupyter-widgets/controls",
          "model_name": "FloatProgressModel",
          "model_module_version": "1.5.0",
          "state": {
            "_dom_classes": [],
            "_model_module": "@jupyter-widgets/controls",
            "_model_module_version": "1.5.0",
            "_model_name": "FloatProgressModel",
            "_view_count": null,
            "_view_module": "@jupyter-widgets/controls",
            "_view_module_version": "1.5.0",
            "_view_name": "ProgressView",
            "bar_style": "danger",
            "description": "",
            "description_tooltip": null,
            "layout": "IPY_MODEL_37eef8c9c2384f6b8742fa5f8e328583",
            "max": 199,
            "min": 0,
            "orientation": "horizontal",
            "style": "IPY_MODEL_d6c2604234224cf8ad51871e77508d0b",
            "value": 23
          }
        },
        "3178e1bdc24a407ea2e04b2071c54c5a": {
          "model_module": "@jupyter-widgets/controls",
          "model_name": "HTMLModel",
          "model_module_version": "1.5.0",
          "state": {
            "_dom_classes": [],
            "_model_module": "@jupyter-widgets/controls",
            "_model_module_version": "1.5.0",
            "_model_name": "HTMLModel",
            "_view_count": null,
            "_view_module": "@jupyter-widgets/controls",
            "_view_module_version": "1.5.0",
            "_view_name": "HTMLView",
            "description": "",
            "description_tooltip": null,
            "layout": "IPY_MODEL_db10a3b69a324900a0f53d8d37380041",
            "placeholder": "​",
            "style": "IPY_MODEL_29239bb39e234d40bc1929f514e001f3",
            "value": " 23/199 [09:30&lt;1:09:27, 23.68s/it]"
          }
        },
        "80303f59b7ef4ac1ba9897af6b2f8ae8": {
          "model_module": "@jupyter-widgets/base",
          "model_name": "LayoutModel",
          "model_module_version": "1.2.0",
          "state": {
            "_model_module": "@jupyter-widgets/base",
            "_model_module_version": "1.2.0",
            "_model_name": "LayoutModel",
            "_view_count": null,
            "_view_module": "@jupyter-widgets/base",
            "_view_module_version": "1.2.0",
            "_view_name": "LayoutView",
            "align_content": null,
            "align_items": null,
            "align_self": null,
            "border": null,
            "bottom": null,
            "display": null,
            "flex": null,
            "flex_flow": null,
            "grid_area": null,
            "grid_auto_columns": null,
            "grid_auto_flow": null,
            "grid_auto_rows": null,
            "grid_column": null,
            "grid_gap": null,
            "grid_row": null,
            "grid_template_areas": null,
            "grid_template_columns": null,
            "grid_template_rows": null,
            "height": null,
            "justify_content": null,
            "justify_items": null,
            "left": null,
            "margin": null,
            "max_height": null,
            "max_width": null,
            "min_height": null,
            "min_width": null,
            "object_fit": null,
            "object_position": null,
            "order": null,
            "overflow": null,
            "overflow_x": null,
            "overflow_y": null,
            "padding": null,
            "right": null,
            "top": null,
            "visibility": null,
            "width": null
          }
        },
        "83f5c7c431314521bb9d91bfc8a35aec": {
          "model_module": "@jupyter-widgets/base",
          "model_name": "LayoutModel",
          "model_module_version": "1.2.0",
          "state": {
            "_model_module": "@jupyter-widgets/base",
            "_model_module_version": "1.2.0",
            "_model_name": "LayoutModel",
            "_view_count": null,
            "_view_module": "@jupyter-widgets/base",
            "_view_module_version": "1.2.0",
            "_view_name": "LayoutView",
            "align_content": null,
            "align_items": null,
            "align_self": null,
            "border": null,
            "bottom": null,
            "display": null,
            "flex": null,
            "flex_flow": null,
            "grid_area": null,
            "grid_auto_columns": null,
            "grid_auto_flow": null,
            "grid_auto_rows": null,
            "grid_column": null,
            "grid_gap": null,
            "grid_row": null,
            "grid_template_areas": null,
            "grid_template_columns": null,
            "grid_template_rows": null,
            "height": null,
            "justify_content": null,
            "justify_items": null,
            "left": null,
            "margin": null,
            "max_height": null,
            "max_width": null,
            "min_height": null,
            "min_width": null,
            "object_fit": null,
            "object_position": null,
            "order": null,
            "overflow": null,
            "overflow_x": null,
            "overflow_y": null,
            "padding": null,
            "right": null,
            "top": null,
            "visibility": null,
            "width": null
          }
        },
        "1c465efdb5204bb28f6ef17068716654": {
          "model_module": "@jupyter-widgets/controls",
          "model_name": "DescriptionStyleModel",
          "model_module_version": "1.5.0",
          "state": {
            "_model_module": "@jupyter-widgets/controls",
            "_model_module_version": "1.5.0",
            "_model_name": "DescriptionStyleModel",
            "_view_count": null,
            "_view_module": "@jupyter-widgets/base",
            "_view_module_version": "1.2.0",
            "_view_name": "StyleView",
            "description_width": ""
          }
        },
        "37eef8c9c2384f6b8742fa5f8e328583": {
          "model_module": "@jupyter-widgets/base",
          "model_name": "LayoutModel",
          "model_module_version": "1.2.0",
          "state": {
            "_model_module": "@jupyter-widgets/base",
            "_model_module_version": "1.2.0",
            "_model_name": "LayoutModel",
            "_view_count": null,
            "_view_module": "@jupyter-widgets/base",
            "_view_module_version": "1.2.0",
            "_view_name": "LayoutView",
            "align_content": null,
            "align_items": null,
            "align_self": null,
            "border": null,
            "bottom": null,
            "display": null,
            "flex": null,
            "flex_flow": null,
            "grid_area": null,
            "grid_auto_columns": null,
            "grid_auto_flow": null,
            "grid_auto_rows": null,
            "grid_column": null,
            "grid_gap": null,
            "grid_row": null,
            "grid_template_areas": null,
            "grid_template_columns": null,
            "grid_template_rows": null,
            "height": null,
            "justify_content": null,
            "justify_items": null,
            "left": null,
            "margin": null,
            "max_height": null,
            "max_width": null,
            "min_height": null,
            "min_width": null,
            "object_fit": null,
            "object_position": null,
            "order": null,
            "overflow": null,
            "overflow_x": null,
            "overflow_y": null,
            "padding": null,
            "right": null,
            "top": null,
            "visibility": null,
            "width": null
          }
        },
        "d6c2604234224cf8ad51871e77508d0b": {
          "model_module": "@jupyter-widgets/controls",
          "model_name": "ProgressStyleModel",
          "model_module_version": "1.5.0",
          "state": {
            "_model_module": "@jupyter-widgets/controls",
            "_model_module_version": "1.5.0",
            "_model_name": "ProgressStyleModel",
            "_view_count": null,
            "_view_module": "@jupyter-widgets/base",
            "_view_module_version": "1.2.0",
            "_view_name": "StyleView",
            "bar_color": null,
            "description_width": ""
          }
        },
        "db10a3b69a324900a0f53d8d37380041": {
          "model_module": "@jupyter-widgets/base",
          "model_name": "LayoutModel",
          "model_module_version": "1.2.0",
          "state": {
            "_model_module": "@jupyter-widgets/base",
            "_model_module_version": "1.2.0",
            "_model_name": "LayoutModel",
            "_view_count": null,
            "_view_module": "@jupyter-widgets/base",
            "_view_module_version": "1.2.0",
            "_view_name": "LayoutView",
            "align_content": null,
            "align_items": null,
            "align_self": null,
            "border": null,
            "bottom": null,
            "display": null,
            "flex": null,
            "flex_flow": null,
            "grid_area": null,
            "grid_auto_columns": null,
            "grid_auto_flow": null,
            "grid_auto_rows": null,
            "grid_column": null,
            "grid_gap": null,
            "grid_row": null,
            "grid_template_areas": null,
            "grid_template_columns": null,
            "grid_template_rows": null,
            "height": null,
            "justify_content": null,
            "justify_items": null,
            "left": null,
            "margin": null,
            "max_height": null,
            "max_width": null,
            "min_height": null,
            "min_width": null,
            "object_fit": null,
            "object_position": null,
            "order": null,
            "overflow": null,
            "overflow_x": null,
            "overflow_y": null,
            "padding": null,
            "right": null,
            "top": null,
            "visibility": null,
            "width": null
          }
        },
        "29239bb39e234d40bc1929f514e001f3": {
          "model_module": "@jupyter-widgets/controls",
          "model_name": "DescriptionStyleModel",
          "model_module_version": "1.5.0",
          "state": {
            "_model_module": "@jupyter-widgets/controls",
            "_model_module_version": "1.5.0",
            "_model_name": "DescriptionStyleModel",
            "_view_count": null,
            "_view_module": "@jupyter-widgets/base",
            "_view_module_version": "1.2.0",
            "_view_name": "StyleView",
            "description_width": ""
          }
        }
      }
    }
  },
  "cells": [
    {
      "cell_type": "markdown",
      "source": [
        "# **NLU final project - Barba Edoardo**\n",
        "##Intent Classification and Slot Filling"
      ],
      "metadata": {
        "id": "jFTrITijzLzX"
      }
    },
    {
      "cell_type": "code",
      "execution_count": 13,
      "metadata": {
        "id": "80808524"
      },
      "outputs": [],
      "source": [
        "# Global variables\n",
        "import os\n",
        "device = 'cuda:0'\n",
        "os.environ['CUDA_LAUNCH_BLOCKING'] = \"1\" \n",
        "PAD_TOKEN = 0"
      ]
    },
    {
      "cell_type": "code",
      "execution_count": 14,
      "metadata": {
        "id": "2AvSsQtQClbb",
        "colab": {
          "base_uri": "https://localhost:8080/"
        },
        "outputId": "f1dbc948-5d9d-415c-c949-5ae2d9cd1aa9"
      },
      "outputs": [
        {
          "output_type": "stream",
          "name": "stdout",
          "text": [
            "Mounted at /content/drive\n"
          ]
        }
      ],
      "source": [
        "from google.colab import drive\n",
        "drive.mount('/content/drive', force_remount=True)"
      ]
    },
    {
      "cell_type": "code",
      "source": [
        "import matplotlib.pyplot as plt\n",
        "from tqdm.notebook import tqdm\n",
        "import torch.optim as optim\n",
        "import pandas as pd\n",
        "import torch.nn as nn\n",
        "from torch.nn.utils.rnn import pack_padded_sequence, pad_packed_sequence"
      ],
      "metadata": {
        "id": "UzgUWSV9ZxSv"
      },
      "execution_count": 15,
      "outputs": []
    },
    {
      "cell_type": "markdown",
      "source": [
        "#Data preparation"
      ],
      "metadata": {
        "id": "BEA7KL_Q34gx"
      }
    },
    {
      "cell_type": "markdown",
      "source": [
        "Function to load dataset"
      ],
      "metadata": {
        "id": "dx6eQTIJbfhw"
      }
    },
    {
      "cell_type": "code",
      "execution_count": 16,
      "metadata": {
        "id": "3e1ea7f1"
      },
      "outputs": [],
      "source": [
        "import json\n",
        "from pprint import pprint\n",
        "\n",
        "def load_data(path):\n",
        "    '''\n",
        "        input: path/to/data\n",
        "        output: json \n",
        "    '''\n",
        "    dataset = []\n",
        "    with open(path) as f:\n",
        "        dataset = json.loads(f.read())\n",
        "    return dataset"
      ]
    },
    {
      "cell_type": "markdown",
      "source": [
        "###Load ATIS train and test set"
      ],
      "metadata": {
        "id": "cnUAHF15bpT1"
      }
    },
    {
      "cell_type": "code",
      "source": [
        "tmp_ATIS_train_raw = load_data(os.path.join('drive', 'MyDrive', 'data','ATIS','train.json'))\n",
        "ATIS_test_raw = load_data(os.path.join('drive','MyDrive', 'data','ATIS','test.json'))\n",
        "print('Train samples:', len(tmp_ATIS_train_raw))\n",
        "print('Test samples:', len(ATIS_test_raw))"
      ],
      "metadata": {
        "id": "F-TUB-_CbbWV",
        "colab": {
          "base_uri": "https://localhost:8080/"
        },
        "outputId": "5ed2b61d-b113-4b17-8210-e0f96c8847e5"
      },
      "execution_count": 17,
      "outputs": [
        {
          "output_type": "stream",
          "name": "stdout",
          "text": [
            "Train samples: 4978\n",
            "Test samples: 893\n"
          ]
        }
      ]
    },
    {
      "cell_type": "code",
      "source": [
        "pprint(tmp_ATIS_train_raw[0])"
      ],
      "metadata": {
        "id": "vD_88s6G0DfG",
        "colab": {
          "base_uri": "https://localhost:8080/"
        },
        "outputId": "b7338047-6193-4ab5-fdb2-e3f56d0fed48"
      },
      "execution_count": 18,
      "outputs": [
        {
          "output_type": "stream",
          "name": "stdout",
          "text": [
            "{'intent': 'flight',\n",
            " 'slots': 'O O O O O B-fromloc.city_name O B-depart_time.time '\n",
            "          'I-depart_time.time O O O B-toloc.city_name O B-arrive_time.time O O '\n",
            "          'B-arrive_time.period_of_day',\n",
            " 'utterance': 'i want to fly from boston at 838 am and arrive in denver at '\n",
            "              '1110 in the morning'}\n"
          ]
        }
      ]
    },
    {
      "cell_type": "markdown",
      "source": [
        "###Load SNIPS train and test set\n"
      ],
      "metadata": {
        "id": "hMVVUSxitg3E"
      }
    },
    {
      "cell_type": "code",
      "source": [
        "tmp_SNIPS_train_raw = load_data(os.path.join('drive', 'MyDrive', 'data','SNIPS','train.json'))\n",
        "SNIPS_test_raw = load_data(os.path.join('drive','MyDrive', 'data','SNIPS','test.json'))\n",
        "print('Train samples:', len(tmp_SNIPS_train_raw))\n",
        "print('Test samples:', len(SNIPS_test_raw))"
      ],
      "metadata": {
        "id": "z7W91yIMtqKm",
        "colab": {
          "base_uri": "https://localhost:8080/"
        },
        "outputId": "9c74a33e-3698-4bd6-acc0-002747d070da"
      },
      "execution_count": 19,
      "outputs": [
        {
          "output_type": "stream",
          "name": "stdout",
          "text": [
            "Train samples: 13084\n",
            "Test samples: 700\n"
          ]
        }
      ]
    },
    {
      "cell_type": "code",
      "source": [
        "pprint(tmp_SNIPS_train_raw[0])"
      ],
      "metadata": {
        "id": "xsGWYShG0Isl",
        "colab": {
          "base_uri": "https://localhost:8080/"
        },
        "outputId": "e7e5d2e5-e435-4238-89c6-78b833224fac"
      },
      "execution_count": 20,
      "outputs": [
        {
          "output_type": "stream",
          "name": "stdout",
          "text": [
            "{'intent': 'PlayMusic',\n",
            " 'slots': 'O O B-artist O B-album O B-service I-service',\n",
            " 'utterance': 'listen to westbam alumb allergic on google music'}\n"
          ]
        }
      ]
    },
    {
      "cell_type": "markdown",
      "source": [
        "###Create validation set"
      ],
      "metadata": {
        "id": "DSyG0mNH4HSA"
      }
    },
    {
      "cell_type": "code",
      "execution_count": 21,
      "metadata": {
        "id": "ccd6da44"
      },
      "outputs": [],
      "source": [
        "import random\n",
        "import numpy as np\n",
        "from sklearn.model_selection import train_test_split\n",
        "from collections import Counter\n",
        "\n",
        "def create_dev(tmp_train_raw, test_raw):\n",
        "\n",
        "  portion = round(((len(tmp_train_raw) + len(test_raw)) * 0.10)/(len(tmp_train_raw)),2)\n",
        "\n",
        "  intents = [x['intent'] for x in tmp_train_raw] \n",
        "\n",
        "  count_y = Counter(intents) \n",
        "\n",
        "  Y = []\n",
        "  X = []\n",
        "  mini_Train = []\n",
        "\n",
        "  for id_y, y in enumerate(intents):\n",
        "      if count_y[y] > 1: # Some intents have only one instance, we put them in training\n",
        "          X.append(tmp_train_raw[id_y])\n",
        "          Y.append(y)\n",
        "      else:\n",
        "          mini_Train.append(tmp_train_raw[id_y])\n",
        "          \n",
        "  # Random Stratify\n",
        "  X_train, X_dev, y_train, y_dev = train_test_split(X, Y, test_size=portion, \n",
        "                                                      random_state=42, \n",
        "                                                      shuffle=True,\n",
        "                                                      stratify=Y)\n",
        "  X_train.extend(mini_Train)\n",
        "  train_raw = X_train\n",
        "  dev_raw = X_dev\n",
        "\n",
        "  y_test = [x['intent'] for x in test_raw]\n",
        "\n",
        "\n",
        "\n",
        "\n",
        "  return train_raw, dev_raw, test_raw, y_train, y_dev, y_test\n",
        "  #some intents are not present in train set!!!!!!!!!!!"
      ]
    },
    {
      "cell_type": "code",
      "source": [
        "ATIS_train_raw, ATIS_dev_raw, ATIS_test_raw, ATIS_y_train, ATIS_y_dev, ATIS_y_test = create_dev(tmp_ATIS_train_raw, ATIS_test_raw)"
      ],
      "metadata": {
        "id": "kGlWhFQ-6LDZ"
      },
      "execution_count": 22,
      "outputs": []
    },
    {
      "cell_type": "code",
      "source": [
        "SNIPS_train_raw, SNIPS_dev_raw, SNIPS_test_raw, SNIPS_y_train, SNIPS_y_dev, SNIPS_y_test = create_dev(tmp_SNIPS_train_raw, SNIPS_test_raw)"
      ],
      "metadata": {
        "id": "oYWaTrLg6tAv"
      },
      "execution_count": 23,
      "outputs": []
    },
    {
      "cell_type": "code",
      "source": [
        "def plot_data_distr(train_raw, dev_raw, test_raw, y_train, y_dev, y_test):\n",
        "  #Number of labels \n",
        "  print(\"Number of Intent labels: \", len(Counter(y_train + y_test + y_dev)))\n",
        "  \n",
        "  # Intent distribution\n",
        "  print('Train:')\n",
        "  odict = {k:round(v/len(y_train),3)*100 for k, v in sorted(Counter(y_train).items())}\n",
        "  plt.barh(list(odict.keys()), odict.values(), align = 'center')\n",
        "  plt.show()\n",
        "  #pprint({k:round(v/len(y_train),3)*100 for k, v in sorted(Counter(y_train).items())})\n",
        "  print('Dev:')\n",
        "  odict = {k:round(v/len(y_dev),3)*100 for k, v in sorted(Counter(y_dev).items())}\n",
        "  plt.barh(list(odict.keys()), odict.values(), align = 'center')\n",
        "  plt.show()\n",
        "  #pprint({k:round(v/len(y_dev),3)*100 for k, v in sorted(Counter(y_dev).items())})\n",
        "  print('Test:') \n",
        "  odict = {k:round(v/len(y_test),3)*100 for k, v in sorted(Counter(y_test).items())}\n",
        "  plt.barh(list(odict.keys()), odict.values())\n",
        "  plt.show()\n",
        "  #pprint({k:round(v/len(y_test),3)*100 for k, v in sorted(Counter(y_test).items())})\n",
        "  print('='*89)\n",
        "  #print(\"train_raw[0]: \", train_raw[0])\n",
        "\n",
        "  # Dataset size\n",
        "  print('TRAIN size:', len(train_raw))\n",
        "  print('DEV size:', len(dev_raw))\n",
        "  print('TEST size:', len(test_raw))"
      ],
      "metadata": {
        "id": "G0XaQqc584Xg"
      },
      "execution_count": 24,
      "outputs": []
    },
    {
      "cell_type": "markdown",
      "source": [
        "###Intent distribution"
      ],
      "metadata": {
        "id": "4KtJEAgY9jko"
      }
    },
    {
      "cell_type": "markdown",
      "source": [
        "ATIS"
      ],
      "metadata": {
        "id": "qVyZG8iY9sTI"
      }
    },
    {
      "cell_type": "code",
      "source": [
        "plot_data_distr(ATIS_train_raw, ATIS_dev_raw, ATIS_test_raw, ATIS_y_train, ATIS_y_dev, ATIS_y_test)"
      ],
      "metadata": {
        "id": "KirdAuR89pBD",
        "colab": {
          "base_uri": "https://localhost:8080/",
          "height": 900
        },
        "outputId": "531c1a63-7cf5-4109-bb93-b7225fd6ff40"
      },
      "execution_count": 25,
      "outputs": [
        {
          "output_type": "stream",
          "name": "stdout",
          "text": [
            "Number of Intent labels:  22\n",
            "Train:\n"
          ]
        },
        {
          "output_type": "display_data",
          "data": {
            "text/plain": [
              "<Figure size 432x288 with 1 Axes>"
            ],
            "image/png": "[encoded data removed]"
          },
          "metadata": {
            "needs_background": "light"
          }
        },
        {
          "output_type": "stream",
          "name": "stdout",
          "text": [
            "Dev:\n"
          ]
        },
        {
          "output_type": "display_data",
          "data": {
            "text/plain": [
              "<Figure size 432x288 with 1 Axes>"
            ],
            "image/png": "[encoded data removed]"
          },
          "metadata": {
            "needs_background": "light"
          }
        },
        {
          "output_type": "stream",
          "name": "stdout",
          "text": [
            "Test:\n"
          ]
        },
        {
          "output_type": "display_data",
          "data": {
            "text/plain": [
              "<Figure size 432x288 with 1 Axes>"
            ],
            "image/png": "[encoded data removed]"
          },
          "metadata": {
            "needs_background": "light"
          }
        },
        {
          "output_type": "stream",
          "name": "stdout",
          "text": [
            "=========================================================================================\n",
            "TRAIN size: 4381\n",
            "DEV size: 597\n",
            "TEST size: 893\n"
          ]
        }
      ]
    },
    {
      "cell_type": "markdown",
      "source": [
        "SNIPS"
      ],
      "metadata": {
        "id": "QQ6Hq4EC98VG"
      }
    },
    {
      "cell_type": "code",
      "source": [
        "plot_data_distr(SNIPS_train_raw, SNIPS_dev_raw, SNIPS_test_raw, SNIPS_y_train, SNIPS_y_dev, SNIPS_y_test)"
      ],
      "metadata": {
        "id": "l3bVUmSO9p24",
        "colab": {
          "base_uri": "https://localhost:8080/",
          "height": 900
        },
        "outputId": "d11b8b27-625e-43e2-b212-e7e3f744b7f1"
      },
      "execution_count": 26,
      "outputs": [
        {
          "output_type": "stream",
          "name": "stdout",
          "text": [
            "Number of Intent labels:  7\n",
            "Train:\n"
          ]
        },
        {
          "output_type": "display_data",
          "data": {
            "text/plain": [
              "<Figure size 432x288 with 1 Axes>"
            ],
            "image/png": "[encoded data removed]"
          },
          "metadata": {
            "needs_background": "light"
          }
        },
        {
          "output_type": "stream",
          "name": "stdout",
          "text": [
            "Dev:\n"
          ]
        },
        {
          "output_type": "display_data",
          "data": {
            "text/plain": [
              "<Figure size 432x288 with 1 Axes>"
            ],
            "image/png": "[encoded data removed]"
          },
          "metadata": {
            "needs_background": "light"
          }
        },
        {
          "output_type": "stream",
          "name": "stdout",
          "text": [
            "Test:\n"
          ]
        },
        {
          "output_type": "display_data",
          "data": {
            "text/plain": [
              "<Figure size 432x288 with 1 Axes>"
            ],
            "image/png": "[encoded data removed]"
          },
          "metadata": {
            "needs_background": "light"
          }
        },
        {
          "output_type": "stream",
          "name": "stdout",
          "text": [
            "=========================================================================================\n",
            "TRAIN size: 11644\n",
            "DEV size: 1440\n",
            "TEST size: 700\n"
          ]
        }
      ]
    },
    {
      "cell_type": "markdown",
      "source": [
        "###Slot labels distribution"
      ],
      "metadata": {
        "id": "TDkHr0NTA3Yy"
      }
    },
    {
      "cell_type": "markdown",
      "source": [
        "ATIS"
      ],
      "metadata": {
        "id": "FxTHGzL5BBr3"
      }
    },
    {
      "cell_type": "code",
      "source": [
        "#slot distribution\n",
        "train_slots = []\n",
        "for sample in ATIS_train_raw:\n",
        "  train_slots.extend(sample['slots'].split())\n",
        "\n",
        "dev_slots = []\n",
        "for sample in ATIS_dev_raw:\n",
        "  dev_slots.extend(sample['slots'].split())\n",
        "\n",
        "test_slots = []\n",
        "for sample in ATIS_test_raw:\n",
        "  test_slots.extend(sample['slots'].split())\n",
        "\n",
        "print(\"Number of slot labels: \", len(Counter(train_slots + dev_slots + test_slots)))\n",
        "\n",
        "ordered_train_slots = dict(sorted(Counter(train_slots).items(), key=lambda item: item[1], reverse=True)[:10])\n",
        "ordered_dev_slots = dict(sorted(Counter(dev_slots).items(), key=lambda item: item[1], reverse=True)[:10])\n",
        "ordered_test_slots = dict(sorted(Counter(test_slots).items(), key=lambda item: item[1], reverse=True)[:10])\n",
        "\n",
        "print('Train:')\n",
        "odict = {k:round(v/len(train_slots),3)*100 for k, v in ordered_train_slots.items()}\n",
        "odict.pop(\"O\")\n",
        "plt.barh(list(odict.keys())[:10], list(odict.values())[:10], align = 'center')\n",
        "plt.show()\n",
        "\n",
        "print('Dev:')\n",
        "odict = {k:round(v/len(dev_slots),3)*100 for k, v in ordered_dev_slots.items()}\n",
        "odict.pop(\"O\")\n",
        "plt.barh(list(odict.keys())[:10], list(odict.values())[:10], align = 'center')\n",
        "plt.show()\n",
        "\n",
        "print('Test:') \n",
        "odict = {k:round(v/len(test_slots),3)*100 for k, v in ordered_test_slots.items()}\n",
        "odict.pop(\"O\")\n",
        "plt.barh(list(odict.keys())[:10], list(odict.values())[:10], align = 'center')\n",
        "plt.show()"
      ],
      "metadata": {
        "id": "djJ23x-tMsm4",
        "colab": {
          "base_uri": "https://localhost:8080/",
          "height": 830
        },
        "outputId": "3fcf788b-dce5-4a62-b5b2-37c403e79404"
      },
      "execution_count": 27,
      "outputs": [
        {
          "output_type": "stream",
          "name": "stdout",
          "text": [
            "Number of slot labels:  129\n",
            "Train:\n"
          ]
        },
        {
          "output_type": "display_data",
          "data": {
            "text/plain": [
              "<Figure size 432x288 with 1 Axes>"
            ],
            "image/png": "[encoded data removed]"
          },
          "metadata": {
            "needs_background": "light"
          }
        },
        {
          "output_type": "stream",
          "name": "stdout",
          "text": [
            "Dev:\n"
          ]
        },
        {
          "output_type": "display_data",
          "data": {
            "text/plain": [
              "<Figure size 432x288 with 1 Axes>"
            ],
            "image/png": "[encoded data removed]"
          },
          "metadata": {
            "needs_background": "light"
          }
        },
        {
          "output_type": "stream",
          "name": "stdout",
          "text": [
            "Test:\n"
          ]
        },
        {
          "output_type": "display_data",
          "data": {
            "text/plain": [
              "<Figure size 432x288 with 1 Axes>"
            ],
            "image/png": "[encoded data removed]"
          },
          "metadata": {
            "needs_background": "light"
          }
        }
      ]
    },
    {
      "cell_type": "markdown",
      "source": [
        "SNIPS"
      ],
      "metadata": {
        "id": "idCMmuFpA8Gm"
      }
    },
    {
      "cell_type": "code",
      "source": [
        "#Number of slot labels: \n",
        "#slot distribution\n",
        "train_slots = []\n",
        "for sample in SNIPS_train_raw:\n",
        "  train_slots.extend(sample['slots'].split())\n",
        "\n",
        "dev_slots = []\n",
        "for sample in SNIPS_dev_raw:\n",
        "  dev_slots.extend(sample['slots'].split())\n",
        "\n",
        "test_slots = []\n",
        "for sample in SNIPS_test_raw:\n",
        "  test_slots.extend(sample['slots'].split())\n",
        "\n",
        "print(\"Number of slot labels: \", len(Counter(train_slots + dev_slots + test_slots)))\n",
        "\n",
        "ordered_train_slots = dict(sorted(Counter(train_slots).items(), key=lambda item: item[1], reverse=True)[:10])\n",
        "ordered_dev_slots = dict(sorted(Counter(dev_slots).items(), key=lambda item: item[1], reverse=True)[:10])\n",
        "ordered_test_slots = dict(sorted(Counter(test_slots).items(), key=lambda item: item[1], reverse=True)[:10])\n",
        "\n",
        "print('Train:')\n",
        "odict = {k:round(v/len(train_slots),3)*100 for k, v in ordered_train_slots.items()}\n",
        "odict.pop(\"O\")\n",
        "plt.barh(list(odict.keys())[:10], list(odict.values())[:10], align = 'center')\n",
        "plt.show()\n",
        "\n",
        "print('Dev:')\n",
        "odict = {k:round(v/len(dev_slots),3)*100 for k, v in ordered_dev_slots.items()}\n",
        "odict.pop(\"O\")\n",
        "plt.barh(list(odict.keys())[:10], list(odict.values())[:10], align = 'center')\n",
        "plt.show()\n",
        "\n",
        "print('Test:') \n",
        "odict = {k:round(v/len(test_slots),3)*100 for k, v in ordered_test_slots.items()}\n",
        "odict.pop(\"O\")\n",
        "plt.barh(list(odict.keys())[:10], list(odict.values())[:10], align = 'center')\n",
        "plt.show()"
      ],
      "metadata": {
        "id": "a-rS7ZKnMiHQ",
        "colab": {
          "base_uri": "https://localhost:8080/",
          "height": 830
        },
        "outputId": "117514c7-dcf5-4775-e654-6b35b83b58ec"
      },
      "execution_count": 28,
      "outputs": [
        {
          "output_type": "stream",
          "name": "stdout",
          "text": [
            "Number of slot labels:  72\n",
            "Train:\n"
          ]
        },
        {
          "output_type": "display_data",
          "data": {
            "text/plain": [
              "<Figure size 432x288 with 1 Axes>"
            ],
            "image/png": "[encoded data removed]"
          },
          "metadata": {
            "needs_background": "light"
          }
        },
        {
          "output_type": "stream",
          "name": "stdout",
          "text": [
            "Dev:\n"
          ]
        },
        {
          "output_type": "display_data",
          "data": {
            "text/plain": [
              "<Figure size 432x288 with 1 Axes>"
            ],
            "image/png": "[encoded data removed]"
          },
          "metadata": {
            "needs_background": "light"
          }
        },
        {
          "output_type": "stream",
          "name": "stdout",
          "text": [
            "Test:\n"
          ]
        },
        {
          "output_type": "display_data",
          "data": {
            "text/plain": [
              "<Figure size 432x288 with 1 Axes>"
            ],
            "image/png": "[encoded data removed]"
          },
          "metadata": {
            "needs_background": "light"
          }
        }
      ]
    },
    {
      "cell_type": "markdown",
      "source": [
        "##Lang class"
      ],
      "metadata": {
        "id": "AQ6bS79Z6-fk"
      }
    },
    {
      "cell_type": "markdown",
      "source": [
        "We use it to convert word,intent and slot to id and vice versa"
      ],
      "metadata": {
        "id": "Sr8prT1_7Alj"
      }
    },
    {
      "cell_type": "code",
      "execution_count": 29,
      "metadata": {
        "id": "4c04f608"
      },
      "outputs": [],
      "source": [
        "class Lang():\n",
        "    def __init__(self, words, intents, slots, cutoff=0):\n",
        "        self.word2id = self.w2id(words, cutoff=cutoff, unk=True)\n",
        "        self.slot2id = self.lab2id(slots)\n",
        "        self.intent2id = self.lab2id(intents, pad=False)\n",
        "        self.id2word = {v:k for k, v in self.word2id.items()}\n",
        "        self.id2slot = {v:k for k, v in self.slot2id.items()}\n",
        "        self.id2intent = {v:k for k, v in self.intent2id.items()}\n",
        "\n",
        "    #method to transform words to id \n",
        "    def w2id(self, elements, cutoff=None, unk=True):\n",
        "        vocab = {'pad': PAD_TOKEN}\n",
        "        if unk:\n",
        "            vocab['unk'] = len(vocab)\n",
        "        count = Counter(elements)\n",
        "        for k, v in count.items():\n",
        "            if v > cutoff:\n",
        "                #print(\"k: \", k)\n",
        "                #print(\"v: \", v)\n",
        "                #print(\"len(vocab): \", len(vocab))\n",
        "                vocab[k] = len(vocab)\n",
        "                #print(\"vocab[k]: \", vocab[k])\n",
        "        #pprint(vocab)\n",
        "        return vocab\n",
        "    \n",
        "    def lab2id(self, elements, pad=True):\n",
        "        vocab = {}\n",
        "        if pad:\n",
        "            vocab['pad'] = PAD_TOKEN\n",
        "        for elem in elements:\n",
        "                vocab[elem] = len(vocab)\n",
        "        return vocab"
      ]
    },
    {
      "cell_type": "markdown",
      "source": [
        "Create lang object of ATIS and SNIPS datasets"
      ],
      "metadata": {
        "id": "LdWkSxTj7NB_"
      }
    },
    {
      "cell_type": "code",
      "source": [
        "ATIS_words = sum([x['utterance'].split() for x in ATIS_train_raw], []) # No set() since we want to compute \n",
        "                                                            # the cutoff\n",
        "ATIS_corpus = ATIS_train_raw + ATIS_dev_raw + ATIS_test_raw # We do not want unk labels, \n",
        "                                        # however this depends on the research purpose\n",
        "ATIS_slots = set(sum([line['slots'].split() for line in ATIS_corpus],[])) # the type of slots\n",
        "ATIS_intents = set([line['intent'] for line in ATIS_corpus]) #all the intent types\n",
        "\n",
        "ATIS_lang = Lang(ATIS_words, ATIS_intents, ATIS_slots, cutoff=0)"
      ],
      "metadata": {
        "id": "FTEVjlsp7cqW"
      },
      "execution_count": 30,
      "outputs": []
    },
    {
      "cell_type": "code",
      "execution_count": 31,
      "metadata": {
        "id": "d77bc3bc"
      },
      "outputs": [],
      "source": [
        "SNIPS_words = sum([x['utterance'].split() for x in SNIPS_train_raw], []) # No set() since we want to compute \n",
        "                                                            # the cutoff\n",
        "SNIPS_corpus = SNIPS_train_raw + SNIPS_dev_raw + SNIPS_test_raw # We do not want unk labels, \n",
        "                                        # however this depends on the research purpose\n",
        "SNIPS_slots = set(sum([line['slots'].split() for line in SNIPS_corpus],[])) # the type of slots\n",
        "SNIPS_intents = set([line['intent'] for line in SNIPS_corpus]) #all the intent types\n",
        "\n",
        "SNIPS_lang = Lang(SNIPS_words, SNIPS_intents, SNIPS_slots, cutoff=0)"
      ]
    },
    {
      "cell_type": "markdown",
      "source": [
        "Now we can see how words, intent and slots are mapped into ids"
      ],
      "metadata": {
        "id": "q5Pef4b4-cZU"
      }
    },
    {
      "cell_type": "code",
      "source": [
        "print(ATIS_lang.word2id)\n",
        "print(ATIS_lang.intent2id)\n",
        "print(ATIS_lang.slot2id)"
      ],
      "metadata": {
        "id": "vckmCutL8Eqx",
        "colab": {
          "base_uri": "https://localhost:8080/"
        },
        "outputId": "9cc8c0a4-08cf-40c9-917f-71d49b3554b8"
      },
      "execution_count": 32,
      "outputs": [
        {
          "output_type": "stream",
          "name": "stdout",
          "text": [
            "{'pad': 0, 'unk': 1, 'what': 2, 'type': 3, 'of': 4, 'aircraft': 5, 'does': 6, 'eastern': 7, 'fly': 8, 'from': 9, 'atlanta': 10, 'to': 11, 'denver': 12, 'before': 13, '6': 14, 'pm': 15, 'show': 16, 'me': 17, 'the': 18, 'fares': 19, 'dallas': 20, 'san': 21, 'francisco': 22, 'and': 23, 'flights': 24, 'pittsburgh': 25, 'philadelphia': 26, 'flight': 27, 'will': 28, 'originate': 29, 'boston': 30, 'are': 31, 'available': 32, 'on': 33, 'monday': 34, 'is': 35, 'first': 36, 'after': 37, '8': 38, 'am': 39, 'that': 40, 'arrive': 41, 'in': 42, 'afternoon': 43, 'give': 44, 'a': 45, 'list': 46, 'between': 47, 'oakland': 48, 'i': 49, 'need': 50, 'leaves': 51, 'late': 52, 'wednesday': 53, 'salt': 54, 'lake': 55, 'city': 56, 'there': 57, 'newark': 58, 'seattle': 59, 'saturday': 60, \"'d\": 61, 'like': 62, 'see': 63, 'all': 64, 'economy': 65, 'baltimore': 66, 'times': 67, 'for': 68, 'phoenix': 69, 'sfo': 70, 'let': 71, \"'s\": 72, 'how': 73, 'much': 74, 'would': 75, 'direct': 76, 'be': 77, 'may': 78, 'seventh': 79, 'do': 80, 'you': 81, 'have': 82, 'leaving': 83, 'arriving': 84, 'night': 85, 'my': 86, 'destination': 87, 'live': 88, 'august': 89, 'thirtieth': 90, 'morning': 91, 'any': 92, 'airline': 93, 'get': 94, 'overnight': 95, 'washington': 96, 'dc': 97, 'their': 98, 'schedule': 99, 'airlines': 100, 'going': 101, 'next': 102, 'cheapest': 103, 'one': 104, 'way': 105, '4': 106, 'houston': 107, 'los': 108, 'angeles': 109, 'departing': 110, '1026': 111, 'toronto': 112, 'besides': 113, 'continental': 114, 'flies': 115, 'can': 116, 'via': 117, 'at': 118, 'level': 119, 'find': 120, 'travel': 121, 'arrangements': 122, 'round': 123, 'trip': 124, '10': 125, 'leave': 126, 'nashville': 127, 'us': 128, 'air': 129, 'ground': 130, 'transportation': 131, 'look': 132, 'prices': 133, 'class': 134, 'okay': 135, 'tell': 136, 'earliest': 137, 'want': 138, 'milwaukee': 139, 'orlando': 140, 'either': 141, 'evening': 142, 'or': 143, 'thursday': 144, 'st.': 145, 'petersburg': 146, 'charlotte': 147, 'chicago': 148, 'also': 149, 'miami': 150, 'types': 151, 'airport': 152, 'please': 153, 'new': 154, 'york': 155, 'information': 156, 'only': 157, 'local': 158, 'time': 159, 'twenty': 160, 'fare': 161, 'least': 162, 'expensive': 163, '630': 164, 'your': 165, 'last': 166, 'tomorrow': 167, 'abbreviations': 168, 'go': 169, '5': 170, 'price': 171, 'limousine': 172, 'service': 173, 'kind': 174, 'used': 175, 'american': 176, 'with': 177, 'stopover': 178, 'day': 179, 'las': 180, 'vegas': 181, 'memphis': 182, 'sunday': 183, 'right': 184, 'indianapolis': 185, 'fort': 186, 'worth': 187, 'july': 188, 'third': 189, 'which': 190, \"o'clock\": 191, 'thirty': 192, 'nonstop': 193, 'far': 194, '838': 195, '1110': 196, 'bwi': 197, 'serves': 198, 'dinner': 199, '1024': 200, 'downtown': 201, 'stop': 202, 'noon': 203, 'flying': 204, 'fifth': 205, 'know': 206, 'about': 207, 'car': 208, 'rental': 209, 'thrift': 210, 'takeoff': 211, 'general': 212, 'mitchell': 213, 'international': 214, 'display': 215, 'codes': 216, 'long': 217, 'beach': 218, 'tampa': 219, 'diego': 220, 'northwest': 221, 'united': 222, 'stopovers': 223, 'lowest': 224, 'code': 225, 'qw': 226, 'latest': 227, 'cleveland': 228, 'transport': 229, 'ontario': 230, 'texas': 231, 'now': 232, 'tuesday': 233, 'no': 234, 'into': 235, '12': 236, '3': 237, '1991': 238, 'florida': 239, 'requesting': 240, 'mco': 241, 'f': 242, 'returning': 243, 'make': 244, 'starting': 245, 'back': 246, 'love': 247, 'field': 248, 'other': 249, 'airports': 250, 'train': 251, 'california': 252, 'depart': 253, 'burbank': 254, 'by': 255, 'delta': 256, 'kansas': 257, '845': 258, '2153': 259, 'plane': 260, 'jose': 261, '7': 262, 'tacoma': 263, 'symbols': 264, 'stand': 265, 'daily': 266, 'using': 267, 'could': 268, 'listings': 269, 'montreal': 270, 'canada': 271, 'trips': 272, 'ff': 273, 'twa': 274, 'paul': 275, '530': 276, 'around': 277, 'minneapolis': 278, 'y': 279, 'mean': 280, 'many': 281, 'december': 282, 'airfare': 283, 'louis': 284, 'arrives': 285, 'along': 286, 'less': 287, 'than': 288, '466': 289, 'dollars': 290, 'business': 291, 'cost': 292, 'detroit': 293, 'month': 294, 'h': 295, 'pennsylvania': 296, 'possible': 297, 'classes': 298, 'weekday': 299, '1115': 300, '1245': 301, 'friday': 302, 'saturdays': 303, 'number': 304, 'people': 305, 'carried': 306, 'each': 307, 'june': 308, 'eleventh': 309, 'sa': 310, 'ticket': 311, 'dl': 312, '296': 313, 'm': 314, 'columbus': 315, 'second': 316, 'take': 317, 'ten': 318, '11': 319, 'great': 320, 'too': 321, 'we': 322, \"'re\": 323, 'april': 324, 'nighttime': 325, 'departure': 326, 'it': 327, 'rent': 328, 'serve': 329, 'planes': 330, \"'m\": 331, 'interested': 332, 'early': 333, 'hello': 334, 'plan': 335, 'coach': 336, 'approximately': 337, '1': 338, 'layover': 339, 'eighteenth': 340, 'cincinnati': 341, 'should': 342, 'october': 343, 'fn': 344, 'explain': 345, 'restriction': 346, 'ap': 347, '1020': 348, 'carries': 349, 'smallest': 350, 'passengers': 351, 'november': 352, 'through': 353, '934': 354, 'september': 355, 'this': 356, 'prefer': 357, 'fourth': 358, 'equal': 359, 'goes': 360, 'difference': 361, 'q': 362, 'cities': 363, 'served': 364, 'canadian': 365, 'yes': 366, 'breakfast': 367, 'today': 368, 'town': 369, 'schedules': 370, 'an': 371, 'fifteenth': 372, '747': 373, '1222': 374, 'later': 375, '2': 376, 'use': 377, 'meal': 378, 's': 379, 'march': 380, 'meaning': 381, 'ap80': 382, 'serving': 383, '2134': 384, 'hp': 385, '80': 386, 'la': 387, 'as': 388, 'connecting': 389, 'stopping': 390, 'oh': 391, 'during': 392, 'week': 393, 'days': 394, 'offer': 395, 'dc10': 396, 'midwest': 397, 'express': 398, 'sixteenth': 399, 'jfk': 400, 'guardia': 401, 'arrange': 402, 'two': 403, 'friends': 404, 'coming': 405, 'eighth': 406, '1000': 407, '1145': 408, '430': 409, 'ninth': 410, 'another': 411, 'out': 412, 'soon': 413, 'thereafter': 414, 'where': 415, 'ea': 416, 'book': 417, 'reaches': 418, 'colorado': 419, '210': 420, 'options': 421, 'noontime': 422, 'originating': 423, 'order': 424, 'twelfth': 425, 'names': 426, 'itinerary': 427, 'departs': 428, 'sixth': 429, '1765': 430, 'anything': 431, 'non': 432, 'meals': 433, 'eight': 434, 'sixteen': 435, 'qx': 436, 'listing': 437, 'lunch': 438, 'nineteenth': 439, 'seating': 440, 'capacity': 441, 'various': 442, 'airplanes': 443, 'uses': 444, 'nw': 445, '1220': 446, 'return': 447, 'jersey': 448, 'ohio': 449, 'weekdays': 450, 'wednesdays': 451, '4400': 452, '1083': 453, 'fridays': 454, '9': 455, 'eleven': 456, 'quebec': 457, 'philly': 458, 'say': 459, 'mealtime': 460, 'then': 461, 'thank': 462, 'has': 463, '852': 464, 'when': 465, 'under': 466, 'following': 467, 'westchester': 468, 'county': 469, 'ewr': 470, 'north': 471, 'carolina': 472, '415': 473, 'again': 474, 'reverse': 475, 'dfw': 476, '1133': 477, '43': 478, 'tenth': 479, 'most': 480, 'anywhere': 481, 'stops': 482, 'twentieth': 483, 'doesn': 484, \"'t\": 485, 'provided': 486, '445': 487, '515': 488, 'same': 489, 'trying': 490, '650': 491, 'cheap': 492, 'southwest': 493, 'tuesdays': 494, 'provide': 495, '269': 496, '428': 497, 'arrival': 498, 'looking': 499, 'choices': 500, 'if': 501, '813': 502, 'enroute': 503, 'connect': 504, 'mia': 505, 'takes': 506, 'amount': 507, 'january': 508, 'dinnertime': 509, 'oak': 510, 'atl': 511, 'makes': 512, 'sd': 513, 'd': 514, 'stapleton': 515, 'define': 516, 'ua': 517, 'some': 518, 'making': 519, 'reservation': 520, 'seats': 521, '100': 522, 'includes': 523, 'hi': 524, 'sometime': 525, '201': 526, 'help': 527, 'repeat': 528, 'departures': 529, 'rates': 530, 'limo': 531, 'distance': 532, 'fourteenth': 533, 'total': 534, '270': 535, 'sounds': 536, 'sorry': 537, 'wanted': 538, 'ap57': 539, 'seventeenth': 540, 'route': 541, '1992': 542, 'landings': 543, 'tickets': 544, 'arrivals': 545, 'logan': 546, '106': 547, 'boeing': 548, '737': 549, 'shortest': 550, 'numbers': 551, 'minnesota': 552, 'fit': 553, '72s': 554, 'airplane': 555, 'qo': 556, 'capacities': 557, 'turboprop': 558, 'takeoffs': 559, '402': 560, 'tennessee': 561, 'inform': 562, 'cars': 563, '825': 564, '555': 565, '300': 566, 'wish': 567, 'discount': 568, '323': 569, '229': 570, 'dulles': 571, 'arizona': 572, 'within': 573, 'final': 574, 'yn': 575, 'sundays': 576, 'cp': 577, 'traveling': 578, 'they': 579, 'these': 580, '230': 581, 'more': 582, 'advertises': 583, 'having': 584, 'fine': 585, '55': 586, 'very': 587, '57': 588, 'both': 589, 'ac': 590, 'trans': 591, 'world': 592, '1030': 593, '1130': 594, 'georgia': 595, 'four': 596, '257': 597, '500': 598, 'airfares': 599, 'run': 600, '212': 601, 'everywhere': 602, 'connection': 603, 'those': 604, 'ls': 605, 'buy': 606, 'including': 607, 'connections': 608, '767': 609, 'gets': 610, 'nationair': 611, 'mornings': 612, '1100': 613, 'stands': 614, 'lufthansa': 615, 'listed': 616, '1055': 617, '405': 618, 'greatest': 619, 'maximum': 620, 'well': 621, \"'ll\": 622, 'try': 623, 'michigan': 624, 'different': 625, '400': 626, '539': 627, 'still': 628, 'being': 629, 'serviced': 630, 'rentals': 631, '345': 632, '720': 633, 'f28': 634, 'name': 635, '1600': 636, 'hours': 637, 'come': 638, 'located': 639, 'date': 640, 'start': 641, '645': 642, 'abbreviation': 643, '2100': 644, 'iah': 645, 'preferably': 646, 'february': 647, 'area': 648, 'but': 649, 'taxi': 650, 'reservations': 651, 'over': 652, '1993': 653, 'kinds': 654, 'midway': 655, 'indiana': 656, 'three': 657, 'j31': 658, 'midnight': 659, '21': 660, '757': 661, 'co': 662, '281': 663, 'spend': 664, 'lastest': 665, 'land': 666, '217': 667, '815': 668, 'currently': 669, 'sort': 670, 'so': 671, 'priced': 672, '718': 673, '1300': 674, '1700': 675, 'proper': 676, 'tower': 677, 'b': 678, 'economic': 679, 'longest': 680, 'offers': 681, 'd10': 682, 'describe': 683, 'seven': 684, '271': 685, 'america': 686, 'west': 687, 'charges': 688, 'bay': 689, '98': 690, '1940': 691, '723': 692, 'o': 693, \"'hare\": 694, 'zone': 695, '82': 696, '139': 697, 'thanks': 698, 'd9s': 699, 'bound': 700, 'costs': 701, 'limousines': 702, 'services': 703, 'bur': 704, 'include': 705, '1205': 706, 'hold': 707, '3357': 708, 'runs': 709, '329': 710, 'ord': 711, 'regarding': 712, 'booking': 713, '343': 714, 'm80': 715, 'repeating': 716, 'closest': 717, 'companies': 718, '71': 719, 'visit': 720, 'here': 721, 'them': 722, 'lives': 723, 'continuing': 724, 'near': 725, '324': 726, 'just': 727, 'highest': 728, 'six': 729, '1039': 730, 'nonstops': 731, 'hou': 732, 'close': 733, 'travels': 734, '746': 735, 'afternoons': 736, 'laying': 737, '1291': 738, 'lester': 739, 'pearson': 740, '1500': 741, '1059': 742, '3724': 743, 'aa': 744, '459': 745, '819': 746, 'represented': 747, 'database': 748, '150': 749, 'afterwards': 750, 'while': 751, '73s': 752, 'sure': 753, 'planning': 754, '305': 755, 'designate': 756, 'jet': 757, 'heading': 758, 'restrictions': 759, '416': 760, 'actually': 761, 'once': 762, 'snack': 763, 'seat': 764, 'question': 765, '1045': 766, 'bring': 767, 'up': 768, 'tonight': 769, 'twelve': 770, 'belong': 771, 'seventeen': 772, 'working': 773, 'scenario': 774, '727': 775, '297': 776, 'rate': 777, 'thursdays': 778, 'c': 779, 'hopefully': 780, 'thirteenth': 781, 'grounds': 782, 'such': 783, 'connects': 784, '352': 785, '124': 786, '730': 787, '19': 788, 'thing': 789, '110': 790, '315': 791, 'alaska': 792, 'staying': 793, 'straight': 794, 'without': 795, '615': 796, 'operation': 797, 'provides': 798, 'usa': 799, 'year': 800, 'lax': 801, 'begins': 802, 'lands': 803, '225': 804, '1158': 805, 'equipment': 806, 'minimum': 807, 'intercontinental': 808, 'transcontinental': 809, \"'ve\": 810, 'got': 811, 'somebody': 812, 'else': 813, 'who': 814, 'wants': 815, '505': 816, '163': 817, 'cover': 818, 'kindly': 819, 'missouri': 820, 'utah': 821, 'taking': 822, '311': 823, 'must': 824, '932': 825, '1505': 826, 'home': 827, 'directly': 828, '130': 829, 'nights': 830, '771': 831, '420': 832, 'qualify': 833, '823': 834, 'reaching': 835, 'landing': 836, 'able': 837, 'put': 838, '755': 839, '0900': 840, 'earlier': 841, '1209': 842, 'red': 843, 'eye': 844, 'calling': 845, '734': 846, 'supper': 847, '1850': 848, 'toward': 849, 'single': 850, 'vicinity': 851, '497766': 852, 'nevada': 853, 'off': 854, '733': 855, 'largest': 856, 'beginning': 857, 'across': 858, 'continent': 859, 'concerning': 860, 'scheduled': 861, 'summer': 862}\n",
            "{'flight_time': 0, 'day_name': 1, 'restriction': 2, 'flight+airfare': 3, 'cheapest': 4, 'ground_fare': 5, 'airfare': 6, 'airfare+flight_time': 7, 'capacity': 8, 'airline+flight_no': 9, 'flight_no+airline': 10, 'flight_no': 11, 'airport': 12, 'aircraft': 13, 'flight+airline': 14, 'abbreviation': 15, 'distance': 16, 'flight': 17, 'quantity': 18, 'aircraft+flight+flight_no': 19, 'ground_service+ground_fare': 20, 'ground_service': 21, 'airline': 22, 'city': 23, 'airfare+flight': 24, 'meal': 25}\n",
            "{'pad': 0, 'B-round_trip': 1, 'I-depart_time.time': 2, 'B-depart_date.date_relative': 3, 'B-fromloc.airport_code': 4, 'I-arrive_time.start_time': 5, 'B-city_name': 6, 'B-return_date.day_name': 7, 'B-flight_days': 8, 'I-depart_time.time_relative': 9, 'B-return_date.day_number': 10, 'B-arrive_time.start_time': 11, 'I-airport_name': 12, 'I-time': 13, 'B-fromloc.airport_name': 14, 'B-stoploc.state_code': 15, 'I-depart_date.day_number': 16, 'I-city_name': 17, 'B-arrive_time.time_relative': 18, 'B-economy': 19, 'I-arrive_time.time': 20, 'I-arrive_time.period_of_day': 21, 'I-flight_number': 22, 'B-restriction_code': 23, 'B-toloc.city_name': 24, 'I-fare_amount': 25, 'B-depart_time.period_mod': 26, 'B-depart_time.end_time': 27, 'B-depart_date.year': 28, 'I-return_date.date_relative': 29, 'B-arrive_time.time': 30, 'I-depart_time.start_time': 31, 'I-round_trip': 32, 'B-flight': 33, 'B-stoploc.airport_code': 34, 'I-cost_relative': 35, 'B-month_name': 36, 'B-depart_time.time': 37, 'I-toloc.airport_name': 38, 'I-depart_date.today_relative': 39, 'B-period_of_day': 40, 'B-day_name': 41, 'B-toloc.state_name': 42, 'B-depart_date.today_relative': 43, 'B-airline_name': 44, 'B-depart_date.day_number': 45, 'I-restriction_code': 46, 'B-arrive_time.period_mod': 47, 'B-state_name': 48, 'B-depart_date.month_name': 49, 'I-flight_time': 50, 'B-aircraft_code': 51, 'I-flight_mod': 52, 'I-arrive_time.time_relative': 53, 'I-depart_time.end_time': 54, 'B-toloc.country_name': 55, 'I-meal_description': 56, 'I-class_type': 57, 'B-stoploc.airport_name': 58, 'I-today_relative': 59, 'B-arrive_date.day_number': 60, 'B-depart_time.period_of_day': 61, 'I-flight_stop': 62, 'I-state_name': 63, 'B-fromloc.state_name': 64, 'B-flight_stop': 65, 'B-arrive_time.end_time': 66, 'B-fare_basis_code': 67, 'B-today_relative': 68, 'B-meal_code': 69, 'B-return_date.month_name': 70, 'B-fromloc.city_name': 71, 'B-arrive_date.month_name': 72, 'B-booking_class': 73, 'B-fromloc.state_code': 74, 'I-mod': 75, 'B-flight_time': 76, 'I-toloc.city_name': 77, 'B-days_code': 78, 'B-state_code': 79, 'I-depart_date.day_name': 80, 'B-arrive_date.date_relative': 81, 'I-arrive_time.end_time': 82, 'I-stoploc.city_name': 83, 'B-depart_date.day_name': 84, 'B-return_date.date_relative': 85, 'B-transport_type': 86, 'B-mod': 87, 'I-airline_name': 88, 'I-fromloc.airport_name': 89, 'B-return_date.today_relative': 90, 'I-return_date.today_relative': 91, 'I-arrive_date.day_number': 92, 'B-depart_time.time_relative': 93, 'B-meal_description': 94, 'B-depart_time.start_time': 95, 'B-toloc.state_code': 96, 'B-flight_mod': 97, 'B-arrive_date.day_name': 98, 'B-return_time.period_of_day': 99, 'B-day_number': 100, 'B-meal': 101, 'B-toloc.airport_code': 102, 'B-time_relative': 103, 'B-fare_amount': 104, 'I-meal_code': 105, 'I-toloc.state_name': 106, 'O': 107, 'I-depart_time.period_of_day': 108, 'I-fromloc.state_name': 109, 'B-arrive_date.today_relative': 110, 'B-time': 111, 'B-stoploc.city_name': 112, 'B-toloc.airport_name': 113, 'I-return_date.day_number': 114, 'B-airline_code': 115, 'I-fare_basis_code': 116, 'B-class_type': 117, 'B-connect': 118, 'B-flight_number': 119, 'I-economy': 120, 'I-transport_type': 121, 'B-arrive_time.period_of_day': 122, 'B-cost_relative': 123, 'B-airport_name': 124, 'B-compartment': 125, 'B-airport_code': 126, 'I-fromloc.city_name': 127, 'B-return_time.period_mod': 128, 'B-or': 129}\n"
          ]
        }
      ]
    },
    {
      "cell_type": "code",
      "source": [
        "print(SNIPS_lang.word2id)\n",
        "print(SNIPS_lang.intent2id)\n",
        "print(SNIPS_lang.slot2id)"
      ],
      "metadata": {
        "id": "MjrZ9egLKjTA",
        "colab": {
          "base_uri": "https://localhost:8080/"
        },
        "outputId": "3f454e05-f567-44d7-f93c-3290dfe3fd7c"
      },
      "execution_count": 33,
      "outputs": [
        {
          "output_type": "stream",
          "name": "stdout",
          "text": [
            "{'pad': 10605, 'unk': 1, 'can': 2, 'i': 3, 'get': 4, 'the': 5, 'showtimes': 6, 'for': 7, 'films': 8, 'at': 9, 'closest': 10, 'movie': 11, 'house': 12, 'book': 13, 'a': 14, 'restaurant': 15, 'in': 16, 'michigan': 17, '4': 18, 'people': 19, 'give': 20, '3': 21, 'out': 22, 'of': 23, '6': 24, 'to': 25, 'current': 26, 'textbook': 27, 'one': 28, 'stars': 29, 'shiva': 30, 'option': 31, 'need': 32, 'reservation': 33, 'five': 34, 'top-rated': 35, 'english': 36, 'elma': 37, 'please': 38, 'add': 39, 'track': 40, 'by': 41, 'david': 42, 'freiberg': 43, 'my': 44, 'workout': 45, 'playlist': 46, 'put': 47, 'on': 48, 'vimeo': 49, 'and': 50, 'play': 51, 'kacapi': 52, 'suling': 53, 'if': 54, 'you': 55, 'go': 56, 'table': 57, 'irma': 58, 'hotel': 59, 'mount': 60, 'repose': 61, 'which': 62, 'cinemark': 63, 'theatres': 64, 'is': 65, 'playing': 66, 'atom': 67, 'take': 68, 'me': 69, 'nine': 70, 'close': 71, 'westfield': 72, 'delaware': 73, 'when': 74, 'will': 75, 'boys': 76, 'next': 77, 'door': 78, 'be': 79, 'nearest': 80, 'more': 81, 'unbelievable': 82, 'grandes': 83, 'unplugged': 84, 'are': 85, 'neighborhood': 86, 'second': 87, 'from': 88, 'now': 89, 'where': 90, 'watch': 91, 'television': 92, 'show': 93, 'called': 94, 'fangs': 95, 'arctic': 96, 'switzerland': 97, 'pub': 98, 'serving': 99, 'gateau': 100, 'ms': 101, 'schedules': 102, 'movies': 103, 'around': 104, 'here': 105, 'today': 106, 'this': 107, 'duetos': 108, 'rating': 109, '0': 110, 'chronicle': 111, 'want': 112, 'nautch': 113, 'girls': 114, 'india': 115, 'four': 116, 'points': 117, 'find': 118, 'ten': 119, 'am': 120, 'reserve': 121, 'spot': 122, '9': 123, 'eat': 124, 'monaco': 125, 'rate': 126, 'bok': 127, 'series': 128, 'preparedness': 129, '101:': 130, 'zombie': 131, 'apocalypse': 132, 'two': 133, 'search': 134, 'title': 135, 'twilight': 136, 'saga:': 137, 'breaking': 138, 'dawn': 139, 'part': 140, '2': 141, 'rated': 142, 'better': 143, 'than': 144, 'previous': 145, 'would': 146, 'novel': 147, '5': 148, 'best': 149, 'disco': 150, 'tango': 151, 'power': 152, 'walk': 153, 'some': 154, 'salsa': 155, 'music': 156, 'it': 157, 'chillier': 158, 'saxis': 159, 'north': 160, 'dakota': 161, 'make': 162, 'son': 163, 'twenty': 164, 'three': 165, 'o': 166, 'clock': 167, 'what': 168, 's': 169, 'weather': 170, 'going': 171, 'like': 172, 'mi': 173, 'august': 174, 'twenty-eighth': 175, '2033': 176, 'painting': 177, 'live': 178, '–': 179, 'very': 180, 'concert': 181, 'forecast': 182, 'kinbrae': 183, 'with': 184, 'wifi': 185, 'france': 186, 'something': 187, 'classic': 188, 'jazz': 189, 'funk': 190, 'zvooq': 191, 'diana': 192, 'herself': 193, 'average': 194, 'gets': 195, 'how': 196, 'may': 197, 'wyoming': 198, 'work': 199, 'compiled': 200, 'fragments': 201, '1997-2003': 202, 'tell': 203, 'sam': 204, 'd': 205, 'hamilton': 206, 'noxubee': 207, 'national': 208, 'wildlife': 209, 'refuge': 210, 'point': 211, 'compendium': 212, 'analytical': 213, 'nomenclature': 214, 'nuclear': 215, 'war': 216, 'survival': 217, 'skills': 218, 'zero': 219, 'step': 220, 'grandfather': 221, 'fifty-five': 222, 'nv': 223, 'animated': 224, 'bridge': 225, 'san': 226, 'luis': 227, 'rey': 228, 'picture': 229, 'hot': 230, 'west': 231, 'union': 232, 'malaysia': 233, 'tales': 234, 'organ': 235, 'trade': 236, 'warpaint': 237, 'pre-party': 238, 'list': 239, 'glenn': 240, 'stetson': 241, 'spotify': 242, 'highly': 243, 'oyster': 244, 'bar': 245, 'ar': 246, 'month': 247, 'jeanne': 248, 'collins': 249, 'amy': 250, '11': 251, 'm': 252, 'dickinson': 253, 'ik': 254, 'tara': 255, 'laundry': 256, 'playlst': 257, 'roland': 258, 'alphonso': 259, 'tunes': 260, 'that': 261, 'most': 262, 'popular': 263, 'temperate': 264, 'farallon': 265, 'islands': 266, 'oct': 267, '10': 268, 'cuyabeno': 269, 'pilot': 270, 'mound': 271, 'palau': 272, 'feb': 273, 'twenty-fourth': 274, 'takes': 275, 'place': 276, 'your': 277, 'space': 278, 'eddie': 279, 'kendricks': 280, 'cold': 281, 'cargray': 282, 'argentina': 283, 'time': 284, 'taking': 285, 'pelham': 286, '1': 287, 'theatre': 288, 'adventures': 289, 'stationery': 290, 'saga': 291, 'good': 292, 'amber': 293, 'gristak': 294, 'lastfm': 295, 'korean': 296, 'osts': 297, 'parents': 298, 'romagna': 299, 'brasserie': 300, 'tv': 301, 'have': 302, 'nice': 303, 'day': 304, 'goshenville': 305, 'pr': 306, 'october': 307, '16': 308, '2038': 309, 'game': 310, 'special': 311, 'christmas': 312, '7': 313, 'anniston': 314, 'shahrum': 315, 'kashani': 316, 'country': 317, 'hits': 318, 'windy': 319, 'anderson': 320, 'lake': 321, 'state': 322, 'fish': 323, 'area': 324, 'soundtrack': 325, 'shoes': 326, 'september': 327, 'kb': 328, 'fourties': 329, 'chant': 330, 'last': 331, 'fm': 332, 'alamo': 333, 'drafthouse': 334, 'cinema': 335, 'carmichaels': 336, 'gambia': 337, 'there': 338, 'cloud': 339, 'year': 340, 'kewanee': 341, 'artist': 342, 'mark': 343, 'ashley': 344, 'wondering': 345, 'see': 346, 'beating': 347, 'heart': 348, 'trying': 349, 'remote': 350, 'look': 351, 'all': 352, 'broken': 353, 'up': 354, 'dancing': 355, 'video': 356, 'spring': 357, 'shore': 358, 'club': 359, 'buy': 360, 'brokeback': 361, 'mountain': 362, 'use': 363, 'deezer': 364, 'rainfall': 365, 'faraway': 366, 'uganda': 367, 'seven': 368, 'hours': 369, 'rain': 370, 'depression': 371, 'washington': 372, 'forest': 373, 'broke:': 374, 'who': 375, 'killed': 376, 'middle': 377, 'classes': 378, 'while': 379, 'gate': 380, 'open': 381, 'supposed': 382, 'hail': 383, 'rosenberg': 384, 'french': 385, 'polynesia': 386, 'november': 387, 'twelfth': 388, '2030': 389, 'party': 390, 'currituck': 391, 'chilly': 392, 'conditions': 393, 'chad': 394, '28': 395, '2034': 396, 'times': 397, 'has': 398, 'far': 399, 'tx': 400, 'southern': 401, 'rock': 402, 'include': 403, 'emily': 404, 'remler': 405, 'indie': 406, 'bluegrass': 407, 'rainy': 408, 'malta': 409, 'eight': 410, 'days': 411, 'luke': 412, 'rainbow': 413, 'eyes': 414, 'starts': 415, 'minute': 416, 'alles': 417, 'heeft': 418, 'ritme': 419, 'liu': 420, 'tianhua': 421, 'essay': 422, 'sister': 423, 'nebraska': 424, 'seconds': 425, 'schedule': 426, 'skull': 427, 'loews': 428, 'cineplex': 429, 'blizzard': 430, 'egypt': 431, 'lost': 432, 'land': 433, 'tiger': 434, 'word': 435, 'brand': 436, 'manadonese': 437, 'six': 438, '21:49': 439, 'distant': 440, 'baby': 441, 'winchell': 442, 'mississippi': 443, 'imax': 444, 'corporation': 445, 'minutes': 446, 'love': 447, '80': 448, 'rollerdisco': 449, 'song': 450, 'avispa': 451, '1965': 452, 'itunes': 453, 'songs': 454, 'gerard': 455, 'way': 456, 'punk': 457, 'essentials': 458, 'google': 459, 'album': 460, 'saint': 461, 'vincent': 462, 'grenadines': 463, 'robin': 464, 'trower': 465, 'feminist': 466, 'friday': 467, '1993': 468, 'marshall': 469, 'sixteen': 470, 'cloudy': 471, 'georgia': 472, 'ways': 473, 'escape': 474, 'fever': 475, 'belarus': 476, '1994': 477, 'sunrise': 478, 'lands': 479, 'dub': 480, 'beach': 481, 'kerasotes': 482, 'parry': 483, 'birch': 484, 'river': 485, 'mo': 486, 'boy': 487, 'meets': 488, 'paulinho': 489, 'da': 490, 'viola': 491, '1999': 492, 'puccini': 493, 'jacqueline': 494, 'wilson': 495, 'deanna': 496, 'carpenter': 497, 'uncas': 498, 'neighbourhood': 499, 'kings': 500, 'high': 501, 'frontier': 502, 'girl': 503, 'man': 504, 'hold': 505, 'blonde': 506, 'deserves': 507, 'only': 508, 'nightmare': 509, 'providence': 510, 'street': 511, 'cave': 512, 'canem': 513, 'demos': 514, 'photograph': 515, '1952': 516, 'symphony': 517, 'star': 518, 'looking': 519, 'right': 520, 'merry': 521, 'sisters': 522, 'fate': 523, 'codebreakers': 524, 'value': 525, 'selling': 526, 'price': 527, 'sims': 528, '3:': 529, 'island': 530, 'paradise': 531, 'creativity': 532, 'dead': 533, 'hour': 534, 'exira': 535, 'sd': 536, 'serves': 537, 'oysters': 538, 'rockefeller': 539, 'warmer': 540, 'same': 541, 'as': 542, 'sandy': 543, 'dave': 544, 'acoustic': 545, 'blues': 546, 'an': 547, 'aboriginal': 548, 'port': 549, 'folio': 550, 'east': 551, 'berlin': 552, 'al': 553, 'intimidators': 554, 'tin': 555, 'tree': 556, 'brunch': 557, 'drift:': 558, 'unmooring': 559, 'american': 560, 'military': 561, 'conan': 562, 'buccaneer': 563, 'cj': 564, 'snare': 565, 'mim': 566, 'faroe': 567, 'third': 568, 'eye': 569, 'showing': 570, 'joint': 571, 'republic': 572, 'congo': 573, 'help': 574, 'scholarmate': 575, 'boyce': 576, 'hart': 577, 'urban': 578, 'seating': 579, 'person': 580, 'cafeteria': 581, 'pauls': 582, 'crossroads': 583, 'snowfall': 584, '2/21/2022': 585, 'cristo': 586, 'link': 587, 'little': 588, 'us': 589, 'tempunauts': 590, 'novedades': 591, 'viernes': 592, 'sudamérica': 593, 'tanzania': 594, 'kirsten': 595, 'audra': 596, 'our': 597, 'location': 598, 'outdoor': 599, 'taverna': 600, 'kaya': 601, 'newest': 602, '00': 603, 'r&b': 604, 'marshal': 605, 'however': 606, 'much': 607, 'booze': 608, 'atmospheric': 609, 'black': 610, 'metal': 611, 'hardstyle': 612, 'local': 613, 'food': 614, 'court': 615, 'j': 616, 'mclean': 617, 'wanderer': 618, 'his': 619, 'shadow': 620, 'move': 621, 'named': 622, 'matt': 623, 'walker': 624, 'parking': 625, 'morris': 626, 'listen': 627, 'vickers': 628, 'tune': 629, 'twenties': 630, 'reservations': 631, 'vickie': 632, 'caitlin': 633, 'february': 634, '2018': 635, 'diner': 636, 'ribs': 637, 'not': 638, 'lexington': 639, 'av-53rd': 640, 'st': 641, 'lets': 642, 'aliens': 643, 'grill': 644, '&': 645, 'marcus': 646, 'swedish': 647, 'butler': 648, 'saw': 649, 'overcast': 650, 'twelve': 651, 'pm': 652, 'creative': 653, 'ufo': 654, 'senshi': 655, 'dai': 656, 'apolon': 657, 'cross': 658, 'bones': 659, 'style': 660, 'guest': 661, 'cat': 662, 'colder': 663, 'apolobamba': 664, 'integrated': 665, 'management': 666, 'natural': 667, 'oh': 668, 'warm': 669, 'woman': 670, 'mu': 671, 'ko': 672, 'phetra': 673, 'park': 674, 'administrative': 675, 'professionals': 676, 'attack': 677, 'surface': 678, 'analyzer': 679, 'christina': 680, 'schollin': 681, 'sleeping': 682, 'enemy': 683, 'bump': 684, 'off': 685, 'lover': 686, 'expected': 687, 'blue': 688, 'meaning': 689, 'mellowed': 690, 'gaming': 691, 'nineteen': 692, 'hear': 693, 'adam': 694, 'piano': 695, 'ballads': 696, 'netflix': 697, 'name': 698, 'shall': 699, 'we': 700, 'dance': 701, 'these': 702, 'neighboring': 703, 'lincoln': 704, 'king': 705, 'kitchen': 706, 'fifteen': 707, 'creole': 708, 'joey': 709, 'fatone': 710, 'spotlight': 711, '2016': 712, 'world': 713, 'vl': 714, 'mike': 715, 'dcode2016': 716, 'bon': 717, 'secour': 718, 'recovery': 719, 'road': 720, 'sita': 721, 'bettie': 722, 'global': 723, 'saturday': 724, 'review': 725, 'macy': 726, 'indiespensables': 727, 'info': 728, 'hands': 729, 'across': 730, 'border': 731, 'laying': 732, 'trip': 733, 'priorities': 734, 'parade': 735, 'verona': 736, 'into': 737, 'la': 738, 'mejor': 739, 'música': 740, '2017': 741, 'karina': 742, 'folk': 743, 'pop': 744, 'farruko': 745, 'presenta': 746, 'los': 747, 'menores': 748, 'amor': 749, 'check': 750, 'hulmeville': 751, 'wv': 752, 'karnataka': 753, 'california': 754, 'oak': 755, 'ridge': 756, 'lil': 757, 'jon': 758, 'sonja': 759, 'pizzeria': 760, 'battleaxe': 761, 'windows': 762, 'lebanon': 763, 'toucher': 764, 'rich': 765, '8': 766, 'massachusetts': 767, 'spirits': 768, 'pheba': 769, 'another': 770, 'added': 771, 'louis': 772, 'nelson': 773, 'delisle': 774, 'pulse': 775, 'americana': 776, '2012': 777, 'nardwuar': 778, 'human': 779, 'serviette': 780, 'down': 781, 'soft': 782, 'tetrazzini': 783, 'hollywood': 784, 'connection': 785, 'ricky': 786, 'bell': 787, 'invisible': 788, 'hook': 789, 'trailer': 790, 'fourche': 791, 'slovakia': 792, 'chris': 793, 'de': 794, 'burgh': 795, 'melancholia': 796, 'slap': 797, 'doctor': 798, 'home': 799, 'hill': 800, 'elizabeth': 801, 'queen': 802, 'ecola': 803, 'movement': 804, 'sheryfa': 805, 'luna': 806, 'jan': 807, 'smit': 808, 'endorphin': 809, 'rush': 810, 'don': 811, 'sherri': 812, 'meditate': 813, 'sounds': 814, 'nature': 815, '1977': 816, 'whats': 817, 'blythewood': 818, 'louisiana': 819, 'ep': 820, 'quasimoto': 821, 'nineties': 822, 'mjr': 823, '02:39:23': 824, 'apr': 825, 'sixteenth': 826, '2027': 827, 'cazenovia': 828, 'ca': 829, 'eleven': 830, 'reading': 831, 'visit': 832, 'pool': 833, 'fourteen': 834, 'samoa': 835, 'latin': 836, 'pa': 837, 'tritonian': 838, 'ring': 839, 'hitman': 840, 'city': 841, 'rex': 842, 'griffin': 843, 'steampunk': 844, 'ginestrata': 845, 'endangered': 846, 'species': 847, 'internet': 848, 'should': 849, 'melva': 850, 'heidi': 851, 'natasha': 852, 'things': 853, 'post': 854, 'melody': 855, 'b&b': 856, 'laos': 857, 'theme': 858, 'megon': 859, 'mcdonough': 860, 'slackers': 861, 'journal': 862, 'episode': 863, 'crossing': 864, 'lines': 865, 'come': 866, 'again': 867, 'smith': 868, 'new': 869, 'mexico': 870, 'lakes': 871, 'douglas': 872, 'company': 873, 'snowstorm': 874, 'coming': 875, 'dana': 876, 'pediatric': 877, 'oncology': 878, 'nursing': 879, 'thirties': 880, 'brazilian': 881, 'within': 882, 'comoros': 883, 'position': 884, 'inheritance': 885, 'loss': 886, 'misato': 887, 'watanabe': 888, 'trapeo': 889, 'idea': 890, 'fun': 891, 'salò': 892, 'available': 893, 'anywhere': 894, 'jag': 895, 'vill': 896, 'leva': 897, 'europa': 898, 'porta': 899, 'oman': 900, 'reckoning': 901, 'dodge': 902, 'merrily': 903, 'roll': 904, 'along': 905, 'marko': 906, 'desantis': 907, 'no': 908, 'young': 909, 'amc': 910, 'theaters': 911, 'monkeys': 912, 'tails': 913, 'zamboanga': 914, 'nearby': 915, 'northeast': 916, 'indian': 917, 'carolina': 918, 'during': 919, 'kent': 920, 'shootings': 921, 'remembrance': 922, 'el': 923, 'cocuy': 924, 'instrumental': 925, '15:04': 926, 'valley': 927, 'view': 928, 'night': 929, 'earth': 930, 'siler': 931, 'russia': 932, 'main': 933, 'cyprus': 934, 'ibm': 935, 'program': 936, 'temporary': 937, 'fix': 938, 'first': 939, 'other': 940, 'stories': 941, 'pandora': 942, 'udhreko': 943, 'choli': 944, 'chowdiah': 945, 'kaori': 946, 'mochida': 947, 'slimm': 948, 'cutta': 949, 'calhoun': 950, 'sing': 951, 'car': 952, 'expendables': 953, 'starting': 954, 'p': 955, 'pickens': 956, 'chill': 957, 'white': 958, 'heath': 959, 'south': 960, 'midnight': 961, 'truck': 962, 'nisswa': 963, 'ice': 964, 'cream': 965, 'mother': 966, 'law': 967, 'rise': 968, 'danni': 969, 'bassan': 970, 'jack': 971, 'scott': 972, 'fantasía': 973, 'histoires': 974, 'sans': 975, 'paroles': 976, 'women': 977, 'k-pop': 978, 'stone': 979, 'key': 980, 'dorchester': 981, 'shores': 982, 'jacob': 983, 'wirth': 984, 'proceed': 985, '2003': 986, 'taylor': 987, 'dayne': 988, 'kids': 989, 'recite': 990, 'dj': 991, 'green': 992, 'lantern': 993, 'targeted': 994, 'pull': 995, 'raining': 996, 'hundred': 997, 'thirty': 998, 'ion': 999, 'gobles': 1000, 'canada': 1001, 'chasing': 1002, 'fortune': 1003, 'lacuna': 1004, 'under': 1005, 'greenland': 1006, 'winter': 1007, 'she': 1008, 'anheuser': 1009, 'bush': 1010, 'pete': 1011, 'doherty': 1012, 'blood': 1013, 'décadas': 1014, 'rebekah': 1015, 'marcie': 1016, 'clink': 1017, 'senegal': 1018, 'ladyhawke': 1019, 'record': 1020, 'death': 1021, 'nurse': 1022, 'roadrunner': 1023, 'rec': 1024, 'releases': 1025, 'maldives': 1026, 'sixties': 1027, 'slacker': 1028, 'tom': 1029, 'titled': 1030, 'leaps': 1031, 'wang': 1032, 'lun': 1033, 'firepower': 1034, 'fair': 1035, 'hard': 1036, 'handle': 1037, 'onto': 1038, 'ultimate': 1039, '00s': 1040, 'francesco': 1041, 'gregori': 1042, 'classical': 1043, 'picks': 1044, 'feeling': 1045, 'tinker': 1046, 'legend': 1047, 'neverbeast': 1048, 'leeds': 1049, 'khedive': 1050, 'palace': 1051, 'aug': 1052, 'fifth': 1053, 'scandalous': 1054, 'corn': 1055, 'relish': 1056, 'walking': 1057, 'distance': 1058, 'hutchinson': 1059, 'll': 1060, 'freezing': 1061, '333': 1062, 'caplinger': 1063, 'mills': 1064, 'florida': 1065, 'does': 1066, 'miss': 1067, 'sloane': 1068, 'ad': 1069, 'sxsw': 1070, 'back': 1071, 'future': 1072, 'juniper': 1073, 'bûche': 1074, 'noël': 1075, 'bilal': 1076, 'heroes': 1077, 'might': 1078, 'magic': 1079, 'tables': 1080, 'kosher': 1081, 'steakhouse': 1082, 'kosovo': 1083, 'sun': 1084, 'houston': 1085, 'knowledge': 1086, 'decisions': 1087, 'read': 1088, 'control': 1089, 'trey': 1090, 'gunn': 1091, 'n': 1092, 'heavy': 1093, 'extraordinary': 1094, 'deus': 1095, 'deceptor': 1096, 'bouchon': 1097, 'tonga': 1098, 'jimmie': 1099, 'chasity': 1100, 'howard': 1101, 'snowy': 1102, 'parnell': 1103, 'week': 1104, 'camp': 1105, 'bird': 1106, 'bakery': 1107, 'souvlaki': 1108, 'tomorrow': 1109, 'satire': 1110, 'father': 1111, 'geraldine': 1112, 'ghostbusters': 1113, '-': 1114, 'acchiappafantasmi': 1115, 'gus': 1116, 'stevens': 1117, 'seafood': 1118, 'lounge': 1119, 'papua': 1120, 'guinea': 1121, 'emperor': 1122, 'wears': 1123, 'clothes': 1124, 'was': 1125, 'too': 1126, 'naive': 1127, 'simple': 1128, 'uncle': 1129, 'afternoon': 1130, 'shannon': 1131, 'pitcairn': 1132, 'london': 1133, 'borough': 1134, 'dirty': 1135, 'thompson': 1136, 'medical': 1137, 'philip': 1138, 'glass': 1139, 'quest': 1140, 'iranon': 1141, 'just': 1142, 'smile': 1143, '10:37': 1144, 'top': 1145, 'maynard': 1146, 'james': 1147, 'keenan': 1148, 'cotopaxi': 1149, 'breakfast': 1150, 'gastropub': 1151, 'rose': 1152, 'creek': 1153, 'elevenses': 1154, 'northern': 1155, 'mariana': 1156, 'delicatessen': 1157, 'testaroli': 1158, 'somalia': 1159, '7/25/2027': 1160, 'consequences': 1161, 'sos': 1162, '48': 1163, 'sword': 1164, 'travel': 1165, 'leap': 1166, 'darkness': 1167, 'niue': 1168, 'kiss': 1169, 'before': 1170, 'dying': 1171, 'tavern': 1172, 'tale': 1173, 'toa': 1174, 'gun': 1175, 'service': 1176, 'mick': 1177, 'johnson': 1178, 'apathy': 1179, 'electro': 1180, 'sur': 1181, 'pastelaria': 1182, 'svalbard': 1183, 'mayen': 1184, 'neon': 1185, 'bible': 1186, '/': 1187, 'currently': 1188, 'runs': 1189, 'drawn': 1190, 'theater': 1191, 'drums': 1192, 'marcial': 1193, 'ak': 1194, 'message': 1195, 'deaths': 1196, 'ian': 1197, 'richard': 1198, 'summer': 1199, 'dr': 1200, 'know': 1201, '90': 1202, 'sugarfoot': 1203, 'yauch': 1204, 'spooning': 1205, 'cooper': 1206, 'foundation': 1207, 'unlimited': 1208, 'igor': 1209, 'talkow': 1210, 'mary': 1211, 'kom': 1212, 'aviation': 1213, 'cocktail': 1214, 'hotter': 1215, 'pecan': 1216, 'grove': 1217, 'botswana': 1218, '09:30': 1219, 'realest': 1220, 'hillview': 1221, 'ne': 1222, 'mineiro': 1223, 'hubbardston': 1224, 'vanuatu': 1225, 'zezé': 1226, 'di': 1227, 'camargo': 1228, 'luciano': 1229, 'let': 1230, 'talk': 1231, 'devil': 1232, 'wild': 1233, 'solutions': 1234, 'montserrat': 1235, 'bright': 1236, 'ambush': 1237, 'girlfriend': 1238, 'truffade': 1239, 'virginia': 1240, 'cole': 1241, 'sunday': 1242, 'plutonium': 1243, 'files': 1244, 'lady': 1245, 'highwayman': 1246, 'dipson': 1247, 'atomic': 1248, 'cafe': 1249, 'hooksett': 1250, 'posiabble': 1251, 'genuine': 1252, 'signals': 1253, 'belief': 1254, 'early': 1255, 'england': 1256, 'greatest': 1257, 'ballad': 1258, 'seventies': 1259, 'voices': 1260, 'images': 1261, 'comertown': 1262, 'battle': 1263, 'hymn': 1264, 'china': 1265, 'ciribiribin': 1266, 'sandeep': 1267, 'khare': 1268, 'forcast': 1269, 'stanislaus': 1270, 'months': 1271, 'iron': 1272, 'fist': 1273, 'robotix': 1274, 'wy': 1275, 'gu': 1276, 'years': 1277, 'lima': 1278, 'call': 1279, 'joe': 1280, 'steve': 1281, 'albini': 1282, 'psychedelic': 1283, 'great': 1284, 'triple': 1285, 'district': 1286, 'columbia': 1287, 'deborah': 1288, 'vasquez': 1289, 'sorted': 1290, 'family': 1291, 'conexiones': 1292, 'critical': 1293, 'condition': 1294, 'assign': 1295, 'god': 1296, 'yale': 1297, 'singapore': 1298, '19': 1299, 'mccracken': 1300, 'niger': 1301, 'corner': 1302, 'justin': 1303, 'broadrick': 1304, 'type': 1305, 'super': 1306, 'robot': 1307, 'lagaylia': 1308, 'frazier': 1309, 'emotron': 1310, 'do': 1311, 'dates': 1312, 'mcdonald': 1313, 'leonard': 1314, 'cohen': 1315, 'brazuca': 1316, '2004': 1317, 'eliel': 1318, 'fred': 1319, 'knoblock': 1320, 'lo-fi': 1321, 'julian': 1322, 'cardio': 1323, 'real': 1324, 'mccoy': 1325, 'united': 1326, 'paramount': 1327, 'boss': 1328, 'glassy': 1329, 'junction': 1330, 'turkey': 1331, 'niece': 1332, 'callicoon': 1333, 'tennessee': 1334, 'story': 1335, 'cinemas': 1336, 'graduate': 1337, 'faculty': 1338, 'philosophy': 1339, 'week-end': 1340, 'selva': 1341, 'jedediah': 1342, 'wisconsin': 1343, '22:54': 1344, 'jacinto': 1345, 'concentración': 1346, 'mind': 1347, 'chaos': 1348, 'january': 1349, 'twentieth': 1350, 'brazil': 1351, '1973': 1352, '21': 1353, '33': 1354, 'wake': 1355, 'everybody': 1356, 'making': 1357, 'teacher': 1358, 'anguilla': 1359, 'harry': 1360, 'dubstep': 1361, 'dangles': 1362, 'getting': 1363, 'falls': 1364, 'provincial': 1365, 'josie': 1366, 'carissa': 1367, 'lindsay': 1368, 'trentino': 1369, 'oreo': 1370, 'bald': 1371, 'kaskade': 1372, 'express': 1373, 'mint': 1374, 'brian': 1375, 'larsen': 1376, 'digster': 1377, 'sleep': 1378, 'physics': 1379, 'impossible': 1380, '70s': 1381, 'smash': 1382, 'nicht': 1383, 'sprechen': 1384, 'partners': 1385, 'crime': 1386, 'joann': 1387, 'lo': 1388, 'que': 1389, 'suena': 1390, 'angeles': 1391, 'don’t': 1392, 'break': 1393, 'loves': 1394, 'peaches': 1395, 'discography': 1396, 'synthpop': 1397, 'through': 1398, 'x': 1399, 'playist': 1400, 'camino': 1401, 'clase': 1402, 'could': 1403, 'b': 1404, 'men': 1405, 'gahō': 1406, 'nathaniel': 1407, 'shilkret': 1408, 'trance': 1409, 'life': 1410, '2013': 1411, 'groove': 1412, 'shark': 1413, 'madagascar': 1414, 'snapfinger': 1415, 'dinner': 1416, 'mcmurray': 1417, 'seventeenth': 1418, 'marjorie': 1419, 'edith': 1420, 'martina': 1421, 'homicide:': 1422, 'killing': 1423, 'streets': 1424, 'grand': 1425, 'towne': 1426, 'mp': 1427, 'pigs': 1428, 'blankets': 1429, 'theo': 1430, 'keating': 1431, 'december': 1432, 'boca': 1433, 'raton': 1434, 'ia': 1435, 'mountains': 1436, '2000': 1437, 'millennium': 1438, 'tommy': 1439, 'ridgley': 1440, 'verjamem': 1441, 'hong': 1442, 'junyang': 1443, 'rutherfordton': 1444, 'rhode': 1445, '22nd': 1446, 'glennie': 1447, 'lewisville': 1448, 'ballachulish': 1449, 'sudan': 1450, 'own': 1451, 'serenada': 1452, 'stracciatella': 1453, 'lapponia': 1454, 'flamenco': 1455, 'ti': 1456, 'myanmar': 1457, 'about': 1458, 'sardonic': 1459, 'wrath': 1460, 'big': 1461, 'mouth': 1462, 'elk': 1463, 'poland': 1464, 'brockway': 1465, 'colorado': 1466, 'thai': 1467, 'fog': 1468, 'fairwood': 1469, 'garage': 1470, 'wave': 1471, 'revival': 1472, 'eternal': 1473, 'prisoner': 1474, 'george': 1475, 'slept': 1476, 'fairy': 1477, '100': 1478, 'tracks': 1479, 'any': 1480, 'courtship': 1481, 'princess': 1482, 'leia': 1483, 'grandmother': 1484, 'umbrian': 1485, '7th': 1486, 'robert': 1487, 'nighthawk': 1488, 'places': 1489, 'hahnville': 1490, 'minnesota': 1491, 'lord': 1492, 'construction': 1493, 'project': 1494, 'information': 1495, 'committee': 1496, 'feels': 1497, 'nationalpark': 1498, 'midongy': 1499, 'du': 1500, 'sud': 1501, 'hive': 1502, 'propolis': 1503, 'fickle': 1504, 'eighties': 1505, 'fifty': 1506, 'roeland': 1507, 'guadeloupe': 1508, 'rings:': 1509, 'conquest': 1510, 'short': 1511, 'fast': 1512, 'prey': 1513, 'relax': 1514, 'unwind': 1515, 'bad': 1516, 'live~legend': 1517, '1997': 1518, 'milligan': 1519, 'college': 1520, 'speakeasy': 1521, 'titiyo': 1522, 'harveysburg': 1523, 'wa': 1524, 'maryland': 1525, 'following': 1526, 'gear': 1527, 'terraphiles': 1528, 'dewey': 1529, 'incorporate': 1530, 'warp': 1531, 'occasional': 1532, 'wife': 1533, 'cocos': 1534, 'input': 1535, 'anything': 1536, 'chieko': 1537, 'ochi': 1538, 'pollock': 1539, 'todd': 1540, 'snider': 1541, 'latino': 1542, 'kokomo': 1543, 'fall': 1544, 'sungmin': 1545, 'elmer': 1546, 'bernstein': 1547, 'swine': 1548, 'industry': 1549, 'unravel': 1550, 'jul': 1551, '4th': 1552, 'daughter': 1553, 'rouge': 1554, 'faith': 1555, 'needs': 1556, 'starlight': 1557, 'eleventh': 1558, 'md': 1559, 'church': 1560, 'truly': 1561, 'warped': 1562, 'ky': 1563, 'loveless': 1564, 'braindead': 1565, 'megaphone': 1566, 'prompton': 1567, 'arthur': 1568, 'russell': 1569, 'trenton': 1570, 'heights': 1571, 'fort': 1572, 'pulaski': 1573, 'monument': 1574, 'engadine': 1575, 'their': 1576, 'finest': 1577, 'sort': 1578, 'form': 1579, '1959': 1580, 'stuart': 1581, 'garrard': 1582, 'turn': 1583, '1991': 1584, 'woven': 1585, 'path': 1586, 'hip': 1587, 'hop': 1588, 'rocksteady': 1589, 'osteria': 1590, 'weeks': 1591, 'being': 1592, 'played': 1593, 'warren': 1594, 'madison': 1595, 'flaxton': 1596, 'arletta': 1597, 'malawi': 1598, 'tea': 1599, 'maple': 1600, 'glen': 1601, 'reason': 1602, 'bachelor': 1603, 'carvel': 1604, 'group': 1605, 'total': 1606, 'concerto': 1607, 'thekra': 1608, 'fernley': 1609, 'mj': 1610, 'gainesville': 1611, 'daily': 1612, 'register': 1613, 'magnificent': 1614, 'rosana': 1615, 'issue': 1616, 'favorite': 1617, 'slaughterhouse': 1618, 'clowns': 1619, 'nour': 1620, 'mhanna': 1621, 'workday': 1622, 'moments': 1623, 'seychelles': 1624, '1954': 1625, 'nuestros': 1626, 'carácter': 1627, 'bolsa': 1628, 'chica': 1629, 'foggy': 1630, 'rebecca': 1631, 'hewitt': 1632, 'horrible': 1633, 'hopeful': 1634, 'enrique': 1635, 'iglesias': 1636, 'miller': 1637, 'nina': 1638, 'hagen': 1639, 'essential': 1640, 'bride’s': 1641, 'journey': 1642, 'portrait': 1643, 'nude': 1644, 'amenia': 1645, 'wi': 1646, 'joel': 1647, 'hastings': 1648, 'giving': 1649, 'wide': 1650, 'window': 1651, 'ok': 1652, 'persian': 1653, 'ex': 1654, 'husband': 1655, 'elkie': 1656, 'brooks': 1657, 'happy': 1658, 'birthday': 1659, 'roots': 1660, 'outsiders': 1661, 'highway': 1662, 'chronicles': 1663, 'soul': 1664, 'nankin': 1665, 'fr': 1666, 'iemand': 1667, 'als': 1668, 'jij': 1669, 'cliffwood': 1670, 'rustic': 1671, 'inn': 1672, 'members': 1673, 'nappanee': 1674, 'sint': 1675, 'maarten': 1676, 'zen': 1677, 'focus': 1678, 'franj': 1679, 'hess:': 1680, 'biography': 1681, 'kurt': 1682, 'classics': 1683, 'whosoever': 1684, 'offend': 1685, 'showcase': 1686, 'autobiography': 1687, 'alice': 1688, 'toklas': 1689, 'palmetto': 1690, '1985': 1691, 'patrick': 1692, 'cowley': 1693, 'adolf': 1694, 'hitler:': 1695, 'downfall': 1696, 'episodi': 1697, 'cherryh': 1698, 'odyssey': 1699, 'kulpsville': 1700, 'togo': 1701, '26th': 1702, 'eastlake': 1703, 'handover': 1704, 'arclight': 1705, 'jill': 1706, 'sound': 1707, 'murder': 1708, 'mana': 1709, 'elvira': 1710, 'scarlet': 1711, '12': 1712, 'horace': 1713, 'silver': 1714, 'messengers': 1715, 'running': 1716, '170': 1717, '190': 1718, 'bpm': 1719, 'brubeck': 1720, 'plays': 1721, 'colleagues': 1722, 'chrisman': 1723, 'cradle': 1724, 'robbers': 1725, 'storm': 1726, 'albania': 1727, 'qr': 1728, 'iii': 1729, 'bobby': 1730, 'bare': 1731, 'small': 1732, 'screen': 1733, '00:09:07': 1734, 'purchase': 1735, 'samuel': 1736, 'tyne': 1737, 'scription': 1738, 'data': 1739, 'trash': 1740, 'totally': 1741, 'framing': 1742, 'ages': 1743, '1976': 1744, 'jam': 1745, 'master': 1746, 'jay': 1747, 'vigus': 1748, 'cluster': 1749, 'computing': 1750, 'tomb': 1751, 'quotations': 1752, 'chairman': 1753, 'mao': 1754, 'tse-tung': 1755, 'definitely': 1756, 'worth': 1757, 'puppet': 1758, 'string': 1759, 'sunny': 1760, 'twenty-seventh': 1761, '2031': 1762, 'armenian': 1763, 'plitt': 1764, 'autumn': 1765, 'or': 1766, 'friend': 1767, 'holy': 1768, 'capital': 1769, 'arab': 1770, 'emirates': 1771, 'they': 1772, 'serve': 1773, 'pepperoni': 1774, 'dishes': 1775, 'southeastern': 1776, 'karthaus': 1777, 'throwback': 1778, 'christy': 1779, 'louise': 1780, 'alexandra': 1781, '17:38:04': 1782, 'hopes': 1783, 'blind': 1784, 'alley': 1785, 'screamplay': 1786, 'fight': 1787, 'northeastern': 1788, 'satanta': 1789, 'beavis': 1790, 'butt-head': 1791, 'pura': 1792, 'vida': 1793, 'kurdishmedia': 1794, 'com': 1795, 'walerij': 1796, 'leontjew': 1797, 'wonderful': 1798, 'flying': 1799, 'scotsman': 1800, 'stormy': 1801, '15th': 1802, '2026': 1803, 'federated': 1804, 'states': 1805, 'micronesia': 1806, 'radical': 1807, 'history': 1808, 'airey': 1809, 'gonna': 1810, 'raise': 1811, 'hell': 1812, 'bruce': 1813, 'lee': 1814, 'zenith': 1815, 'angle': 1816, '131': 1817, 'atanassow-see': 1818, 'ri': 1819, 'steady': 1820, 'goes': 1821, 'manthan': 1822, 'wedding': 1823, 'copy': 1824, 'skatepark': 1825, 'punks': 1826, 'turbonegro': 1827, 'why': 1828, 'leave': 1829, 'bass': 1830, 'troopers': 1831, 'scheduled': 1832, 'near': 1833, 'moldova': 1834, 'fri': 1835, 'twin': 1836, 'peaks:': 1837, 'fire': 1838, 'goodrich': 1839, 'quality': 1840, 'thirteen': 1841, 'dochū-kōtsu': 1842, 'prefectural': 1843, 'indoor': 1844, 'meal': 1845, 'searves': 1846, 'kouglof': 1847, 'wanted': 1848, 'erykah': 1849, 'badu': 1850, '22': 1851, 'chicken': 1852, 'bolivia': 1853, 'biggest': 1854, 'loser': 1855, 'brunei:': 1856, 'spirit': 1857, 'heredity': 1858, 'bullet': 1859, 'target': 1860, 'clermont': 1861, 'coffeehouse': 1862, 'midland': 1863, 'stephen': 1864, 'jones': 1865, 'harrison–crawford': 1866, 'iowa': 1867, 'wait': 1868, 'until': 1869, 'hover': 1870, 'racer': 1871, 'tonight': 1872, 'rajasthani': 1873, 'amco': 1874, 'entertainment': 1875, 'criminal': 1876, 'criminology': 1877, 'brothers': 1878, 'karamazov': 1879, 'adventure': 1880, 'carbuncle': 1881, 'dies': 1882, 'gary': 1883, 'chaw': 1884, 'flies': 1885, '1994-2009': 1886, 'jazzy': 1887, 'romance': 1888, 'ct': 1889, 'naked': 1890, 'latest': 1891, 'peter': 1892, 'appleyard': 1893, 'kerrick': 1894, 'reestaurant': 1895, 'monro': 1896, 'tatjana': 1897, 'iwanowna': 1898, 'bulanowa': 1899, 'parksdale': 1900, 'missouri': 1901, 'masterful': 1902, 'mystery': 1903, 'tour': 1904, 'morning': 1905, 'rhythm': 1906, 'jailbird': 1907, 'wynter': 1908, 'gordon': 1909, 'friends': 1910, 'players': 1911, 'falcon': 1912, 'accounting': 1913, 'political': 1914, 'liberalism': 1915, 'jets': 1916, 'dec': 1917, '23': 1918, 'banquet': 1919, 'damned': 1920, 'march': 1921, 'once': 1922, 'upon': 1923, 'groesbeck': 1924, 'cayman': 1925, 'ninety': 1926, 'kansas': 1927, 'dancehall': 1928, 'official': 1929, 'trap': 1930, 'planet': 1931, 'smashers': 1932, 'bill': 1933, 'berry': 1934, 'elrow': 1935, 'outlaw': 1936, 'gor': 1937, 'oklahoma': 1938, 'roy': 1939, 'orbison': 1940, 'youtube': 1941, 'norway': 1942, 'sunset': 1943, 'cobb': 1944, 'wendy': 1945, 'fifties': 1946, 'ancient': 1947, 'art': 1948, 'beneath': 1949, 'harvest': 1950, 'sky': 1951, 'restautant': 1952, 'bistro': 1953, 'final': 1954, 'score': 1955, 'emida': 1956, 'tries': 1957, 'marry': 1958, 'rila': 1959, 'nov': 1960, '25': 1961, 'electronics': 1962, 'upper': 1963, 'marlboro': 1964, 'uintah': 1965, 'babylon:': 1966, 'anthology': 1967, 'aisha': 1968, 'craving': 1969, 'cordon': 1970, 'bleu': 1971, 'shops': 1972, 'temps': 1973, 'memory': 1974, 'lane': 1975, 'lansford': 1976, 'cash': 1977, 'curry': 1978, 'long': 1979, 'wideacre': 1980, 'possiable': 1981, 'trout': 1982, 'bougatsa': 1983, 'weir': 1984, 'farm': 1985, 'historic': 1986, 'site': 1987, 'jessie': 1988, 'dale': 1989, 'wright': 1990, 'lupe': 1991, '20': 1992, '2040': 1993, 'vikku': 1994, 'vinayakram': 1995, 'nicky': 1996, 'really': 1997, 'baba': 1998, 'au': 1999, 'rhum': 2000, 'sudden': 2001, 'rainstorm': 2002, 'algeria': 2003, 'reklaw': 2004, '03:19:13': 2005, 'harlow': 2006, 'wilcox': 2007, 'bangers': 2008, 'cochrane': 2009, '1990': 2010, 'indonesian': 2011, 'after': 2012, 'hawaii': 2013, 'age': 2014, 'haunted': 2015, 'honeymoon': 2016, 'decoding': 2017, 'reality': 2018, '5/20/2028': 2019, 'pataskala': 2020, 'crepe': 2021, 'nc': 2022, 'pelland': 2023, 'birth': 2024, 'nation': 2025, 'author': 2026, 'knight': 2027, 'somewhere': 2028, '24th': 2029, 'indiana': 2030, 'giants': 2031, 'unbound': 2032, 'found': 2033, 'them': 2034, 'brownfield': 2035, 'wish': 2036, 'enjoy': 2037, 'johnny': 2038, 'paycheck': 2039, 'grass': 2040, 'widows': 2041, 'cova': 2042, 'frisco': 2043, 'therese': 2044, 'dolce': 2045, 'insurrection': 2046, 'random': 2047, 'bells': 2048, 'towers': 2049, 'korona': 2050, 'bondage': 2051, 'freedom': 2052, 'fill': 2053, 'yourself': 2054, 'ray': 2055, 'manzarek': 2056, 'red': 2057, 'monkey': 2058, 'nancy': 2059, 'ruiz': 2060, 'molly': 2061, 'gibraltar': 2062, 'liberia': 2063, 'sweet': 2064, 'teyana': 2065, 'limited': 2066, 'lovers': 2067, 'disturbance': 2068, 'yellow': 2069, 'star:': 2070, 'persecution': 2071, 'jews': 2072, 'europe': 2073, '1933-45': 2074, 'always': 2075, 'swan': 2076, 'minotaur': 2077, 'question': 2078, 'tokelau': 2079, 'spanish': 2080, 'rice': 2081, 'kamrar': 2082, 'midday': 2083, 'mascoutah': 2084, '09:04:38': 2085, 'nypd': 2086, 'york': 2087, 'police': 2088, 'department': 2089, 'kong': 2090, 'charlie': 2091, 'hunter': 2092, 'sea': 2093, 'twentynine': 2094, 'palms': 2095, 'spectral': 2096, 'dusk': 2097, 'merced': 2098, 'sun-star': 2099, 'lips': 2100, 'page': 2101, 'azerbaijan': 2102, 'rodriguez': 2103, 'mujeres': 2104, 'y': 2105, 'hombres': 2106, 'fiesta': 2107, 'late': 2108, 'walt': 2109, 'mickey': 2110, 'funtime': 2111, 'albino': 2112, 'blacksheep': 2113, 'denmark': 2114, 'single': 2115, 'collection:': 2116, 'hotchpotch': 2117, '165': 2118, 'nairobi': 2119, 'frankie': 2120, 'laine': 2121, 'swagger': 2122, 'panisses': 2123, 'naytahwaush': 2124, 'mopreme': 2125, 'shakur': 2126, '¡fiesta': 2127, 'without': 2128, 'witness': 2129, 'boots': 2130, 'emma': 2131, 'wood': 2132, 'cuba': 2133, 'smoking': 2134, 'room': 2135, 'ma': 2136, 'kickboxer': 2137, 'redemption': 2138, 'croatia': 2139, 'oliver': 2140, 'cheatham': 2141, 'anne': 2142, 'mon': 2143, 'nevado': 2144, 'tres': 2145, 'cruces': 2146, 'mar': 2147, '2020': 2148, 'shoo': 2149, 'iheart': 2150, 'origins': 2151, 'consciousness': 2152, '2120': 2153, 'avenue': 2154, 'jquery': 2155, 'mobile': 2156, 'playground': 2157, 'wind': 2158, 'nm': 2159, '11th': 2160, 'nitti': 2161, 'favorites': 2162, 'bronco': 2163, 'billy': 2164, 'coaldale': 2165, 'arkansas': 2166, 'brave': 2167, 'archer': 2168, 'rapids': 2169, 'roadhouse': 2170, '2039': 2171, 'playlis': 2172, 'released': 2173, '1968': 2174, 'centenary': 2175, 'evening': 2176, 'seasons': 2177, 'rosco': 2178, 'untold': 2179, 'moody': 2180, 'heaven': 2181, 'ami': 2182, 'koshimizu': 2183, 'ron': 2184, 'grainer': 2185, 'aap': 2186, 'aise': 2187, 'na': 2188, 'died': 2189, 'todo': 2190, 'yoshimi': 2191, 'battles': 2192, 'hip-hop': 2193, 'robots': 2194, 'visible': 2195, 'wings': 2196, 'entre': 2197, 'andes': 2198, 'kevin': 2199, 'johansen': 2200, 'lamb': 2201, 'lies': 2202, 'broadway': 2203, 'assignments': 2204, 'aree': 2205, 'poneto': 2206, 'creatures': 2207, 'light': 2208, 'sumner': 2209, 'vietnam': 2210, 'burleigh': 2211, 'cascading': 2212, 'waterfall': 2213, 'youngest': 2214, 'profession': 2215, 'speed': 2216, 'tiplersville': 2217, '12/28/2019': 2218, 'puerto': 2219, 'rico': 2220, 'lisa': 2221, 'tsipouro': 2222, 'connecticut': 2223, '2008': 2224, 'mashable': 2225, 'geneva': 2226, 'wilda': 2227, 'blacksville': 2228, 'force': 2229, 'newtown': 2230, 'anthony': 2231, 'peveril': 2232, 'peak': 2233, 'seventeen': 2234, 'elgin': 2235, 'schoolhouse': 2236, 'different': 2237, 'slanguages': 2238, 'labour': 2239, 'magic:': 2240, 'theory': 2241, 'practice': 2242, 'wars:': 2243, 'clone': 2244, 'wars': 2245, 'giorgio': 2246, 'moroder': 2247, 'cedar': 2248, 'wilderness': 2249, 'almyra': 2250, 'shake': 2251, 'beef': 2252, 'center': 2253, 'vortex': 2254, 'alaska': 2255, '40': 2256, 'ranch': 2257, 'twenty-second': 2258, '2023': 2259, 'thunder': 2260, 'iranian': 2261, 'fuzzy': 2262, 'systems': 2263, 'retro': 2264, 'foghat': 2265, 'georgina': 2266, 'spa': 2267, 'chapman': 2268, 'polish': 2269, 'assault': 2270, 'never': 2271, 'happened': 2272, 'seats': 2273, 'churrascaria': 2274, 'using': 2275, 'charlotte': 2276, 'hall': 2277, 'kitts': 2278, 'nevis': 2279, 'struggle': 2280, 'meg': 2281, 'seron': 2282, 'cherie': 2283, 'josephine': 2284, 'indonesia': 2285, 'casino': 2286, 'boogie': 2287, 'civil': 2288, 'kiley': 2289, 'dean': 2290, 'loving': 2291, 'couples': 2292, 'famous': 2293, 'harrowing': 2294, 'gwynedd': 2295, 'strength': 2296, 'alba': 2297, 'behind': 2298, 'closed': 2299, 'doors': 2300, 'youth': 2301, 'against': 2302, 'christ': 2303, 'pw': 2304, 'rouhollah': 2305, 'khaleghi': 2306, 'noise': 2307, '19:26': 2308, 'guests': 2309, 'lazy': 2310, 'ny': 2311, 'billion': 2312, 'dollar': 2313, 'ransom': 2314, 'rafet': 2315, 'roman': 2316, 'rising': 2317, 'mr': 2318, 'ponsonby': 2319, 'gradyville': 2320, 'brooklyn': 2321, 'beat': 2322, 'beamer': 2323, 'memorial': 2324, 'conservation': 2325, 'pimp': 2326, 'c': 2327, 'remix': 2328, 'fine': 2329, 'gilmour': 2330, 'hellboy:': 2331, 'troll': 2332, 'witch': 2333, 'others': 2334, 'shiralee': 2335, 'syreeta': 2336, 'ringgold': 2337, 'bluff': 2338, 'bottles': 2339, 'toxicology': 2340, 'environmental': 2341, 'health': 2342, 'forgetting': 2343, 'fear': 2344, 'hat': 2345, 'deenanath': 2346, 'mangeshkar': 2347, 'international': 2348, 'robotics': 2349, 'research': 2350, 'bonner': 2351, '2025': 2352, 'colleague': 2353, 'owings': 2354, 'masks': 2355, 'romania': 2356, 'montchanin': 2357, 'tbe': 2358, 'federico': 2359, 'albert': 2360, 'virgin': 2361, 'many': 2362, 'blini': 2363, 'worlds': 2364, 'nur': 2365, 'mit': 2366, 'dir': 2367, 'remember': 2368, 'hollow': 2369, 'brookdale': 2370, 'zimbabwe': 2371, 'medici': 2372, 'seal': 2373, 'ocean': 2374, 'rodna': 2375, 'herkimer': 2376, 'liver': 2377, 'onions': 2378, 'bessie': 2379, 'antonia': 2380, 'era': 2381, 'ties': 2382, 'bind': 2383, 'warning': 2384, 'purple': 2385, 'diary': 2386, 'stream': 2387, 'safety': 2388, 'timings': 2389, 'starship': 2390, 'tuscan': 2391, 'adela': 2392, 'hallam': 2393, '2005': 2394, 'ruslana': 2395, 'lyschytschko': 2396, 'greece': 2397, 'takilma': 2398, 'gaddar:': 2399, 'traitor': 2400, 'silence': 2401, 'lambs': 2402, 'cuban': 2403, 'horatio': 2404, 'surf': 2405, 'taco': 2406, 'uniontown': 2407, 'puttering': 2408, '11:47:52': 2409, 'africa': 2410, 'hero': 2411, 'francisco': 2412, 'brewing': 2413, 'located': 2414, 'stillest': 2415, 'treeful': 2416, 'starling': 2417, 'mer': 2418, 'palestine': 2419, 'gave': 2420, 'newburyport': 2421, 'caledonia': 2422, 'number': 2423, 'listings': 2424, 'deweese': 2425, 'boma': 2426, 'paul': 2427, 'cargnello': 2428, 'gillan': 2429, 'safe': 2430, 'sucks': 2431, 'top-five': 2432, '1992': 2433, 'penelopiad': 2434, 'hex': 2435, 'hector': 2436, 'old': 2437, 'school': 2438, 'inside': 2439, 'twinkie': 2440, 'clark': 2441, 'mamaroneck': 2442, 'pipe': 2443, 'turbulent': 2444, 'term': 2445, 'tyke': 2446, 'tiler': 2447, 'galsoft': 2448, 'linux': 2449, 'pavarotti': 2450, 'tatamy': 2451, 'chalice': 2452, 'sankha': 2453, 'chatterjee': 2454, 'southside': 2455, '1-1000': 2456, 'kenya': 2457, 'elitsa': 2458, 'todorova': 2459, 'elstak': 2460, '1988': 2461, 'kyle': 2462, 'riabko': 2463, 'quadrophenia': 2464, 'moya': 2465, 'brennan': 2466, 'cheryl': 2467, 'wheeler': 2468, 'dorrian': 2469, '18:28': 2470, 'order': 2471, 'noon': 2472, 'omoide': 2473, 'okkusenman': 2474, 'primate': 2475, 'tia': 2476, 'rap': 2477, 'elida': 2478, '15': 2479, 'storeys': 2480, 'somesville': 2481, 'boggs': 2482, 'demonstration': 2483, 'bridges': 2484, 'county': 2485, '90s': 2486, 'alpha': 2487, 'blondy': 2488, 'toast': 2489, 'duel:': 2490, 'pakistan': 2491, 'flight': 2492, 'yossif': 2493, 'kobzon': 2494, 'anti-semitism': 2495, '21st': 2496, 'century:': 2497, 'resurgence': 2498, 'mountainair': 2499, '1960': 2500, 'hermann': 2501, 'baumann': 2502, 'equatorial': 2503, 'jim': 2504, 'martin': 2505, 'lopeno': 2506, 'thailand': 2507, 'ticks': 2508, 'roaring': 2509, 'forecase': 2510, 'ohio': 2511, 'universe': 2512, 'maker': 2513, 'prefect': 2514, 'tortelloni': 2515, 'nh': 2516, 'body': 2517, 'pursuit': 2518, 'rhapsody': 2519, 'quicksand': 2520, 'valentine': 2521, 'access': 2522, 'contact': 2523, 'nu': 2524, 'oasis': 2525, 'drive-in': 2526, 'dive': 2527, 'bomber': 2528, 'margie': 2529, 'warhead': 2530, 'half': 2531, 'cut': 2532, 'season': 2533, 'tim': 2534, 'finn': 2535, 'rick': 2536, 'astley': 2537, '50': 2538, 'uncut': 2539, 'sasu': 2540, 'ripatti': 2541, 'edesville': 2542, 'mn': 2543, 'proudly': 2544, 'marches': 2545, 'pizza': 2546, 'animals': 2547, 'puro': 2548, 'asia': 2549, 'nitollano': 2550, 'lonergan': 2551, 'regal': 2552, 'calakmul': 2553, 'biosphere': 2554, 'selektor': 2555, 'buddy': 2556, 'desylva': 2557, 'balvin': 2558, 'locate': 2559, 'tristan': 2560, 'betrayal': 2561, 'volver': 2562, 'crown': 2563, 'candy': 2564, 'lacy': 2565, 'vi': 2566, 'reservea': 2567, 'gabon': 2568, 'circus': 2569, 'deana': 2570, 'carter': 2571, 'kingdom': 2572, 'possible': 2573, 'think': 2574, 'smoke': 2575, 'mirrors': 2576, 'erin': 2577, 'harkes': 2578, 'basement': 2579, 'screams': 2580, 'republican': 2581, 'brain': 2582, '1975': 2583, 'baxter': 2584, 'g': 2585, 'fade': 2586, 'away': 2587, 'chen': 2588, 'jiafeng': 2589, '2014': 2590, 'lpaying': 2591, 'wizard': 2592, 'ralls': 2593, 'maine': 2594, 'f': 2595, 'furniture': 2596, 'umatilla': 2597, 'lights': 2598, 'audio': 2599, 'gates': 2600, 'walsh': 2601, 'electronic': 2602, 'jesus': 2603, 'consolidated': 2604, 'dansevise': 2605, 'ebi': 2606, 'dark': 2607, 'willows:': 2608, 'sisterhood': 2609, 'grows': 2610, 'fighting': 2611, 'buffalo': 2612, 'chicamocha': 2613, 'cassie': 2614, 'ventura': 2615, 'genre': 2616, 'bender': 2617, 'simon': 2618, 'webbe': 2619, 'sensation': 2620, 'salil': 2621, 'chowdhury': 2622, '35': 2623, '1970': 2624, 'playlsit': 2625, 'brandon': 2626, 'paris': 2627, 'metalsucks': 2628, 'christian': 2629, 'gangsta': 2630, 'anna': 2631, 'yesipova': 2632, 'top-5': 2633, 'inconfundible': 2634, 'background': 2635, 'infinite': 2636, 'electric': 2637, 'tones': 2638, 'kurutta': 2639, 'taiyō': 2640, 'seward': 2641, 'community': 2642, 'shabbona': 2643, 'stress': 2644, 'free': 2645, 'leonville': 2646, 'forever': 2647, 'malcolm': 2648, 'sc': 2649, 'mellow': 2650, 'bars': 2651, 'wakefield': 2652, 'shoot': 2653, 'elephant': 2654, 'bienville': 2655, 'pioneer': 2656, 'measuring': 2657, 'mac': 2658, 'wiseman': 2659, 'caliente': 2660, 'fox': 2661, 'child': 2662, 'leann': 2663, 'rimes': 2664, 'taken': 2665, 'flood': 2666, 'lodi': 2667, 'granddaughter': 2668, 'elmore': 2669, 'heartbreak': 2670, 'pacific': 2671, 'nationaal': 2672, 'garphyttan': 2673, 'modesto': 2674, 'joanna': 2675, 'ella': 2676, 'general': 2677, 'macedonia': 2678, 'modern': 2679, 'subcontract': 2680, 'pokémon': 2681, 'movie:': 2682, 'black—victini': 2683, 'reshiram': 2684, 'white—victini': 2685, 'zekrom': 2686, 'supper': 2687, 'il': 2688, 'heat': 2689, 'bulat': 2690, 'schalwowitsch': 2691, 'okudschawa': 2692, 'cupcakes': 2693, 'section': 2694, 'itch': 2695, 'doomsday': 2696, 'comfort': 2697, 'koichi': 2698, 'sugiyama': 2699, 'whm': 2700, 'monson': 2701, 'u': 2702, 'minor': 2703, 'outlying': 2704, 'hole': 2705, '72nd': 2706, 'bonaventure': 2707, 'stick': 2708, 'fonseca': 2709, '1984': 2710, 'spider': 2711, 'moustapha': 2712, 'amar': 2713, 'bomberman': 2714, 'touch': 2715, 'linzi': 2716, 'stoppard': 2717, 'fresh': 2718, 'end': 2719, 'goldie': 2720, 'start': 2721, 'disney': 2722, 'rates': 2723, 'salute': 2724, '18th': 2725, '2029': 2726, 'kanopolis': 2727, 'countryman': 2728, 'deve': 2729, 'morire': 2730, 'thing': 2731, 'nassau': 2732, 'bay': 2733, 'uzbekistan': 2734, 'lidell': 2735, 'townsell': 2736, 'esenciales': 2737, 'eastern': 2738, 'european': 2739, 'sonora': 2740, 'qatar': 2741, 'fais': 2742, 'les': 2743, 'backs': 2744, 'sarah': 2745, 'geronimo': 2746, 'jewish': 2747, 'indiespain': 2748, 'ramble': 2749, 'halloween': 2750, 'teens': 2751, 'june': 2752, '27th': 2753, 'volume': 2754, 'ninth': 2755, '1951': 2756, 'bother': 2757, 'yma': 2758, 'sumac': 2759, 'animal': 2760, 'collective': 2761, 'sushi': 2762, 'brucetown': 2763, 'adobe': 2764, 'brackets': 2765, 'tires': 2766, 'bury': 2767, 'living': 2768, 'lavina': 2769, 'glory': 2770, 'perfect': 2771, 'beethoven': 2772, 'russian': 2773, 'beauty': 2774, 'charles': 2775, 'pinckney': 2776, 'dc': 2777, 'platinum': 2778, 'ghetto': 2779, 'operation:': 2780, 'gluten': 2781, 'arp': 2782, 'solid': 2783, 'mandya': 2784, 'swarna': 2785, 'trishna': 2786, 'playinh': 2787, 'top-50': 2788, 'jeff': 2789, 'irwin': 2790, 'coffee': 2791, 'computer': 2792, 'aspro': 2793, 'mavro': 2794, 'szymczyk': 2795, 'sushis': 2796, 'burning': 2797, 'castles': 2798, 'steel': 2799, 'rei': 2800, 'momo': 2801, 'egg': 2802, 'collecting': 2803, 'australia': 2804, 'master:': 2805, 'axis': 2806, 'evil': 2807, 'been': 2808, 'cancelled': 2809, 'sardis': 2810, 'alas': 2811, 'raíces': 2812, 'pybus': 2813, 'seat': 2814, 'cochran': 2815, 'turf': 2816, 'char': 2817, 'colombia': 2818, '12th': 2819, '2035': 2820, 'barbra': 2821, 'streisand': 2822, 'krypto': 2823, 'superdog': 2824, 'eggo': 2825, 'marcella': 2826, 'erma': 2827, 'leanne': 2828, 'rivera': 2829, 'cusinie': 2830, 'he': 2831, 'fears': 2832, 'wolf': 2833, 'wynton': 2834, 'kelly': 2835, 'raisins': 2836, 'secs': 2837, 'et': 2838, 'amandes': 2839, 'edition': 2840, 'naomi': 2841, 'schemer': 2842, 'eef': 2843, 'barzelay': 2844, 'trad': 2845, 'crack': 2846, 'olympia': 2847, '81': 2848, 'coin': 2849, 'craters': 2850, 'sac': 2851, 'takahito': 2852, 'eguchi': 2853, 'polygon': 2854, 'tea-time': 2855, 'latvia': 2856, 'impulso': 2857, 'creativo': 2858, 'echo': 2859, 'over': 2860, 'ghost': 2861, 'crisis:': 2862, 'fantasy': 2863, 'vii': 2864, 'pennsylvania': 2865, 'dissociatives': 2866, 'downtown': 2867, 'phil': 2868, 'stacey': 2869, 'rugrats': 2870, 'farewell': 2871, 'travels': 2872, 'lao': 2873, 'snow': 2874, 'believe': 2875, 'chico': 2876, 'buarque': 2877, '9am': 2878, 'dallas': 2879, 'smart': 2880, 'akhtar': 2881, 'sadmani': 2882, 'knife': 2883, 'dreams': 2884, 'flower': 2885, 'angry': 2886, 'waves': 2887, 'strayhorn': 2888, 'easy': 2889, 'stop': 2890, 'macao': 2891, 'twenty-third': 2892, 'zone': 2893, 'ii:': 2894, 'tears': 2895, 'opa-opa': 2896, 'cry': 2897, 'mis': 2898, 'niños': 2899, '30': 2900, 'behavior': 2901, 'angola': 2902, 'kipp': 2903, 'cheapest': 2904, 'online': 2905, 'instincts': 2906, 'boon': 2907, 'brick': 2908, 'store': 2909, 'grandkid': 2910, 'evans': 2911, 'provide': 2912, 'mars': 2913, 'passion': 2914, 'anchor': 2915, '55': 2916, 'brother': 2917, 'pugu': 2918, 'hills': 2919, 'cuckoo': 2920, 'clocks': 2921, 'namibia': 2922, 'moby': 2923, 'grape': 2924, 'enamorándose': 2925, 'portugal': 2926, 'thacker': 2927, 'donald': 2928, 'rubinstein': 2929, 'austria': 2930, 'eyes:': 2931, 'beginning': 2932, 'fernandina': 2933, 'claude': 2934, 'vonstroke': 2935, 'hamburger': 2936, 'wagon': 2937, 'reed': 2938, 'commons': 2939, 'pekin': 2940, 'hampshire': 2941, 'cohocton': 2942, 'feel': 2943, 'cove': 2944, 'entry': 2945, 'beau': 2946, 'sapin': 2947, 'lela': 2948, 'libre': 2949, 'hagerman': 2950, 'wuill': 2951, 'dickson': 2952, 'illinois': 2953, 'suriname': 2954, 'bilingualism': 2955, 'amusements': 2956, 'hit': 2957, 'funky': 2958, 'bluesy': 2959, 'uncommon': 2960, 'grounds': 2961, 'therapy': 2962, 'print': 2963, 't-rex': 2964, 'halsey': 2965, 'az': 2966, 'burrows': 2967, 'abacus': 2968, 'calm': 2969, 'vibes': 2970, 'galena': 2971, 'ticket': 2972, 'souvenirs': 2973, 'puthri': 2974, 'hank': 2975, 'shermann': 2976, 'hier': 2977, 'encore': 2978, 'greydon': 2979, 'square': 2980, 'watchman': 2981, 'vadivel': 2982, 'humid': 2983, 'helix': 2984, 'oldies': 2985, 'radhae': 2986, 'unakku': 2987, 'kobam': 2988, 'aagathadi': 2989, 'cuisine': 2990, 'shari': 2991, 'british': 2992, 'office': 2993, 'enter': 2994, 'agreable': 2995, 'teaching': 2996, 'cowboy': 2997, 'funny': 2998, 'football': 2999, 'frizzell': 3000, 'german': 3001, 'chocolate': 3002, 'cake': 3003, 'ecru': 3004, 'loyola': 3005, 'kin': 3006, 'acid': 3007, 'harris': 3008, 'cycle': 3009, 'needham': 3010, 'nick': 3011, 'hexum': 3012, 'singer': 3013, 'damon': 3014, 'african': 3015, 'playlists': 3016, 'lyncourt': 3017, 'royal': 3018, 'astronomy': 3019, 'moosic': 3020, 'van': 3021, 'dyke': 3022, '14': 3023, 'crofton': 3024, 'ukraine': 3025, 'hello': 3026, 'goodbye': 3027, 'century': 3028, 'myrtle': 3029, 'av': 3030, 'crisis': 3031, 'vezione': 3032, 'verro': 3033, 'livonia': 3034, 'dearest': 3035, 'colour': 3036, 'chameleon': 3037, 'zealand': 3038, '119': 3039, 'perchance': 3040, 'dream': 3041, 'channel': 3042, 'roxbox': 3043, 'yesterday': 3044, 'train': 3045, 'ride': 3046, 'app': 3047, 'top-twenty': 3048, '2015': 3049, 'so': 3050, 'self': 3051, 'tyranny': 3052, 'willy': 3053, 'mason': 3054, 'john': 3055, 'clayton': 3056, 'barker': 3057, '1978': 3058, 'ambient': 3059, 'collection': 3060, '3/22/2038': 3061, 'pierre': 3062, 'miquelon': 3063, 'wenham': 3064, 'pineridge': 3065, 'kyrgyzstan': 3066, '1958': 3067, 'wayne': 3068, 'petti': 3069, 'matrix': 3070, 'lighter': 3071, 'pamela': 3072, 'jintana': 3073, 'racine': 3074, 'sveta': 3075, 'ljubav': 3076, '2011': 3077, 'dan': 3078, 'healy': 3079, 'mayotte': 3080, '06:13': 3081, 'marino': 3082, 'town': 3083, 'uses': 3084, 'oregon': 3085, 'toys': 3086, 'ledoux': 3087, 'games': 3088, 'wizards': 3089, 'bloom:': 3090, 'mickdeth': 3091, 'walter': 3092, 'pilar': 3093, 'réunion': 3094, 'sirivantha': 3095, 'cleo': 3096, 'mysterious': 3097, 'castle': 3098, 'carpathians': 3099, 'lonely': 3100, 'hearts': 3101, 'lucerne': 3102, 'nugget': 3103, 'conception': 3104, 'mercy': 3105, 'pass': 3106, 'toi': 3107, 'perfection': 3108, '������': 3109, 'bernardsville': 3110, 'folly': 3111, 'mailman': 3112, 'twerkout': 3113, 'suffer': 3114, 'shockscape': 3115, 'javine': 3116, 'hylton': 3117, 'hridaynath': 3118, 'plya': 3119, 'kancherla': 3120, 'gopanna': 3121, 'angelo': 3122, 'amorevoli': 3123, 'carmen': 3124, 'mcrae': 3125, 'ed': 3126, 'robertson': 3127, 'steps': 3128, 'leche': 3129, 'con': 3130, 'bien': 3131, 'acompañado': 3132, '60s': 3133, 'ignacio': 3134, 'figueredo': 3135, 'electronow': 3136, 'czech': 3137, 'lewis': 3138, 'debtors': 3139, 'keltech': 3140, 'wallsburg': 3141, 'michele': 3142, 'diann': 3143, 'pam': 3144, 'reno': 3145, 'javanese': 3146, 'maltio': 3147, 'strict': 3148, 'covenant': 3149, 'tartinery': 3150, 'michael': 3151, 'batio': 3152, 'freddy': 3153, 'fender': 3154, 'boden': 3155, 'philosophic': 3156, 'thought': 3157, 'ayn': 3158, 'rand': 3159, 'sofia': 3160, 'phillips': 3161, 'winifred': 3162, 'dine': 3163, 'mughlai': 3164, '1st': 3165, 'ashes': 3166, 'sirusho': 3167, 'clásicos': 3168, 'korra': 3169, 'itv': 3170, 'w': 3171, 't': 3172, 'h': 3173, 'bum': 3174, 'note': 3175, 'bead': 3176, 'sweat': 3177, 'relief': 3178, '2036': 3179, 'ply': 3180, 'anatomy': 3181, 'typeface': 3182, 'beni': 3183, 'arashiro': 3184, 'opera': 3185, 'tortured': 3186, 'rogue': 3187, 'ship': 3188, 'caveman': 3189, 'made': 3190, 'masonville': 3191, 'vermont': 3192, 'timor': 3193, 'chandler': 3194, 'iris': 3195, 'dement': 3196, 'selena': 3197, 'seventh': 3198, 'crystal': 3199, 'lawns': 3200, 'guam': 3201, 'playlist:': 3202, 'brad': 3203, 'paisley': 3204, 'humidity': 3205, 'serbia': 3206, 'donkey': 3207, 'kuwait': 3208, 'finds': 3209, 'hiptronix': 3210, 'charenton': 3211, 'glenarden': 3212, 'darkworld': 3213, 'detective': 3214, 'accommodate': 3215, 'gretchen': 3216, 'trisha': 3217, 'dish': 3218, 'becoming': 3219, 'royston': 3220, 'kristine': 3221, 'alisha': 3222, 'florine': 3223, 'forecasted': 3224, 'ninaview': 3225, 'sex': 3226, 'isle': 3227, 'culture': 3228, 'psychology': 3229, 'nest': 3230, 'um': 3231, 'coco': 3232, 'e': 3233, 'adeus': 3234, 'williams': 3235, 'reserved': 3236, 'burgers': 3237, 'gasport': 3238, 'sheri': 3239, 'class': 3240, 'cincinnati': 3241, 'harrison': 3242, 'childs': 3243, 'restaurants': 3244, 'bruno': 3245, '6th': 3246, '2019': 3247, 'glazier': 3248, 'afterwork': 3249, 'id': 3250, 'lidia': 3251, 'latasha': 3252, 'bone': 3253, 'crusher': 3254, 'central': 3255, 'grocery': 3256, 'say': 3257, 'ain’t': 3258, 'teenager': 3259, 'lords': 3260, 'cup': 3261, 'winner': 3262, 'nothing': 3263, 'lasts': 3264, 'coats': 3265, 'knockabout': 3266, 'eva': 3267, 'shed': 3268, '4/3/2027': 3269, 'rochelle': 3270, 'meeting': 3271, 'sia': 3272, 'furler': 3273, 'terrible': 3274, 'vengeance': 3275, 'hurricane': 3276, 'hampartsoum': 3277, 'limondjian': 3278, 'hora': 3279, 'din': 3280, 'yamazaki': 3281, 'maso': 3282, 'friendesemana': 3283, 'berryessa': 3284, 'unraveling': 3285, 'marina': 3286, 'welcome': 3287, 'tokyo': 3288, 'abyss': 3289, 'wonders': 3290, 'donaldson': 3291, 'nurture': 3292, 'pastwatch:': 3293, 'christopher': 3294, 'columbus': 3295, 'sammy': 3296, 'fain': 3297, 'pat': 3298, 'margaret': 3299, 'indicate': 3300, 'aurora': 3301, 'milagros': 3302, 'pocono': 3303, 'tremont': 3304, 'nadine': 3305, 'sherrie': 3306, '3/21/2018': 3307, '02:55:25': 3308, 'crazy=genius': 3309, 'alchemist': 3310, 'tullytown': 3311, 'constructs': 3312, 'juliana': 3313, '2nd': 3314, 'caleigh': 3315, 'peters': 3316, 'skies': 3317, '9th': 3318, 'jams': 3319, 'série': 3320, 'filmes': 3321, 'hobbit': 3322, 'alex': 3323, 'otaola': 3324, 'robbie': 3325, 'dear': 3326, 'blighty': 3327, 'sabah': 3328, 'shinya': 3329, 'yamada': 3330, '1962': 3331, 'lesotho': 3332, 'kirtley': 3333, 'covered': 3334, 'toad': 3335, 'gisela': 3336, 'monty’s': 3337, 'secunderabad': 3338, 'doe': 3339, 'scales': 3340, 'justice': 3341, 'milton-freewater': 3342, 'gamble': 3343, 'rogers': 3344, 'vichyssoise': 3345, 'already': 3346, 'pt': 3347, 'critic': 3348, 'sons': 3349, 'fires': 3350, 'azeroth': 3351, 'villa': 3352, 'inferno': 3353, 'between': 3354, 'del': 3355, 'españa': 3356, 'melcher-dallas': 3357, 'lu': 3358, 'bing': 3359, 'fusion': 3360, 'fest': 3361, 'vipers': 3362, 'dombey': 3363, 'submarine': 3364, 'caper': 3365, 'fairview': 3366, '9/3/2034': 3367, 'bridle': 3368, 'trails': 3369, 'glorious': 3370, 'die': 3371, 'åland': 3372, 'scoundrels': 3373, 'vue': 3374, 'tooh': 3375, 'eric': 3376, 'bazilian': 3377, 'netherlands': 3378, 'antilles': 3379, 'flats': 3380, 'april': 3381, 'railway': 3382, 'children': 3383, 'riddlesburg': 3384, 'bajo': 3385, 'las': 3386, 'estrellas': 3387, 'eighteen': 3388, 'sichuan': 3389, 'spyforce': 3390, 'cheat': 3391, 'fair:': 3392, 'maxwell': 3393, '2002': 3394, 'impractical': 3395, 'jokers': 3396, 'uk': 3397, 'casey': 3398, 'chavez': 3399, 'lucinda': 3400, 'aion': 3401, 'chaparral': 3402, 'stano': 3403, 'framed': 3404, 'ntc': 3405, 'studio': 3406, 'elbridge': 3407, 'bryant': 3408, 'inyección': 3409, 'musical': 3410, 'cooler': 3411, 'climate': 3412, 'solomon': 3413, 'then': 3414, 'came': 3415, 'congress': 3416, 'rambow': 3417, 'grisham': 3418, 'xsuie': 3419, 'olivet': 3420, 'anymore': 3421, 'suns': 3422, 'berghoff': 3423, 'sistersville': 3424, 'half-life': 3425, 'sierra': 3426, 'blanca': 3427, 'helen': 3428, 'ward': 3429, 'matrimony': 3430, 'accion': 3431, 'newspaper': 3432, 'trabajo': 3433, 'sep': 3434, '14th': 3435, 'pablo': 3436, 'gazer': 3437, 'r': 3438, 'rotem': 3439, 'singers': 3440, 'hardcastle': 3441, 'clear': 3442, 'whole': 3443, 'discipline': 3444, 'pulsions': 3445, 'guy-manuel': 3446, 'homem-christo': 3447, 'cynthia': 3448, 'crooked': 3449, 'windsor': 3450, 'angela': 3451, 'mercedes': 3452, 'cimarron': 3453, 'ballylickey': 3454, '7/16/2027': 3455, 'luck': 3456, '1967': 3457, 'entitled': 3458, 'i’ll': 3459, 'care': 3460, 'belinda': 3461, 'dena': 3462, 'close-by': 3463, 'syria': 3464, 'cleveland': 3465, 'round': 3466, 'gena': 3467, 'od': 3468, 'mene': 3469, 'se': 3470, 'odvikavaj': 3471, 'rakuen': 3472, 'tsuihou:': 3473, 'expelled': 3474, 'tubby': 3475, 'antero': 3476, 'manninen': 3477, 'dancefloor': 3478, 'expressive': 3479, 'processing': 3480, 'send': 3481, 'ann': 3482, 'lists': 3483, 'sir': 3484, 'winston': 3485, 'ono': 3486, 'lennon': 3487, 'her': 3488, 'mallett': 3489, 'tajikistan': 3490, 'wise': 3491, 'cafagna': 3492, 'tesoro': 3493, 'reggae': 3494, 'en': 3495, 'español': 3496, 'fujimoto': 3497, 'yae': 3498, 'suites': 3499, 'sweets': 3500, 'mf': 3501, 'doom': 3502, 'lea': 3503, 'generation': 3504, 'edm': 3505, 'thousand': 3506, 'dressing': 3507, 'ivory': 3508, 'coast': 3509, 'cambodia': 3510, '05:44:13': 3511, 'chapter': 3512, 'odessa': 3513, 'sure': 3514, 'ga': 3515, 'urmston': 3516, 'shinoda': 3517, 'seaman': 3518, 'opening': 3519, 'dicey': 3520, 'business': 3521, 'meze': 3522, 'situation': 3523, 'wide-eyed': 3524, 'ignorant': 3525, 'hanging': 3526, 'relaxing': 3527, 'madge': 3528, 'tami': 3529, 'sterling': 3530, 'divan': 3531, 'breasts': 3532, 'hips': 3533, 'driven': 3534, 'viral': 3535, 'semanal': 3536, 'fell': 3537, 'fallen': 3538, 'meast': 3539, 'sacred': 3540, 'caretaker': 3541, 'economics': 3542, 'sociology': 3543, 'carencro': 3544, 'closet': 3545, 'frank': 3546, 'portman': 3547, 'airto': 3548, 'moreira': 3549, 'rogues': 3550, 'interview:': 3551, 'documentary': 3552, 'lego': 3553, 'alte': 3554, 'kameraden': 3555, 'darkest': 3556, 'jennifer': 3557, 'lopez': 3558, '1957': 3559, 'screened': 3560, 'caribbean': 3561, 'racionais': 3562, 'mc': 3563, '10th': 3564, '2028': 3565, 'mating': 3566, 'lepond': 3567, 'bliss': 3568, 'harvey': 3569, 'resturant': 3570, 'mariem': 3571, 'hassan': 3572, 'leyoad': 3573, 'unreachable': 3574, 'wine': 3575, 'poems': 3576, 'tanque': 3577, 'awful': 3578, 'irish': 3579, 'bake': 3580, 'grandparents': 3581, 'helens': 3582, 'torch': 3583, 'build': 3584, 'engine': 3585, '1996': 3586, '1981': 3587, 'boaz': 3588, 'mauda': 3589, 'laarni': 3590, 'lozada': 3591, 'phera': 3592, 'vodka': 3593, 'kunal': 3594, 'ganjawala': 3595, 'le': 3596, 'profil': 3597, 'amina': 3598, 'carmella': 3599, '12:53': 3600, 'parc': 3601, 'kettle': 3602, 'thirteenth': 3603, '7even': 3604, '24': 3605, 'floor': 3606, 'rumba': 3607, 'más': 3608, 'renee': 3609, 'sanders': 3610, 'marlene': 3611, 'jewel': 3612, '13': 3613, 'july': 3614, 'dachigam-nationalpark': 3615, 'lono': 3616, 'natsu': 3617, 'mini': 3618, 'berryz': 3619, '02:22': 3620, 'abdel': 3621, 'halim': 3622, 'hafez': 3623, 'adelaide': 3624, 'restaurantin': 3625, 'perrytown': 3626, 'candice': 3627, 'jeannie': 3628, 'nichole': 3629, 'elba': 3630, 'corina': 3631, 'tron:': 3632, 'legacy': 3633, 'reconfigured': 3634, 'balkan': 3635, 'rhapsodies:': 3636, '78': 3637, 'measures': 3638, 'malco': 3639, 'intimate': 3640, 'bunny': 3641, 'ennis': 3642, 'screwed': 3643, 'quantum': 3644, 'thief': 3645, 'annunzio': 3646, 'paolo': 3647, 'mantovani': 3648, 'sentenced': 3649, 'prism': 3650, 'powers': 3651, 'izquierdo': 3652, 'status': 3653, 'quo': 3654, 'robb': 3655, 'scorpion': 3656, 'write': 3657, 'cavour': 3658, 'sri': 3659, 'lanka': 3660, 'dumplings': 3661, 'lift': 3662, 'dynasties': 3663, 'rhythmic': 3664, 'clubbing:': 3665, 'field': 3666, 'romantic': 3667, 'mexican': 3668, 'woodcliff': 3669, 'chorus': 3670, 'line': 3671, 'bunce': 3672, 'curacao': 3673, 'nerding': 3674, 'annet': 3675, 'artani': 3676, 'operation': 3677, 'thunderbolt': 3678, 'create': 3679, 'station': 3680, 'creeggan': 3681, 'records': 3682, 'collabs': 3683, 'winwood': 3684, '2037': 3685, 'hesston': 3686, 'enid': 3687, 'romántica': 3688, 'hamish': 3689, 'maccunn': 3690, 'enemies': 3691, 'marche': 3692, 'hostel': 3693, '2006': 3694, 'primavera': 3695, 'barcelona': 3696, 'darling': 3697, 'each': 3698, 'tailspin': 3699, 'air': 3700, '1998': 3701, 'frontalot': 3702, 'alan': 3703, 'sawtooth': 3704, 'recreation': 3705, 'druid': 3706, 'connee': 3707, 'boswell': 3708, 'ozma': 3709, 'ahmed': 3710, 'abdul': 3711, 'malik': 3712, 'wallis': 3713, 'futuna': 3714, 'lion': 3715, 'odd': 3716, 'nosdam': 3717, 'breckenridge': 3718, 'furnace': 3719, 'moon': 3720, 'baker': 3721, 'hiphop': 3722, 'defenestration': 3723, 'ermintrude': 3724, 'inch': 3725, 'cameo': 3726, 'souls': 3727, 'sparrow': 3728, 'maunabo': 3729, 'wayning': 3730, 'rabbit': 3731, 'brown': 3732, 'marilyn': 3733, 'carnik': 3734, 'stage': 3735, 'martinique': 3736, 'face': 3737, 'truth': 3738, 'portage': 3739, 'chin': 3740, '17:32:30': 3741, 'choice': 3742, 'shawn': 3743, 'soulful': 3744, 'tropical': 3745, 'sign': 3746, 'sparro': 3747, 'traffic': 3748, 'policeman': 3749, 'stadium': 3750, 'swordsman': 3751, 'singing': 3752, 'nun': 3753, 'spy': 3754, 'workplace': 3755, 'everywhere': 3756, 'hocus': 3757, 'bogus': 3758, 'swamp': 3759, 'water': 3760, 'suit': 3761, 'ler': 3762, 'lalonde': 3763, 'raleigh': 3764, 'kentucky': 3765, 'texas': 3766, 'secret': 3767, 'digging': 3768, '300:': 3769, 'sontha': 3770, 'ooru': 3771, 'aaron': 3772, 'lilacs': 3773, 'larry': 3774, 'gatlin': 3775, 'dirt': 3776, 'farmer': 3777, 'williams:': 3778, 'rocko': 3779, '10/24/2028': 3780, 'lauren': 3781, 'fondo': 3782, 'buio': 3783, 'sonntag': 3784, 'assassin': 3785, 'creed': 3786, 'socrates': 3787, 'allenton': 3788, 'croix': 3789, 'glittering': 3790, 'plain': 3791, 'chae': 3792, 'yeon': 3793, 'shaggy': 3794, 'brunswick': 3795, 'township': 3796, 'teo': 3797, 'macero': 3798, 'jun': 3799, '2032': 3800, 'dillard': 3801, 'putnam': 3802, 'wontons': 3803, 'leopold': 3804, 'sivamani': 3805, 'alain': 3806, 'caron': 3807, 'alla': 3808, 'pougatcheva': 3809, 'osmanthus': 3810, 'aflame': 3811, 'ribbon': 3812, 'krystal': 3813, 'cavalero': 3814, 'montenegro': 3815, 'statue': 3816, 'granite': 3817, 'killarney': 3818, 'pow/mia': 3819, 'recognition': 3820, 'writing': 3821, 'hearth': 3822, 'gravity': 3823, 'past': 3824, 'falco': 3825, 'clifton': 3826, 'ramy': 3827, 'ayach': 3828, 'league': 3829, 'tribute': 3830, 'cox': 3831, 'bennie': 3832, 'moten': 3833, 'maia': 3834, 'hirasawa': 3835, 'i’m': 3836, 'cyborg': 3837, 'but': 3838, 'that’s': 3839, 'gay': 3840, 'ramos': 3841, 'janice': 3842, 'gonzales': 3843, 'timbo': 3844, 'shenandoah': 3845, 'kuo': 3846, 'agent': 3847, 'hamilton:': 3848, 'concerns': 3849, 'hide': 3850, 'buffy': 3851, 'matters': 3852, 'straight': 3853, 'shooter': 3854, 'claudine': 3855, 'longet': 3856, 'palylist': 3857, 'martine': 3858, 'mccutcheon': 3859, 'original': 3860, 'jazzmasters': 3861, 'preferably': 3862, 'ritchey': 3863, 'reyna': 3864, 'maxine': 3865, 'monday': 3866, 'fonsi': 3867, 'tenth': 3868, 'nosh': 3869, 'healthy': 3870, 'sankertown': 3871, 'infusions': 3872, 'cream-trilogie': 3873, 'cenizo': 3874, 'minority': 3875, 'report': 3876, '23rd': 3877, 'norfolk': 3878, 'robinson': 3879, 'shoe': 3880, 'bonaire': 3881, 'orienta': 3882, 'phinizy': 3883, 'expect': 3884, 'bow': 3885, 'tie': 3886, 'barry': 3887, 'manilow': 3888, 'prince': 3889, 'howards': 3890, 'kool': 3891, 'keith': 3892, 'fillmore': 3893, '01:27': 3894, 'ludden': 3895, 'sonata': 3896, 'cruel': 3897, 'brunei': 3898, 'professional': 3899, 'roberto': 3900, 'carlos': 3901, 'braga': 3902, 'darude': 3903, '11:56': 3904, 'campus': 3905, 'shooby': 3906, 'tearing': 3907, 'charts': 3908, 'insult': 3909, 'injury': 3910, 'narayana': 3911, 'tirtha': 3912, '8th': 3913, 'australian': 3914, 'eclectic': 3915, 'batman:': 3916, 'return': 3917, 'woodmere': 3918, 'scrapple': 3919, 'harriett': 3920, 'deanne': 3921, 'reggaeton': 3922, 'baila': 3923, 'municipal': 3924, 'mitcham': 3925, 'silly': 3926, 'metalblood': 3927, 'chase': 3928, 'cause': 3929, 'effect': 3930, 'programming': 3931, 'keep': 3932, 'heads': 3933, 'ringin’': 3934, 'geoff': 3935, 'ryman': 3936, 'bibliography': 3937, 'monster': 3938, 'peace': 3939, 'cham': 3940, 'happiest': 3941, 'lives': 3942, 'emmanuel': 3943, 'flint': 3944, 'tony': 3945, 'rombola': 3946, 'ulterior': 3947, 'motive': 3948, 'oleg': 3949, 'anofriyev': 3950, 'feast': 3951, 'faint': 3952, 'bautista': 3953, 'woodport': 3954, 'mt': 3955, 'electrosafari': 3956, 'joseph': 3957, 'andrews': 3958, 'nona': 3959, 'gray': 3960, 'alison': 3961, 'ouzeri': 3962, 'strasburg': 3963, '10:41:51': 3964, 'every': 3965, 'heartache': 3966, 'abbott': 3967, 'sonu': 3968, 'niigaam': 3969, 'encyclopaedia': 3970, 'social': 3971, 'sciences': 3972, 'kentaro': 3973, 'karol:': 3974, 'pope': 3975, 'grace': 3976, 'phase': 3977, 'jara': 3978, 'bradbury': 3979, 'jona': 3980, 'bechtolt': 3981, 'elliotts': 3982, 'boo': 3983, 'winnie': 3984, 'pooh': 3985, 'accident': 3986, 'analysis': 3987, 'prevention': 3988, 'entity': 3989, 'por': 3990, 'una': 3991, 'cabeza': 3992, 'alone': 3993, 'decides': 3994, 'palying': 3995, 'nijinsky': 3996, 'plague': 3997, 'ruel': 3998, 'manufacturing': 3999, 'consent': 4000, 'apache': 4001, 'also': 4002, 'hardcore': 4003, 'olga': 4004, 'souza': 4005, 'femme': 4006, 'fatale': 4007, 'twitches': 4008, 'dickey': 4009, 'betts': 4010, 'thursday': 4011, 'miami': 4012, 'rodney': 4013, 'whitaker': 4014, 'riley': 4015, 'kaltag': 4016, 'pesotum': 4017, 'steele': 4018, 'vladimir': 4019, 'vysotski': 4020, 'faces': 4021, 'rio': 4022, 'grande': 4023, 'scenic': 4024, 'cairngorms-nationalpark': 4025, 'bonobo': 4026, 'innocence': 4027, 'contemporary': 4028, 'religious': 4029, 'satanism': 4030, 'careful': 4031, 'hate': 4032, 'masquerade': 4033, 'mel': 4034, 'draisey': 4035, 'belgian': 4036, 'macclenny': 4037, 'smelt': 4038, 'fried': 4039, 'mccoll': 4040, 'missing': 4041, 'japanese': 4042, 'lovesong': 4043, 'electronica': 4044, 'tourist': 4045, 'israel': 4046, 'golden': 4047, 'sandie': 4048, 'shaw': 4049, 'according': 4050, 'vertexguy': 4051, 'taskcracker': 4052, 'outlook': 4053, 'vaughn': 4054, 'salt': 4055, 'period': 4056, 'orson': 4057, 'malaysian': 4058, 'nattbuss': 4059, '807': 4060, 'hawaiian': 4061, 'nd': 4062, 'mascotte': 4063, 'jane': 4064, 'olivor': 4065, 'machine': 4066, 'waterscapes': 4067, 'aprite': 4068, 'finestre': 4069, 'marta': 4070, 'pesterminator:': 4071, 'western': 4072, 'exterminator': 4073, 'bellwood': 4074, 'spasmolytic': 4075, 'burkina': 4076, 'shavuot': 4077, 'moneta': 4078, 'invitation': 4079, 'waltz': 4080, 'mezzes': 4081, 'science': 4082, 'fiction': 4083, 'deer': 4084, 'padangnese': 4085, 'memoirs': 4086, 'fox-hunting': 4087, 'megaplex': 4088, 'penthouse': 4089, 'groundhog': 4090, 'slovenia': 4091, 'tschaikovsky': 4092, 'pioneers': 4093, 'landing': 4094, 'low': 4095, 'tide': 4096, 'seven-ups': 4097, 'horror': 4098, 'icac': 4099, 'investigators': 4100, 'guitar': 4101, 'gothic': 4102, 'exploring': 4103, 'reef': 4104, 'rob': 4105, 'campanella': 4106, 'unpleasantness': 4107, 'bellona': 4108, 'sold': 4109, 'dick': 4110, 'tracy': 4111, 'gas': 4112, 'misterioso': 4113, 'sandwich': 4114, 'ethridge': 4115, 'fiji': 4116, 'jimmy': 4117, 'two-shoes': 4118, 'reaches': 4119, 'best-of:': 4120, 'design': 4121, 'decade': 4122, '2003–2013': 4123, 'paula': 4124, 'campbell': 4125, 'a-z': 4126, 'guide': 4127, 'arranged': 4128, 'marriage': 4129, 'jocque': 4130, 'scriptures': 4131, 'eternity': 4132, 'preminchi': 4133, 'choodu': 4134, 'pinson': 4135, 'festival': 4136, 'eden': 4137, 'carne': 4138, 'pizzaiola': 4139, 'tamra': 4140, 'davis': 4141, 'dorothea': 4142, 'califon': 4143, 'tunisia': 4144, 'allan': 4145, 'michigantown': 4146, 'ks': 4147, 'corey': 4148, 'met': 4149, 'alejandro': 4150, 'fernández': 4151, 'noroi': 4152, 'curse': 4153, 'ajinoam': 4154, 'nini': 4155, 'frescura': 4156, 'nooks': 4157, 'throats': 4158, 'beckon': 4159, 'thaw': 4160, 'idaho': 4161, 'guanica': 4162, 'diamondville': 4163, 'niagara': 4164, 'murray': 4165, 'laughs': 4166, 'kaffir': 4167, '17th': 4168, 'sometimes': 4169, 'passing': 4170, 'dungeons': 4171, 'dragons:': 4172, 'mystara': 4173, 'jersey': 4174, 'ragged': 4175, 'curtain': 4176, 'decades': 4177, 'surprise': 4178, 'ladies': 4179, 'diplomat': 4180, 'secrets': 4181, 'alibi': 4182, 'molise': 4183, 'sohl': 4184, 'upbuilding': 4185, 'discourses': 4186, '1844': 4187, 'beaver': 4188, 'finding': 4189, 'chandra': 4190, 'testing': 4191, 'pocahontas': 4192, 'farnham': 4193, 'singles': 4194, 'oxford': 4195, 'known': 4196, 'bb': 4197, 'boyertown': 4198, 'timeless': 4199, 'bahamas': 4200, 'belle': 4201, 'yukon': 4202, 'pray': 4203, 'escondida': 4204, 'lampi': 4205, 'marine': 4206, 'conway': 4207, 'twitty': 4208, 'tchaikovsky': 4209, 'hou': 4210, 'jou': 4211, 'elena': 4212, 'temnikova': 4213, 'mozart': 4214, 'nana': 4215, 'mizuki': 4216, 'fighter': 4217, '-blue': 4218, 'side-': 4219, 'moved': 4220, 'cheese': 4221, 'freed': 4222, 'totowa': 4223, 'zambia': 4224, 'village': 4225, 'amityville': 4226, 'rats': 4227, 'hamelin': 4228, 'flex': 4229, 'tamagotchi': 4230, '64:': 4231, 'minna': 4232, 'in-birth': 4233, 'roseville': 4234, 'fl': 4235, 'meredith': 4236, 'louisa': 4237, 'corrine': 4238, 'skin': 4239, 'jess': 4240, 'stacy': 4241, 'maharashtrian': 4242, 'education:': 4243, 'experience': 4244, 'tarass': 4245, 'boulba': 4246, '1966': 4247, 'ren': 4248, 'valy': 4249, '1972': 4250, 'temple': 4251, 'gayle': 4252, 'apart': 4253, 'sanilac': 4254, 'petroglyphs': 4255, 'bahar': 4256, 'kizil': 4257, 'durbin': 4258, 'juju': 4259, 'mob': 4260, 'eucalyptus': 4261, '8/26/2022': 4262, 'oswego': 4263, 'fresh:': 4264, 'terror': 4265, 'airi': 4266, 'suzuki': 4267, 'blast': 4268, 'novelties': 4269, '1986': 4270, 'potato': 4271, 'salad': 4272, 'alabama': 4273, 'anti': 4274, 'grim': 4275, 'skunk': 4276, 'incomplete': 4277, 'trust': 4278, 'worship': 4279, 'moen': 4280, 're:': 4281, 'hamatora': 4282, 'episodes': 4283, 'shit': 4284, 'connie': 4285, 'earline': 4286, 'bacon': 4287, 'beauregard': 4288, 'edit': 4289, 'aux': 4290, 'cord': 4291, 'privileges': 4292, 'putting': 4293, 'cobain': 4294, 'harkins': 4295, 'eather': 4296, 'vegan': 4297, 'kailash': 4298, 'kher': 4299, 'croatan': 4300, 'afghanistan': 4301, 'carterville': 4302, 'diamond': 4303, 'executive': 4304, 'werner': 4305, 'ape-man': 4306, 'adding': 4307, 'smokefree': 4308, 'rockquest': 4309, 'goiano': 4310, 'springs': 4311, 'trinidad': 4312, 'tobago': 4313, 'pump': 4314, 'chicago': 4315, 'k': 4316, 'yesudas': 4317, 'windhorst': 4318, 'logic': 4319, 'sense': 4320, 'hand': 4321, 'head': 4322, 'berkley': 4323, 'apple': 4324, 'butter': 4325, 'bear': 4326, 'finsbury': 4327, 'woodchuck': 4328, 'chuck': 4329, 'craig': 4330, 'terrorists:': 4331, 'convicted': 4332, 'ghader': 4333, 'abdollahzadeh': 4334, 'waiting': 4335, 'havana': 4336, 'lorain': 4337, 'atticus': 4338, 'ross': 4339, 'miriam': 4340, 'hammer': 4341, 'lunch': 4342, 'press': 4343, 'atlantic': 4344, 'geriatric': 4345, 'psychiatry': 4346, 'neurology': 4347, 'boston': 4348, 'llegando': 4349, 'casa': 4350, 'temperature': 4351, 'sahara': 4352, 'nigeria': 4353, 'ut': 4354, 'jovanotti': 4355, 'rolls': 4356, '1979': 4357, 'ecology:': 4358, 'individuals': 4359, 'ecosystems': 4360, 'eighteenth': 4361, 'z': 4362, 'cars': 4363, 'mellor': 4364, 'entertaining': 4365, 'isaac': 4366, 'hayes': 4367, 'beer': 4368, 'rocks': 4369, '03:43': 4370, 'tianjin': 4371, 'news': 4372, 'yo': 4373, 'ho': 4374, 'pops': 4375, 'deloris': 4376, 'ester': 4377, 'petra': 4378, 'alvarez': 4379, 'brenda': 4380, 'kahn': 4381, 'rushall': 4382, 'gettysburg': 4383, 'duett': 4384, 'waffles': 4385, 'connor': 4386, 'satisfied': 4387, 'rockin': 4388, 'oldfield': 4389, 'para': 4390, 'tus': 4391, 'fiestas': 4392, 'sugarolly': 4393, 'tarte': 4394, 'tanisha': 4395, 'lorena': 4396, 'rupam': 4397, 'islam': 4398, '100%': 4399, 'te': 4400, 'ljubam': 4401, 'platnum': 4402, 'weathr': 4403, 'akin': 4404, 'jamaica': 4405, 'loup': 4406, 'tyrant': 4407, 'fleischmanns': 4408, '43': 4409, 'mogis': 4410, 'crate': 4411, 'diggers': 4412, 'anonymous': 4413, 'labor': 4414, 'notes': 4415, 'hound': 4416, 'dog': 4417, 'freak': 4418, 'incense': 4419, 'tarkan': 4420, 'madrugando': 4421, 'annunciation': 4422, 'draper': 4423, 'composer': 4424, 'weekly': 4425, 'pauline': 4426, 'oliveros': 4427, 'stomp': 4428, 'holler': 4429, 'memories': 4430, 'ford': 4431, 'administration': 4432, 'wenn': 4433, 'lucy': 4434, 'springt': 4435, 'vic': 4436, 'ruggiero': 4437, '2007': 4438, 'gaudi': 4439, 'forty': 4440, 'pelican': 4441, 'blandings': 4442, 'extremely': 4443, 'download': 4444, 'hood': 4445, 'diego': 4446, 'canal': 4447, 'fulton': 4448, 'white:': 4449, 'box': 4450, 'elder': 4451, 'catholic': 4452, 'education': 4453, 'boiling': 4454, 'purples': 4455, 'johnston': 4456, 'velvet': 4457, 'run': 4458, 'challenge': 4459, 'mg': 4460, 'visionary': 4461, 'hype': 4462, 'melodious': 4463, 'adrian': 4464, 'steak': 4465, 'alexia': 4466, 'gve': 4467, 'stinky': 4468, 'fairly': 4469, 'stupid': 4470, 'glarus': 4471, 'avantgarde': 4472, 'keren': 4473, 'peles': 4474, 'merle': 4475, 'haggard': 4476, 'presents': 4477, '30th': 4478, 'niko': 4479, 'getaway:': 4480, 'garfunkel': 4481, 'doing': 4482, 'epworth': 4483, 'yankee': 4484, 'doodle': 4485, 'shop': 4486, 'tmpgenc': 4487, 'darker': 4488, 'godslayer': 4489, '11:36:48': 4490, 'wolfenberger': 4491, 'amrithavaahini': 4492, 'top-fifty': 4493, 'ski': 4494, 'sauna': 4495, 'pride': 4496, 'prairie': 4497, 'burke': 4498, 'telemark': 4499, 'frontiers': 4500, 'ecology': 4501, 'environment': 4502, 'armstrong': 4503, 'adrenaline': 4504, 'whistler': 4505, '03:01:48': 4506, '2010s': 4507, 'swaziland': 4508, 'surfer': 4509, 'transformers:': 4510, 'patty': 4511, 'talks': 4512, 'kreator': 4513, 'nação': 4514, 'timerider:': 4515, 'lyle': 4516, 'swann': 4517, 'humour': 4518, 'arizona': 4519, 'italian-american': 4520, 'anarchy': 4521, 'tyresta': 4522, '7/18/2030': 4523, 'pane': 4524, 'wheatley': 4525, 'jil': 4526, 'yakima': 4527, 'observations': 4528, 'putrefactive': 4529, 'infestation': 4530, '10/2/2021': 4531, 'haines': 4532, 'origa': 4533, 'wow': 4534, 'kid': 4535, 'gang': 4536, 'bandits': 4537, 'beard': 4538, 'johan': 4539, 'larsson': 4540, 'travelers': 4541, 'thieves': 4542, 'gene': 4543, 'beroun': 4544, '26': 4545, 'baseball': 4546, 'rainforest': 4547, 'dew': 4548, 'were': 4549, 'had': 4550, 'hair…': 4551, 'they’re': 4552, 'content': 4553, 'wear': 4554, 'brows': 4555, 'shine': 4556, 'hawk': 4557, 'hayden': 4558, 'row': 4559, 'princes': 4560, 'treasure': 4561, 'common': 4562, 'cabin': 4563, 'dres': 4564, 'nefertiti': 4565, 'nile': 4566, 'belles': 4567, 'clements': 4568, 'genola': 4569, 'disorderly': 4570, 'conduct:': 4571, 'patrol': 4572, 'booking': 4573, 'metropolitan': 4574, 'museum': 4575, 'wylliesburg': 4576, 'acapella': 4577, 'concentration': 4578, 'entire': 4579, 'regulate…g': 4580, 'iouri': 4581, 'bachmet': 4582, 'blackberry': 4583, 'akers': 4584, 'faccetta': 4585, 'nera': 4586, 'handel': 4587, '00:17': 4588, '1983': 4589, 'ayaka': 4590, '308': 4591, 'pizzas': 4592, 'brookwood': 4593, 'fifteenth': 4594, 'bailey': 4595, '05:00:34': 4596, 'areas': 4597, 'estelle': 4598, 'maggie': 4599, 'mcgill': 4600, 'intrepid': 4601, 'pittsburgh': 4602, 'slim': 4603, 'gilluly': 4604, 'lobster': 4605, 'newberg': 4606, 'teddy': 4607, 'ruxpin': 4608, 'she:': 4609, 'reverence': 4610, 'aventuras': 4611, 'zachary': 4612, 'betty': 4613, 'erika': 4614, 'fran': 4615, 'building': 4616, 'gwenno': 4617, 'pipette': 4618, 'sexy': 4619, 'paducah': 4620, 'tesh': 4621, 'brokaw': 4622, 'couch': 4623, 'haystack': 4624, 'empanada': 4625, 'ii': 4626, 'schooltool': 4627, '61': 4628, 'fowler': 4629, 'khao': 4630, 'phanom': 4631, 'bencha': 4632, 'wastedagain': 4633, 'fathers': 4634, 'crows': 4635, 'perfecting': 4636, 'loneliness': 4637, 'bach': 4638, 'mcphee': 4639, 'picnic': 4640, 'cambodian': 4641, 'unite': 4642, 'win': 4643, 'lunchbox': 4644, 'heard': 4645, 'jarvis': 4646, 'cocker': 4647, 'philippines': 4648, 'spears': 4649, 'bowman': 4650, 'sanctuary': 4651, 'wabuska': 4652, 'psychopathic': 4653, 'screening': 4654, 'guy': 4655, 'cemil': 4656, 'bey': 4657, 'dutch': 4658, 'ode': 4659, 'angels': 4660, 'foie': 4661, 'gras': 4662, 'ireland': 4663, '02:02:30': 4664, 'fripp': 4665, 'tivington': 4666, 'nott': 4667, 'foreast': 4668, 'ellen': 4669, 'lentil': 4670, 'caribou': 4671, 'epic': 4672, 'downtempo': 4673, 'beats': 4674, 'schuyler': 4675, 'venezuela': 4676, 'wilderville': 4677, 'vybz': 4678, 'kartel': 4679, 'grizzled': 4680, 'squirrel': 4681, 'talking': 4682, 'ebony': 4683, 'yolanda': 4684, 'choptank': 4685, 'specialises': 4686, 'protein': 4687, 'kate': 4688, 'wizardry': 4689, 'cretan': 4690, 'wallington': 4691, 'puglia': 4692, 'jemez': 4693, 'mere': 4694, 'lapsed': 4695, 'moore': 4696, 'unicorn': 4697, 'mouse': 4698, 'noses': 4699, 'stamps': 4700, 'wonder': 4701, 'race': 4702, 'gurram': 4703, 'tequesta': 4704, 'shooting': 4705, 'silvio': 4706, 'sabo': 4707, 'deceive': 4708, 'avant': 4709, 'l’ombre': 4710, 'à': 4711, 'bercy': 4712, 'flame': 4713, 'fuca': 4714, 'sweden': 4715, 'steptoe': 4716, 'battlefield': 4717, 'bettye': 4718, 'kimberley': 4719, 'fanatic': 4720, 'underground': 4721, '006': 4722, 'sydney': 4723, 'democratic': 4724, 'rushton': 4725, 'moreve': 4726, 'nazad': 4727, 'kalino': 4728, 'mome': 4729, 'escapada': 4730, 'swain': 4731, 'rocky': 4732, 'tower': 4733, 'ware': 4734, 'shoals': 4735, 'cubby': 4736, 'luxor': 4737, 'chuckys': 4738, 'bonnie': 4739, 'nokio': 4740, 'tity': 4741, 'bathroom': 4742, 'sixth': 4743, '2024': 4744, 'blanco': 4745, 'gasconade': 4746, 'plaid': 4747, 'retina': 4748, '10:21:20': 4749, 'tolerance': 4750, 'tod': 4751, '1953': 4752, 'kiahsville': 4753, 'bound': 4754, '21:41:08': 4755, 'florewood': 4756, 'jiles': 4757, 'perry': 4758, 'richardson': 4759, 'guinea-bissau': 4760, 'residence': 4761, 'nicoleta': 4762, 'nicola': 4763, 'toms': 4764, 'frybread': 4765, 'huxley': 4766, 'woods': 4767, 'kingsman:': 4768, 'supply': 4769, 'chain': 4770, 'trouble': 4771, 'silvia': 4772, 'hickerson': 4773, 'crossings': 4774, 'garrix': 4775, 'soem': 4776, 'springside': 4777, 'wagner': 4778, 'black-body': 4779, 'discontinuity': 4780, 'signed': 4781, 'xoxo': 4782, 'carnegie': 4783, 'ball': 4784, 'somiedo': 4785, 'barbados': 4786, 'outta': 4787, 'hi': 4788, 'coney': 4789, 'chapel': 4790, 'tyrolean': 4791, 'crocker': 4792, 'chanson': 4793, 'hicks': 4794, 'saison': 4795, 'kiribati': 4796, 'sinfonía': 4797, 'hipster': 4798, 'piece': 4799, 'orchestra': 4800, 'cello': 4801, 'colors': 4802, 'santikos': 4803, 'frisbee:': 4804, 'hippie': 4805, 'preacher': 4806, 'lease': 4807, 'sand': 4808, 'captain': 4809, 'dangers': 4810, 'canadian': 4811, 'mounted': 4812, 'comedy': 4813, 'trail': 4814, 'lonesome': 4815, 'pine': 4816, 'chestnut': 4817, 'mare': 4818, 'ely': 4819, 'projections': 4820, '13th': 4821, 'kazakhstan': 4822, 'raney': 4823, 'kudai': 4824, 'twenty-sixth': 4825, 'kane': 4826, '17': 4827, 'teide': 4828, 'werewolf': 4829, 'pedro': 4830, 'navaja': 4831, '1963': 4832, 'mahalaxmi': 4833, 'iyer': 4834, 'fullerville': 4835, 'hornblower': 4836, 'indies': 4837, 'cabinet': 4838, 'statistical': 4839, 'association': 4840, 'temptation': 4841, 'odeon': 4842, 'treatment': 4843, '10/14/2026': 4844, 'stand': 4845, 'coorgs': 4846, 'roseau': 4847, 'infernal': 4848, 'devices': 4849, 'laurie': 4850, 'beechman': 4851, 'utah': 4852, 'kaanapali': 4853, 'curtains': 4854, 'orgánica': 4855, 'harbour': 4856, 'limbo': 4857, 'ooze': 4858, 'carol': 4859, 'wicked': 4860, 'canyon': 4861, 'prayer': 4862, 'cashel': 4863, 'lay': 4864, 'arms': 4865, 'wolcott': 4866, 'htoo': 4867, 'ein': 4868, 'thin': 4869, 'comics': 4870, 'taiwan': 4871, 'woodruff': 4872, 'walls': 4873, 'yummy': 4874, 'bingham': 4875, 'rosemary': 4876, 'holly': 4877, 'brittany': 4878, 'sardinian': 4879, 'co': 4880, 'training': 4881, 'joan': 4882, 'baez': 4883, 'alfred': 4884, 'ending': 4885, 'bonga': 4886, 'sabbath': 4887, 'dio': 4888, 'restaurnt': 4889, 'n9ne': 4890, 'loogootee': 4891, 'rachael': 4892, 'metallica': 4893, 'cobbler': 4894, 'newton': 4895, 'prefereably': 4896, 'religion': 4897, 'dharma': 4898, 'chamillionaire': 4899, 'lina': 4900, 'masala': 4901, 'bossa': 4902, 'nova': 4903, 'samba': 4904, 'jukebox': 4905, 'chile': 4906, 'sugar': 4907, 'adassa': 4908, 'vivian': 4909, 'stanshall': 4910, 'grainola': 4911, 'caught': 4912, 'submerged': 4913, 'terrorism:': 4914, 'preventable': 4915, 'catastrophe': 4916, 'meadowood': 4917, 'tapes': 4918, 'daniel': 4919, 'zueras': 4920, 'lush': 4921, 'cormorant': 4922, 'journals': 4923, 'kebab': 4924, 'johnstown': 4925, 'freud:': 4926, 'moralist': 4927, 'harmar': 4928, 'hardest': 4929, 'predicted': 4930, 'wells': 4931, 'siberian': 4932, 'khatru': 4933, 'cinnaminson': 4934, '06:59': 4935, 'hannah': 4936, 'montana': 4937, 'miley': 4938, 'cyrus:': 4939, 'both': 4940, 'licia': 4941, 'bryan': 4942, 'webb': 4943, 'sidnaw': 4944, 'shot': 4945, 'paint': 4946, 'masterpiece': 4947, 'barbecue': 4948, 'coleslaw': 4949, '19:44:58': 4950, 'justified': 4951, 'update': 4952, 'manhattan': 4953, 'historical': 4954, 'cougar': 4955, 'university': 4956, 'frewen': 4957, 'still': 4958, 'slave': 4959, 'massive': 4960, 'soca': 4961, 'praise': 4962, 'ammunition': 4963, 'pachangueo': 4964, 'haiti': 4965, 'hindert': 4966, '15:02': 4967, 'pinguicula': 4968, 'study': 4969, 'newsletter': 4970, 'honey': 4971, 'hush': 4972, 'claw': 4973, 'range': 4974, 'fabrice': 4975, 'morvan': 4976, 'transcending': 4977, 'siesta': 4978, 'plkay': 4979, 'liberty': 4980, 'rewind': 4981, 'film': 4982, 'manorama': 4983, 'feet': 4984, 'biology': 4985, 'today:': 4986, 'issues': 4987, 'approach': 4988, 'racing': 4989, 'tropic': 4990, 'capricorn': 4991, 'yuauea': 4992, 'faultline': 4993, 'jannie': 4994, 'moonlight': 4995, 'sombrero': 4996, 'fallout:': 4997, 'daimidaler:': 4998, 'vs': 4999, 'penguin': 5000, 'empire': 5001, 'mill': 5002, 'witchcraft': 5003, 'paganism': 5004, 'maid': 5005, 'amsterdam': 5006, '80s': 5007, 'gift': 5008, 'hornersville': 5009, 'eastville': 5010, 'rayvon': 5011, 'stripes': 5012, 'keys': 5013, 'pixley': 5014, 'fashion': 5015, 'simplest': 5016, 'words': 5017, 'ana': 5018, 'sports': 5019, 'medicine': 5020, 'hillary': 5021, 'clinton': 5022, 'letha': 5023, 'heinz': 5024, 'strobl': 5025, 'spoiler': 5026, 'crossett': 5027, 'luxembourg': 5028, 'crash': 5029, 'course': 5030, 'push': 5031, 'button': 5032, 'saori': 5033, 'atsumi': 5034, 'wins': 5035, 'stefon': 5036, 'matthew': 5037, 'helders': 5038, 'showstopper': 5039, 'pearson': 5040, 'soda': 5041, 'works': 5042, '7/27/2036': 5043, 'bedford': 5044, 'blvd-lehman': 5045, 'papeton': 5046, 'rhodes': 5047, 'laverne': 5048, 'rapcaviar': 5049, 'branded': 5050, 'wolseley': 5051, 'wolves': 5052, '1974': 5053, 'tanti': 5054, 'auguri': 5055, 'gilbert': 5056, 'taste': 5057, 'roc': 5058, 'executioner': 5059, 'boris': 5060, 'grebenchtchikov': 5061, 'frantz': 5062, 'carmel': 5063, 'lunchtime': 5064, 'chara': 5065, 'mirrorshades': 5066, 'lambertville': 5067, 'cape': 5068, 'verde': 5069, 'noone': 5070, 'darnell': 5071, 'digital': 5072, 'champ:': 5073, 'boxing': 5074, 'estado': 5075, 'ánimo': 5076, 'microsoft': 5077, 'scanner': 5078, 'lena': 5079, 'horne': 5080, 'refugio': 5081, 'guernsey': 5082, 'salade': 5083, 'banner': 5084, 'mafia:': 5085, 'curtis': 5086, 'enfield': 5087, 'rosie': 5088, 'tatin': 5089, 'wakelin': 5090, 'té': 5091, 'lis': 5092, 'among': 5093, 'apes': 5094, 'michelle': 5095, 'yeoh': 5096, 'fayette': 5097, 'masaki': 5098, 'aiba': 5099, 'danny': 5100, 'carey': 5101, 'roommate': 5102, 'bouvet': 5103, 'til': 5104, 'clinchco': 5105, 'madera': 5106, 'monk': 5107, 'comes': 5108, 'try': 5109, 'blogbridge': 5110, 'furious': 5111, 'cumberland': 5112, 'landmark': 5113, 'trauma': 5114, 'center:': 5115, 'beech': 5116, 'dermatology': 5117, 'tun': 5118, 'shawna': 5119, 'lizzie': 5120, 'burhøns': 5121, 'ernie': 5122, 'sinatra': 5123, 'sings': 5124, 'select': 5125, 'cahn': 5126, 'side': 5127, 'domingo': 5128, 'amanda': 5129, 'kingfisher': 5130, 'preaching': 5131, 'perverted': 5132, 'kleptones': 5133, 'rachelle': 5134, 'mande': 5135, 'studies': 5136, 'wipers': 5137, 'kind': 5138, 'bermuda': 5139, 'scarred': 5140, 'canaich': 5141, 'crowd': 5142, 'corinne': 5143, 'bob': 5144, 'hardy': 5145, 'aria': 5146, 'sync': 5147, 'yoakum': 5148, 'roars': 5149, 'sherlock': 5150, 'holmes': 5151, 'clem': 5152, 'well': 5153, 'remedial': 5154, 'depot': 5155, 'lomax': 5156, 'projectors': 5157, 'loveday': 5158, 'trials': 5159, '02:45': 5160, 'brumley': 5161, 'bobcat': 5162, 'bite': 5163, 'rage': 5164, 'radio': 5165, 'lobby': 5166, 'loyde': 5167, 'pictures': 5168, 'outback': 5169, 'bedroom': 5170, 'party’s': 5171, 'blag': 5172, 'dahlia': 5173, 'andrea': 5174, 'bocelli': 5175, 'skyfall:': 5176, 'motion': 5177, 'turtle': 5178, 'encounters': 5179, 'strongest': 5180, 'instinct': 5181, 'trip-hop': 5182, 'native': 5183, 'clerk': 5184, 'henlopen': 5185, 'acres': 5186, 'diarios': 5187, 'bicicleta': 5188, 'pause': 5189, 'días': 5190, 'frío': 5191, 'siavash': 5192, 'ghomayshi': 5193, 'reager': 5194, 'indocumentado': 5195, 'gaslight': 5196, 'café': 5197, 'marty': 5198, 'friedman': 5199, 'higher': 5200, 'mohammed': 5201, 'abdu': 5202, 'goodland': 5203, 'montreal': 5204, 'morganville': 5205, 'vampires': 5206, 'donuts': 5207, 'gyrls': 5208, 'holla-day': 5209, 'benedict': 5210, 'swords': 5211, 'milas': 5212, 'poli': 5213, 'randy': 5214, 'travis': 5215, 'deep': 5216, 'purdy': 5217, 'maher': 5218, 'moment': 5219, '175': 5220, 'golconda': 5221, 'vt': 5222, 'method': 5223, 'covering:': 5224, 'hidden': 5225, 'rights': 5226, 'farian': 5227, 'showings': 5228, 'innocent': 5229, '2:': 5230, 'guilty': 5231, 'sad': 5232, 'gareth': 5233, 'atop': 5234, 'underwood:': 5235, 'writings': 5236, 'arlene': 5237, 'watsons': 5238, 'beyonders:': 5239, 'artifacts': 5240, 'conrey': 5241, 'madeleine': 5242, 'keisha': 5243, 'clara': 5244, '1950': 5245, '12/13/2025': 5246, 'haugan': 5247, 'lemonade': 5248, 'poetry': 5249, 'hebbronville': 5250, 'encyclopedia': 5251, 'magica': 5252, 'phantom': 5253, 'horse': 5254, 'drifting': 5255, 'count': 5256, 'suryavanshi': 5257, 'xyy': 5258, 'destiny': 5259, 'ristigouche': 5260, 'ecological': 5261, 'manson': 5262, 'anthems': 5263, 'cita': 5264, 'radar': 5265, 'owlet': 5266, 'provider': 5267, 'perseo': 5268, 'miranda': 5269, 'theodore': 5270, 'roosevelt': 5271, 'inaugural': 5272, 'koontz': 5273, 'watauga': 5274, 'aunt': 5275, 'firehouse': 5276, 'miles': 5277, 'iroquois': 5278, 'quick': 5279, 'society': 5280, 'roel': 5281, 'velzen': 5282, 'completely': 5283, 'barbara': 5284, 'xplorer': 5285, 'billboard': 5286, 'hits:': 5287, 'lochearn': 5288, 'tombstone': 5289, '00:37': 5290, 'nib': 5291, 'fay': 5292, 'gil': 5293, 'parris': 5294, 'whitby': 5295, 'africana': 5296, 'altyn-emel-nationalpark': 5297, 'thale': 5298, 'landers': 5299, 'cidade': 5300, 'árvore': 5301, 'daughters': 5302, 'skillman': 5303, 'lloyd': 5304, 'ready': 5305, 'frankenstein': 5306, 'drag': 5307, 'queens': 5308, 'tibetan': 5309, 'hodges': 5310, 'jeremy': 5311, 'dormi': 5312, 'amore': 5313, 'situazione': 5314, 'non': 5315, 'è': 5316, 'buona': 5317, 'parthenon': 5318, 'jerry': 5319, 'xandee': 5320, 'market': 5321, 'fairness': 5322, 'holidays': 5323, 'yarra': 5324, 'leonid': 5325, 'soybelman': 5326, 'annabella': 5327, 'lwin': 5328, 'alternativa': 5329, 'collector': 5330, 'zos': 5331, 'kia': 5332, 'cultus': 5333, 'paraguay': 5334, 'maryanne': 5335, 'per': 5336, 'yngve': 5337, 'ohlin': 5338, 'clay': 5339, 'aiken': 5340, 'bonny': 5341, 'hind': 5342, 'wits': 5343, 'politics': 5344, 'falkland': 5345, 'wolin': 5346, 'harassed': 5347, 'mali': 5348, 'hallwood': 5349, 'napoleon': 5350, 'xiv': 5351, 'sharlene': 5352, 'transatlantic': 5353, 'lullaby': 5354, 'cathedral': 5355, 'madeline': 5356, 'stella': 5357, 'heroquest': 5358, 'sorasil': 5359, 'eagle': 5360, 'harbor': 5361, 'beckley': 5362, 'alexander': 5363, 'workin’': 5364, 'quintet': 5365, 'jeanette': 5366, 'extreme': 5367, 'berowra': 5368, 'waters': 5369, 'esquivando': 5370, 'charcos': 5371, 'sells': 5372, 'cupcake': 5373, 'lumpkin': 5374, 'saudi': 5375, 'arabia': 5376, 'thelma': 5377, 'aoyama': 5378, 'murph': 5379, 'nuts': 5380, 'irvington': 5381, 'dre': 5382, 'westlake': 5383, 'weathervane': 5384, 'fencing': 5385, 'katharine': 5386, 'soheila': 5387, 'zaland': 5388, 'thenaruvi': 5389, 'steven': 5390, 'harwell': 5391, 'sheikh': 5392, 'chilli': 5393, 'uproar': 5394, 'piperton': 5395, 'rwanda': 5396, 'cordell': 5397, 'mosson': 5398, 'neo': 5399, 'bean': 5400, 'slow': 5401, 'topton': 5402, 'handful': 5403, 'rocketeer': 5404, 'gibraltar:': 5405, 'britain': 5406, 'bt': 5407, 'independent': 5408, 'imposter': 5409, 'mummy': 5410, 'cortelyou': 5411, 'rd': 5412, 'hugh': 5413, 'masekela': 5414, 'fludd': 5415, 'beastologist': 5416, 'jenners': 5417, 'panama': 5418, 'feelin': 5419, 'mai': 5420, 'selim': 5421, 'hurry': 5422, 'sundown': 5423, 'reverie': 5424, 'squad': 5425, 'avalon': 5426, 'pain': 5427, 'abrar': 5428, 'ul': 5429, 'haq': 5430, 'confidence': 5431, 'boost': 5432, 'nikolajewna': 5433, 'jessipowa': 5434, 'olmitz': 5435, 'bugs': 5436, 'nips': 5437, 'fro': 5438, 'nas': 5439, 'victor': 5440, 'kunonga': 5441, 'mom': 5442, 'shadows': 5443, 'moris': 5444, 'tepper': 5445, 'frisell': 5446, 'alternative': 5447, 'toll': 5448, 'ven': 5449, 'granite-steppe': 5450, 'buh': 5451, 'rimsky-korsakoffee': 5452, 'mackville': 5453, 'mouse:': 5454, 'finland': 5455, 'counter': 5456, 'ribbons': 5457, 'fragile': 5458, 'frontiers:': 5459, 'mumbai': 5460, 'attacks': 5461, 'twas': 5462, 'tanimura': 5463, 'mediodía': 5464, 'acústico': 5465, 'madden': 5466, 'nfl': 5467, 'hext': 5468, 'saracens': 5469, 'willits': 5470, 'dobinson': 5471, 'calientes': 5472, 'descanso': 5473, 'infinito': 5474, 'leroi': 5475, 'inlet': 5476, 'thrills': 5477, 'lora': 5478, 'boonton': 5479, '18': 5480, 'bâton': 5481, '07:03:43': 5482, 'pirates': 5483, 'bet': 5484, 'awards': 5485, 'erik': 5486, 'santos': 5487, 'takuro': 5488, 'titanic': 5489, 'palm': 5490, 'seminary': 5491, 'augusta': 5492, 'bhutto': 5493, 'mausoleum': 5494, 'blackbox': 5495, 'generations': 5496, 'joelia': 5497, 'savitsjeva': 5498, '88': 5499, 'hallucinations': 5500, 'despair': 5501, 'songz': 5502, 'phoenix:': 5503, 'videogames': 5504, 'dynamite': 5505, 'warrior': 5506, 'edison': 5507, 'given': 5508, 'sissieretta': 5509, 'gertrude': 5510, 'petrified': 5511, 'jungo': 5512, 'mh': 5513, 'gears': 5514, 'tramp': 5515, 'timour': 5516, 'moutsouraev': 5517, 'pasta': 5518, '1987': 5519, 'edie': 5520, 'brickell': 5521, 'peace-maker': 5522, 'pho': 5523, '1969': 5524, 'sicilian': 5525, 'impostors': 5526, 'jkt48': 5527, 'henry': 5528, 'hwang': 5529, 'geddes': 5530, 'maid-rite': 5531, 'gardens': 5532, 'together': 5533, 'maritime': 5534, 'harsh': 5535, 'cleaning': 5536, 'flipper': 5537, 'gryphon': 5538, 'colic:': 5539, 'weird': 5540, 'mosses': 5541, 'manse': 5542, 'whitewood': 5543, 'temperance': 5544, 'realization': 5545, 'jackson': 5546, 'stern': 5547, 'image': 5548, 'storm:': 5549, 'disasters': 5550, 'changed': 5551, 'nimble': 5552, 'bombastic': 5553, 'labyrinthe': 5554, 'darnestown': 5555, 'case': 5556, 'jennie': 5557, 'brice': 5558, 'baking': 5559, 'brookneal': 5560, 'aragon': 5561, 'ballroom': 5562, 'pattie': 5563, 'joshua': 5564, 'radin': 5565, 'futuros': 5566, 'josh': 5567, 'gracin': 5568, 'yuna': 5569, 'ito': 5570, 'rods': 5571, 'shows': 5572, 'antigua': 5573, 'barbuda': 5574, 'yet': 5575, 'bioruby': 5576, 'steinway': 5577, 'wentworth': 5578, 'greg': 5579, 'raposo': 5580, 'ugliness': 5581, 'basaseachic': 5582, 'worthington': 5583, 'formby': 5584, 'jr': 5585, 'widow': 5586, 'saint-pierre': 5587, 'suite': 5588, 'sudarmoricaine': 5589, 'afi': 5590, 'mood': 5591, 'meditative': 5592, '01:50': 5593, 'rosario': 5594, 'monterey': 5595, 'labyrinth': 5596, 'heterocycles': 5597, 'intensity': 5598, 'dresbach': 5599, 'distrowatch': 5600, 'det': 5601, 'kimer': 5602, 'julefest': 5603, 'technical&brutal': 5604, 'junior': 5605, 'obama': 5606, 'syndrome': 5607, 'thomson': 5608, 'iparty': 5609, 'victorious': 5610, '2021': 5611, 'bathgate': 5612, 'seamus': 5613, 'heaney': 5614, 'collected': 5615, 'edward': 5616, 'l': 5617, 'ryerson': 5618, 'student': 5619, 'generator': 5620, 'icon': 5621, 'tn': 5622, 'removers': 5623, 'forêt': 5624, 'nationale': 5625, 'davy': 5626, 'crockett': 5627, 'yury': 5628, 'chernavsky': 5629, 'route': 5630, 'doomsters': 5631, 'dressmaker': 5632, 'colette': 5633, 'rod': 5634, 'parts': 5635, 'sci-fi': 5636, 'crimes': 5637, 'wash': 5638, 'deeyah': 5639, 'khan': 5640, 'scampi': 5641, 'maurice': 5642, 'om': 5643, 'johnnie': 5644, 'activity': 5645, 'shorty': 5646, 'fir': 5647, '103rd': 5648, 'yangtze': 5649, 'retrowave': 5650, 'outrun': 5651, 'vanishing': 5652, 'porch': 5653, 'spirituals': 5654, 'shinehead': 5655, 'kj': 5656, '52': 5657, 'quiero': 5658, 'everett': 5659, 'resurrection': 5660, 'sleepy': 5661, 'celtic': 5662, 'silvers': 5663, 'madman': 5664, 'janamanchi': 5665, 'seshadri': 5666, 'sarma': 5667, 'main-travelled': 5668, 'roads': 5669, 'fit': 5670, 'prescription': 5671, 'pianist': 5672, 'yeah': 5673, 'cactus': 5674, 'heartbeat': 5675, 'pay': 5676, 'dvd': 5677, 'cale': 5678, 'gamer': 5679, 'symphonic': 5680, 'colorless': 5681, 'tsukuru': 5682, 'tazaki': 5683, 'pilgrimage': 5684, 'tight': 5685, '12/14/2023': 5686, 'beyond': 5687, 'reach': 5688, 'bridge-city': 5689, 'ryuichi': 5690, 'kawamura': 5691, 'eim': 5692, 'morgan': 5693, 'suitable': 5694, '11/1/2033': 5695, 'marit': 5696, 'bergman': 5697, 'enkitta': 5698, 'mothathe': 5699, '2010': 5700, 'grohl': 5701, 'lakeisha': 5702, 'jimenez': 5703, 'szahram': 5704, 'nazeri': 5705, 'text': 5706, 'finnish': 5707, 'grammar': 5708, 'seasons:': 5709, 'skid': 5710, 'cartwright': 5711, 'fry': 5712, 'sauce': 5713, 'barthélemy': 5714, 'otis': 5715, 'saki': 5716, 'nakajima': 5717, 'vanlose': 5718, 'stairway': 5719, 'janove': 5720, 'ottesen': 5721, 'macgregor': 5722, 'rare': 5723, 'birds': 5724, 'blackpool': 5725, 'texola': 5726, 'noctámbulo': 5727, 'pl': 5728, 'harel': 5729, 'skaat': 5730, 'beloved': 5731, 'duane': 5732, 'allman': 5733, 'bunker': 5734, 'spätzle': 5735, 'censored': 5736, 'shack': 5737, '101': 5738, 'crying': 5739, 'hoping': 5740, 'buzz': 5741, 'simplescreenrecorder': 5742, '27': 5743, 'cracking': 5744, 'contraptions': 5745, 'mezes': 5746, 'understanding': 5747, 'lenny': 5748, 'kaye': 5749, 'rivers': 5750, 'pattillo': 5751, 'avery': 5752, 'manuelita': 5753, 'tortuga': 5754, 'nevada': 5755, 'jason': 5756, 'donovan': 5757, 'donut': 5758, 'matter': 5759, 'tembe': 5760, 'czarna': 5761, 'dziewczyna': 5762, 'madness': 5763, 'orthodox': 5764, 'prophecy': 5765, 'bernie': 5766, 'bloodstained': 5767, 'mettawa': 5768, 'kelley': 5769, 'suzette': 5770, 'curious': 5771, 'chair': 5772, 'ettrick': 5773, 'culdesac': 5774, 'beatmania': 5775, 'iidx': 5776, 'object': 5777, 'falling': 5778, 'upstairs': 5779, 'diplo': 5780, 'flamingo': 5781, 'jonathan': 5782, 'arons': 5783, 'rie': 5784, 'tomosaka': 5785, 'deadly': 5786, 'beijing': 5787, 'huanying': 5788, 'ni': 5789, 'cant': 5790, 'dels': 5791, 'ocells': 5792, 'vini': 5793, 'job': 5794, 'inversion': 5795, 'maximilian': 5796, 'mutzke': 5797, 'myself': 5798, 'peacefulness': 5799, 'tenerife': 5800, 'salomon': 5801, 'must': 5802, 'dorothy': 5803, 'ashby': 5804, 'tal': 5805, 'chhapar': 5806, 'makers': 5807, 'abominations': 5808, 'recorder': 5809, 'randsell': 5810, 'gd&top': 5811, '2009': 5812, 'hughie': 5813, 'graham': 5814, 'vidyadhar': 5815, 'vyas': 5816, 'ronnie': 5817, 'president': 5818, 'alive': 5819, 'roach': 5820, 'badmeaningood': 5821, 'volume4': 5822, 'jaime': 5823, '5/17/2037': 5824, 'accesss': 5825, 'stain': 5826, 'sebastian': 5827, 'donnie': 5828, 'gorilla': 5829, 'morrison': 5830, 'libby': 5831, 'crook': 5832, 'nanny': 5833, 'rivalry:': 5834, 'v': 5835, 'indestructible': 5836, 'portland': 5837, 'waffle': 5838, 'tgif': 5839, 'switching': 5840, 'channels': 5841, 'briarwood': 5842, 'rides': 5843, 'dread': 5844, 'legion': 5845, '2022': 5846, 'poncha': 5847, '00:32': 5848, 'carny': 5849, 'bock': 5850, 'dina': 5851, 'alexis': 5852, 'fantastic': 5853, 'dances': 5854, 'of:': 5855, 'idols': 5856, 'reynolds': 5857, 'jonny': 5858, 'buckland': 5859, 'milagros:': 5860, 'mandela:': 5861, 'authorised': 5862, 'brass': 5863, 'rail': 5864, 'shirts': 5865, 'alchemyst:': 5866, 'immortal': 5867, 'nicholas': 5868, 'flamel': 5869, 'stares': 5870, 'whispers': 5871, 'sólo': 5872, 'dos': 5873, 'torrey': 5874, 'pines': 5875, 'companion': 5876, 'heroic': 5877, 'failures': 5878, 'germany': 5879, 'wants': 5880, 'yogurt': 5881, 'slick': 5882, 'hickory': 5883, 'elisabeth': 5884, 'd-day': 5885, 'dodgers': 5886, 'kd': 5887, 'lang': 5888, 'accidentally': 5889, 'fork': 5890, 'nanana': 5891, 'massimo': 5892, 'altomare': 5893, 'profile': 5894, 'brasil': 5895, 'glove': 5896, 'thee': 5897, 'undatakerz': 5898, 'mccrea': 5899, 'saucisse': 5900, 'rachel': 5901, 'orion': 5902, 'details': 5903, 'collide': 5904, 'chamber': 5905, 'rak': 5906, 'biszewilo': 5907, 'tarts': 5908, 'astor': 5909, 'piazzolla': 5910, 'forward': 5911, 'tightrope': 5912, 'dancer': 5913, 'armenia': 5914, 'voyage': 5915, 'adele': 5916, 'giodi': 5917, 'piper': 5918, 'shōnen': 5919, 'toppa': 5920, 'bashin': 5921, 'wilma': 5922, 'gowanus': 5923, 'yacht': 5924, 'got': 5925, 'peyroux': 5926, 'gregory': 5927, 'douglass': 5928, 'racketeers': 5929, 'exit': 5930, 'ankimo': 5931, '1/11/2030': 5932, 'catahoula': 5933, 'meet': 5934, 'vogues': 5935, 'literary': 5936, 'peel': 5937, 'pie': 5938, 'pruntytown': 5939, 'somi': 5940, 'sadface': 5941, 'birta': 5942, 'snuffy': 5943, 'walden': 5944, 'finalists': 5945, 'comer': 5946, 'tha': 5947, 'funkee': 5948, 'homosapien': 5949, 'mission': 5950, 'retrovisor': 5951, 'advise': 5952, '07:31:32': 5953, 'tu': 5954, 'hamedi': 5955, 'alloway': 5956, 'scream': 5957, 'whisper': 5958, 'arcadian': 5959, 'dougan': 5960, 'kenedy': 5961, 'marx': 5962, 'southwest': 5963, 'riders': 5964, 'shelter': 5965, 'seeley': 5966, 'fourteenth': 5967, 'demolition': 5968, '11:09': 5969, 'pies': 5970, 'plandome': 5971, 'manor': 5972, 'gouden': 5973, 'roos': 5974, 'daedelus': 5975, 'nj': 5976, 'cahoots': 5977, 'alejandra': 5978, 'lemonheads': 5979, 'tailwind': 5980, 'tomy': 5981, 'leena': 5982, 'peisa': 5983, 'nathan': 5984, 'clint': 5985, 'mansell': 5986, 'otsego': 5987, 'rag': 5988, 'covers': 5989, 'mash': 5990, 'ups': 5991, 'jordan': 5992, 'inez': 5993, 'facility': 5994, 'gillespie': 5995, 'tremonti': 5996, 'lest': 5997, 'forget:': 5998, 'bslade': 5999, 'hale': 6000, '7/22/2030': 6001, 'emerald': 6002, 'maybe': 6003, 'som': 6004, 'tam': 6005, 'todays': 6006, 'pure': 6007, 'seduction': 6008, 'bride': 6009, 'wore': 6010, 'albertson': 6011, 'kanwar': 6012, 'catch': 6013, 'mir': 6014, 'pier': 6015, 'cliff': 6016, 'rathinirvedam': 6017, 'lunacy': 6018, 'sonya': 6019, 'valarie': 6020, 'mari': 6021, 'phish': 6022, '7/16/2032': 6023, 'dominican': 6024, 'janeane': 6025, 'des': 6026, 'moines': 6027, 'hattiesburg': 6028, 'sins': 6029, 'cities': 6030, 'antarctica': 6031, 'live:': 6032, 'save': 6033, 'fink': 6034, 'overload': 6035, 'korea': 6036, 'milk': 6037, 'mister': 6038, '138th': 6039, 'rockabilly': 6040, 'mania': 6041, 'snowball': 6042, 'mad': 6043, 'scientist': 6044, 'fame': 6045, 'hoggard': 6046, 'elberta': 6047, 'alma': 6048, '18:49:20': 6049, 'burger': 6050, 'ove': 6051, 'trac': 6052, 'patricia': 6053, 'vandalia': 6054, 'salvador': 6055, 'musica': 6056, 'española': 6057, 'batuecas': 6058, 'yamma': 6059, 'slut': 6060, 'backyard': 6061, 'cedarburg': 6062, 'brooke': 6063, 'fraser': 6064, 'wwe': 6065, 'legends': 6066, 'wrestlemania': 6067, 'gie': 6068, 'candlelight': 6069, 'supernatural': 6070, 'events': 6071, 'naughty': 6072, 'boudreaux': 6073, 'wren': 6074, 'lankan': 6075, 'tues': 6076, 'solveig': 6077, 'le-aqua-na': 6078, 'burrito': 6079, 'rim': 6080, 'mix': 6081, 'tobias': 6082, 'sammet': 6083, 'bring': 6084, 'ida': 6085, 'monica': 6086, 'etta': 6087, 'max': 6088, 'dune': 6089, 'lineage': 6090, '12:06': 6091, 'holladay': 6092, 'incredible': 6093, 'hulk': 6094, 'returns': 6095, 'creator': 6096, 'trancers': 6097, 'aerial': 6098, 'joy': 6099, 'dark:': 6100, 'ferret': 6101, 'gipsy-gordon': 6102, 'wildland': 6103, 'campanian': 6104, 'compleat': 6105, 'housewife': 6106, 'compact': 6107, 'proposal': 6108, 'gabrial': 6109, 'mcnair': 6110, 'chisholm': 6111, 'marc': 6112, 'quantity': 6113, 'insanity': 6114, 'sky:': 6115, 'godlike': 6116, 'genius': 6117, 'brenham': 6118, 'jackass': 6119, 'investing': 6120, 'krieg': 6121, 'chinatown': 6122, 'conrad': 6123, 'rosebud': 6124, 'incite': 6125, 'goan': 6126, 'butterfly': 6127, 'maximum': 6128, 'shangri-la': 6129, '911': 6130, 'peja': 6131, 'licorice': 6132, 'mckechnie': 6133, 'aftercluv': 6134, 'stretch': 6135, 'djibouti': 6136, 'serenata': 6137, 'southtown': 6138, 'pinecliffe': 6139, 'osgood': 6140, 'kan': 6141, 'gifta': 6142, 'sig': 6143, 'jeans': 6144, 'penuelas': 6145, 'pavo': 6146, 'dustin': 6147, 'viajes': 6148, 'ivan': 6149, 'mane': 6150, 'jarnowick': 6151, 'yoshiki': 6152, 'countdown:': 6153, 'savoy': 6154, 'sessions': 6155, 'carry': 6156, 'sandworms': 6157, 'pearblossom': 6158, 'deception': 6159, 'anstruther': 6160, 'iwers': 6161, 'gym': 6162, 'strong': 6163, 'champion': 6164, 'chichi': 6165, 'picasso': 6166, 'martyr': 6167, 'change': 6168, 'underneath': 6169, 'mizell': 6170, 'beltsville': 6171, 'nephew': 6172, 'alton': 6173, 'loretta': 6174, 'lynn': 6175, 'grey': 6176, 'scarecrow': 6177, 'army': 6178, 'fernando': 6179, 'mclaurin': 6180, 'trivial': 6181, 'pursuit:': 6182, 'america': 6183, 'friona': 6184, 'kikas': 6185, 'bank': 6186, 'medal': 6187, 'nepal': 6188, 'cameroon': 6189, 'conducting': 6190, 'grave': 6191, 'lexington-fayette': 6192, 'top-ten': 6193, 'doda': 6194, 'trick': 6195, 'treats': 6196, 'naguabo': 6197, 'breath': 6198, 'outpost': 6199, 'potter': 6200, 'deathly': 6201, 'hallows': 6202, 'landscape': 6203, 'baltic': 6204, 'hardcover': 6205, 'intangibles': 6206, 'leadership': 6207, 'chips': 6208, 'susumu': 6209, 'showtunes': 6210, 'reader': 6211, 'warned': 6212, 'q': 6213, 'swindlers': 6214, 'treasures': 6215, 'complete': 6216, 'unholy': 6217, 'confessions': 6218, 'sympathy': 6219, 'nicaragua': 6220, 'searsport': 6221, 'ritchie': 6222, 'valens': 6223, 'virales': 6224, 'siempre': 6225, 'yokoyama': 6226, 'bag': 6227, 'careless': 6228, 'consume': 6229, 'gilmer': 6230, 'keeling': 6231, 'daewon': 6232, 'vallecito': 6233, 'nubians': 6234, 'plutonia': 6235, 'canciones': 6236, 'recuerdo': 6237, 'fern': 6238, 'rockholds': 6239, 'tarzan': 6240, 'stuffed': 6241, 'peppers': 6242, 'woodsfield': 6243, '06:30:26': 6244, 'kim': 6245, 'kibum': 6246, '17:43': 6247, 'lualualei': 6248, 'wimpy': 6249, 'mohsen': 6250, 'chavoshi': 6251, 'balance': 6252, 'nik': 6253, 'kershaw': 6254, 'eighth': 6255, 'rillettes': 6256, 'dimitri': 6257, 'fampas': 6258, 'borrowed': 6259, 'technicolor': 6260, 'cierra': 6261, 'puerta': 6262, 'questions': 6263, 'answers': 6264, 'sugarville': 6265, 'rank': 6266, 'pelahatchie': 6267, 'bonnaroo': 6268, 'der': 6269, 'und': 6270, 'kalypso': 6271, 'aus': 6272, 'wien': 6273, 'vonda': 6274, 'everytime': 6275, 'glace': 6276, 'atmosphere': 6277, 'mulvane': 6278, 'ratings': 6279, 'solange': 6280, 'exile': 6281, 'challenges': 6282, 'chemistry': 6283, 'arrows': 6284, 'hercules': 6285, 'lorenzo': 6286, 'palacios': 6287, 'quispe': 6288, '1955': 6289, 'solromar': 6290, 'competitors': 6291, 'kickass': 6292, 'porcupine': 6293, 'gospel': 6294, 'drawa': 6295, 'torn': 6296, 'emptiness': 6297, 'julie': 6298, 'driscoll': 6299, 'gold': 6300, 'breezy': 6301, 'gucci': 6302, 'seek': 6303, 'destroy': 6304, 'sin': 6305, 'angel': 6306, 'female': 6307, 'hamlet': 6308, 'cajah': 6309, 'universum': 6310, 'travelling': 6311, 'set': 6312, 'isthmus': 6313, 'hundred-year': 6314, 'bhoomi': 6315, 'geetha': 6316, 'infrared': 6317, 'riding': 6318, 'longest': 6319, 'ace': 6320, 'cozy': 6321, 'drive': 6322, 'geek': 6323, 'chic': 6324, 'pero': 6325, 'broadway-lafayette': 6326, 'crocus': 6327, 'glenda': 6328, 'lois': 6329, 'sheriff': 6330, 'crucible': 6331, 'sze': 6332, 'ludowici': 6333, 'denial': 6334, 'wannadies': 6335, 'andorra': 6336, 'wartime': 6337, 'inform': 6338, 'abdication': 6339, '1956': 6340, 'bishop': 6341, 'hereford': 6342, 'mayer': 6343, 'basic': 6344, 'utsler': 6345, 'full': 6346, 'divorced': 6347, 'ocilla': 6348, 'orgy': 6349, 'leather': 6350, 'less': 6351, 'candles': 6352, 'susana': 6353, 'dogs': 6354, 'warfare': 6355, 'eternally': 6356, 'apartment': 6357, 'hunting': 6358, 'hindus:': 6359, 'servidor': 6360, 'utatsuki': 6361, 'carpet': 6362, 'nishi': 6363, 'sonogi': 6364, 'hantō': 6365, 'keine': 6366, 'grenzen': 6367, 'territories': 6368, 'highland': 6369, 'wuthering': 6370, 'rita': 6371, 'hurley': 6372, 'valentyne': 6373, 'lee:': 6374, 'knew': 6375, 'halal': 6376, 'brigitte': 6377, 'katelyn': 6378, 'natalie': 6379, 'astonishing': 6380, 'octavian': 6381, 'mashed': 6382, 'pumpkin': 6383, 'tina': 6384, 'cousins': 6385, 'offerman': 6386, 'yemen': 6387, 'naches': 6388, 'leone': 6389, 'methuen': 6390, 'doyle': 6391, 'tailor': 6392, 'maschi': 6393, 'altri': 6394, 'pappu': 6395, 'venugopala': 6396, 'rao': 6397, 'mama': 6398, 'thornton': 6399, 'hippocratic': 6400, 'oath': 6401, 'grow': 6402, 'chloe': 6403, 'lattanzi': 6404, 'francis': 6405, 'caucasian': 6406, 'exploits': 6407, 'juan': 6408, 'moped': 6409, 'chrome-plated': 6410, 'handlebars': 6411, 'yard': 6412, 'sot': 6413, 'taggart': 6414, 'reservtion': 6415, 'kellnersville': 6416, 'lotus': 6417, 'andy': 6418, 'lafe': 6419, 'beast': 6420, 'blowfly': 6421, 'pig': 6422, 'scrolls': 6423, 'stonewood': 6424, 'quebeck': 6425, 'woburn': 6426, 'chrome': 6427, 'restaraunt': 6428, 'wickersham': 6429, 'hostile': 6430, 'fleetwood': 6431, 'deli': 6432, 'railroad': 6433, 'model': 6434, 'craftsman': 6435, 'riddim': 6436, '54': 6437, 'humanity': 6438, 'townes': 6439, 'zandt': 6440, 'whatever': 6441, 'turns': 6442, 'tate': 6443, 'homo': 6444, 'handbook': 6445, 'act': 6446, 'kolkheti': 6447, 'playslist': 6448, 'fabulosos': 6449, 'cadillacs': 6450, 'smolan': 6451, 'dictionary': 6452, 'language': 6453, 'scribblings': 6454, 'upcoming': 6455, 'dormir': 6456, 'savannah': 6457, 'lauderdale': 6458, 'henniker': 6459, 'miso': 6460, 'soup': 6461, 'helena': 6462, 'papoose': 6463, 'wikipedia': 6464, 'cd': 6465, 'selection': 6466, 'directions': 6467, 'curl': 6468, 'papers': 6469, 'wakarusa': 6470, 'tourte': 6471, 'yamhill': 6472, 'terminator': 6473, 'morrisonville': 6474, 'eerste': 6475, 'keer': 6476, 'caiafa': 6477, 'plau': 6478, 'chef': 6479, 'jolley': 6480, 'cardin': 6481, 'hoc': 6482, 'maldeamores': 6483, 'wynnedale': 6484, 'grandmaster': 6485, 'flash': 6486, 'unleashed': 6487, '06:31:22': 6488, 'forza': 6489, 'nations': 6490, 'cantautor': 6491, 'orange': 6492, 'éxitos': 6493, 'necessary': 6494, 'halley': 6495, 'ucolo': 6496, 'stubborn': 6497, 'kinda': 6498, 'fellow': 6499, 'amott': 6500, 'potje': 6501, 'vet': 6502, 'apbl98': 6503, 'alden': 6504, 'penner': 6505, 'bottom': 6506, 'playa': 6507, 'fly': 6508, 'freight': 6509, 'lila': 6510, 'reyes': 6511, 'ruby': 6512, 'jigs': 6513, 'reels': 6514, 'dante’s': 6515, 'superior': 6516, 'magical': 6517, 'lightning': 6518, 'vernon': 6519, 'smiles': 6520, 'cary': 6521, 'becharof': 6522, 'daigo': 6523, 'indietronic': 6524, 'sonntagskind': 6525, 'system': 6526, 'bloodhounds': 6527, 'freckled': 6528, '00:47:43': 6529, 'half-formed': 6530, 'lukasz': 6531, 'gottwald': 6532, 'descendants': 6533, 'noreen': 6534, 'strings': 6535, 'setting': 6536, 'bears': 6537, 'czechia': 6538, 'brookland': 6539, 'terrace': 6540, 'tei': 6541, 'closer': 6542, 'glade': 6543, 'twenty-fifth': 6544, 'hariprasad': 6545, 'chaurasia': 6546, 'westbam': 6547, 'alumb': 6548, 'allergic': 6549, 'rockwell': 6550, 'muppet': 6551, 'deserve': 6552, 'sequoyah': 6553, 'playstation官方杂志': 6554, 'greyest': 6555, 'nigga': 6556, 'piety': 6557, 'saratoga': 6558, 'hellacopters': 6559, 'teen': 6560, 'lowest': 6561, 'reprise:': 6562, 'scattered': 6563, 'bodies': 6564, 'gobler': 6565, 'kinder': 6566, 'ari': 6567, 'herstand': 6568, 'dragon': 6569, 'z:': 6570, 'selections': 6571, 'republic:': 6572, 'revan': 6573, 'troy': 6574, 'allardt': 6575, 'aruba': 6576, 'goldy': 6577, 'mcjohn': 6578, 'elsewhere': 6579, 'ironing': 6580, 'loved': 6581, 'ones': 6582, 'dixon': 6583, 'hans': 6584, 'nilsson': 6585, 'utopia': 6586, 'macaroni': 6587, 'cash-cash': 6588, 'nightmares': 6589, 'shallow': 6590, 'playcanvas': 6591, 'vicky': 6592, 'leandros': 6593, 'judge': 6594, 'jules': 6595, 'atrocity': 6596, 'exhibition': 6597, 'duson': 6598, '20th': 6599, 'mohammad': 6600, 'reza': 6601, 'lotfi': 6602, 'giovanni': 6603, 'battista': 6604, 'guadagnini': 6605, '1982': 6606, 'annie': 6607, 'herring': 6608, 'nineteenth': 6609, 'elsmore': 6610, 'liechtenstein': 6611, '10:15': 6612, 'guard': 6613, 'tobymac': 6614, 'jiro': 6615, 'slane': 6616, 'haifa': 6617, 'wehbe': 6618, 'heritage': 6619, 'shubuta': 6620, 'prospect': 6621, 'blaine': 6622, 'ivy': 6623, 'belknap': 6624, 'gina': 6625, 'schock': 6626, 'jonas': 6627, 'waits': 6628, 'uncharted': 6629, 'drake': 6630, 'tehama': 6631, 'phoebe': 6632, 'zahn': 6633, 'thomas': 6634, 'rhett': 6635, 'archive': 6636, 'domestic': 6637, 'animation': 6638, 'beverley': 6639, 'martyn': 6640, 'nerves': 6641, 'rileyville': 6642, 'those': 6643, 'leningrad': 6644, 'cowboys': 6645, 'published': 6646, 'maison': 6647, 'parthenais-perrault': 6648, 'fabio': 6649, 'gibassier': 6650, 'armistead': 6651, 'burwell': 6652, 'iv': 6653, 'masters': 6654, 'catchphrase': 6655, 'happen': 6656, 'lawrence': 6657, 'stuck': 6658, 'sax': 6659, 'rum': 6660, 'varieties': 6661, 'scientific': 6662, 'ranger': 6663, 'harry’s': 6664, 'benin': 6665, 'receipt': 6666, 'firewall': 6667, 'pro': 6668, 'sleeps': 6669, 'aretha': 6670, 'franklin': 6671, 'organization': 6672, 'grisly': 6673, 'wolfe': 6674, 'bees': 6675, 'ceca': 6676, 'ghosts': 6677, 'machinery': 6678, 'spector': 6679, 'whether': 6680, '04:34:15': 6681, 'frightened': 6682, 'dummy': 6683, 'budayeen': 6684, 'nights': 6685, 'kaakai': 6686, 'egoist': 6687, 'bread': 6688, 'olive': 6689, 'monie': 6690, 'paper': 6691, 'patetown': 6692, 'andrés': 6693, 'calamaro': 6694, 'timeline': 6695, 'chicago:': 6696, 'sifow': 6697, 'roger': 6698, 'whittaker': 6699, 'bronislau': 6700, 'kaper': 6701, 'ennarukil': 6702, 'nee': 6703, 'irunthal': 6704, 'colony': 6705, 'cookie': 6706, 'sherry': 6707, 'concepcion': 6708, 'nunam': 6709, 'iqua': 6710, 'leaf': 6711, 'rookantha': 6712, 'gunathilake': 6713, 'days:': 6714, 'activists': 6715, 'barberville': 6716, 'tatico': 6717, 'henriquez': 6718, 'bleeps': 6719, 'bloops': 6720, 'wannabe:': 6721, 'spice': 6722, 'reinvented': 6723, 'manassa': 6724, 'baroque': 6725, 'thibaults': 6726, 'dunbrody': 6727, 'kitchin': 6728, 'mabel’s': 6729, 'dramatic': 6730, 'career': 6731, '1/11/2040': 6732, 'mann': 6733, 'digimon': 6734, 'costello': 6735, 'kidd': 6736, 'forth': 6737, 'noodle': 6738, '2/21/2021': 6739, 'iw': 6740, 'atch': 6741, 'balls': 6742, 'vampate': 6743, 'fuoco': 6744, 'bond': 6745, '003½': 6746, 'harlem': 6747, 'incident': 6748, 'costs': 6749, 'accidents': 6750, 'cardinal': 6751, 'izuna': 6752, 'unemployed': 6753, 'ninja': 6754, 'homestead': 6755, 'meadows': 6756, 'marci': 6757, 'marylou': 6758, 'amelia': 6759, 'mode': 6760, 'cheerful': 6761, 'flash:': 6762, 'guatemala': 6763, 'deasy': 6764, 'pretty': 6765, 'costa': 6766, 'rica': 6767, 'yorkston': 6768, 'wayside': 6769, 'farmerville': 6770, 'seed': 6771, 'chucky': 6772, 'bhutan': 6773, 'bettles': 6774, 'chilled': 6775, 'nicholaus': 6776, 'arson': 6777, 'wanna': 6778, 'denniz': 6779, 'used': 6780, 'pledge': 6781, 'markus': 6782, 'grosskopf': 6783, 'molecular': 6784, 'gastronomy': 6785, 'saddle': 6786, 'aira': 6787, 'yuhki': 6788, 'tuomas': 6789, 'holopainen': 6790, 'sean': 6791, 'yseult': 6792, 'kaitlin': 6793, 'walla': 6794, 'patagonia': 6795, 'beatles': 6796, 'redacted': 6797, 'immortals': 6798, 'dolly': 6799, 'parton': 6800, 'priest': 6801, 'bethnal': 6802, 'stuff': 6803, 'nike': 6804, 'tempo': 6805, 'gregoletto': 6806, 'sanibel': 6807, 'thorn': 6808, 'graduates': 6809, 'malibu': 6810, 'narew': 6811, 'toto': 6812, 'sorrow': 6813, 'ultimatum': 6814, 'calder': 6815, 'roseland': 6816, 'foros': 6817, 'timis': 6818, 'ston': 6819, 'greco': 6820, 'bal': 6821, 'ganesh': 6822, 'you:': 6823, 'bitten': 6824, 'twice': 6825, 'bobbie': 6826, 'lookout': 6827, 'felicity': 6828, 'mauritania': 6829, 'marching': 6830, 'band': 6831, 'techno': 6832, 'hossein': 6833, 'alizadeh': 6834, 'relentless': 6835, 'rosanna': 6836, 'ejercicio': 6837, 'midfield': 6838, 'princesas': 6839, 'tracyton': 6840, 'hears': 6841, 'emre': 6842, 'aydin': 6843, 'tera:': 6844, 'exiled': 6845, 'realm': 6846, 'arborea': 6847, 'folk-rock': 6848, 'elizaveta': 6849, 'khripounova': 6850, 'stereophonics': 6851, 'cebu': 6852, 'protected': 6853, 'phoenix': 6854, 'williamsport': 6855, 'elizeth': 6856, 'cardoso': 6857, 'money': 6858, 'mokena': 6859, 'lbc': 6860, 'crew': 6861, 'argentino': 6862, 'vol': 6863, 'moravian': 6864, 'salvation': 6865, 'top-20': 6866, 'macneil': 6867, 'klaus': 6868, 'badelt': 6869, 'release': 6870, 'va': 6871, 'thicket': 6872, 'preserve': 6873, 'ochopee': 6874, 'labonte': 6875, 'lecanto': 6876, 'ghana': 6877, 'anders': 6878, 'crossroad': 6879, 'lied': 6880, 'airport': 6881, 'sealed': 6882, 'pidcoke': 6883, 'faithless': 6884, 'fire:': 6885, 'soundscape': 6886, 'none': 6887, 'above': 6888, 'amour:': 6889, 'shesher': 6890, 'kobita': 6891, 'revisited': 6892, 'oates': 6893, 'plylist': 6894, '07:07': 6895, 'delhi': 6896, 'rebbe:': 6897, 'teachings': 6898, 'menachem': 6899, 'schneerson': 6900, 'influential': 6901, 'rabbi': 6902, 'grant': 6903, 'turning': 6904, 'countess': 6905, 'overton': 6906, 'chippewa': 6907, 'zena': 6908, 'passover': 6909, 'frayser': 6910, 'breed': 6911, 'brook': 6912, 'sabin': 6913, 'rai': 6914, 'simply': 6915, 'lying': 6916, 'mcguire': 6917, 'laugh': 6918, 'minestra': 6919, 'magnifico': 6920, 'fereydoun': 6921, 'farrokhzad': 6922, 'sergei': 6923, 'chatschatrjan': 6924, 'harutyunyan': 6925, 'jose': 6926, 'pasillas': 6927, 'confusion': 6928, 'argentinian': 6929, 'mahwah': 6930, 'domoto': 6931, 'ali': 6932, 'bed': 6933, 'roses': 6934, 'sitek': 6935, 'mozambique': 6936, 'metalcore': 6937, 'written': 6938, 'iberville': 6939, 'spatial': 6940, 'query': 6941, 'server': 6942, 'sixpence': 6943, '1964': 6944, 'cliffs': 6945, 'dooneen': 6946, 'experiment': 6947, 'spaceball': 6948, 'trek:': 6949, 'hoyt': 6950, 'holtwood': 6951, 'monique': 6952, 'stewart': 6953, 'jami': 6954, 'millinocket': 6955, 'shara': 6956, 'worden': 6957, 'bachand': 6958, 'klute': 6959, 'meduza': 6960, 'wed': 6961, 'athol': 6962, 'osborne': 6963, 'victory': 6964, 'unsettled': 6965, 'selmont': 6966, 'junkies:': 6967, 'chained': 6968, 'furano-ashibetsu': 6969, 'ths': 6970, 'beedeville': 6971, 'edwards': 6972, 'mine': 6973, 'beyblade:': 6974, 'fierce': 6975, 'snake': 6976, 'thousands': 6977, 'carpenterville': 6978, 'infantil': 6979, 'augustine': 6980, '3rd': 6981, 'bahrain': 6982, 'gods': 6983, 'skeets': 6984, 'saxophone': 6985, 'supremacy': 6986, 'ofelia': 6987, 'italian': 6988, 'directive': 6989, '51': 6990, 'phish:': 6991, 'vegas': 6992, 'booked': 6993, 'sandstone': 6994, 'michel': 6995, 'strogoff': 6996, 'frog': 6997, 'continued': 6998, 'prabha': 6999, 'atre': 7000, 'choclair': 7001, 'bso': 7002, 'galactic': 7003, 'pot-healer': 7004, 'cassidy': 7005, 'stereo': 7006, 'shavo': 7007, 'odadjian': 7008, 'ringlestone': 7009, 'grenada': 7010, 'bret': 7011, 'mckenzie': 7012, 'commute': 7013, 'greensburg': 7014, 'wrong': 7015, 'murone': 7016, 'kōgen': 7017, 'nightdress': 7018, 'photoscape': 7019, 'spooky': 7020, 'teitur': 7021, 'lassen': 7022, 'maliau-basin-conservation-area': 7023, 'aki': 7024, 'nawaz': 7025, 'weekend': 7026, 'join': 7027, 'dots:': 7028, 'b-sides': 7029, 'rarities': 7030, 'hitchita': 7031, '25th': 7032, 'momy': 7033, 'flossmoor': 7034, 'são': 7035, 'tomé': 7036, 'príncipe': 7037, 'mattawan': 7038, 'dominica': 7039, 'emperors:': 7040, 'thyatis': 7041, 'alphatia': 7042, 'dallesport': 7043, 'went': 7044, 'falmouth': 7045, 'hungary': 7046, 'devils': 7047, 'den': 7048, 'minidoka': 7049, 'eviatar': 7050, 'banai': 7051, 'lovex': 7052, 'cab': 7053, 'darwin': 7054, 'peru': 7055, 'cool': 7056, 'stephanie': 7057, 'biddle': 7058, 'powder': 7059, 'puff': 7060, 'mirror': 7061, 'follow': 7062, 'camel': 7063, 'cappella': 7064, '45': 7065, 'moron': 7066, 'gathering': 7067, 'valverde': 7068, 'arch': 7069, 'you’re': 7070, 'winning': 7071, 'melon': 7072, 'baruch': 7073, 'chait': 7074, 'manuela': 7075, 'yvonne': 7076, 'paulette': 7077, 'sergeants': 7078, 'lolita': 7079, 'mandaean': 7080, '01:48:35': 7081, 'moroccan': 7082, 'greenville': 7083, 'berigan': 7084, 'noble': 7085, 'bitter': 7086, 'moa': 7087, 'anbessa': 7088, 'merengue': 7089, 'felix': 7090, 'kubin': 7091, 'kronos': 7092, 'vampire': 7093, 'dame': 7094, 'ethiopian': 7095, 'sholes': 7096, 'tisha': 7097, 'hooker': 7098, 'kearneysville': 7099, 'daphne': 7100, 'asha': 7101, 'bhosle': 7102, 'armik': 7103, 'mcentee': 7104, 'armour': 7105, 'chapin': 7106, 'clash': 7107, 'codes': 7108, 'inniswold': 7109, 'concise': 7110, 'treatise': 7111, 'angling': 7112, 'debby': 7113, 'garin': 7114, 'desmond': 7115, 'dekker': 7116, 'linger': 7117, 'awhile:': 7118, 'newport': 7119, 'worms': 7120, 'clan': 7121, 'emile': 7122, 'reproductions': 7123, 'chief': 7124, 'cook': 7125, 'yacoubian': 7126, '08:39': 7127, 'tata': 7128, 'trunk': 7129, 'minestrone': 7130, 'mongolian': 7131, 'northway': 7132, 'filipp': 7133, 'bedrossowitsch': 7134, 'kirkorow': 7135, 'journeyman': 7136, 'survive': 7137, 'regional': 7138, 'testament': 7139, 'gideon': 7140, 'mack': 7141, 'peking': 7142, 'piskies:': 7143, 'cornish': 7144, 'palmer': 7145, 'odetta': 7146, 'cissy': 7147, 'doi': 7148, 'suthep-pui': 7149, '4/15/2034': 7150, 'sai': 7151, 'thong': 7152, '02:59': 7153, 'myths': 7154, 'hindus': 7155, 'buddhists': 7156, 'shanghai': 7157, 'diaz': 7158, 'heyy': 7159, 'babyy': 7160, 'sonny': 7161, 'stitt': 7162, 'crimson': 7163, 'g-men': 7164, 'bim': 7165, 'ear': 7166, 'tupac': 7167, 'sarban': 7168, 'sealy': 7169, 'trattoria': 7170, 'hadar': 7171, 'nastya': 7172, 'kamenskih': 7173, 'priscilla': 7174, 'ballet': 7175, 'beam:': 7176, 'atari': 7177, 'salmon': 7178, 'ric': 7179, 'fierabracci': 7180, '135th': 7181, 'thrones': 7182, 'boomtown:': 7183, 'trina': 7184, 'latoya': 7185, 'tuvalu': 7186, 'expresión': 7187, 'ariston': 7188, 'dutchess': 7189, 'abstinence': 7190, 'lampoon': 7191, 'anniversary': 7192, '1970–1980': 7193, 'poverty': 7194, 'nobility': 7195, 'returned': 7196, 'ryan': 7197, 'brat': 7198, 'stump': 7199, 'maritza': 7200, 'keene': 7201, 'paly': 7202, 'banker': 7203, 'superman:': 7204, 'topock': 7205, 'jacksons': 7206, 'cameia': 7207, 'rosanne': 7208, 'rough': 7209, 'diamonds': 7210, 'cotton': 7211, 'meyer': 7212, 'cia': 7213, 'factbook': 7214, 'patiala': 7215, 'rajinikanth:': 7216, 'definitive': 7217, 'sreekumar': 7218, 'laidback': 7219, 'ramakadha': 7220, 'karl': 7221, 'davydov': 7222, 'storia': 7223, 'natale': 7224, 'strabane': 7225, 'wedlock': 7226, 'birdland': 7227, 'spain': 7228, 'spade': 7229, 'garden': 7230, 'lille': 7231, 'nichols': 7232, 'mariah…': 7233, 'elusive': 7234, 'chanteuse': 7235, 'crabfish': 7236, '13:22:09': 7237, 'fingers': 7238, 'spells': 7239, 'philtres': 7240, 'romanian': 7241, 'rixford': 7242, 'xquery': 7243, 'api': 7244, 'java': 7245, 'honor': 7246, 'culver': 7247, 'camille': 7248, 'antebellum': 7249, 'sunil': 7250, 'santha': 7251, 'jacksboro': 7252, 'mauritius': 7253, 'bearmouth': 7254, 'that:': 7255, 'creamed': 7256, 'eggs': 7257, 'territory': 7258, 'anweshaa': 7259, 'wes': 7260, 'scantlin': 7261, 'bouchée': 7262, 'genocide': 7263, 'front': 7264, 'jacksonville': 7265, 'progress': 7266, 'flanagan': 7267, 'pleasures': 7268, 'proof': 7269, 'post-grunge': 7270, 'sunnybrook': 7271, 'cherry': 7272, 'pink': 7273, 'trapp': 7274, 'mendoza': 7275, 'alok': 7276, 'laurelhurst': 7277, 'connorville': 7278, 'sewickley': 7279, 'klamath': 7280, 'chillin': 7281, 'susanne': 7282, 'pricedale': 7283, 'faget': 7284, 'darlene': 7285, 'tessa': 7286, '09:58:27': 7287, 'chet': 7288, 'lam': 7289, 'musketeers': 7290, 'horseshoe': 7291, 'bangladesh': 7292, 'genaro': 7293, 'dangerous': 7294, 'liberator': 7295, 'yonder': 7296, 'orleans': 7297, 'appreciation': 7298, 'folksy': 7299, 'filthy': 7300, 'lucre': 7301, 'sulle': 7302, 'sathya': 7303, 'cohn': 7304, 'ricardo': 7305, 'villalobos': 7306, 'dukes': 7307, 'foreign': 7308, 'affair': 7309, 'hoffman': 7310, 'flake': 7311, 'hearted': 7312, 'slippery': 7313, 'gober': 7314, 'supernaut': 7315, 'armand': 7316, 'helden': 7317, 'crawlspace': 7318, 'eunice': 7319, 'elisa': 7320, 'towel': 7321, 'fins': 7322, 'severe': 7323, 'ealing': 7324, 'helianthushof': 7325, 'hurffville': 7326, 'fools': 7327, 'chalkyitsik': 7328, 'pirate': 7329, 'everson': 7330, 'conchiglie': 7331, 'calipuy': 7332, 'spenard': 7333, 'stars:': 7334, 'co-operative': 7335, 'block': 7336, 'scandinavian': 7337, 'shohola': 7338, 'saturn': 7339, '15:26:11': 7340, 'keyes': 7341, 'summit': 7342, 'courtney': 7343, 'meatball': 7344, 'erica': 7345, 'necromancer': 7346, 'she-devil': 7347, 'shout': 7348, 'andrew': 7349, 'everything': 7350, 'amirbai': 7351, 'karnataki': 7352, 'chamberlain': 7353, 'personality': 7354, 'bhoot': 7355, 'deidre': 7356, 'rosa': 7357, 'oakey': 7358, 'outlaws': 7359, 'sherwood': 7360, 'spinnin': 7361, 'sha': 7362, 'xl': 7363, 'matinee': 7364, 'idol': 7365, '06:30': 7366, 'ambition': 7367, 'catherine': 7368, 'moving': 7369, 'shamrock': 7370, 'handicap': 7371, 'hayvoronsky': 7372, 'powell': 7373, 'equal': 7374, 'affections': 7375, 'seabrook': 7376, 'swiss': 7377, 'ruwanga': 7378, 'samath': 7379, 'blaydon': 7380, 'races': 7381, 'henrieville': 7382, 'jingle': 7383, 'jillian': 7384, 'built': 7385, 'mucho': 7386, 'maltby': 7387, 'automator': 7388, 'unwelcome': 7389, 'rope': 7390, 'device': 7391, 'laurel': 7392, 'aitken': 7393, 'chee': 7394, 'hun': 7395, '4813': 7396, 'hollidaysburg': 7397, 'lambeth': 7398, 'portions': 7399, 'wine-stained': 7400, 'notebook:': 7401, 'essays': 7402, 'baby-sittor': 7403, 'scoop': 7404, 'mediterranean': 7405, 'confederate': 7406, 'denali': 7407, 'ham': 7408, 'isn': 7409, 'canarsie': 7410, 'rockaway': 7411, 'parkway': 7412, 'bennington': 7413, 'varenyky': 7414, 'westernport': 7415, 'pease': 7416, 'porridge': 7417, 'vicious': 7418, 'cottageville': 7419, 'salads': 7420, 'cisco': 7421, 'adler': 7422, 'remains': 7423, '79': 7424, 'dragons': 7425, 'dawning': 7426, 'pillow': 7427, 'boring': 7428, 'sparks': 7429, 'mile': 7430, 'roselle': 7431, 'man:': 7432, 'neil': 7433, 'abode': 7434, 'assassination': 7435, 'jesse': 7436, 'coward': 7437, 'christie': 7438, 'kowanek': 7439, 'pearl': 7440, 'verna': 7441, 'slated': 7442, 'ash': 7443, 'wednesday': 7444, 'hogs': 7445, 'deviled': 7446, 'crab': 7447, 'palmview': 7448, 'plot': 7449, 'scarface': 7450, 'davies': 7451, 'else': 7452, 'balzary': 7453, 'northcote': 7454, 'deathcore': 7455, 'avatar': 7456, 'orchard': 7457, 'greek': 7458, 'madawaska': 7459, 'labworth': 7460, 'ethiopia': 7461, 'louella': 7462, 'goss': 7463, 'kelso': 7464, 'farmington': 7465, 'match': 7466, '07:43:21': 7467, 'concrete': 7468, 'restasurant': 7469, 'pohick': 7470, 'reality:': 7471, 'laws': 7472, 'gulfport': 7473, 'pôchouse': 7474, 'rocksprings': 7475, 'date': 7476, 'cohesive': 7477, 'bellamy': 7478, 'contributed': 7479, 'secondary': 7480, 'ohear': 7481, 'ahbez': 7482, 'shopsins': 7483, 'spartan:': 7484, 'noko': 7485, 'rocca': 7486, 'bidoup': 7487, 'núi': 7488, 'bà': 7489, 'watson': 7490, 'drowning': 7491, 'libros': 7492, 'conflict': 7493, 'sawai': 7494, 'gandharva': 7495, 'sehlabathebe-nationalpark': 7496, '11/18/2018': 7497, 'charming': 7498, 'attractive': 7499, 'priority': 7500, 'techno-industrial': 7501, 'udupi': 7502, 'rave': 7503, 'bourne': 7504, 'findon': 7505, 'chu': 7506, 'philly': 7507, 'weissberg': 7508, 'divine': 7509, 'vinnie': 7510, 'roslin': 7511, 'guts': 7512, 'chopin': 7513, 'iconic:': 7514, 'photographer': 7515, 'dennis': 7516, 'stock': 7517, 'tommie': 7518, 'sunshine': 7519, 'folklore': 7520, 'fields': 7521, 'jtr': 7522, '6/1/2027': 7523, 'lanta': 7524, '97:': 7525, 'desert': 7526, 'legendary': 7527, 'solos': 7528, 'killers': 7529, 'savior': 7530, 'leads': 7531, 'migration': 7532, 'resevation': 7533, 'stle': 7534, '6/21/2035': 7535, 'clarice': 7536, 'charleston': 7537, 'revolutions': 7538, 'doctors': 7539, 'timbers': 7540, 'thug': 7541, 'lordz': 7542, 'trilogy': 7543, 'zamiast': 7544, 'burzy': 7545, 'phunkadelic': 7546, 'mutlu': 7547, 'outside': 7548, 'syndicate': 7549, 'millicent': 7550, 'tad': 7551, 'kinchla': 7552, 'entrevistas': 7553, 'gormenghast': 7554, 'yusef': 7555, 'lateef': 7556, 'ava': 7557, 'raquel': 7558, 'hainesville': 7559, 'brixton': 7560, 'academy': 7561, 'chowder': 7562, 'later': 7563, 'fabri': 7564, 'fibra': 7565, 'aquariums': 7566, 'pyongyang': 7567, 'roches': 7568, 'floating': 7569, 'rambler': 7570, 'coach': 7571, 'cousin': 7572, 'burundi': 7573, 'emmy': 7574, 'rossum': 7575, 'noi': 7576, 'lohan': 7577, 'pleasant': 7578, 'dinnertime': 7579, 'acoustics': 7580, 'admiralty': 7581, 'leigh': 7582, 'nash': 7583, 'reineke': 7584, 'weight': 7585, 'kernersville': 7586, 'powerhouses': 7587, 'orchestrion': 7588, 'triumph': 7589, 'tartine': 7590, 'teleform': 7591, 'ussr': 7592, 'bomb': 7593, 'salami': 7594, 'bastian': 7595, 'collectors': 7596, 'lahore': 7597, 'vega': 7598, 'alta': 7599, 'slender': 7600, 'thread': 7601, 'sligo': 7602, 'industrial': 7603, 'messed': 7604, 'fries': 7605, 'frozen': 7606, 'fabes': 7607, 'ithkar': 7608, 'budapest': 7609, 'beacon': 7610, 'harveys': 7611, 'secretary': 7612, 'interesting': 7613, 'times:': 7614, 'success': 7615, 'geschwisterliebe': 7616, 'chinese': 7617, 'coverage': 7618, 'crepes': 7619, 'tripp': 7620, 'eisen': 7621, 'canta': 7622, 'ducha': 7623, 'emil': 7624, 'gilels': 7625, 'sylvia': 7626, 'plath': 7627, 'deron': 7628, 'fridays': 7629, 'kick': 7630, 'traces': 7631, 'viktor': 7632, 'merjanov': 7633, 'plalist': 7634, 'visjoner': 7635, 'post-punk': 7636, 'vanished': 7637, 'perfume:': 7638, 'murderer': 7639, 'richfield': 7640, 'kenneth': 7641, '\"jethro\"': 7642, 'burns': 7643, 'soundscapes': 7644, '2gether': 7645, 'jade': 7646, 'puget': 7647, 'shrunk': 7648, 'baker’s': 7649, 'keyboard': 7650, 'selma': 7651, 'mcsherrystown': 7652, '21:05:17': 7653, 'tortano': 7654, 'isabella': 7655, 'carly': 7656, 'standard': 7657, 'dawns': 7658, 'merz': 7659, 'pet': 7660, 'cairo': 7661, 'zoo': 7662, 'sandman': 7663, 'neylandville': 7664, 'petree': 7665, 'itsu': 7666, 'capistrano': 7667, 'croquembouche': 7668, 'ayumi': 7669, 'hamasaki': 7670, 'arena': 7671, 'level': 7672, 'tarja': 7673, 'turunen': 7674, 'features': 7675, 'yuvan': 7676, 'shankar': 7677, 'raja': 7678, 'shadowchaser': 7679, 'citizen': 7680, 'edda': 7681, 'semenovich': 7682, 'evolution': 7683, 'mary:': 7684, 'garcia': 7685, 'lot': 7686, 'vinci': 7687, 'code': 7688, 'ircle': 7689, '4/19/2030': 7690, 'elephants': 7691, 'alien': 7692, 'continues': 7693, '1989': 7694, '8/8/2039': 7695, 'ulen': 7696, 'hokendauqua': 7697, 'mongolia': 7698, 'there:': 7699, 'licensed': 7700, 'proud': 7701, 'bigger': 7702, 'beardslee': 7703, 'lanes': 7704, 'jamie': 7705, 'hallie': 7706, 'lavern': 7707, 'nickelsville': 7708, 'geographic': 7709, 'dinosaurs': 7710, 'stanford': 7711, '6/15/2025': 7712, 'onward': 7713, 'onion': 7714, 'sportsdome': 7715, 'bachata': 7716, 'spectres': 7717, 'cuan': 7718, 'dubh': 7719, 'drilseach': 7720, 'robbe': 7721, 'saba': 7722, 'sat': 7723, 'refugee': 7724, 'busco': 7725, 'un': 7726, 'pueblo': 7727, 'shingleton': 7728, 'carlisle': 7729, 'grunge': 7730, 'cleopatra': 7731, 'stratan': 7732, 'masterworks': 7733, 'teenagers': 7734, 'hola': 7735, 'lou:': 7736, 'prom': 7737, 'bowers': 7738, '4/17/2033': 7739, 'ryō': 7740, 'cholame': 7741, 'rebirth': 7742, 'kirk': 7743, 'clásica': 7744, 'todos': 7745, 'dells': 7746, 'tenacious': 7747, 'in:': 7748, 'pick': 7749, 'maalaea': 7750, 'navy': 7751, '31': 7752, 'minutos': 7753, 'porter': 7754, 'germania': 7755, 'porphyry': 7756, 'enough': 7757, 'wrestling': 7758, 'ismol': 7759, '20:44': 7760, 'ryohei': 7761, 'yamamoto': 7762, 'bordertown': 7763, 'potée': 7764, 'ally': 7765, 'kerr': 7766, 'thornville': 7767, 'terrie': 7768, 'hypoluxo': 7769, 'evangeline': 7770, 'medieval': 7771, 'bert': 7772, 'aphex': 7773, 'ira': 7774, 'losco': 7775, 'jethro': 7776, 'timer': 7777, 'augustus': 7778, 'utamaro': 7779, 'intense': 7780, 'studying': 7781, 'prediction': 7782, 'camdeboo-nationalpark': 7783, 'freshwater': 7784, 'liza': 7785, 'oumarova': 7786, 'casting': 7787, 'crowns': 7788, 'spades': 7789, 'hurts': 7790, 'acta': 7791, 'mathematicae': 7792, 'applicatae': 7793, 'sinica': 7794, 'sonic': 7795, 'saintly': 7796, 'switch': 7797, 'butch': 7798, 'trucks': 7799, 'tanintharyi': 7800, 'cuisines': 7801, 'khujo': 7802, 'keachi': 7803, 'fondue': 7804, 'thompsontown': 7805, 'karen': 7806, 'datil': 7807, 'minnie': 7808, 'riperton': 7809, '05:51:52': 7810, 'millions': 7811, 'mythology': 7812, 'wiggs': 7813, 'skystone': 7814, 'milwaukee': 7815, 'ever': 7816, 'bennett': 7817, 'mothstorm': 7818, 'vintage': 7819, '74': 7820, '345': 7821, 'clue': 7822, 'chance': 7823, 'lifetime': 7824, 'melba': 7825, 'bullets': 7826, 'defense': 7827, 'hubbell': 7828, 'baconton': 7829, 'smith-9th': 7830, 'conspiracy': 7831, 'mina': 7832, 'caputo': 7833, 'brotherly': 7834, 'verdi': 7835, 'becomes': 7836, 'punishment': 7837, 'suburbia': 7838, 'wilde': 7839, 'stansbury': 7840, 'kokhanok': 7841, 'tsubasa': 7842, 'imai': 7843, 'stu': 7844, 'troops': 7845, 'crossover': 7846, 'battlement': 7847, 'mesa': 7848, 'wxhexeditor': 7849, 'ansonia': 7850, 'chymical': 7851, 'laura': 7852, 'wrigley': 7853, 'viaje': 7854, 'copperpot': 7855, 'cartel': 7856, 'rascals': 7857, 'spooks': 7858, 'liang': 7859, 'wern': 7860, 'fook': 7861, 'frampton': 7862, 'wall': 7863, 'lifelong': 7864, 'ambitions': 7865, 'leo': 7866, 'impressions': 7867, 'bless': 7868, 'adeline': 7869, 'opium': 7870, 'gone': 7871, 'stracke': 7872, 'jefferson': 7873, 'expansion': 7874, 'a-hunting': 7875, 'stat': 7876, 'guru': 7877, 'osage': 7878, 'infidels': 7879, 'learning': 7880, 'rev-raptor': 7881, 'lothian': 7882, 'anatoljewitsch': 7883, 'kurjochin': 7884, 'cracked': 7885, 'fruit': 7886, 'olpe': 7887, 'column': 7888, 'strolghino': 7889, 'pilson': 7890, 'cope': 7891, 'loyalhanna': 7892, '7/13/2036': 7893, 'stefanie': 7894, 'space:': 7895, 'blob': 7896, 'climax': 7897, 'voice': 7898, 'kiara': 7899, 'manual': 7900, 'adams': 7901, 'vice': 7902, 'loathing': 7903, 'campaign': 7904, '’72': 7905, 'jarbidge': 7906, 'topinabee': 7907, 'housemaid': 7908, 'jardine': 7909, 'burr': 7910, 'corcovado': 7911, 'goof': 7912, 'tsūzetsu': 7913, 'commitments': 7914, 'layhigh': 7915, 'runkaus': 7916, 'leong': 7917, 'emanuel': 7918, 'kiriakou': 7919, 'kisaki': 7920, 'generación': 7921, 'rbd': 7922, 'vivo': 7923, 'magician': 7924, 'zahir': 7925, 'howaida': 7926, 'sting': 7927, 'elf': 7928, 'emoji': 7929, '10/4/2021': 7930, 'heartland': 7931, 'on-line': 7932, 'integer': 7933, 'sequences': 7934, 'jaula': 7935, 'oro': 7936, 'phineas': 7937, 'redux': 7938, 'ce': 7939, 'cher': 7940, 'intrus': 7941, 'cheaper': 7942, 'dozen': 7943, 'mimi': 7944, 'biscuit': 7945, 'factory': 7946, 'hendthighelbedi': 7947, 'postman': 7948, 'rings': 7949, 'fennesz': 7950, 'wrote': 7951, 'yang': 7952, 'hyun': 7953, 'seok': 7954, 'deersville': 7955, 'utley': 7956, 'tsongas': 7957, 'norma': 7958, 'jean': 7959, 'hasan': 7960, 'saltik': 7961, 'reflection': 7962, 'lindas': 7963, 'mundo': 7964, 'raytown': 7965, 'casserole': 7966, 'karin': 7967, 'dreijer': 7968, 'andersson': 7969, 'hendley': 7970, 'boone': 7971, '10:24': 7972, 'stalinism': 7973, 'bohemia': 7974, 'epiphany': 7975, 'marguerite': 7976, 'della': 7977, 'iene': 7978, 'miene': 7979, 'mutte': 7980, 'screaming': 7981, 'staircase': 7982, 'time:': 7983, 'nameless': 7984, 'payette': 7985, 'maxime': 7986, '105th': 7987, 'dresden': 7988, 'takei': 7989, 'empires': 7990, 'faerûn': 7991, 'pendleton': 7992, 'pepe': 7993, 'aguilar': 7994, 'tropézienne': 7995, 'exiles': 7996, 'rest': 7997, 'nearly': 7998, 'nashville': 7999, 'listening': 8000, 'mutation': 8001, 'deathsmiles': 8002, 'hooven': 8003, 'lithuania': 8004, 'strike': 8005, 'geminism': 8006, 'sara': 8007, 'ortiz': 8008, 'dickinsonian': 8009, 'male': 8010, 'pornography:': 8011, 'discrimination': 8012, 'eve': 8013, 'ejigayehu': 8014, 'shibabaw': 8015, 'keita': 8016, 'tachibana': 8017, 'howling': 8018, 'jamesedition': 8019, 'classified': 8020, 'fertile': 8021, 'ground': 8022, 'dalles': 8023, 'kathleen': 8024, 'brianna': 8025, 'miguelito': 8026, 'charting': 8027, 'hollows': 8028, 'boogaloo': 8029, 'vegetarian': 8030, 'petar': 8031, 'exell': 8032, 'shanghaï': 8033, 'almost': 8034, 'toxic': 8035, 'avenger': 8036, 'dared': 8037, 'tapper': 8038, 'zukie': 8039, 'belongs': 8040, 'eyota': 8041, 'bg': 8042, 'knocc': 8043, 'sundown:': 8044, 'retreat': 8045, 'cinderella': 8046, 'trevor': 8047, 'mcnevan': 8048, 'honduras': 8049, 'daddy': 8050, 'myth': 8051, 'si': 8052, 'hubiera': 8053, 'conocido': 8054, 'haidar': 8055, 'salim': 8056, 'punta': 8057, 'gorda': 8058, 'orlovista': 8059, 'armen': 8060, 'movsessian': 8061, 'skepta': 8062, 'baden': 8063, 'jesper': 8064, 'kyd': 8065, 'grime': 8066, 'instrumentals': 8067, 'psychologist': 8068, 'myers': 8069, 'marva': 8070, 'biscay': 8071, 'needmore': 8072, 'maisry': 8073, 'heaven:': 8074, 'santana': 8075, 'performs': 8076, 'jes': 8077, 'brieden': 8078, 'eudaemonic': 8079, 'abby': 8080, 'jip': 8081, 'quiet': 8082, 'kamen': 8083, 'rider': 8084, 'ooo': 8085, 'wonderful:': 8086, 'shogun': 8087, 'core': 8088, 'medals': 8089, 'streaming': 8090, 'leoti': 8091, '09:32:06': 8092, 'moncove': 8093, 'highest': 8094, 'bastards': 8095, 'seagraves': 8096, 'rome': 8097, 'hawkins': 8098, 'barchetta': 8099, 'lemon': 8100, 'jared': 8101, 'hasselhoff': 8102, 'halfbreed': 8103, 'cindy': 8104, 'munia': 8105, 'hotline': 8106, 'jarreau': 8107, 'nicer': 8108, 'pages': 8109, 'shame': 8110, 'blasko': 8111, 'neffs': 8112, 'hitchland': 8113, 'fahl': 8114, 'angelita': 8115, 'susan': 8116, 'ashlee': 8117, 'argumentative': 8118, 'penalty': 8119, 'tawakoni': 8120, 'italy': 8121, 'thy': 8122, 'neighbor': 8123, 'druss': 8124, 'muireann': 8125, 'nic': 8126, 'amhlaoibh': 8127, 'team': 8128, 'cover': 8129, 'ammonia': 8130, 'volga': 8131, 'lots': 8132, 'asian': 8133, 'bradford': 8134, '8/4/2024': 8135, 'cevin': 8136, 'masada': 8137, 'unknown': 8138, 'whiskers:': 8139, 'favourite': 8140, 'nursery': 8141, 'rhymes': 8142, 'sturgis': 8143, 'operación': 8144, 'bikini': 8145, 'hynes': 8146, 'mercenary': 8147, '04:36:28': 8148, 'jermaine': 8149, 'fagan': 8150, 'vaughan': 8151, 'creamery': 8152, 'carnot': 8153, '2112': 8154, 'owen': 8155, 'ashland': 8156, 'brilliant': 8157, 'tragic': 8158, 'hog': 8159, 'nordland': 8160, 'swing': 8161, '99': 8162, 'snobs': 8163, 'daisy': 8164, 'voisin': 8165, 'gutting': 8166, 'couffignal': 8167, 'didn': 8168, 'nobody': 8169, 'structured': 8170, 'fax': 8171, 'file': 8172, 'chickens': 8173, 'rocket': 8174, 'chowchilla': 8175, 'durant': 8176, 'zen:': 8177, 'katz': 8178, 'pot': 8179, 'doughnuts': 8180, 'tukaram': 8181, 'winnfield': 8182, 'fei': 8183, 'yu': 8184, 'ching': 8185, 'ben': 8186, 'seeing': 8187, 'mccartney': 8188, 'salinas': 8189, 'mandino': 8190, 'hey': 8191, 'ye': 8192, 'waking': 8193, 'muddy': 8194, 'fisn': 8195, 'timberville': 8196, 'saviour': 8197, 'fortus': 8198, '2/25/2025': 8199, 'holstein': 8200, 'peaceful': 8201, 'ultra': 8202, 'turks': 8203, 'caicos': 8204, 'keystone': 8205, 'kops': 8206, '04:08:11': 8207, 'forks': 8208, 'mailroom:': 8209, 'strange': 8210, 'civilization': 8211, 'engadget': 8212, 'regis': 8213, 'turkmenistan': 8214, 'vermicelli': 8215, 'tar:': 8216, 'midwest': 8217, 'childhood': 8218, 'jono': 8219, 'morton': 8220, 'feldman': 8221, 'quartet': 8222, 'croissant': 8223, 'russel': 8224, 'walder': 8225, 'principle': 8226, 'hope': 8227, 'fare': 8228, 'well:': 8229, 'celebrating': 8230, 'grateful': 8231, 'gem': 8232, 'gamaliel': 8233, 'melly': 8234, 'warheart': 8235, 'mole': 8236, 'roxy': 8237, 'drum': 8238, 'mayya': 8239, '28th': 8240, 'everlast': 8241, 'yumi': 8242, 'matsuzawa': 8243, 'shawnna': 8244, 'trifecta': 8245, 'webber': 8246, 'raphael': 8247, 'rabello': 8248, 'cornelia': 8249, 'austin': 8250, '09:42': 8251, 'encino': 8252, 'meatcake': 8253, 'santa': 8254, 'claus': 8255, 'caddo': 8256, 'willie': 8257, 'corrina': 8258, 'envoy': 8259, 'lucifer': 8260, 'friendship': 8261, 'panther': 8262, 'yuki': 8263, 'koyanagi': 8264, 'ashford': 8265, 'eastport': 8266, '2001': 8267, 'dungeonmaster': 8268, 'whispering': 8269, 'willows': 8270, 'josefa': 8271, 'branford': 8272, 'vicki': 8273, 'lousy': 8274, 'stehekin': 8275, '1/1/2018': 8276, 'victoria': 8277, 'banks': 8278, 'edge': 8279, 'alice:': 8280, 'true': 8281, 'wilko': 8282, 'attic': 8283, 'format': 8284, 'maze': 8285, 'looks': 8286, 'primus': 8287, 'solitude': 8288, 'districts': 8289, 'cyclists': 8290, 'aransas': 8291, 'false': 8292, 'lamar': 8293, 'hoonah': 8294, 'thrash': 8295, 'bamboccioni': 8296, 'maki': 8297, 'onaga': 8298, 'maksim': 8299, 'firebrand': 8300, 'richards': 8301, 'kerry': 8302, 'zorro': 8303, '3/26/2023': 8304, 'toward': 8305, 'nba': 8306, 'ahmad': 8307, 'rashad': 8308, 'revived': 8309, 'visual': 8310, 'sensory': 8311, 'owl': 8312, 'mtv:': 8313, 'uncensored': 8314, 'revolution': 8315, 'jang': 8316, 'nara': 8317, 'samira': 8318, 'said': 8319, 'badass': 8320, 'voyages': 8321, 'pressure': 8322, 'cracks': 8323, 'cali': 8324, 'juanes': 8325, 'xena:': 8326, 'olympus': 8327, 'scarabaeus': 8328, 'donna': 8329, 'millvale': 8330, 'valery': 8331, 'kipelov': 8332, 'apparatus': 8333, 'halibut': 8334, 'nightcall': 8335, 'fever:': 8336, '07:08:00': 8337, 'kunnon': 8338, 'syy': 8339, 'kakko': 8340, 'nightwork': 8341, 'hilliard': 8342, 'tsingy': 8343, 'bemaraha': 8344, 'kingsley': 8345, 'letty': 8346, 'fox:': 8347, 'breakers': 8348, 'roar': 8349, 'tolmatschowa': 8350, 'schwestern': 8351, 'tube': 8352, 'teriazume': 8353, 'sixty': 8354, 'abhijeet': 8355, 'bhattacharya': 8356, 'thorns': 8357, 'spell': 8358, 'jenifer': 8359, 'somis': 8360, 'cena': 8361, 'elegante': 8362, 'frl': 8363, 'menke': 8364, 'lure': 8365, 'mask': 8366, 'lily': 8367, 'deaf': 8368, 'murphy': 8369, 'meltdown': 8370, 'destruction': 8371, 'coti': 8372, 'agincourt': 8373, 'gurdas': 8374, 'maan': 8375, 'peaks': 8376, 'layne': 8377, 'staley': 8378, 'dhafer': 8379, 'youssef': 8380, 'vans': 8381, 'compilation': 8382, 'cosby': 8383, 'cosnarati:': 8384, 'emergency': 8385, 'investigating': 8386, 'afterlife': 8387, 'neidich': 8388, 'soldier': 8389, 'gardot': 8390, 'mcguinness': 8391, 'contigo': 8392, 'distancia': 8393, 'eddie’s': 8394, 'fats': 8395, 'waller': 8396, 'kitchener': 8397, 'soudan': 8398, 'histoire': 8399, 'dico': 8400, 'doc': 8401, 'savage:': 8402, 'bronze': 8403, 'ken': 8404, 'zwanzig': 8405, 'zwölf': 8406, 'rapid': 8407, 'muscle': 8408, 'dekalb': 8409, 'knocked': 8410, 'loaded': 8411, 'pickled': 8412, 'cucumber': 8413, 'movietimes': 8414, 'nao': 8415, 'kawakita': 8416, '7/10/2023': 8417, 'documents': 8418, 'bickler': 8419, 'prophet': 8420, 'life:': 8421, 'kill': 8422, 'parent': 8423, 'iv:': 8424, 'pimpernel': 8425, 'muffuletta': 8426, 'shada': 8427, 'hassoun': 8428, 'oriel': 8429, 'allison': 8430, 'hungarian': 8431, 'exorcising': 8432, 'amityville:': 8433, 'escapes': 8434, 'revelations': 8435, 'least': 8436, 'comeback': 8437, 'willow': 8438, 'chatyrkul': 8439, 'shoots': 8440, 'maimi': 8441, 'yajima': 8442, 'thesis': 8443, 'choper': 8444, 'gilson': 8445, 'tactics': 8446, 'easel': 8447, 'william': 8448, 'estonia': 8449, 'currents': 8450, 'editions': 8451, 'christianity': 8452, 'sanjeev': 8453, 'abhyankar': 8454, 'cara': 8455, 'dios': 8456, 'wooly': 8457, 'apollo': 8458, 'branch': 8459, 'cherwell': 8460, 'boathouse': 8461, 'unarchigal': 8462, 'madlib': 8463, 'invazion': 8464, 'prog': 8465, 'monsters': 8466, 'transmission': 8467, 'wadsworth': 8468, 'janie': 8469, 'rat': 8470, 'trips:': 8471, 'treasury': 8472, 'geir': 8473, 'jenssen': 8474, 'chart': 8475, 'throb': 8476, 'katherine': 8477, 'pokémon:': 8478, 'mastermind': 8479, 'mirage': 8480, 'othappu': 8481, 'tsidii': 8482, 'loka': 8483, 'reasons': 8484, 'coersion': 8485, 'parable': 8486, 'sower': 8487, 'govere': 8488, 'anochecer': 8489, 'urbano': 8490, 'kearney': 8491, 'gad': 8492, 'elbaz': 8493, 'borys': 8494, 'ljatoschynskyj': 8495, 'aroostook': 8496, 'alfonzo': 8497, 'larrain': 8498, '1995': 8499, 'scouse': 8500, 'git': 8501, 'contre': 8502, 'arsène': 8503, 'lupin': 8504, 'desire': 8505, 'creeper': 8506, 'laid': 8507, 'yukiko': 8508, 'iwai': 8509, 'violet': 8510, 'dianne': 8511, 'ripper': 8512, 'park-beach': 8513, '116th': 8514, 'soupe': 8515, 'outer': 8516, 'licence': 8517, 'renewed': 8518, 'martha': 8519, 'unalaska': 8520, 'bebob': 8521, 'actrices': 8522, 'ruffin': 8523, 'cannelloni': 8524, 'bynum': 8525, '09:59': 8526, 'kjetil': 8527, 'vidar': 8528, 'haraldstad': 8529, 'listas': 8530, 'hahntown': 8531, 'annette': 8532, 'lower': 8533, 'hundred-foot': 8534, 'wanda': 8535, 'hydration': 8536, 'majesty': 8537, 'lakeview': 8538, 'flesh': 8539, 'addicted': 8540, 'hanna': 8541, 'sjedokowa': 8542, 'lenin': 8543, 'savage': 8544, 'herbie': 8545, 'hangtown': 8546, 'jagual': 8547, 'fool': 8548, 'khwaja': 8549, 'ghulam': 8550, 'farid': 8551, 'knierim': 8552, 'insert': 8553, 'command': 8554, 'koi': 8555, 'senkyo': 8556, 'kristina': 8557, 'teresa': 8558, 'delta': 8559, '42': 8560, 'marcia': 8561, 'carolus': 8562, 'oregonia': 8563, 'alexandrovich': 8564, 'courting': 8565, 'squall': 8566, 'latina': 8567, 'kabhi': 8568, 'jo': 8569, 'baadal': 8570, 'barse': 8571, 'ruth': 8572, 'begums': 8573, 'thugs': 8574, 'mughals': 8575, 'favoretta': 8576, 'soapsuds': 8577, 'sapheads': 8578, 'lydia': 8579, 'mixtape': 8580, 'brando': 8581, '19th': 8582, 'ruins': 8583, 'addition': 8584, 'barre': 8585, 'chettathi': 8586, 'manning': 8587, 'wynonna:': 8588, 'mea': 8589, 'culpa': 8590, 'rahim': 8591, 'shah': 8592, 'bumble': 8593, 'bee': 8594, 'stoddard': 8595, 'olton': 8596, 'het': 8597, 'liefde': 8598, 'gaat': 8599, 'brush': 8600, 'hilt': 8601, 'belhaven': 8602, 'sonning': 8603, 'conflicts': 8604, 'carman': 8605, 'whitebrook': 8606, 'harper': 8607, 'seattle': 8608, 'rakim': 8609, '1980': 8610, 'deed': 8611, 'paksenarrion': 8612, '12\"': 8613, 'mixes': 8614, 'weapon': 8615, 'telepathic': 8616, 'experiences': 8617, 'baladas': 8618, 'románticas': 8619, 'breathless': 8620, 'atlas': 8621, 'noveskey': 8622, 'dara': 8623, 'edwyn': 8624, 'gladiators': 8625, 'kavanaughs': 8626, 'britpop': 8627, 'etc': 8628, 'begonias': 8629, 'entrenar': 8630, 'aaliyah': 8631, 'ina': 8632, 'eulogy': 8633, 'stray': 8634, 'rock:': 8635, 'jumbo': 8636, 'ayr': 8637, 'glamour:': 8638, 'unexpected': 8639, 'mikami': 8640, 'cyclone': 8641, 'demi-gods': 8642, 'semi-devils': 8643, 'rejoicing': 8644, 'anson': 8645, 'hu': 8646, 'sippie': 8647, 'wallace': 8648, 'showtime': 8649, 'spinna': 8650, '03:44': 8651, 'demotte': 8652, '1914–1918': 8653, 'liubi': 8654, 'farah': 8655, 'asyikin': 8656, 'binti': 8657, 'zulkifli': 8658, 'totsuzen': 8659, 'falomir': 8660, 'perez': 8661, 'prado': 8662, 'banana': 8663, 'ewen': 8664, 'brittney': 8665, 'belgium': 8666, 'twins': 8667, 'ours': 8668, 'bf': 8669, 'perdu': 8670, 'prosser': 8671, 'mrs': 8672, 'woodward': 8673, 'atlantis': 8674, 'terre': 8675, 'engloutie': 8676, 'paddy': 8677, 'reilly': 8678, 'occoquan': 8679, 'mineola': 8680, 'willi': 8681, 'tall': 8682, 'stranger': 8683, 'downey': 8684, 'barnum': 8685, 'humphrey': 8686, 'windber': 8687, '365': 8688, 'tranquility': 8689, 'mantler': 8690, 'smear': 8691, 'putesky': 8692, 'drama': 8693, 'repeating': 8694, 'ledger:': 8695, 'beautiful': 8696, 'choucroute': 8697, 'ruskin': 8698, 'jetta': 8699, 'lottery': 8700, 'nokko': 8701, 'opération': 8702, 'tooth': 8703, 'skaggs': 8704, 'coxs': 8705, 'vatican': 8706, 'checkmate': 8707, 'homme': 8708, 'ambler': 8709, '01:19:00': 8710, 'revolución': 8711, 'burst': 8712, 'benjamin': 8713, 'darvill': 8714, 'booker': 8715, 'kanon': 8716, 'wakeshima': 8717, 'scottish': 8718, 'rencor': 8719, 'terrors': 8720, 'lit': 8721, 'teahouse': 8722, 'defined': 8723, 'mahatma': 8724, 'lomas': 8725, 'ledbury': 8726, 'ajoy': 8727, 'chakrabarty': 8728, 'papa': 8729, 'bue': 8730, 'chelsea': 8731, 'aj': 8732, 'carothers': 8733, 'lodge': 8734, 'alkabli': 8735, 'brusly': 8736, 'limberlost': 8737, 'knows': 8738, 'grigory': 8739, 'leps': 8740, 'vegetables': 8741, 'pharrell': 8742, 'glacier': 8743, 'linda': 8744, 'strawberry': 8745, 'vera': 8746, 'session': 8747, 'elements': 8748, 'remixed': 8749, 'apostolos': 8750, 'nikolaidis': 8751, 'colt': 8752, 'winchester': 8753, 'gould': 8754, 'capicollo': 8755, 'kit': 8756, 'carson': 8757, 'ilene': 8758, 'clarke': 8759, 'harms': 8760, 'judas': 8761, 'banc': 8762, 'd’arguin': 8763, 'runaljod': 8764, 'gap': 8765, 'var': 8766, 'ginnunga': 8767, 'ak-suu': 8768, 'complex': 8769, 'beth': 8770, 'nielsen': 8771, 'thirayum': 8772, 'theeravum': 8773, 'strays': 8774, 'parkers': 8775, '07:08:02': 8776, 'jarzombek': 8777, 'dedicated': 8778, 'nimal': 8779, 'mendis': 8780, 'nothin': 8781, 'dahmer': 8782, 'jonathon': 8783, 'pembina': 8784, 'gorge': 8785, 'manatee': 8786, 'conehatta': 8787, 'sutphin': 8788, 'blvd': 8789, 'ballantrae': 8790, 'inning': 8791, 'waxhaw': 8792, 'daltrey': 8793, '08:56:29': 8794, 'brief': 8795, 'funtwo': 8796, 'rileys': 8797, 'premiering': 8798, 'slang': 8799, 'unconventional': 8800, 'worthy': 8801, 'schultz': 8802, 'brats': 8803, 'battalions': 8804, 'arista': 8805, 'connick': 8806, 'brasileiro': 8807, 'wyandotte': 8808, 'vikki': 8809, 'fat': 8810, 'duck': 8811, 'goddess': 8812, 'rollins': 8813, 'pillars': 8814, 'wisdom': 8815, 'verano': 8816, 'jour': 8817, 'dans': 8818, 'notre': 8819, 'vie': 8820, 'trapaholics': 8821, 'dakus': 8822, 'vinson': 8823, 'graniteville': 8824, 'abolition': 8825, 'edinburgh': 8826, 'adriana': 8827, 'hallowell': 8828, 'ichibyōgoto': 8829, 'scorpio': 8830, 'illusion': 8831, 'novena': 8832, 'nocturn': 8833, 'custar': 8834, 'luray': 8835, 'uruguay': 8836, 'amir': 8837, 'boating': 8838, 'epte': 8839, 'freddie': 8840, 'freeloader': 8841, 'doris': 8842, 'tulsa': 8843, 'shown': 8844, 'iran': 8845, 'sleepytime': 8846, 'thames': 8847, 'shutdown': 8848, 'paedophilia:': 8849, 'georgetown': 8850, 'mater': 8851, 'ottumwa': 8852, 'limits': 8853, 'commit': 8854, 'wauregan': 8855, 'plpay': 8856, 'collision': 8857, 'umbrellas': 8858, 'cherbourg': 8859, 'alberton': 8860, 'stallion': 8861, 'rockies': 8862, 'bellechester': 8863, 'derose': 8864, 'nicholasville': 8865, 'milian': 8866, 'johto': 8867, 'journeys': 8868, 'xiang': 8869, 'crossgenesis': 8870, 'julia': 8871, 'fordham': 8872, 'cannabis': 8873, 'schlitt': 8874, 'doves': 8875, 'pythons': 8876, 'indifferent': 8877, 'henrie': 8878, 'mutuku': 8879, 'entfesselt': 8880, 'glimpses': 8881, 'patriot': 8882, 'pencil': 8883, 'mustache': 8884, 'moribund': 8885, 'burgermeister': 8886, 'shades': 8887, 'fascility': 8888, 'philosopher’s': 8889, 'war:': 8890, 'kentuckians': 8891, 'mamie': 8892, 'maria': 8893, 'fisk': 8894, 'av-69th': 8895, 'gilgamesh': 8896, 'bagnell': 8897, '5th': 8898, 'manhasset': 8899, 'heresy': 8900, 'choir': 8901, '12:26': 8902, 'presskopf': 8903, 'choate': 8904, '16th': 8905, 'twenty-first': 8906, 'beatrice': 8907, 'letters': 8908, 'demon': 8909, 'invasion': 8910, 'mojave': 8911, 'phone': 8912, 'booth': 8913, 'iceland': 8914, 'danville': 8915, 'suitcase': 8916, 'toby': 8917, 'nemiciamici': 8918, 'trunes': 8919, 'soultaker': 8920, 'ridel': 8921, 'congeniality': 8922, 'borland': 8923, 'noel': 8924, 'frost': 8925, 'robyn': 8926, 'martinez': 8927, 'maude': 8928, 'yameen': 8929, 'keke': 8930, 'wyatt': 8931, 'lolo': 8932, 'dock': 8933, 'fogata': 8934, 'sandoval': 8935, 'kamil': 8936, 'rustam': 8937, 'flow': 8938, 'morgan’s': 8939, 'balko': 8940, 'livingston': 8941, 'goéland': 8942, '12/9/2039': 8943, 'caverns': 8944, 'sappho': 8945, 'craft': 8946, 'northvale': 8947, 'masashi': 8948, 'hamauzu': 8949, 'actress': 8950, 'janet': 8951, 'paschal': 8952, 'personal': 8953, 'dido': 8954, '“chirping”': 8955, 'crickets': 8956, 'foreclosure': 8957, 'walpole': 8958, 'econfina': 8959, 'whitehouse': 8960, 'lauryn': 8961, 'web': 8962, 'waipio': 8963, 'enduser': 8964, 'badonviller': 8965, 'marsch': 8966, 'bertha': 8967, 'neurotoxicology': 8968, 'principii': 8969, 'evangelikum': 8970, 'liquor': 8971, 'manos': 8972, 'hadjidakis': 8973, 'ifind': 8974, 'tatar': 8975, 'bunky': 8976, 'ide': 8977, 'since': 8978, 'leaves': 8979, 'i:': 8980, 'jeffrey': 8981, 'pagosa': 8982, 'cusine': 8983, '12:': 8984, 'managing': 8985, 'anston': 8986, 'kaaawa': 8987, 'merlin': 8988, 'maiden': 8989, 'danced': 8990, 'schools': 8991, 'ringold': 8992, 'ducas': 8993, 'ringo': 8994, 'sheena': 8995, 'krondor': 8996, 'double': 8997, 'shiina': 8998, 'pitch': 8999, 'brigade': 9000, 'ruled': 9001, 'britannia': 9002, 'deacon': 9003, 'vasilis': 9004, 'tsitsanis': 9005, 'lipstick': 9006, 'vogue': 9007, 'opus': 9008, 'hadon': 9009, 'opar': 9010, 'detroit': 9011, 'mulligan': 9012, 'stew': 9013, 'fisher': 9014, 'changes:': 9015, 'trentwood': 9016, 'honourable': 9017, 'band-e': 9018, 'chan': 9019, 'whee': 9020, 'cottondale': 9021, 'monks': 9022, 'thelema': 9023, 'rumyantsev': 9024, 'beatmaster': 9025, 'dubach': 9026, 'sandra': 9027, 'kay': 9028, 'slay': 9029, 'strumpet': 9030, 'douthat': 9031, 'crowd:': 9032, 'seduced': 9033, 'crosswind': 9034, 'pee': 9035, 'wee': 9036, 'steward': 9037, 'adieu': 9038, 'arsenault': 9039, 'couple': 9040, 'teeth': 9041, 'paloma': 9042, 'negra': 9043, 'varney': 9044, 'rudolf': 9045, 'schenker': 9046, 'lamp': 9047, 'inspector': 9048, 'undressed': 9049, 'cure': 9050, 'bandas': 9051, 'sonoras': 9052, 'battlestations:': 9053, 'rainelle': 9054, 'chattahoochee': 9055, 'annihilated': 9056, 'steamboat': 9057, 'zec': 9058, 'mitchinamecus': 9059, 'caroline': 9060, '56': 9061, 'pond': 9062, 'inventions': 9063, 'bleed': 9064, 'ishmon': 9065, 'bracey': 9066, 'mum': 9067, 'nets': 9068, 'spine': 9069, 'surfs': 9070, 'psycho': 9071, 'renaldo': 9072, 'lapuz': 9073, 'mccready': 9074, 'prentice': 9075, 'did': 9076, 'highs': 9077, 'mid-sixties': 9078, 'repeat': 9079, 'matilda': 9080, 'gibbs': 9081, 'calistoga': 9082, 'side:': 9083, 'lou': 9084, 'stunt': 9085, 'citadel': 9086, 'purcell': 9087, 'tenderfoot': 9088, 'morrow': 9089, 'even': 9090, 'jebel': 9091, '4/4/2036': 9092, 'nichiren': 9093, 'mōko': 9094, 'daishūrai': 9095, 'zombieland': 9096, 'ah': 9097, 'searchlights': 9098, 'natasja': 9099, 'giant': 9100, 'energic': 9101, 'trottole': 9102, 'based': 9103, 'fidel': 9104, 'nadal': 9105, 'hows': 9106, 'kendall': 9107, 'villotta': 9108, 'award': 9109, 'charlene': 9110, 'hagar': 9111, 'resistance': 9112, 'kegs': 9113, '37': 9114, 'switzer': 9115, 'breaux': 9116, 'nikolayev': 9117, 'elnora': 9118, 'katina': 9119, 'josefina': 9120, 'percy': 9121, 'winfield': 9122, 'chariot': 9123, 'halifax': 9124, 'disaster': 9125, 'wauseon': 9126, 'division': 9127, 'bbc': 9128, 'recordings': 9129, 'clafoutis': 9130, 'selinsgrove': 9131, 'louse': 9132, 'elise': 9133, 'ravensdale': 9134, 'nails': 9135, 'hermaphrodite': 9136, '20:38': 9137, 'holi': 9138, 'frankfort': 9139, 'lollipop': 9140, 'balinese': 9141, 'comunas': 9142, 'honigberger': 9143, 'desserts': 9144, 'ashmore': 9145, 'burn': 9146, 'lace': 9147, 'whiskey': 9148, 'unnaturals': 9149, '213': 9150, 'pasqual': 9151, 'ngola': 9152, 'ritmos': 9153, 'li': 9154, 'yuchun': 9155, 'glaring': 9156, 'oblivion': 9157, 'garrochales': 9158, 'thick': 9159, 'phrazes': 9160, 'conduct': 9161, 'major': 9162, 'maxim': 9163, 'loyalty': 9164, 'fernwood': 9165, 'offers': 9166, 'certainty': 9167, 'shirley': 9168, 'aviatrice': 9169, 'dwarf': 9170, 'cosmos': 9171, 'inquiry': 9172, 'horn': 9173, 'musgrave': 9174, 'barnard': 9175, 'ora': 9176, 'floors': 9177, 'noche': 9178, 'chicas': 9179, 'pe': 9180, 'jboss': 9181, 'enterprise': 9182, 'soa': 9183, 'platform': 9184, 'tingley': 9185, 'angelus': 9186, 'provinciale': 9187, 'peninsula': 9188, 'chab': 9189, 'welch': 9190, 'dales': 9191, 'sanger': 9192, 'tire': 9193, 'lofgreen': 9194, 'blau': 9195, 'mindy': 9196, 'liégeois': 9197, 'is:': 9198, 'marxism': 9199, 'oppression': 9200, 'fra': 9201, 'mols': 9202, 'skagen': 9203, 'iii:': 9204, 'drop': 9205, 'joi': 9206, 'chua': 9207, 'teterville': 9208, 'georgiev': 9209, 'kalica': 9210, 'bio': 9211, 'carrousel': 9212, 'blobby': 9213, 'judgment': 9214, 'day:': 9215, 'farragut': 9216, 'show-ya': 9217, 'imogen': 9218, 'heap': 9219, 'crush': 9220, 'blush': 9221, 'dust': 9222, 'sheehan': 9223, 'tallgrass': 9224, 'unfinished': 9225, 'bradner': 9226, 'bonita': 9227, 'voce': 9228, 'photographic': 9229, 'aioli': 9230, 'geese': 9231, 'joeri': 9232, 'basjmet': 9233, 'wrightstown': 9234, 'stairs': 9235, 'mowrystown': 9236, 'informix': 9237, 'wingz': 9238, 'estela': 9239, 'split': 9240, 'difference': 9241, 'hammett': 9242, 'garrison': 9243, 'morten': 9244, 'harket': 9245, 'coon': 9246, 'malcom': 9247, 'satanas': 9248, 'legions': 9249, 'minto': 9250, 'barrett': 9251, 'news-press': 9252, 'ek': 9253, 'boond': 9254, 'ishq': 9255, 'phenomenological': 9256, 'brew': 9257, 'graveyard': 9258, 'moon:': 9259, 'yellowstone': 9260, '4-hour': 9261, 'workweek': 9262, 'orwell': 9263, 'mustoe': 9264, 'cienega': 9265, 'vyechnyy': 9266, 'strannik': 9267, 'age:': 9268, 'stolen': 9269, 'throne': 9270, 'riverfront': 9271, 'banking': 9272, 'violence': 9273, 'inner': 9274, 'pagan': 9275, 'dinosaur': 9276, 'harder': 9277, 'orgullo': 9278, 'guyana': 9279, 'tabor': 9280, 'gratin': 9281, 'sahuarita': 9282, 'solution': 9283, 'polka': 9284, 'medley': 9285, 'whisperer': 9286, 'horton': 9287, 'preston': 9288, 'sample': 9289, 'inca': 9290, 'beside': 9291, 'arkport': 9292, 'antelope': 9293, 'spots': 9294, 'urbanette': 9295, 'crow:': 9296, 'gaudino': 9297, 'phinally': 9298, 'phamous': 9299, 'maisonette': 9300, 'cotati': 9301, 'shell:': 9302, 'godmusic': 9303, 'aguila': 9304, 'jessica': 9305, 'delfino': 9306, 'complex:': 9307, 'invades': 9308, 'everyday': 9309, 'introducing': 9310, 'rahman': 9311, 'jacobsburg': 9312, 'po': 9313, 'tofu': 9314, 'bretton': 9315, 'history:': 9316, 'survey': 9317, 'gn': 9318, 'pontypool': 9319, 'changes': 9320, 'stops': 9321, 'springtime': 9322, 'amnicon': 9323, 'chingy': 9324, 'espen': 9325, 'lind': 9326, 'a-myin-thit': 9327, 'owes': 9328, 'educational': 9329, 'decoration': 9330, 'houses': 9331, 'lick': 9332, 'eurythmics': 9333, 'eckstine': 9334, 'scotland': 9335, 'nashville:': 9336, 'punjabi': 9337, 'vilma': 9338, 'forever:': 9339, 'brit': 9340, 'growth': 9341, 'fetish': 9342, 'diwali': 9343, 'doughnut': 9344, 'mommy': 9345, 'decaturville': 9346, 'woodston': 9347, 'aubrey': 9348, 'armageddon': 9349, 'cock': 9350, 'bull': 9351, 'elderton': 9352, 'winger': 9353, 'leonor': 9354, 'imogene': 9355, 'sanchez': 9356, 'greenfoot': 9357, 'quarry': 9358, 'recent': 9359, 'songlines': 9360, 'convoy': 9361, 'busters': 9362, 'bonn': 9363, 'engelchen': 9364, 'bazan': 9365, 'louder': 9366, 'bombs': 9367, 'twisted': 9368, 'dovre-nationalpark': 9369, 'bystrzyca': 9370, '01:51:47': 9371, 'kowalewicz': 9372, 'ronski': 9373, 'chillout': 9374, 'hawking': 9375, 'babylon': 9376, 'toynbee': 9377, 'convector': 9378, 'reminderville': 9379, 'nico': 9380, 'farnworth': 9381, 'wing': 9382, 'marcel': 9383, 'khalife': 9384, 'hickman': 9385, 'grits': 9386, 'haigler': 9387, 'halid': 9388, '08': 9389, 'castillo': 9390, 'parempi': 9391, 'mies': 9392, 'comprehensive': 9393, 'network': 9394, 'jackal': 9395, 'crazysexycool': 9396, 'harmony': 9397, 'chatmoss': 9398, 'jean-georges': 9399, 'mcpherson': 9400, 'niney': 9401, 'observer': 9402, 'ballard': 9403, 'looney': 9404, 'ripley': 9405, 'lone': 9406, 'joyal': 9407, 'blodgett': 9408, 'novels:': 9409, 'angeline': 9410, 'krizz': 9411, 'kaliko': 9412, 'shakti': 9413, 'believer': 9414, 'antonella': 9415, 'barba': 9416, 'bath': 9417, 'ibiza': 9418, 'maureen': 9419, 'mcgovern': 9420, 'snows': 9421, 'kilimanjaro': 9422, 'monroe': 9423, 'kettleman': 9424, 'qbert': 9425, 'dalbello': 9426, 'cma': 9427, 'nominees': 9428, 'bodyguard': 9429, 'festoni': 9430, 'kelsey': 9431, 'shelley': 9432, 'englishman': 9433, 'introspective': 9434, 'sacrifice': 9435, 'exmore': 9436, 'wheesung': 9437, 'im': 9438, 'cerebellum': 9439, 'damien': 9440, 'eylem': 9441, 'hagigat': 9442, 'rzayeva': 9443, 'antisleep': 9444, '04': 9445, 'waar': 9446, 'zon': 9447, 'michiru': 9448, 'yamane': 9449, 'converging': 9450, 'conspiracies': 9451, 'conan:': 9452, 'dimensional': 9453, 'sniper': 9454, 'strandburg': 9455, 'arcola': 9456, 'burnside': 9457, 'roscoff': 9458, 'synth': 9459, 'tenbrooks': 9460, 'barbary': 9461, 'subroc': 9462, 'ziwa': 9463, 'rhino': 9464, 'terminal': 9465, 'birdsong': 9466, 'spotat': 9467, 'lorraine': 9468, 'lampa': 9469, 'meriton': 9470, 'tallinn': 9471, 'stumble': 9472, 'cancer': 9473, 'sailing': 9474, 'seas': 9475, 'jamal': 9476, 'dee': 9477, 'peddling': 9478, 'prosperity': 9479, 'mighty': 9480, 'fortress': 9481, 'maclean': 9482, 'fimd': 9483, 'maylay': 9484, 'radnor': 9485, '13:22:34': 9486, 'chemdex': 9487, 'offa': 9488, 'doseone': 9489, 'boom': 9490, 'bust': 9491, 'haruka': 9492, 'shimotsuki': 9493, 'petit': 9494, 'manan': 9495, 'lyons': 9496, 'ferry': 9497, 'suicide': 9498, 'neutral': 9499, 'experienced': 9500, 'embrace': 9501, 'budokan': 9502, 'joni': 9503, 'brenda’s': 9504, 'ai': 9505, 'kago': 9506, 'glam': 9507, 'hohenfriedberger': 9508, 'monahan': 9509, 'vertically': 9510, 'challenged': 9511, 'older': 9512, 'lady:': 9513, 'seductive': 9514, 'tongue': 9515, 'becker': 9516, 'whip': 9517, 'snowman': 9518, 'yui': 9519, 'poet': 9520, 'cyber': 9521, 'offroad': 9522, 'mansion': 9523, 'archie': 9524, 'whitney': 9525, 'masaharu': 9526, 'fukuyama': 9527, 'deepwater': 9528, 'jansen': 9529, 'confidence-man': 9530, 'graphics': 9531, 'emmons': 9532, 'antoinette': 9533, 'christine': 9534, 'venetian': 9535, 'snares': 9536, 'fourth': 9537, 'jain': 9538, 'lock': 9539, 'clontarf': 9540, 'absolutely': 9541, 'marie': 9542, 'burkettsville': 9543, 'rhoda': 9544, 'roxanne': 9545, 'resort': 9546, 'display': 9547, 'manager': 9548, 'sencha': 9549, 'nhl': 9550, 'silveria': 9551, 'rules': 9552, 'presence': 9553, 'seung': 9554, 'gi': 9555, 'cafe:': 9556, 'tape': 9557, 'luisa': 9558, 'bloody': 9559, 'microphone': 9560, 'tarpon': 9561, 'arnett': 9562, 'irvin': 9563, 'mayfield': 9564, 'verenikina': 9565, 'peggy': 9566, 'sue': 9567, 'patrica': 9568, 'flowers': 9569, 'grandson': 9570, 'tasher': 9571, 'desh': 9572, 'mclagan': 9573, 'beardyman': 9574, 'kenmore': 9575, 'kenova': 9576, 'nannie': 9577, '14:41': 9578, 'dreamstone': 9579, 'montverde': 9580, 'wittig': 9581, 'mancos': 9582, 'bevilacqua': 9583, 'rosales': 9584, 'bonneville': 9585, 'salmonella': 9586, 'mario': 9587, 'rubalcaba': 9588, 'katiejane': 9589, 'garside': 9590, 'gearhart': 9591, 'choose': 9592, 'lyrical': 9593, 'nanoha': 9594, 'strikers': 9595, 'lamentable': 9596, 'omaha': 9597, 'bigelow': 9598, 'impenetrable': 9599, 'loisaida': 9600, 'jungle': 9601, 'ginsburg': 9602, 'winbush': 9603, 'salaam-e-ishq:': 9604, 'gloria': 9605, 'frederick': 9606, 'fenton': 9607, 'krzysztof': 9608, 'penderecki': 9609, 'hardin': 9610, 'toy': 9611, 'dishyum': 9612, 'freund': 9613, 'spiderman': 9614, 'domino': 9615, 'luca': 9616, 'turilli': 9617, 'circleville': 9618, 'dna': 9619, 'repair': 9620, 'mutagenesis': 9621, 'cawker': 9622, 'grisdale': 9623, 'teh': 9624, 'sit': 9625, 'carpathian': 9626, 'seeger': 9627, 'pan': 9628, 'reva': 9629, 'bernadine': 9630, 'benkelman': 9631, 'hopatcong': 9632, 'skip': 9633, 'raheem': 9634, 'devaughn': 9635, 'plankinton': 9636, 'practical': 9637, 'gleed': 9638, 'oldham': 9639, 'waretown': 9640, 'freakbeat': 9641, 'elsa': 9642, 'westhampton': 9643, 'veneto': 9644, 'antietam': 9645, 'ihsahn': 9646, 'autry': 9647, 'laserlight': 9648, 'venice': 9649, 'todesfalle': 9650, 'highlands': 9651, '14:40': 9652, 'karobar': 9653, 'economic': 9654, 'stripped': 9655, 'von': 9656, 'cosels': 9657, 'obsession': 9658, 'rainwater': 9659, 'lp': 9660, 'cage': 9661, 'renewable': 9662, 'electricity': 9663, 'grid': 9664, 'parazaider': 9665, 'private': 9666, 'affairs': 9667, 'bel': 9668, 'vazquez': 9669, 'penermon': 9670, 'phalcon': 9671, 'scratchy': 9672, 'porcaro': 9673, 'unreleased:': 9674, 'fromthe': 9675, 'nobuo': 9676, 'uematsu': 9677, 'bowling': 9678, 'maya': 9679, 'kaira': 9680, 'kwong': 9681, 'trotamundos': 9682, 'redbreast': 9683, 'ronald': 9684, 'isley': 9685, 'wheel': 9686, 'softly': 9687, 'verden': 9688, 'maggot': 9689, 'albano': 9690, 'carrisi': 9691, 'valor': 9692, 'lance': 9693, 'anatone': 9694, 'stepmother': 9695, 'antonito': 9696, 'irvine': 9697, 'sinclair': 9698, 'killer': 9699, 'instinkt': 9700, '08:05': 9701, 'snaith': 9702, 'nimba': 9703, 'hunters': 9704, 'graf': 9705, 'scale': 9706, 'foucault': 9707, 'ringside': 9708, 'standing': 9709, 'tillicum': 9710, 'agnew': 9711, 'acworth': 9712, 'elastic': 9713, 'stormzy': 9714, 'karlsson': 9715, 'gotye': 9716, 'packed': 9717, 'rafters': 9718, 'sweeney': 9719, 'toaster': 9720, 'rescue': 9721, 'mullen': 9722, 'treader': 9723, 'fifa': 9724, 'starcross': 9725, 'wesley': 9726, 'lictor': 9727, 'pocket': 9728, 'boners': 9729, 'wendell': 9730, 'zion': 9731, 'golan': 9732, 'highways': 9733, 'hiding': 9734, 'hyun-joong': 9735, 'fairchild': 9736, 'dolls': 9737, 'harding': 9738, 'wintersong': 9739, 'munawar': 9740, 'sanford': 9741, 'herald': 9742, 'whaling': 9743, 'junun': 9744, 'noam': 9745, 'kaniel': 9746, 'boundary': 9747, 'madwoman': 9748, 'albarn': 9749, 'pointe-heath': 9750, 'ila': 9751, 'manera': 9752, 'recopilatorio': 9753, 'stood': 9754, 'positively': 9755, 'epleys': 9756, 'daring': 9757, 'dobermans': 9758, 'clapton': 9759, 'kindness': 9760, 'bothwell': 9761, 'apples': 9762, 'estrés': 9763, 'meatballs': 9764, 'collaborators': 9765, 'calico': 9766, 'feinstein': 9767, 'skylar': 9768, 'diggins': 9769, 'manassas': 9770, 'floyd': 9771, 'continue': 9772, 'dixie': 9773, 'lullaby:': 9774, 'beginnings': 9775, 'kwuggerbug': 9776, 'grandview': 9777, 'policemen': 9778, 'wickens': 9779, 'tioga': 9780, 'americans': 9781, 'bra': 9782, 'vibrationer': 9783, 'meeres-nationalpark': 9784, 'insel': 9785, 'bastimentos': 9786, 'elvis’': 9787, 'jpop': 9788, 'xenomania': 9789, 'allah': 9790, 'wade': 9791, 'mainer': 9792, 'nostalgic': 9793, 'tameka': 9794, 'hackett': 9795, 'manuel': 9796, 'scene': 9797, 'muncie': 9798, 'jetmore': 9799, 'jenny': 9800, 'moffett': 9801, 'chompa': 9802, 'toung': 9803, 'watcher': 9804, 'warriors': 9805, 'airbnb': 9806, '00:55': 9807, 'variation': 9808, 'plants': 9809, 'domestication': 9810, 'whit': 9811, 'candi': 9812, 'staton': 9813, 'flic': 9814, 'beverly': 9815, 'matching': 9816, 'bette': 9817, 'fairouz': 9818, 'shell': 9819, 'coulee': 9820, 'meers': 9821, 'looked': 9822, 'tragedy': 9823, 'playmaker': 9824, 'whiteman': 9825, 'hut': 9826, 'mckenna': 9827, 'shakira': 9828, 'kingdoms': 9829, 'emo': 9830, 'specialist': 9831, '180': 9832, 'countdown': 9833, '2007–2008': 9834, 'uetoaya': 9835, '11:12': 9836, 'twist': 9837, 'marble': 9838, 'gougoush': 9839, 'nicole': 9840, 'mitchell': 9841, 'afdlin': 9842, 'shauki': 9843, 'salemburg': 9844, 'bibb': 9845, 'doll': 9846, 'sheila': 9847, 'scotia:': 9848, 'speculative': 9849, 'premiere': 9850, 'eletro': 9851, 'br': 9852, 'tanana': 9853, 'lionheart:': 9854, 'rebellion': 9855, 'otselic': 9856, 'likely': 9857, 'metabolights': 9858, 'dobie': 9859, 'gillis': 9860, 'breathtaking': 9861, 'abel': 9862, 'sánchez:': 9863, 'axis2': 9864, 'mondovi': 9865, 'grabsteinland': 9866, 'chicane': 9867, 'crazy': 9868, 'keytesville': 9869, 'tender': 9870, 'bertine': 9871, 'zetlitz': 9872, 'paranormal': 9873, 'activity:': 9874, 'dimension': 9875, '188': 9876, 'lambert': 9877, '10/21/2024': 9878, 'metamora': 9879, 'boat': 9880, 'sinful': 9881, 'unnikrishnante': 9882, 'adyathe': 9883, 'boreas': 9884, 'wetumpka': 9885, 'inheritors': 9886, 'guys': 9887, 'coltrane': 9888, 'refrain': 9889, 'lari': 9890, 'bitty': 9891, 'top-10': 9892, 'coolio': 9893, 'rented': 9894, 'wahhabi': 9895, 'islam:': 9896, 'reform': 9897, 'jihad': 9898, 'montgomery': 9899, 'shuffle': 9900, 'thayer': 9901, 'lafitte': 9902, 'isham': 9903, 'sher': 9904, 'persson': 9905, 'wildwood': 9906, 'patmos': 9907, 'kasey': 9908, 'chambers': 9909, 'lebanese': 9910, 'gypsy': 9911, 'innovations': 9912, 'kokia': 9913, 'scenes': 9914, 'rmx': 9915, 'ayu': 9916, 'judy': 9917, 'sophisticated': 9918, 'vanessa': 9919, 'canción': 9920, 'día': 9921, 'homer': 9922, 'obama:': 9923, 'promise': 9924, 'lihula': 9925, 'medeiros': 9926, 'thinking': 9927, 'flag': 9928, 'splendido': 9929, 'mandrake': 9930, 'kryptonite': 9931, 'borrow': 9932, 'born': 9933, 'won': 9934, 'brandy': 9935, 'stroll': 9936, 'pork': 9937, 'nellie': 9938, 'mckay': 9939, 'rhames': 9940, 'shining': 9941, 'tsukiko': 9942, 'amano': 9943, 'holtville': 9944, 'intelligence': 9945, 'stookey': 9946, 'joplin': 9947, 'cretu': 9948, 'bombshells': 9949, 'tory': 9950, 'innocents': 9951, 'kenia': 9952, 'arias': 9953, 'ohguro': 9954, 'bosnia': 9955, 'herzegovina': 9956, 'chavez:': 9957, 'coup': 9958, 'scorching': 9959, 'mentioned': 9960, 'giv': 9961, 'vegard': 9962, 'sverre': 9963, 'tveitan': 9964, 'wiktor': 9965, 'coj': 9966, 'starr': 9967, 'redington': 9968, 'hutchings': 9969, 'bethany': 9970, 'breeze': 9971, 'edna': 9972, 'bachman': 9973, 'ice:': 9974, 'isobel': 9975, 'elysium': 9976, 'cayabyab': 9977, 'khaled:': 9978, 'phnom': 9979, 'sankos': 9980, 'calpella': 9981, 'amor:': 9982, 'exclusive': 9983, 'chantal': 9984, 'kreviazuk': 9985, 'doolittle': 9986, 'elites': 9987, 'luambe-nationalpark': 9988, 'irene': 9989, 'rosella': 9990, 'robinette': 9991, 'cadogan': 9992, 'scheudle': 9993, 'akira': 9994, 'kellerton': 9995, 'ares': 9996, 'ideas': 9997, 'crugers': 9998, 'marlton': 9999, 'circle': 10000, 'zaleski': 10001, 'decoded:': 10002, 'exuma': 10003, 'deal': 10004, 'selected': 10005, 'lovecraft': 10006, 'subliminal': 10007, 'cone': 10008, 'diners': 10009, 'allentown': 10010, 'purim': 10011, 'taktloss': 10012, 'winnie-the-pooh': 10013, 'edgemoor': 10014, 'kitade': 10015, 'psychedelia': 10016, 'crouch': 10017, 'burnout:': 10018, 'rodgers': 10019, 'hammerstein': 10020, 'elica': 10021, 'mckinley': 10022, 'nudity': 10023, 'punished': 10024, 'prurient': 10025, 'laguna': 10026, 'talbot': 10027, 'mundy:': 10028, 'messenger': 10029, 'panic': 10030, 'zenda': 10031, 'baldur’s': 10032, 'bhaal': 10033, 'sentimental': 10034, 'bloke': 10035, 'nightbirds': 10036, 'nantucket': 10037, 'irreconcilable': 10038, 'differences': 10039, 'earls': 10040, 'lucille': 10041, 'riverview': 10042, 'narodowy': 10043, 'kushiro-shitsugen': 10044, 'rss': 10045, 'tracking': 10046, 'poor': 10047, 'tuna': 10048, 'morgan–monroe': 10049, 'gladys': 10050, 'barometer': 10051, 'share': 10052, 'stays': 10053, 'walks': 10054, 'limit': 10055, 'booty': 10056, 'f-1': 10057, 'prix': 10058, 'eliza': 10059, 'carthy': 10060, 'hineston': 10061, 'orpheus': 10062, 'hybla': 10063, 'almighty': 10064, 'johnsons': 10065, 'powersville': 10066, 'bashkirsky': 10067, 'delft': 10068, 'polymer': 10069, 'canfield': 10070, '22:23:22': 10071, 'magdalena': 10072, 'brady': 10073, 'aired': 10074, 'halls': 10075, 'garner': 10076, 'its': 10077, 'phoebus': 10078, 'friesland': 10079, 'dongola': 10080, 'dressed': 10081, 'dorsey': 10082, 'tieghem': 10083, 'forge': 10084, 'princeton': 10085, 'chili': 10086, 'bestiary': 10087, 'tetsuya': 10088, 'ogawa': 10089, 'gwen': 10090, 'turnt': 10091, 'ghostly': 10092, 'swim': 10093, 'teri': 10094, 'meri': 10095, 'loudon': 10096, 'naseer': 10097, 'shamma': 10098, 'ocelot': 10099, 'resource': 10100, 'moldy': 10101, 'povel': 10102, 'ramel': 10103, 'irv': 10104, 'gotti': 10105, 'presents:': 10106, 'murderers': 10107, 'cityzen': 10108, 'wyndorf': 10109, 'alternativo': 10110, 'lighthouse': 10111, 'riceboro': 10112, 'blink': 10113, 'em4jay': 10114, 'tallahassee-st': 10115, 'marks': 10116, 'gloryhole': 10117, 'mani': 10118, 'somewhee': 10119, 'hollenberg': 10120, 'carl': 10121, 'masayoshi': 10122, 'vache': 10123, 'iren': 10124, 'michaelsen': 10125, 'reuben': 10126, 'chas': 10127, 'zephyrhills': 10128, 'tsoi': 10129, '00:00': 10130, 'putrid': 10131, 'sorcery': 10132, 'prints': 10133, 'baylor': 10134, 'unborn': 10135, 'forgotten': 10136, 'milladore': 10137, 'someday': 10138, 'soon': 10139, 'fiona': 10140, 'wholehearted': 10141, 'bonnet': 10142, 'clifford': 10143, '12/5/2032': 10144, 'liberation': 10145, 'fu': 10146, 'lynne': 10147, 'linn': 10148, 'berggren': 10149, 'branton': 10150, 'dschiwan': 10151, 'gasparjan': 10152, '59th': 10153, 'grammy': 10154, 'hopeless': 10155, 'benson-meditation': 10156, 'luther': 10157, 'tomohisa': 10158, 'yamashita': 10159, 'satisfaction': 10160, 'virtue': 10161, 'nauseam': 10162, 'nokia': 10163, 'jalal': 10164, 'zolfonun': 10165, 'chemical': 10166, 'engineers': 10167, 'jewell': 10168, 'cemetery': 10169, 'lilly': 10170, 'witch:': 10171, 'cats': 10172, 'friend:': 10173, 'schuster': 10174, 'prehistoric': 10175, 'noah': 10176, 'wuv': 10177, 'bernardo': 10178, 'humor': 10179, 'notebook': 10180, 'trigorin': 10181, 'wather': 10182, 'coleville': 10183, 'miracle': 10184, 'rhoads': 10185, 'trapper': 10186, '32': 10187, 'kear': 10188, 'myra': 10189, 'ines': 10190, 'kano': 10191, 'luxury': 10192, 'liner': 10193, 'hackney': 10194, 'ahead': 10195, 'schubert': 10196, 'public': 10197, 'toilet': 10198, 'slemp': 10199, 'cin': 10200, 'ramone': 10201, 'lavender': 10202, 'omega': 10203, 'fusil': 10204, 'contra': 10205, 'tschetter': 10206, 'ascension': 10207, 'portales': 10208, '129': 10209, 'canon': 10210, 'ding': 10211, 'dong': 10212, 'having': 10213, 'spent': 10214, 'horses': 10215, 'twinkler': 10216, 'soviet': 10217, 'tankmen': 10218, 'gaither': 10219, 'albums': 10220, 'sailor': 10221, 'supers:': 10222, 're': 10223, 'greenport': 10224, 'alasdair': 10225, 'roberts': 10226, 'vanlue': 10227, 'zei': 10228, 'boys:': 10229, 'violent': 10230, '163': 10231, 'moye': 10232, 'tuolumne': 10233, '12/10/2035': 10234, 'counting': 10235, 'rosaries': 10236, 'supercop': 10237, 'sukkot': 10238, 'tribeca': 10239, 'jacklyn': 10240, 'okay': 10241, 'luzon': 10242, 'certification': 10243, 'citrus': 10244, 'lenzburg': 10245, 'action': 10246, 'bernard': 10247, 'jem': 10248, 'godfrey': 10249, 'noew': 10250, 'dundee': 10251, 'tira': 10252, 'kotoko': 10253, 'norman': 10254, 'touchdown': 10255, 'sompio': 10256, 'kremmling': 10257, 'baotianman': 10258, 'botanical': 10259, 'camden': 10260, 'langdon': 10261, 'agua': 10262, 'sal': 10263, 'fey': 10264, 'index': 10265, 'elizabethville': 10266, 'mcgee': 10267, 'melbourne': 10268, 'redding': 10269, 'ufc': 10270, 'grantsburg': 10271, 'hull': 10272, 'sale': 10273, 'illness': 10274, 'metaphor': 10275, 'mcisaac': 10276, 'whitewater': 10277, 'japan': 10278, 'malin': 10279, 'tonopah': 10280, 'brightman': 10281, 'osyka': 10282, 'titanic:': 10283, 'foundling': 10284, 'grae': 10285, 'anila': 10286, 'mirza': 10287, '10:47:15': 10288, 'viroqua': 10289, 'mondamin': 10290, 'bullfeathers': 10291, 'trussville': 10292, 'thyme': 10293, 'spaulding': 10294, 'morocco': 10295, 'freestyle': 10296, 'akb48': 10297, 'pumping': 10298, 'moose': 10299, '1634:': 10300, 'ram': 10301, 'wildreservaat': 10302, 'ithala': 10303, 'sp': 10304, 'balasubrahmanyam': 10305, 'infernus': 10306, 'marsha': 10307, 'love:': 10308, 'tiffany': 10309, 'sondra': 10310, 'hanksville': 10311, 'rui': 10312, 'silva': 10313, 'happiness': 10314, 'duty:': 10315, 'macmaster': 10316, 'asiate': 10317, 'sturgeon': 10318, 'janne': 10319, 'puurtinen': 10320, 'chick': 10321, 'corea': 10322, 'his-story': 10323, 'leviathan': 10324, 'meadow': 10325, 'vale': 10326, 'fatty': 10327, 'haskell': 10328, 'traverse': 10329, 'bottomland': 10330, 'liked': 10331, 'headed': 10332, 'eifel': 10333, 'manifesto': 10334, 'nevermore': 10335, 'arnauld': 10336, 'raven': 10337, 'eugene': 10338, 'mahoney': 10339, 'jappeloup': 10340, 'valerij': 10341, 'awakened': 10342, 'appalachian': 10343, 'josiah': 10344, 'leming': 10345, 'rosetta': 10346, 'tharpe': 10347, 'polite': 10348, 'raffaele': 10349, 'riefoli': 10350, 'lockwood': 10351, 'lesley': 10352, 'childersburg': 10353, 'germfask': 10354, 'holiday': 10355, 'mae': 10356, 'restless': 10357, 'natives': 10358, 'heavenly': 10359, 'hiromitsu': 10360, 'agatsuma': 10361, 'valenciano': 10362, 'amii': 10363, 'development': 10364, 'perspectives': 10365, 'yearbook': 10366, 'honeysuckle': 10367, 'chér': 10368, 'creola': 10369, 'grab': 10370, 'lacassine': 10371, 'lateness': 10372, 'deathlord': 10373, 'ixia': 10374, 'parks': 10375, 'carina': 10376, 'sport': 10377, 'pastime': 10378, 'valle': 10379, 'jarama': 10380, 'working': 10381, 'kelloe': 10382, 'vineyard': 10383, 'haven': 10384, 'candace': 10385, 'debbie': 10386, 'pop-folk': 10387, 'kraken:': 10388, 'tentacles': 10389, 'marvin': 10390, '6/14/2035': 10391, 'paella': 10392, 'negerpunk': 10393, 'grew': 10394, 'wafah': 10395, 'dufour': 10396, 'jeeves': 10397, 'wooster': 10398, 'nonsense': 10399, 'weed': 10400, 'turbulence': 10401, 'streetdanz': 10402, 'buckley': 10403, 'colfax': 10404, '1/1/2031': 10405, 'champagne': 10406, 'showers': 10407, 'ice-cream': 10408, 'gentle': 10409, 'compton': 10410, 'economy': 10411, 'ives': 10412, 'omnipresent': 10413, 'cabbage': 10414, 'keiji': 10415, 'haino': 10416, 'terri': 10417, 'whiteside': 10418, 'inverness': 10419, 'niggers': 10420, 'neuroscience': 10421, 'corsten': 10422, 'advances': 10423, 'mortem': 10424, 'mornings': 10425, 'rescuing': 10426, 'squires': 10427, 'bhupinder': 10428, 'singh': 10429, 'octagon': 10430, 'christchurch': 10431, 'feud': 10432, 'moran': 10433, 'hamorton': 10434, 'becky': 10435, 'pearce': 10436, 'gamblers': 10437, 'pillar': 10438, 'lamentation': 10439, 'cloris': 10440, 'thieving': 10441, 'magpie': 10442, 'solo': 10443, 'bonaparte': 10444, 'scarab': 10445, 'vidal': 10446, 'neshanic': 10447, '06:18:13': 10448, 'farristown': 10449, 'maidens': 10450, 'mapa': 10451, 'amigos': 10452, 'applied': 10453, 'linguistics': 10454, 'niobrara': 10455, 'clean': 10456, 'sober': 10457, 'malese': 10458, 'jow': 10459, 'flow:': 10460, 'eighty': 10461, 'sierraville': 10462, 'venedig': 10463, 'regen': 10464, 'eleele': 10465, 'evocation': 10466, 'arcane': 10467, 'dominion': 10468, 'cass': 10469, 'elliot': 10470, 'root': 10471, 'cou': 10472, 'contesting': 10473, 'crucial': 10474, 'luquillo': 10475, 'winnebago': 10476, 'scaramouche': 10477, 'mccunn': 10478, 'tammi': 10479, 'nauru': 10480, 'needing': 10481, 'whitechapel': 10482, 'shamus': 10483, 'neutrons': 10484, 'seun': 10485, 'kuti': 10486, 'raices': 10487, 'antenas': 10488, 'llp': 10489, 'inwood': 10490, '207th': 10491, 'kentmore': 10492, 'candoli': 10493, 'attell': 10494, 'tashan': 10495, 'dorrsett': 10496, 'seven-thirty': 10497, 'minami': 10498, 'alps': 10499, 'koma': 10500, 'anacreon': 10501, 'gabber': 10502, 'meditations': 10503, 'deeds': 10504, 'maccool': 10505, 'yarbrough': 10506, 'bashful': 10507, 'oswald': 10508, 'starfleet': 10509, 'simulator': 10510, 'bayou': 10511, 'kawabata': 10512, 'makoto': 10513, 'nellieburg': 10514, '楽園追放': 10515, '-expelled': 10516, 'paradise-': 10517, 'sudol': 10518, 'ncaa': 10519, '2k3': 10520, 'celestial': 10521, 'beware': 10522, 'probes': 10523, 'deeth': 10524, 'destination': 10525, 'prague': 10526, 'xuefei': 10527, 'cropper': 10528, 'testifying': 10529, 'feed': 10530, 'kitty': 10531, 'psychadelic': 10532, 'salina': 10533, 'sholle': 10534, '02:53': 10535, 'slinger': 10536, 'shaolin': 10537, 'pinto': 10538, 'joyful': 10539, 'noise:': 10540, 'dumping': 10541, 'whistling': 10542, 'suwannee': 10543, 'sight': 10544, 'garrett': 10545, 'karoly': 10546, 'hatzidakis': 10547, 'behzad': 10548, 'mirkhani': 10549, 'aura': 10550, 'ecstatic': 10551, 'coronado': 10552, 'demolished': 10553, 'nora': 10554, 'ilse': 10555, 'delange': 10556, 'divided': 10557, 'serendipity': 10558, 'veyo': 10559, 'keeneland': 10560, 'goldimouse': 10561, 'require': 10562, 'roseburg': 10563, 'mansfield': 10564, 'prefer': 10565, 'marianne': 10566, 'faithfull': 10567, 'satan': 10568, 'conshohocken': 10569, 'tholireyi': 10570, 'gadichindi': 10571, 'bombay': 10572, 'spyro': 10573, 'bleach:': 10574, 'pershing': 10575, 'cypress': 10576, 'pmd': 10577, 'tabloid': 10578, 'rolf': 10579, 'shelby': 10580, 'tenor': 10581, 'tapshoes': 10582, 'shinji': 10583, 'miyazaki': 10584, 'zebra': 10585, '07:25': 10586, 'eu': 10587, 'pego': 10588, 'maestro': 10589, 'groucutt': 10590, 'oakes': 10591, 'north-west': 10592, 'passage': 10593, 'address': 10594, 'soonchild': 10595, 'vanquished': 10596, 'orford': 10597, 'vigilantes': 10598, 'effortless': 10599, 'mastery': 10600, 'spalding': 10601, 'abuja': 10602, 'coyote': 10603, 'space-age': 10604, 'madchild': 10605, 'choclo': 10606, 'auto': 10607, 'renouveau': 10608, 'nam': 10609, 'kading': 10610, 'senior': 10611, 'intersections': 10612, 'grilled': 10613, 'meat': 10614, 'vinyl': 10615, 'notebooks': 10616, 'tracie': 10617, 'noyack': 10618, 'layzie': 10619, 'mcclinton': 10620}\n",
            "{'AddToPlaylist': 0, 'GetWeather': 1, 'PlayMusic': 2, 'SearchScreeningEvent': 3, 'RateBook': 4, 'BookRestaurant': 5, 'SearchCreativeWork': 6}\n",
            "{'pad': 0, 'B-service': 1, 'I-facility': 2, 'B-movie_name': 3, 'I-sort': 4, 'I-artist': 5, 'I-city': 6, 'B-condition_description': 7, 'B-object_name': 8, 'I-poi': 9, 'B-current_location': 10, 'B-best_rating': 11, 'I-object_location_type': 12, 'I-object_name': 13, 'B-party_size_number': 14, 'B-artist': 15, 'B-entity_name': 16, 'I-object_part_of_series_type': 17, 'I-party_size_description': 18, 'I-genre': 19, 'I-playlist_owner': 20, 'B-party_size_description': 21, 'I-geographic_poi': 22, 'I-object_type': 23, 'I-object_select': 24, 'I-cuisine': 25, 'B-state': 26, 'O': 27, 'B-served_dish': 28, 'B-movie_type': 29, 'I-movie_name': 30, 'B-facility': 31, 'B-genre': 32, 'I-country': 33, 'B-track': 34, 'B-city': 35, 'B-music_item': 36, 'I-music_item': 37, 'I-track': 38, 'B-restaurant_type': 39, 'I-playlist': 40, 'B-playlist': 41, 'B-object_part_of_series_type': 42, 'B-poi': 43, 'I-served_dish': 44, 'B-sort': 45, 'I-restaurant_name': 46, 'B-rating_value': 47, 'B-object_location_type': 48, 'B-cuisine': 49, 'B-geographic_poi': 50, 'I-restaurant_type': 51, 'B-album': 52, 'I-current_location': 53, 'B-location_name': 54, 'I-entity_name': 55, 'I-location_name': 56, 'B-condition_temperature': 57, 'I-state': 58, 'B-year': 59, 'I-service': 60, 'B-playlist_owner': 61, 'B-object_select': 62, 'B-object_type': 63, 'I-spatial_relation': 64, 'I-album': 65, 'B-rating_unit': 66, 'I-timeRange': 67, 'B-timeRange': 68, 'I-movie_type': 69, 'B-restaurant_name': 70, 'B-spatial_relation': 71, 'B-country': 72}\n"
          ]
        }
      ]
    },
    {
      "cell_type": "markdown",
      "source": [
        "### Customize the Dataset class"
      ],
      "metadata": {
        "id": "QhYQ0Gkc8y8N"
      }
    },
    {
      "cell_type": "code",
      "execution_count": 34,
      "metadata": {
        "id": "01b4823f"
      },
      "outputs": [],
      "source": [
        "import torch\n",
        "import torch.utils.data as data\n",
        "\n",
        "class IntentsAndSlots(data.Dataset):\n",
        "    # Mandatory methods are __init__, __len__ and __getitem__\n",
        "    def __init__(self, dataset, lang, unk='unk'):\n",
        "        self.utterances = []\n",
        "        self.intents = []\n",
        "        self.slots = []\n",
        "        self.unk = unk\n",
        "        \n",
        "        for x in dataset:\n",
        "            self.utterances.append(x['utterance'])\n",
        "            self.slots.append(x['slots'])\n",
        "            self.intents.append(x['intent'])\n",
        "\n",
        "#convert to numbers\n",
        "        self.utt_ids = self.mapping_seq(self.utterances, lang.word2id)\n",
        "        self.slot_ids = self.mapping_seq(self.slots, lang.slot2id)\n",
        "        self.intent_ids = self.mapping_lab(self.intents, lang.intent2id)\n",
        "\n",
        "    def __len__(self):\n",
        "        return len(self.utterances)\n",
        "\n",
        "    def __getitem__(self, idx):\n",
        "        utt = torch.Tensor(self.utt_ids[idx])\n",
        "        slots = torch.Tensor(self.slot_ids[idx])\n",
        "        intent = self.intent_ids[idx]\n",
        "        sample = {'utterance': utt, 'slots': slots, 'intent': intent}\n",
        "        return sample #dictionary with 3 keys\n",
        "    \n",
        "    # Auxiliary methods\n",
        "    \n",
        "    def mapping_lab(self, data, mapper):\n",
        "        return [mapper[x] if x in mapper else mapper[self.unk] for x in data]\n",
        "    \n",
        "    def mapping_seq(self, data, mapper): # Map sequences to number\n",
        "        res = []\n",
        "        for seq in data:\n",
        "            tmp_seq = []\n",
        "            for x in seq.split():\n",
        "                if x in mapper:\n",
        "                    tmp_seq.append(mapper[x])\n",
        "                else:\n",
        "                    tmp_seq.append(mapper[self.unk])\n",
        "            res.append(tmp_seq)\n",
        "        return res\n"
      ]
    },
    {
      "cell_type": "code",
      "execution_count": 35,
      "metadata": {
        "id": "845ab541"
      },
      "outputs": [],
      "source": [
        "# Create our ATIS datasets\n",
        "ATIS_train_dataset = IntentsAndSlots(ATIS_train_raw, ATIS_lang)\n",
        "ATIS_dev_dataset = IntentsAndSlots(ATIS_dev_raw, ATIS_lang)\n",
        "ATIS_test_dataset = IntentsAndSlots(ATIS_test_raw, ATIS_lang)"
      ]
    },
    {
      "cell_type": "code",
      "source": [
        "# Create our SNIPS datasets\n",
        "SNIPS_train_dataset = IntentsAndSlots(SNIPS_train_raw, SNIPS_lang)\n",
        "SNIPS_dev_dataset = IntentsAndSlots(SNIPS_dev_raw, SNIPS_lang)\n",
        "SNIPS_test_dataset = IntentsAndSlots(SNIPS_test_raw, SNIPS_lang)"
      ],
      "metadata": {
        "id": "3P82jGiT8dpr"
      },
      "execution_count": 36,
      "outputs": []
    },
    {
      "cell_type": "markdown",
      "source": [
        "###Dataloader"
      ],
      "metadata": {
        "id": "n_6w7o52PRsA"
      }
    },
    {
      "cell_type": "code",
      "source": [
        "from torch.utils.data import DataLoader\n",
        "\n",
        "def collate_fn(data):\n",
        "    def merge(sequences):\n",
        "        '''\n",
        "        merge from batch * sent_len to batch * max_len \n",
        "        '''\n",
        "        lengths = [len(seq) for seq in sequences]\n",
        "        max_len = 1 if max(lengths)==0 else max(lengths)\n",
        "        # Pad token is zero in our case\n",
        "        # So we create a matrix full of PAD_TOKEN (i.e. 0) with the shape \n",
        "        # batch_size X maximum length of a sequence\n",
        "        padded_seqs = torch.LongTensor(len(sequences), max_len).fill_(PAD_TOKEN)\n",
        "        for i, seq in enumerate(sequences):\n",
        "            end = lengths[i]\n",
        "            padded_seqs[i, :end] = seq # We copy each sequence into the matrix\n",
        "        # print(padded_seqs)\n",
        "        padded_seqs = padded_seqs.detach()  # We remove these tensors from the computational graph\n",
        "        return padded_seqs, lengths\n",
        "        \n",
        "    # Sort data by seq lengths\n",
        "    data.sort(key=lambda x: len(x['utterance']), reverse=True) \n",
        "    new_item = {}\n",
        "    for key in data[0].keys():\n",
        "        new_item[key] = [d[key] for d in data]\n",
        "    # We just need one length for packed pad seq, since len(utt) == len(slots)\n",
        "    src_utt, _ = merge(new_item['utterance'])\n",
        "    y_slots, y_lengths = merge(new_item[\"slots\"])\n",
        "    intent = torch.LongTensor(new_item[\"intent\"])\n",
        "    \n",
        "    src_utt = src_utt.to(device) # We load the Tensor on our seleceted device\n",
        "    y_slots = y_slots.to(device)\n",
        "    intent = intent.to(device)\n",
        "    y_lengths = torch.LongTensor(y_lengths).to(device)\n",
        "    \n",
        "    new_item[\"utterances\"] = src_utt\n",
        "    new_item[\"intents\"] = intent\n",
        "    new_item[\"y_slots\"] = y_slots\n",
        "    new_item[\"slots_len\"] = y_lengths\n",
        "    return new_item"
      ],
      "metadata": {
        "id": "5donDbuZL3UU"
      },
      "execution_count": 37,
      "outputs": []
    },
    {
      "cell_type": "code",
      "source": [
        "# Dataloader ATIS instantiation\n",
        "ATIS_train_loader = DataLoader(ATIS_train_dataset, batch_size=128, collate_fn=collate_fn,  shuffle=True)\n",
        "ATIS_dev_loader = DataLoader(ATIS_dev_dataset, batch_size=64, collate_fn=collate_fn)\n",
        "ATIS_test_loader = DataLoader(ATIS_test_dataset, batch_size=64, collate_fn=collate_fn)"
      ],
      "metadata": {
        "id": "vp_YuNnPXkrp"
      },
      "execution_count": 38,
      "outputs": []
    },
    {
      "cell_type": "code",
      "source": [
        "# Dataloader SNIPS instantiation\n",
        "SNIPS_train_loader = DataLoader(SNIPS_train_dataset, batch_size=128, collate_fn=collate_fn,  shuffle=True)\n",
        "SNIPS_dev_loader = DataLoader(SNIPS_dev_dataset, batch_size=64, collate_fn=collate_fn)\n",
        "SNIPS_test_loader = DataLoader(SNIPS_test_dataset, batch_size=64, collate_fn=collate_fn)"
      ],
      "metadata": {
        "id": "rF8RpJ_qXPyk"
      },
      "execution_count": 39,
      "outputs": []
    },
    {
      "cell_type": "code",
      "source": [
        "ATIS_out_slot = len(ATIS_lang.slot2id)\n",
        "ATIS_out_int = len(ATIS_lang.intent2id)\n",
        "ATIS_vocab_len = len(ATIS_lang.word2id)\n",
        "print(\"ATIS vocabulary len: \", ATIS_vocab_len)"
      ],
      "metadata": {
        "id": "2WCFUEhVYWT0",
        "colab": {
          "base_uri": "https://localhost:8080/"
        },
        "outputId": "dc2f8e9b-8f74-4b9b-a5f7-e1925d237401"
      },
      "execution_count": 40,
      "outputs": [
        {
          "output_type": "stream",
          "name": "stdout",
          "text": [
            "ATIS vocabulary len:  863\n"
          ]
        }
      ]
    },
    {
      "cell_type": "code",
      "source": [
        "SNIPS_out_slot = len(SNIPS_lang.slot2id)\n",
        "SNIPS_out_int = len(SNIPS_lang.intent2id)\n",
        "SNIPS_vocab_len = len(SNIPS_lang.word2id)\n",
        "print(\"SNIPS vocabulary len: \", SNIPS_vocab_len)"
      ],
      "metadata": {
        "id": "VuiO5cBZYfwz",
        "colab": {
          "base_uri": "https://localhost:8080/"
        },
        "outputId": "1f57eb13-4efe-4113-90c4-1eee4078deb8"
      },
      "execution_count": 41,
      "outputs": [
        {
          "output_type": "stream",
          "name": "stdout",
          "text": [
            "SNIPS vocabulary len:  10621\n"
          ]
        }
      ]
    },
    {
      "cell_type": "markdown",
      "source": [
        "##Auxiliary methods"
      ],
      "metadata": {
        "id": "aK-WPZXbAZQ_"
      }
    },
    {
      "cell_type": "code",
      "execution_count": 42,
      "metadata": {
        "id": "f47fe3fe"
      },
      "outputs": [],
      "source": [
        "def init_weights(mat): #randomly initialize weights\n",
        "    for m in mat.modules():\n",
        "        if type(m) in [nn.GRU, nn.LSTM, nn.RNN]:\n",
        "            for name, param in m.named_parameters():\n",
        "                if 'weight_ih' in name:\n",
        "                    for idx in range(4):\n",
        "                        mul = param.shape[0]//4\n",
        "                        torch.nn.init.xavier_uniform_(param[idx*mul:(idx+1)*mul])\n",
        "                elif 'weight_hh' in name:\n",
        "                    for idx in range(4):\n",
        "                        mul = param.shape[0]//4\n",
        "                        torch.nn.init.orthogonal_(param[idx*mul:(idx+1)*mul])\n",
        "                elif 'bias' in name:\n",
        "                    param.data.fill_(0)\n",
        "        else:\n",
        "            if type(m) in [nn.Linear]:\n",
        "                torch.nn.init.uniform_(m.weight, -0.01, 0.01)\n",
        "                if m.bias != None:\n",
        "                    m.bias.data.fill_(0.01)"
      ]
    },
    {
      "cell_type": "code",
      "source": [
        "def plot_losses(sampled_epochs, loss_train, loss_dev):\n",
        "  plt.figure(num = 3, figsize=(12, 8)).patch.set_facecolor('white')\n",
        "  plt.title('Train and Dev Losses')\n",
        "  plt.ylabel('Loss')\n",
        "  plt.xlabel('Epochs')\n",
        "  plt.plot(sampled_epochs, loss_train, label='Train loss')\n",
        "  plt.plot(sampled_epochs, loss_dev, label='Dev loss')\n",
        "  plt.legend()\n",
        "  plt.show()"
      ],
      "metadata": {
        "id": "nU_woEqaQgZM"
      },
      "execution_count": 43,
      "outputs": []
    },
    {
      "cell_type": "markdown",
      "source": [
        "#Baseline Model"
      ],
      "metadata": {
        "id": "taNjnJqsP4q8"
      }
    },
    {
      "cell_type": "markdown",
      "metadata": {
        "id": "4019e479"
      },
      "source": [
        "As baseline model I took the LSTM model seen in class"
      ]
    },
    {
      "cell_type": "markdown",
      "source": [
        "##Model definition"
      ],
      "metadata": {
        "id": "e-yHvIzjAfzX"
      }
    },
    {
      "cell_type": "code",
      "execution_count": 44,
      "metadata": {
        "id": "93adc878"
      },
      "outputs": [],
      "source": [
        "class ModelIAS(nn.Module):\n",
        "#hidden size of rnn, embedding size (size of the vector that represent the word embedding)\n",
        "    def __init__(self, hid_size, out_slot, out_int, emb_size, vocab_len, n_layer=1, pad_index=0):\n",
        "        super(ModelIAS, self).__init__()\n",
        "        # hid_size = Hidden size\n",
        "        # out_slot = number of slots (output size for slot filling)\n",
        "        # out_int = number of intents (ouput size for intent class)\n",
        "        # emb_size = word embedding size\n",
        "        \n",
        "        #A simple lookup table that stores embeddings of a fixed dictionary and size.\n",
        "        #The input to the module is a list of indices, and the output is the corresponding word embeddings.\n",
        "        \n",
        "        self.embedding = nn.Embedding(vocab_len, emb_size, padding_idx=pad_index) #pad idx --> the entities at pad_index do not contribute to the gradient\n",
        "        \n",
        "        self.utt_encoder = nn.LSTM(emb_size, hid_size, n_layer, bidirectional=False)     #network, unidirectional\n",
        "        self.slot_out = nn.Linear(hid_size, out_slot)\n",
        "        self.intent_out = nn.Linear(hid_size, out_int)\n",
        "        self.dropout = nn.Dropout(0.1) #regularization --> randomly mute a neuron, only on training phase. Helps to avoid overfitting\n",
        "        \n",
        "    def forward(self, utterance, seq_lengths): #define the architecture\n",
        "        # utterance.size() = batch_size X seq_len\n",
        "        utt_emb = self.embedding(utterance) # utt_emb.size() = batch_size X seq_len X emb_size\n",
        "        #--> get word embedding\n",
        "        utt_emb = utt_emb.permute(1,0,2) # we need seq len first -> seq_len X batch_size X emb_size\n",
        "        \n",
        "        # pack_padded_sequence avoid computation over pad tokens reducing the computational cost\n",
        "        \n",
        "        packed_input = pack_padded_sequence(utt_emb, seq_lengths.cpu().numpy())\n",
        "        # Process the batch\n",
        "        packed_output, (last_hidden, cell) = self.utt_encoder(packed_input) \n",
        "\n",
        "        #packed output containing the output features (h_t) from the last layer of the LSTM, \n",
        "        #for each t. If a torch.nn.utils.rnn.PackedSequence has been given as the \n",
        "        #input, the output will also be a packed sequence.\n",
        "\n",
        "        #last_hidden containing the final hidden state for each element in the sequence\n",
        "        #cell containing the final cell state for each element in the sequence\n",
        "        \n",
        "        # Unpack the sequence\n",
        "        utt_encoded, input_sizes = pad_packed_sequence(packed_output)\n",
        "        # Get the last hidden state\n",
        "        last_hidden = last_hidden[-1,:,:]\n",
        "        # Compute slot logits\n",
        "        slots = self.slot_out(utt_encoded)\n",
        "        # Compute intent logits\n",
        "        intent = self.intent_out(last_hidden)\n",
        "        \n",
        "        # Slot size: seq_len, batch size, classes \n",
        "        slots = slots.permute(1,2,0) # We need this for computing the loss\n",
        "        # Slot size: batch_size, classes, seq_len\n",
        "        return slots, intent"
      ]
    },
    {
      "cell_type": "markdown",
      "source": [
        "##Train Loop Definition"
      ],
      "metadata": {
        "id": "VVxiiXrENKGp"
      }
    },
    {
      "cell_type": "code",
      "execution_count": 45,
      "metadata": {
        "id": "oFTi4TXUewtE"
      },
      "outputs": [],
      "source": [
        "import sys\n",
        "sys.path.append('/content/drive/MyDrive/')"
      ]
    },
    {
      "cell_type": "code",
      "execution_count": 46,
      "metadata": {
        "id": "6bf6dfca"
      },
      "outputs": [],
      "source": [
        "from conll import evaluate\n",
        "from sklearn.metrics import classification_report\n",
        "\n",
        "def train_loop(data, optimizer, criterion_slots, criterion_intents, model):\n",
        "    model.train()\n",
        "    loss_array = []\n",
        "    loss_intent_array = []\n",
        "    loss_slot_array = []\n",
        "    for sample in data:\n",
        "        optimizer.zero_grad() # Zeroing the gradient\n",
        "        slots, intent = model(sample['utterances'], sample['slots_len'])\n",
        "        loss_intent = criterion_intents(intent, sample['intents'])\n",
        "\n",
        "        loss_slot = criterion_slots(slots, sample['y_slots'])\n",
        "\n",
        "        loss_intent_array.append(loss_intent.item())\n",
        "        loss_slot_array.append(loss_slot.item())\n",
        "\n",
        "\n",
        "\n",
        "        loss = loss_intent + loss_slot \n",
        "\n",
        "        loss_array.append(loss.item())\n",
        "        loss.backward() # Compute the gradient, deleting the computational graph\n",
        "        optimizer.step() # Update the weights\n",
        "    return loss_array, loss_intent_array, loss_slot_array\n",
        "\n",
        "def eval_loop(data, criterion_slots, criterion_intents, model, lang):\n",
        "    model.eval()\n",
        "    loss_array = []\n",
        "    loss_intent_array = []\n",
        "    loss_slot_array = []\n",
        "    \n",
        "    ref_intents = []\n",
        "    hyp_intents = []\n",
        "    \n",
        "    ref_slots = []\n",
        "    hyp_slots = []\n",
        "   \n",
        "    with torch.no_grad(): # It used to avoid the creation of computational graph\n",
        "        for sample in data:\n",
        "            slots, intents = model(sample['utterances'], sample['slots_len'])\n",
        "            loss_intent = criterion_intents(intents, sample['intents'])\n",
        "            loss_slot = criterion_slots(slots, sample['y_slots'])\n",
        "            loss = loss_intent + loss_slot \n",
        "\n",
        "            loss_intent_array.append(loss_intent.item())\n",
        "            loss_slot_array.append(loss_slot.item())\n",
        "            loss_array.append(loss.item())\n",
        "            # Intent inference\n",
        "            # Get the highest probable class\n",
        "            out_intents = [lang.id2intent[x] \n",
        "                           for x in torch.argmax(intents, dim=1).tolist()] \n",
        "            gt_intents = [lang.id2intent[x] for x in sample['intents'].tolist()]\n",
        "            ref_intents.extend(gt_intents)\n",
        "            hyp_intents.extend(out_intents)\n",
        "            \n",
        "            # Slot inference \n",
        "            output_slots = torch.argmax(slots, dim=1)\n",
        "            for id_seq, seq in enumerate(output_slots):\n",
        "                length = sample['slots_len'].tolist()[id_seq]\n",
        "                utt_ids = sample['utterance'][id_seq][:length].tolist()\n",
        "                gt_ids = sample['y_slots'][id_seq].tolist()\n",
        "                gt_slots = [lang.id2slot[elem] for elem in gt_ids[:length]]\n",
        "            \n",
        "                utterance = [lang.id2word[elem] for elem in utt_ids]\n",
        "            \n",
        "                to_decode = seq[:length].tolist()\n",
        "                ref_slots.append([(utterance[id_el], elem) for id_el, elem in enumerate(gt_slots)])\n",
        "                tmp_seq = []\n",
        "                for id_el, elem in enumerate(to_decode):\n",
        "                    tmp_seq.append((utterance[id_el], lang.id2slot[elem]) if elem != 0 else (utterance[id_el], 'O'))\n",
        "                hyp_slots.append(tmp_seq)\n",
        "           \n",
        "    try:            \n",
        "        results = evaluate(ref_slots, hyp_slots)\n",
        "    except Exception as ex: #if your model predict slot that are not in ref, it gives error\n",
        "        # Sometimes the model predics a class that is not in REF\n",
        "        print(ex)\n",
        "        ref_s = set([x[1] for x in ref_slots])\n",
        "        hyp_s = set([x[1] for x in hyp_slots])\n",
        "        print(hyp_s.difference(ref_s))\n",
        "        \n",
        "    report_intent = classification_report(ref_intents, hyp_intents, \n",
        "                                          zero_division=False, output_dict=True)\n",
        "    \n",
        "    return results, report_intent, loss_array, loss_intent_array, loss_slot_array"
      ]
    },
    {
      "cell_type": "code",
      "source": [
        "def train(train_loader, test_loader, dev_loader, model, optimizer, lang, n_epochs=200, patience=5):\n",
        "  losses_train = []\n",
        "  loss_intent_train = []\n",
        "  loss_slot_train = []\n",
        "  losses_dev = [] \n",
        "  loss_intent_dev_array = []\n",
        "  loss_slot_dev_array= []\n",
        "\n",
        "  sampled_epochs = []\n",
        "  best_f1 = 0\n",
        "  for x in tqdm(range(1,n_epochs)):\n",
        "      if train:\n",
        "        loss, loss_intent, loss_slot = train_loop(train_loader, optimizer, criterion_slots, \n",
        "                          criterion_intents, model)\n",
        "        if x % 3 == 0:\n",
        "            sampled_epochs.append(x)\n",
        "            losses_train.append(np.asarray(loss).mean())\n",
        "            loss_intent_train.append(np.asarray(loss_intent).mean())\n",
        "            loss_slot_train.append(np.asarray(loss_slot).mean())\n",
        "\n",
        "            results_dev, intent_res, loss_dev, loss_intent_dev, loss_slot_dev = eval_loop(dev_loader, criterion_slots, \n",
        "                                                          criterion_intents, model, lang)\n",
        "            losses_dev.append(np.asarray(loss_dev).mean())\n",
        "            loss_intent_dev_array.append(np.asarray(loss_intent_dev).mean())\n",
        "            loss_slot_dev_array.append(np.asarray(loss_slot_dev).mean())\n",
        "            f1 = results_dev['total']['f']\n",
        "          \n",
        "            #print('\\nSlot F1: ', results_dev['total']['f'])\n",
        "            #print('Intent Accuracy:', intent_res['accuracy'])\n",
        "            \n",
        "            if f1 > best_f1: #sometimes loss words but f1 increases, we have to look at both and figure out what of the 2 to use to stop the training\n",
        "                best_f1 = f1\n",
        "            else:\n",
        "                patience -= 1\n",
        "            if patience <= 0: # Early stopping with patience\n",
        "                break # Not nice but it keeps the code clean\n",
        "\n",
        "  results_test, intent_test, _ , _ , _ = eval_loop(test_loader, criterion_slots, \n",
        "                                          criterion_intents, model, lang)    \n",
        "  print('\\nSlot F1: ', results_test['total']['f'])\n",
        "  print('Intent Accuracy:', intent_test['accuracy'])\n",
        "  return results_test, intent_test, sampled_epochs, losses_train, losses_dev, loss_intent_train, loss_slot_train, loss_intent_dev_array, loss_slot_dev_array"
      ],
      "metadata": {
        "id": "xDSS2jyZ21Em"
      },
      "execution_count": 47,
      "outputs": []
    },
    {
      "cell_type": "markdown",
      "source": [
        "Some hyperparameters"
      ],
      "metadata": {
        "id": "RchRvTXlBMMJ"
      }
    },
    {
      "cell_type": "code",
      "execution_count": 48,
      "metadata": {
        "id": "7e5edf6c"
      },
      "outputs": [],
      "source": [
        "hid_size = 200\n",
        "emb_size = 300\n",
        "\n",
        "lr = 0.0001 # learning rate"
      ]
    },
    {
      "cell_type": "markdown",
      "source": [
        "Definition of loss for slots and intents"
      ],
      "metadata": {
        "id": "j0alqHlCB_Bh"
      }
    },
    {
      "cell_type": "code",
      "source": [
        "criterion_slots = nn.CrossEntropyLoss(ignore_index=PAD_TOKEN) #we want to ignore the padding token\n",
        "criterion_intents = nn.CrossEntropyLoss() # Because we do not have the pad token"
      ],
      "metadata": {
        "id": "Yq9-PlVMYyH9"
      },
      "execution_count": 49,
      "outputs": []
    },
    {
      "cell_type": "markdown",
      "source": [
        "###Train on ATIS"
      ],
      "metadata": {
        "id": "ztby1UCi4M3K"
      }
    },
    {
      "cell_type": "code",
      "source": [
        "ATIS_model = ModelIAS(hid_size, ATIS_out_slot, ATIS_out_int, emb_size, ATIS_vocab_len, pad_index=PAD_TOKEN).to(device)\n",
        "ATIS_model.apply(init_weights)\n",
        "ATIS_optimizer = optim.Adam(ATIS_model.parameters(), lr=lr) #take default parameters, just modify lr"
      ],
      "metadata": {
        "id": "cSRYOZSK4RBv",
        "colab": {
          "base_uri": "https://localhost:8080/",
          "height": 345
        },
        "outputId": "f62ae1d4-f6ba-432a-f4d8-ab5878c1a3a6"
      },
      "execution_count": 50,
      "outputs": [
        {
          "output_type": "error",
          "ename": "RuntimeError",
          "evalue": "ignored",
          "traceback": [
            "\u001b[0;31m---------------------------------------------------------------------------\u001b[0m",
            "\u001b[0;31mRuntimeError\u001b[0m                              Traceback (most recent call last)",
            "\u001b[0;32m<ipython-input-50-accffe4f1c76>\u001b[0m in \u001b[0;36m<module>\u001b[0;34m()\u001b[0m\n\u001b[0;32m----> 1\u001b[0;31m \u001b[0mATIS_model\u001b[0m \u001b[0;34m=\u001b[0m \u001b[0mModelIAS\u001b[0m\u001b[0;34m(\u001b[0m\u001b[0mhid_size\u001b[0m\u001b[0;34m,\u001b[0m \u001b[0mATIS_out_slot\u001b[0m\u001b[0;34m,\u001b[0m \u001b[0mATIS_out_int\u001b[0m\u001b[0;34m,\u001b[0m \u001b[0memb_size\u001b[0m\u001b[0;34m,\u001b[0m \u001b[0mATIS_vocab_len\u001b[0m\u001b[0;34m,\u001b[0m \u001b[0mpad_index\u001b[0m\u001b[0;34m=\u001b[0m\u001b[0mPAD_TOKEN\u001b[0m\u001b[0;34m)\u001b[0m\u001b[0;34m.\u001b[0m\u001b[0mto\u001b[0m\u001b[0;34m(\u001b[0m\u001b[0mdevice\u001b[0m\u001b[0;34m)\u001b[0m\u001b[0;34m\u001b[0m\u001b[0;34m\u001b[0m\u001b[0m\n\u001b[0m\u001b[1;32m      2\u001b[0m \u001b[0mATIS_model\u001b[0m\u001b[0;34m.\u001b[0m\u001b[0mapply\u001b[0m\u001b[0;34m(\u001b[0m\u001b[0minit_weights\u001b[0m\u001b[0;34m)\u001b[0m\u001b[0;34m\u001b[0m\u001b[0;34m\u001b[0m\u001b[0m\n\u001b[1;32m      3\u001b[0m \u001b[0mATIS_optimizer\u001b[0m \u001b[0;34m=\u001b[0m \u001b[0moptim\u001b[0m\u001b[0;34m.\u001b[0m\u001b[0mAdam\u001b[0m\u001b[0;34m(\u001b[0m\u001b[0mATIS_model\u001b[0m\u001b[0;34m.\u001b[0m\u001b[0mparameters\u001b[0m\u001b[0;34m(\u001b[0m\u001b[0;34m)\u001b[0m\u001b[0;34m,\u001b[0m \u001b[0mlr\u001b[0m\u001b[0;34m=\u001b[0m\u001b[0mlr\u001b[0m\u001b[0;34m)\u001b[0m \u001b[0;31m#take default parameters, just modify lr\u001b[0m\u001b[0;34m\u001b[0m\u001b[0;34m\u001b[0m\u001b[0m\n",
            "\u001b[0;32m/usr/local/lib/python3.7/dist-packages/torch/nn/modules/module.py\u001b[0m in \u001b[0;36mto\u001b[0;34m(self, *args, **kwargs)\u001b[0m\n\u001b[1;32m    925\u001b[0m             \u001b[0;32mreturn\u001b[0m \u001b[0mt\u001b[0m\u001b[0;34m.\u001b[0m\u001b[0mto\u001b[0m\u001b[0;34m(\u001b[0m\u001b[0mdevice\u001b[0m\u001b[0;34m,\u001b[0m \u001b[0mdtype\u001b[0m \u001b[0;32mif\u001b[0m \u001b[0mt\u001b[0m\u001b[0;34m.\u001b[0m\u001b[0mis_floating_point\u001b[0m\u001b[0;34m(\u001b[0m\u001b[0;34m)\u001b[0m \u001b[0;32mor\u001b[0m \u001b[0mt\u001b[0m\u001b[0;34m.\u001b[0m\u001b[0mis_complex\u001b[0m\u001b[0;34m(\u001b[0m\u001b[0;34m)\u001b[0m \u001b[0;32melse\u001b[0m \u001b[0;32mNone\u001b[0m\u001b[0;34m,\u001b[0m \u001b[0mnon_blocking\u001b[0m\u001b[0;34m)\u001b[0m\u001b[0;34m\u001b[0m\u001b[0;34m\u001b[0m\u001b[0m\n\u001b[1;32m    926\u001b[0m \u001b[0;34m\u001b[0m\u001b[0m\n\u001b[0;32m--> 927\u001b[0;31m         \u001b[0;32mreturn\u001b[0m \u001b[0mself\u001b[0m\u001b[0;34m.\u001b[0m\u001b[0m_apply\u001b[0m\u001b[0;34m(\u001b[0m\u001b[0mconvert\u001b[0m\u001b[0;34m)\u001b[0m\u001b[0;34m\u001b[0m\u001b[0;34m\u001b[0m\u001b[0m\n\u001b[0m\u001b[1;32m    928\u001b[0m \u001b[0;34m\u001b[0m\u001b[0m\n\u001b[1;32m    929\u001b[0m     def register_backward_hook(\n",
            "\u001b[0;32m/usr/local/lib/python3.7/dist-packages/torch/nn/modules/module.py\u001b[0m in \u001b[0;36m_apply\u001b[0;34m(self, fn)\u001b[0m\n\u001b[1;32m    577\u001b[0m     \u001b[0;32mdef\u001b[0m \u001b[0m_apply\u001b[0m\u001b[0;34m(\u001b[0m\u001b[0mself\u001b[0m\u001b[0;34m,\u001b[0m \u001b[0mfn\u001b[0m\u001b[0;34m)\u001b[0m\u001b[0;34m:\u001b[0m\u001b[0;34m\u001b[0m\u001b[0;34m\u001b[0m\u001b[0m\n\u001b[1;32m    578\u001b[0m         \u001b[0;32mfor\u001b[0m \u001b[0mmodule\u001b[0m \u001b[0;32min\u001b[0m \u001b[0mself\u001b[0m\u001b[0;34m.\u001b[0m\u001b[0mchildren\u001b[0m\u001b[0;34m(\u001b[0m\u001b[0;34m)\u001b[0m\u001b[0;34m:\u001b[0m\u001b[0;34m\u001b[0m\u001b[0;34m\u001b[0m\u001b[0m\n\u001b[0;32m--> 579\u001b[0;31m             \u001b[0mmodule\u001b[0m\u001b[0;34m.\u001b[0m\u001b[0m_apply\u001b[0m\u001b[0;34m(\u001b[0m\u001b[0mfn\u001b[0m\u001b[0;34m)\u001b[0m\u001b[0;34m\u001b[0m\u001b[0;34m\u001b[0m\u001b[0m\n\u001b[0m\u001b[1;32m    580\u001b[0m \u001b[0;34m\u001b[0m\u001b[0m\n\u001b[1;32m    581\u001b[0m         \u001b[0;32mdef\u001b[0m \u001b[0mcompute_should_use_set_data\u001b[0m\u001b[0;34m(\u001b[0m\u001b[0mtensor\u001b[0m\u001b[0;34m,\u001b[0m \u001b[0mtensor_applied\u001b[0m\u001b[0;34m)\u001b[0m\u001b[0;34m:\u001b[0m\u001b[0;34m\u001b[0m\u001b[0;34m\u001b[0m\u001b[0m\n",
            "\u001b[0;32m/usr/local/lib/python3.7/dist-packages/torch/nn/modules/module.py\u001b[0m in \u001b[0;36m_apply\u001b[0;34m(self, fn)\u001b[0m\n\u001b[1;32m    600\u001b[0m             \u001b[0;31m# `with torch.no_grad():`\u001b[0m\u001b[0;34m\u001b[0m\u001b[0;34m\u001b[0m\u001b[0;34m\u001b[0m\u001b[0m\n\u001b[1;32m    601\u001b[0m             \u001b[0;32mwith\u001b[0m \u001b[0mtorch\u001b[0m\u001b[0;34m.\u001b[0m\u001b[0mno_grad\u001b[0m\u001b[0;34m(\u001b[0m\u001b[0;34m)\u001b[0m\u001b[0;34m:\u001b[0m\u001b[0;34m\u001b[0m\u001b[0;34m\u001b[0m\u001b[0m\n\u001b[0;32m--> 602\u001b[0;31m                 \u001b[0mparam_applied\u001b[0m \u001b[0;34m=\u001b[0m \u001b[0mfn\u001b[0m\u001b[0;34m(\u001b[0m\u001b[0mparam\u001b[0m\u001b[0;34m)\u001b[0m\u001b[0;34m\u001b[0m\u001b[0;34m\u001b[0m\u001b[0m\n\u001b[0m\u001b[1;32m    603\u001b[0m             \u001b[0mshould_use_set_data\u001b[0m \u001b[0;34m=\u001b[0m \u001b[0mcompute_should_use_set_data\u001b[0m\u001b[0;34m(\u001b[0m\u001b[0mparam\u001b[0m\u001b[0;34m,\u001b[0m \u001b[0mparam_applied\u001b[0m\u001b[0;34m)\u001b[0m\u001b[0;34m\u001b[0m\u001b[0;34m\u001b[0m\u001b[0m\n\u001b[1;32m    604\u001b[0m             \u001b[0;32mif\u001b[0m \u001b[0mshould_use_set_data\u001b[0m\u001b[0;34m:\u001b[0m\u001b[0;34m\u001b[0m\u001b[0;34m\u001b[0m\u001b[0m\n",
            "\u001b[0;32m/usr/local/lib/python3.7/dist-packages/torch/nn/modules/module.py\u001b[0m in \u001b[0;36mconvert\u001b[0;34m(t)\u001b[0m\n\u001b[1;32m    923\u001b[0m                 return t.to(device, dtype if t.is_floating_point() or t.is_complex() else None,\n\u001b[1;32m    924\u001b[0m                             non_blocking, memory_format=convert_to_format)\n\u001b[0;32m--> 925\u001b[0;31m             \u001b[0;32mreturn\u001b[0m \u001b[0mt\u001b[0m\u001b[0;34m.\u001b[0m\u001b[0mto\u001b[0m\u001b[0;34m(\u001b[0m\u001b[0mdevice\u001b[0m\u001b[0;34m,\u001b[0m \u001b[0mdtype\u001b[0m \u001b[0;32mif\u001b[0m \u001b[0mt\u001b[0m\u001b[0;34m.\u001b[0m\u001b[0mis_floating_point\u001b[0m\u001b[0;34m(\u001b[0m\u001b[0;34m)\u001b[0m \u001b[0;32mor\u001b[0m \u001b[0mt\u001b[0m\u001b[0;34m.\u001b[0m\u001b[0mis_complex\u001b[0m\u001b[0;34m(\u001b[0m\u001b[0;34m)\u001b[0m \u001b[0;32melse\u001b[0m \u001b[0;32mNone\u001b[0m\u001b[0;34m,\u001b[0m \u001b[0mnon_blocking\u001b[0m\u001b[0;34m)\u001b[0m\u001b[0;34m\u001b[0m\u001b[0;34m\u001b[0m\u001b[0m\n\u001b[0m\u001b[1;32m    926\u001b[0m \u001b[0;34m\u001b[0m\u001b[0m\n\u001b[1;32m    927\u001b[0m         \u001b[0;32mreturn\u001b[0m \u001b[0mself\u001b[0m\u001b[0;34m.\u001b[0m\u001b[0m_apply\u001b[0m\u001b[0;34m(\u001b[0m\u001b[0mconvert\u001b[0m\u001b[0;34m)\u001b[0m\u001b[0;34m\u001b[0m\u001b[0;34m\u001b[0m\u001b[0m\n",
            "\u001b[0;32m/usr/local/lib/python3.7/dist-packages/torch/cuda/__init__.py\u001b[0m in \u001b[0;36m_lazy_init\u001b[0;34m()\u001b[0m\n\u001b[1;32m    215\u001b[0m         \u001b[0;31m# This function throws if there's a driver initialization error, no GPUs\u001b[0m\u001b[0;34m\u001b[0m\u001b[0;34m\u001b[0m\u001b[0;34m\u001b[0m\u001b[0m\n\u001b[1;32m    216\u001b[0m         \u001b[0;31m# are found or any other error occurs\u001b[0m\u001b[0;34m\u001b[0m\u001b[0;34m\u001b[0m\u001b[0;34m\u001b[0m\u001b[0m\n\u001b[0;32m--> 217\u001b[0;31m         \u001b[0mtorch\u001b[0m\u001b[0;34m.\u001b[0m\u001b[0m_C\u001b[0m\u001b[0;34m.\u001b[0m\u001b[0m_cuda_init\u001b[0m\u001b[0;34m(\u001b[0m\u001b[0;34m)\u001b[0m\u001b[0;34m\u001b[0m\u001b[0;34m\u001b[0m\u001b[0m\n\u001b[0m\u001b[1;32m    218\u001b[0m         \u001b[0;31m# Some of the queued calls may reentrantly call _lazy_init();\u001b[0m\u001b[0;34m\u001b[0m\u001b[0;34m\u001b[0m\u001b[0;34m\u001b[0m\u001b[0m\n\u001b[1;32m    219\u001b[0m         \u001b[0;31m# we need to just return without initializing in that case.\u001b[0m\u001b[0;34m\u001b[0m\u001b[0;34m\u001b[0m\u001b[0;34m\u001b[0m\u001b[0m\n",
            "\u001b[0;31mRuntimeError\u001b[0m: No CUDA GPUs are available"
          ]
        }
      ]
    },
    {
      "cell_type": "code",
      "source": [
        "runs = 5\n",
        "slot_f1s, intent_acc = [], []\n",
        "ATIS_tot_losses_train, ATIS_tot_losses_dev = [], []\n",
        "ATIS_tot_losses_intent_train, ATIS_tot_losses_intent_dev = [], []\n",
        "ATIS_tot_losses_slot_train, ATIS_tot_losses_slot_dev = [], []\n",
        "ATIS_tot_sampled_epochs = []\n",
        "ATIS_tot_intent_test = []\n",
        "ATIS_tot_results_test = []\n",
        "\n",
        "for x in tqdm(range(0, runs)):\n",
        "    \n",
        "    ATIS_model = ModelIAS(hid_size, ATIS_out_slot, ATIS_out_int, emb_size, ATIS_vocab_len, pad_index=PAD_TOKEN).to(device)\n",
        "    ATIS_model.apply(init_weights)\n",
        "    ATIS_optimizer_adv = optim.Adam(ATIS_model.parameters(), lr=lr) #take default parameters, just modify lr\n",
        "    \n",
        "    results_test, intent_test, sampled_epochs, losses_train, losses_dev, loss_intent_train, loss_slot_train, loss_intent_dev_array, loss_slot_dev_array = train(\n",
        "        train_loader = ATIS_train_loader, \n",
        "        test_loader = ATIS_test_loader, \n",
        "        dev_loader = ATIS_dev_loader, \n",
        "        model = ATIS_model, \n",
        "        optimizer = ATIS_optimizer_adv,\n",
        "        lang = ATIS_lang) \n",
        "    \n",
        "    intent_acc.append(intent_test['accuracy'])\n",
        "    slot_f1s.append(results_test['total']['f'])\n",
        "    ATIS_tot_losses_train.append(losses_train)\n",
        "    ATIS_tot_losses_dev.append(losses_dev)\n",
        "    ATIS_tot_losses_intent_train.append(loss_intent_train)\n",
        "    ATIS_tot_losses_intent_dev.append(loss_intent_dev_array)\n",
        "    ATIS_tot_losses_slot_train.append(loss_slot_train)\n",
        "    ATIS_tot_losses_slot_dev.append(loss_slot_dev_array) \n",
        "    ATIS_tot_sampled_epochs.append(sampled_epochs)\n",
        "    ATIS_tot_intent_test.append(intent_test)\n",
        "    ATIS_tot_results_test.append(results_test)\n",
        "\n",
        "slot_f1s = np.asarray(slot_f1s)\n",
        "intent_acc = np.asarray(intent_acc)\n",
        "print('\\nSlot F1', round(slot_f1s.mean(),3), '+-', round(slot_f1s.std(),3))\n",
        "print('Intent Acc', round(intent_acc.mean(), 3), '+-', round(slot_f1s.std(), 3))"
      ],
      "metadata": {
        "id": "6KCkl9sVDHnR"
      },
      "execution_count": null,
      "outputs": []
    },
    {
      "cell_type": "markdown",
      "source": [
        "###Intent classification analysis "
      ],
      "metadata": {
        "id": "td8aS0dbL_An"
      }
    },
    {
      "cell_type": "code",
      "source": [
        "x = ATIS_tot_intent_test[0]\n",
        "print(\"Accuracy: \", x.pop('accuracy'))"
      ],
      "metadata": {
        "id": "tOrFJZx4Jboo"
      },
      "execution_count": null,
      "outputs": []
    },
    {
      "cell_type": "markdown",
      "source": [
        "Macro average and weighted average"
      ],
      "metadata": {
        "id": "Y4FRt3oYSiNd"
      }
    },
    {
      "cell_type": "code",
      "source": [
        "avg = {'weighted avg': x['weighted avg'], 'macro avg' :  x['macro avg']}\n",
        "x.pop('macro avg')\n",
        "x.pop('weighted avg')\n",
        "table = pd.DataFrame.from_dict(avg).transpose()\n",
        "table.round(decimals=3)"
      ],
      "metadata": {
        "id": "EvhiBIBHShZC"
      },
      "execution_count": null,
      "outputs": []
    },
    {
      "cell_type": "markdown",
      "source": [
        "10 best classified intent labels (based on F1-score):"
      ],
      "metadata": {
        "id": "o9DK0AdUMmqz"
      }
    },
    {
      "cell_type": "code",
      "source": [
        "best = dict(sorted(x.items(), key=lambda item: item[1]['f1-score'], reverse = True))\n",
        "table = pd.DataFrame.from_dict(best).transpose()[:10]\n",
        "table.round(decimals=3)"
      ],
      "metadata": {
        "id": "wiVIOJ3AzrN9"
      },
      "execution_count": null,
      "outputs": []
    },
    {
      "cell_type": "markdown",
      "source": [
        "10 worst classified intent labels (based on F1-score):"
      ],
      "metadata": {
        "id": "TnAVlNRCNI_w"
      }
    },
    {
      "cell_type": "code",
      "source": [
        "worst = dict(sorted(x.items(), key=lambda item: item[1]['f1-score'], reverse = False))\n",
        "table = pd.DataFrame.from_dict(worst).transpose()[:10]\n",
        "table.round(decimals=3)"
      ],
      "metadata": {
        "id": "GQBHSkLeM7lm"
      },
      "execution_count": null,
      "outputs": []
    },
    {
      "cell_type": "markdown",
      "source": [
        "###Slot filling analysis"
      ],
      "metadata": {
        "id": "eE76gMauNt9d"
      }
    },
    {
      "cell_type": "code",
      "source": [
        "x = ATIS_tot_results_test[0]"
      ],
      "metadata": {
        "id": "FYKKYEgHN4tj"
      },
      "execution_count": null,
      "outputs": []
    },
    {
      "cell_type": "markdown",
      "source": [
        "15 best slot labels"
      ],
      "metadata": {
        "id": "Klh1OmQ5OVB0"
      }
    },
    {
      "cell_type": "code",
      "source": [
        "best = dict(sorted(x.items(), key=lambda item: item[1]['f'], reverse = True))\n",
        "table = pd.DataFrame.from_dict(best).transpose()[:15]\n",
        "table.round(decimals=3)"
      ],
      "metadata": {
        "id": "gHRIG5-yON0r"
      },
      "execution_count": null,
      "outputs": []
    },
    {
      "cell_type": "markdown",
      "source": [
        "15 worst slot labels"
      ],
      "metadata": {
        "id": "X6Q1CSsbOhZy"
      }
    },
    {
      "cell_type": "code",
      "source": [
        "worst = dict(sorted(x.items(), key=lambda item: item[1]['f'], reverse = False))\n",
        "table = pd.DataFrame.from_dict(worst).transpose()[:15]\n",
        "table.round(decimals=3)"
      ],
      "metadata": {
        "id": "RDfwt1tiOjWz"
      },
      "execution_count": null,
      "outputs": []
    },
    {
      "cell_type": "markdown",
      "source": [
        "###Losses plots "
      ],
      "metadata": {
        "id": "YbVBpalzCMPJ"
      }
    },
    {
      "cell_type": "markdown",
      "source": [
        "Total loss plot"
      ],
      "metadata": {
        "id": "arwipReHB_Yg"
      }
    },
    {
      "cell_type": "code",
      "source": [
        "plot_losses(ATIS_tot_sampled_epochs[0], ATIS_tot_losses_train[0], ATIS_tot_losses_dev[0])"
      ],
      "metadata": {
        "id": "pvqRorfVzrN-"
      },
      "execution_count": null,
      "outputs": []
    },
    {
      "cell_type": "markdown",
      "source": [
        "Intent loss plot"
      ],
      "metadata": {
        "id": "OzB3BhYYCCiL"
      }
    },
    {
      "cell_type": "code",
      "source": [
        "plot_losses(ATIS_tot_sampled_epochs[0], ATIS_tot_losses_intent_train[0], ATIS_tot_losses_intent_dev[0])"
      ],
      "metadata": {
        "id": "lSzbRKsezrN-"
      },
      "execution_count": null,
      "outputs": []
    },
    {
      "cell_type": "markdown",
      "source": [
        "Slot loss plot"
      ],
      "metadata": {
        "id": "iC_VI9M5CEVi"
      }
    },
    {
      "cell_type": "code",
      "source": [
        "plot_losses(ATIS_tot_sampled_epochs[0], ATIS_tot_losses_slot_train[0], ATIS_tot_losses_slot_dev[0])"
      ],
      "metadata": {
        "id": "TqLEuN1UzrN-"
      },
      "execution_count": null,
      "outputs": []
    },
    {
      "cell_type": "markdown",
      "source": [
        "###Train on SNIPS"
      ],
      "metadata": {
        "id": "_-rNG8kn5Bjl"
      }
    },
    {
      "cell_type": "code",
      "source": [
        "runs = 5\n",
        "slot_f1s, intent_acc = [], []\n",
        "SNIPS_tot_losses_train, SNIPS_tot_losses_dev = [], []\n",
        "SNIPS_tot_losses_intent_train, SNIPS_tot_losses_intent_dev = [], []\n",
        "SNIPS_tot_losses_slot_train, SNIPS_tot_losses_slot_dev = [], []\n",
        "SNIPS_tot_sampled_epochs = []\n",
        "SNIPS_tot_intent_test = []\n",
        "SNIPS_tot_results_test = []\n",
        " \n",
        "for x in tqdm(range(0, runs)):\n",
        "    \n",
        "    SNIPS_model_adv = ModelIAS(hid_size, SNIPS_out_slot, SNIPS_out_int, emb_size, SNIPS_vocab_len, pad_index=PAD_TOKEN).to(device)\n",
        "    SNIPS_model_adv.apply(init_weights)\n",
        "    SNIPS_optimizer_adv = optim.Adam(SNIPS_model_adv.parameters(), lr=lr) #take default parameters, just modify lr\n",
        "    \n",
        "    results_test, intent_test, sampled_epochs, losses_train, losses_dev, loss_intent_train, loss_slot_train, loss_intent_dev_array, loss_slot_dev_array = train(\n",
        "        train_loader = SNIPS_train_loader, \n",
        "        test_loader = SNIPS_test_loader, \n",
        "        dev_loader = SNIPS_dev_loader, \n",
        "        model = SNIPS_model_adv, \n",
        "        optimizer = SNIPS_optimizer_adv,\n",
        "        lang = SNIPS_lang) \n",
        "    \n",
        "    intent_acc.append(intent_test['accuracy'])\n",
        "    slot_f1s.append(results_test['total']['f'])\n",
        "    SNIPS_tot_losses_train.append(losses_train)\n",
        "    SNIPS_tot_losses_dev.append(losses_dev)\n",
        "    SNIPS_tot_losses_intent_train.append(loss_intent_train)\n",
        "    SNIPS_tot_losses_intent_dev.append(loss_intent_dev_array)\n",
        "    SNIPS_tot_losses_slot_train.append(loss_slot_train)\n",
        "    SNIPS_tot_losses_slot_dev.append(loss_slot_dev_array) \n",
        "    SNIPS_tot_sampled_epochs.append(sampled_epochs)\n",
        "    SNIPS_tot_intent_test.append(intent_test)\n",
        "    SNIPS_tot_results_test.append(results_test)\n",
        " \n",
        "slot_f1s = np.asarray(slot_f1s)\n",
        "intent_acc = np.asarray(intent_acc)\n",
        "print('\\nSlot F1', round(slot_f1s.mean(),3), '+-', round(slot_f1s.std(),3))\n",
        "print('Intent Acc', round(intent_acc.mean(), 3), '+-', round(slot_f1s.std(), 3))\n"
      ],
      "metadata": {
        "id": "o7lB9sFbaikg"
      },
      "execution_count": null,
      "outputs": []
    },
    {
      "cell_type": "markdown",
      "source": [
        "###Intent classification analysis "
      ],
      "metadata": {
        "id": "vopIwzbxPIeW"
      }
    },
    {
      "cell_type": "code",
      "source": [
        "x = SNIPS_tot_intent_test[0]\n",
        "x.pop('accuracy')"
      ],
      "metadata": {
        "id": "meqjW8QlRKji"
      },
      "execution_count": null,
      "outputs": []
    },
    {
      "cell_type": "markdown",
      "source": [
        "Macro average and weighted average"
      ],
      "metadata": {
        "id": "tQTo2yamRWxI"
      }
    },
    {
      "cell_type": "code",
      "source": [
        "avg = {'weighted avg': x['weighted avg'], 'macro avg' :  x['macro avg']}\n",
        "x.pop('macro avg')\n",
        "x.pop('weighted avg')\n",
        "table = pd.DataFrame.from_dict(avg).transpose()\n",
        "table.round(decimals=3)"
      ],
      "metadata": {
        "id": "zd4u_E95PIeX"
      },
      "execution_count": null,
      "outputs": []
    },
    {
      "cell_type": "markdown",
      "source": [
        "Classified intent labels (based on F1-score):"
      ],
      "metadata": {
        "id": "vcu97Fz2PIeX"
      }
    },
    {
      "cell_type": "code",
      "source": [
        "best = dict(sorted(x.items(), key=lambda item: item[1]['f1-score'], reverse = True))\n",
        "table = pd.DataFrame.from_dict(best).transpose()\n",
        "table.round(decimals=3)"
      ],
      "metadata": {
        "id": "Yvkwg57APIeX"
      },
      "execution_count": null,
      "outputs": []
    },
    {
      "cell_type": "markdown",
      "source": [
        "###Slot filling analysis"
      ],
      "metadata": {
        "id": "2eO8I1vfPIeX"
      }
    },
    {
      "cell_type": "code",
      "source": [
        "x = SNIPS_tot_results_test[0]"
      ],
      "metadata": {
        "id": "3foaT-dkPIeY"
      },
      "execution_count": null,
      "outputs": []
    },
    {
      "cell_type": "markdown",
      "source": [
        "15 best classified slot labels"
      ],
      "metadata": {
        "id": "NmbReV0CCWb8"
      }
    },
    {
      "cell_type": "code",
      "source": [
        "best = dict(sorted(x.items(), key=lambda item: item[1]['f'], reverse = True))\n",
        "table = pd.DataFrame.from_dict(best).transpose()[:15]\n",
        "table.round(decimals=3)"
      ],
      "metadata": {
        "id": "QJKzD5WyPIeY"
      },
      "execution_count": null,
      "outputs": []
    },
    {
      "cell_type": "markdown",
      "source": [
        "15 worst classified slot labels"
      ],
      "metadata": {
        "id": "KmDY16QOPIeY"
      }
    },
    {
      "cell_type": "code",
      "source": [
        "worst = dict(sorted(x.items(), key=lambda item: item[1]['f'], reverse = False))\n",
        "table = pd.DataFrame.from_dict(worst).transpose()[:15]\n",
        "table.round(decimals=3)"
      ],
      "metadata": {
        "id": "oyveNqJyPIeY"
      },
      "execution_count": null,
      "outputs": []
    },
    {
      "cell_type": "markdown",
      "source": [
        "###Losses plots"
      ],
      "metadata": {
        "id": "d2xT32bgCbYg"
      }
    },
    {
      "cell_type": "markdown",
      "source": [
        "Total loss plot"
      ],
      "metadata": {
        "id": "ywowtcRDEqA0"
      }
    },
    {
      "cell_type": "code",
      "source": [
        "plot_losses(SNIPS_tot_sampled_epochs[0], SNIPS_tot_losses_train[0], SNIPS_tot_losses_dev[0])"
      ],
      "metadata": {
        "id": "GWI7FsCG0um6"
      },
      "execution_count": null,
      "outputs": []
    },
    {
      "cell_type": "markdown",
      "source": [
        "Intent loss plot"
      ],
      "metadata": {
        "id": "J9DpYCV9Erb-"
      }
    },
    {
      "cell_type": "code",
      "source": [
        "plot_losses(SNIPS_tot_sampled_epochs[0], SNIPS_tot_losses_intent_train[0], SNIPS_tot_losses_intent_dev[0])"
      ],
      "metadata": {
        "id": "6AxSxWYQ0um6"
      },
      "execution_count": null,
      "outputs": []
    },
    {
      "cell_type": "markdown",
      "source": [
        "Slot loss plot"
      ],
      "metadata": {
        "id": "bHQzo5K8EtEP"
      }
    },
    {
      "cell_type": "code",
      "source": [
        "plot_losses(SNIPS_tot_sampled_epochs[0], SNIPS_tot_losses_slot_train[0], SNIPS_tot_losses_slot_dev[0])"
      ],
      "metadata": {
        "id": "X9dY6mhv0um6"
      },
      "execution_count": null,
      "outputs": []
    },
    {
      "cell_type": "markdown",
      "source": [
        "#Second model: Bi-LSMT Model"
      ],
      "metadata": {
        "id": "lIhylzjzU_Nb"
      }
    },
    {
      "cell_type": "code",
      "source": [
        "class Model_adv(nn.Module):\n",
        "#hidden size of rnn, embedding size (size of the vector that represent the word embedding)\n",
        "    def __init__(self, hid_size, out_slot, out_int, emb_size, vocab_len, n_layer=2, pad_index=0):\n",
        "        super(Model_adv, self).__init__()\n",
        "        # hid_size = Hidden size\n",
        "        # out_slot = number of slots (output size for slot filling)\n",
        "        # out_int = number of intents (ouput size for intent class)\n",
        "        # emb_size = word embedding size\n",
        "        \n",
        "        #A simple lookup table that stores embeddings of a fixed dictionary and size.\n",
        "        #The input to the module is a list of indices, and the output is the corresponding word embeddings.\n",
        "        \n",
        "        self.embedding = nn.Embedding(vocab_len, \n",
        "                                      emb_size, \n",
        "                                      padding_idx=pad_index) #pad idx --> the entities at pad_index do not contribute to the gradient\n",
        "        \n",
        "        \"\"\"\n",
        "        num_embeddings (int) – size of the dictionary of embeddings\n",
        "\n",
        "        embedding_dim (int) – the size of each embedding vector\n",
        "\n",
        "        padding_idx (int, optional) – If specified, the entries at padding_idx do not contribute to the gradient; \n",
        "      \n",
        "        \"\"\"\n",
        "        self.utt_encoder = nn.LSTM(emb_size, \n",
        "                                   hid_size, \n",
        "                                   n_layer,\n",
        "                                   dropout=0.1,\n",
        "                                   bidirectional=True)     #network, bidirectional\n",
        "\n",
        "        \"\"\"  \n",
        "        input_size – The number of expected features in the input x\n",
        "        hidden_size – The number of features in the hidden state h\n",
        "        num_layers – Number of recurrent layers. \n",
        "        \"\"\"\n",
        "        #regularization --> randomly mute a neuron, only on training phase. Helps to avoid overfitting\n",
        "        self.dropout = nn.Dropout(0.6)\n",
        "\n",
        "        self.slot_out = nn.Linear(hid_size*2, out_slot)\n",
        "\n",
        "        self.intent_out = nn.Linear(hid_size, out_int)\n",
        "      \n",
        "        \n",
        "    def forward(self, utterance, seq_lengths): #define the architecture\n",
        "        # utterance.size() = batch_size X seq_len\n",
        "        utt_emb = self.embedding(utterance) # utt_emb.size() = batch_size X seq_len X emb_size\n",
        "\n",
        "        #--> get word embedding\n",
        "        utt_emb = utt_emb.permute(1,0,2) # we need seq len first -> seq_len X batch_size X emb_size\n",
        "        \n",
        "        # pack_padded_sequence avoid computation over pad tokens reducing the computational cost\n",
        "\n",
        "        utt_emb_drop = self.dropout(utt_emb)\n",
        "        \n",
        "        packed_input = pack_padded_sequence(utt_emb_drop, seq_lengths.cpu().numpy())\n",
        "        # Process the batch\n",
        "        packed_output, (last_hidden, cell) = self.utt_encoder(packed_input) \n",
        "        \n",
        "        # Unpack the sequence\n",
        "        utt_encoded, input_sizes = pad_packed_sequence(packed_output)\n",
        "        #utt_encoded.shape: [sentence lenght, 128, 200] \n",
        "\n",
        "        # Get the last hidden state\n",
        "        #last_hidde.shape: [1, 128, 200]\n",
        "        #last_hidde.shape: [128, 200] -> [batch size, hidden_size]\n",
        "\n",
        "        hidden_conv = last_hidden\n",
        "\n",
        "        hidden_conv = hidden_conv[-1,:,:]\n",
        "\n",
        "        drop_utt = self.dropout(utt_encoded)\n",
        "        drop_hidden = self.dropout(hidden_conv)\n",
        "       \n",
        "        # Compute slot logits, i use the encoded representation of the utterance, with the encoding of each word\n",
        "        slots = self.slot_out(drop_utt)\n",
        "\n",
        "        intent = self.intent_out(drop_hidden)\n",
        "       \n",
        "        slots = slots.permute(1,2,0) # We need this for computing the loss\n",
        "\n",
        "        return slots, intent"
      ],
      "metadata": {
        "id": "76kccv_huSiF"
      },
      "execution_count": null,
      "outputs": []
    },
    {
      "cell_type": "markdown",
      "source": [
        "##Train Methods"
      ],
      "metadata": {
        "id": "ghf7BC0sNfbU"
      }
    },
    {
      "cell_type": "markdown",
      "source": [
        "Train loops that outputs also the intent and slot losses"
      ],
      "metadata": {
        "id": "YgnoQiJKKtd3"
      }
    },
    {
      "cell_type": "code",
      "execution_count": null,
      "metadata": {
        "id": "Y40BsHiRKlgi"
      },
      "outputs": [],
      "source": [
        "from conll import evaluate\n",
        "from sklearn.metrics import classification_report\n",
        "\n",
        "def train_loop_adv(data, optimizer, criterion_slots, criterion_intents, model):\n",
        "    model.train()\n",
        "    loss_array = []\n",
        "    loss_intent_array = []\n",
        "    loss_slot_array = []\n",
        "    for sample in data:\n",
        "        optimizer.zero_grad() # Zeroing the gradient\n",
        "        slots, intent = model(sample['utterances'], sample['slots_len'])\n",
        "        loss_intent = criterion_intents(intent, sample['intents'])\n",
        "\n",
        "        loss_slot = criterion_slots(slots, sample['y_slots'])\n",
        "\n",
        "        loss_intent_array.append(loss_intent.item())\n",
        "        loss_slot_array.append(loss_slot.item())\n",
        "\n",
        "        if random.random() > 0.8:\n",
        "          alfa = random.random()\n",
        "        else: \n",
        "          alfa = 0.3\n",
        "\n",
        "        loss = alfa*loss_intent + (1-alfa)*loss_slot \n",
        "\n",
        "        loss_array.append(loss.item())\n",
        "        loss.backward() # Compute the gradient, deleting the computational graph\n",
        "        optimizer.step() # Update the weights\n",
        "    return loss_array, loss_intent_array, loss_slot_array\n",
        "\n",
        "def eval_loop_adv(data, criterion_slots, criterion_intents, model, lang):\n",
        "    model.eval()\n",
        "    loss_array = []\n",
        "    loss_intent_array = []\n",
        "    loss_slot_array = []\n",
        "    \n",
        "    ref_intents = []\n",
        "    hyp_intents = []\n",
        "    \n",
        "    ref_slots = []\n",
        "    hyp_slots = []\n",
        "    #softmax = nn.Softmax(dim=1) # Use Softmax if you need the actual probability\n",
        "    with torch.no_grad(): # It used to avoid the creation of computational graph\n",
        "        for sample in data:\n",
        "            slots, intents = model(sample['utterances'], sample['slots_len'])\n",
        "            loss_intent = criterion_intents(intents, sample['intents'])\n",
        "            loss_slot = criterion_slots(slots, sample['y_slots'])\n",
        "            loss = loss_intent + loss_slot \n",
        "\n",
        "            loss_intent_array.append(loss_intent.item())\n",
        "            loss_slot_array.append(loss_slot.item())\n",
        "            loss_array.append(loss.item())\n",
        "            # Intent inference\n",
        "            # Get the highest probable class\n",
        "            out_intents = [lang.id2intent[x] \n",
        "                           for x in torch.argmax(intents, dim=1).tolist()] \n",
        "            gt_intents = [lang.id2intent[x] for x in sample['intents'].tolist()]\n",
        "            ref_intents.extend(gt_intents)\n",
        "            hyp_intents.extend(out_intents)\n",
        "            \n",
        "            # Slot inference \n",
        "            output_slots = torch.argmax(slots, dim=1)\n",
        "            for id_seq, seq in enumerate(output_slots):\n",
        "                length = sample['slots_len'].tolist()[id_seq]\n",
        "                utt_ids = sample['utterance'][id_seq][:length].tolist()\n",
        "                gt_ids = sample['y_slots'][id_seq].tolist()\n",
        "                gt_slots = [lang.id2slot[elem] for elem in gt_ids[:length]]\n",
        "                utterance = [lang.id2word[elem] for elem in utt_ids]\n",
        "                to_decode = seq[:length].tolist()\n",
        "                ref_slots.append([(utterance[id_el], elem) for id_el, elem in enumerate(gt_slots)])\n",
        "                tmp_seq = []\n",
        "                for id_el, elem in enumerate(to_decode):\n",
        "                    tmp_seq.append((utterance[id_el], lang.id2slot[elem]) if elem != 0 else (utterance[id_el], 'O'))\n",
        "                hyp_slots.append(tmp_seq)\n",
        "                #print(hyp_slots)\n",
        "    try:            \n",
        "        results = evaluate(ref_slots, hyp_slots)\n",
        "    except Exception as ex: #if your model predict slot that are not in ref, it gives error\n",
        "        # Sometimes the model predics a class that is not in REF\n",
        "        print(ex)\n",
        "        ref_s = set([x[1] for x in ref_slots])\n",
        "        hyp_s = set([x[1] for x in hyp_slots])\n",
        "        print(hyp_s.difference(ref_s))\n",
        "        \n",
        "    report_intent = classification_report(ref_intents, hyp_intents, \n",
        "                                          zero_division=False, output_dict=True)\n",
        "    \n",
        "    return results, report_intent, loss_array, loss_intent_array, loss_slot_array\n"
      ]
    },
    {
      "cell_type": "code",
      "source": [
        "def train_adv(train_loader, test_loader, dev_loader, model, criterion_slots, criterion_intents, optimizer, lang, n_epochs=200, patience=3, train=True):\n",
        " \n",
        "  losses_train = []\n",
        "  loss_intent_train = []\n",
        "  loss_slot_train = []\n",
        "  losses_dev = [] \n",
        "  loss_intent_dev_array = []\n",
        "  loss_slot_dev_array= []\n",
        "\n",
        "  sampled_epochs = []\n",
        "  best_f1 = 0\n",
        "  last_loss = 0\n",
        "  for x in tqdm(range(1,n_epochs)):\n",
        "      if train:\n",
        "        loss, loss_intent, loss_slot = train_loop_adv(train_loader, optimizer, criterion_slots, \n",
        "                          criterion_intents, model)\n",
        "        if x % 3 == 0:\n",
        "            sampled_epochs.append(x)\n",
        "            losses_train.append(np.asarray(loss).mean())\n",
        "            loss_intent_train.append(np.asarray(loss_intent).mean())\n",
        "            loss_slot_train.append(np.asarray(loss_slot).mean())\n",
        "\n",
        "            results_dev, intent_res, loss_dev, loss_intent_dev, loss_slot_dev = eval_loop_adv(dev_loader, criterion_slots, \n",
        "                                                          criterion_intents, model, lang)\n",
        "            losses_dev.append(np.asarray(loss_dev).mean())\n",
        "            loss_intent_dev_array.append(np.asarray(loss_intent_dev).mean())\n",
        "            loss_slot_dev_array.append(np.asarray(loss_slot_dev).mean())\n",
        "            f1 = results_dev['total']['f']\n",
        "            accuracy = intent_res['accuracy']\n",
        "            #print('\\nSlot F1: ', results_dev['total']['f'])\n",
        "            #print('Intent Accuracy:', intent_res['accuracy'])\n",
        "            \n",
        "\n",
        "            if f1 > best_f1: #sometimes loss words but f1 increases, we have to look at both and figure out what of the 2 to use to stop the training\n",
        "                best_f1 = f1\n",
        "            else:\n",
        "                patience -= 1\n",
        "\n",
        "            if patience <= 0: # Early stopping with patience\n",
        "                break # Not nice but it keeps the code clean\n",
        "\n",
        "  results_test, intent_test, _ , _ , _ = eval_loop_adv(test_loader, criterion_slots, \n",
        "                                          criterion_intents, model, lang)    \n",
        "  print('\\nSlot F1: ', results_test['total']['f'])\n",
        "  print('Intent Accuracy:', intent_test['accuracy'])\n",
        "  return results_test, intent_test, sampled_epochs, losses_train, losses_dev, loss_intent_train, loss_slot_train, loss_intent_dev_array, loss_slot_dev_array"
      ],
      "metadata": {
        "id": "Eurl1BAQnnRa"
      },
      "execution_count": null,
      "outputs": []
    },
    {
      "cell_type": "markdown",
      "source": [
        "Some hyperparameters"
      ],
      "metadata": {
        "id": "hzW4GxQyDpYo"
      }
    },
    {
      "cell_type": "code",
      "source": [
        "emb_size = 400\n",
        "hid_size = 400\n",
        "\n",
        "lr = 0.0001"
      ],
      "metadata": {
        "id": "TIta_PURDskq"
      },
      "execution_count": null,
      "outputs": []
    },
    {
      "cell_type": "markdown",
      "source": [
        "Losses definition"
      ],
      "metadata": {
        "id": "pKeTh4f_DxQQ"
      }
    },
    {
      "cell_type": "code",
      "source": [
        "criterion_slots = nn.CrossEntropyLoss(ignore_index=PAD_TOKEN) #we want to ignore the padding token\n",
        "criterion_intents = nn.CrossEntropyLoss() # Because we do not have the pad token"
      ],
      "metadata": {
        "id": "EiyKydiUuoJv"
      },
      "execution_count": null,
      "outputs": []
    },
    {
      "cell_type": "markdown",
      "source": [
        "##Train on ATIS "
      ],
      "metadata": {
        "id": "CJk5tYrAqZ6D"
      }
    },
    {
      "cell_type": "code",
      "source": [
        "runs = 5\n",
        "slot_f1s, intent_acc = [], []\n",
        "ATIS_tot_losses_train, ATIS_tot_losses_dev = [], []\n",
        "ATIS_tot_losses_intent_train, ATIS_tot_losses_intent_dev = [], []\n",
        "ATIS_tot_losses_slot_train, ATIS_tot_losses_slot_dev = [], []\n",
        "ATIS_tot_sampled_epochs = []\n",
        "ATIS_tot_intent_test = []\n",
        "ATIS_tot_results_test = []\n",
        "\n",
        "for x in tqdm(range(0, runs)):\n",
        "    \n",
        "    ATIS_model_adv = Model_adv(hid_size, ATIS_out_slot, ATIS_out_int, emb_size, ATIS_vocab_len, pad_index=PAD_TOKEN).to(device)\n",
        "    ATIS_model_adv.apply(init_weights)\n",
        "    ATIS_optimizer_adv = optim.Adam(ATIS_model_adv.parameters(), lr=lr) #take default parameters, just modify lr\n",
        "    \n",
        "    results_test, intent_test, sampled_epochs, losses_train, losses_dev, loss_intent_train, loss_slot_train, loss_intent_dev_array, loss_slot_dev_array = train_adv(\n",
        "        train_loader = ATIS_train_loader, \n",
        "        test_loader = ATIS_test_loader, \n",
        "        dev_loader = ATIS_dev_loader, \n",
        "        model = ATIS_model_adv, \n",
        "        criterion_slots = criterion_slots,\n",
        "        criterion_intents = criterion_intents,\n",
        "        optimizer = ATIS_optimizer_adv,\n",
        "        lang = ATIS_lang,\n",
        "        patience=5) \n",
        "    \n",
        "    intent_acc.append(intent_test['accuracy'])\n",
        "    slot_f1s.append(results_test['total']['f'])\n",
        "    ATIS_tot_losses_train.append(losses_train)\n",
        "    ATIS_tot_losses_dev.append(losses_dev)\n",
        "    ATIS_tot_losses_intent_train.append(loss_intent_train)\n",
        "    ATIS_tot_losses_intent_dev.append(loss_intent_dev_array)\n",
        "    ATIS_tot_losses_slot_train.append(loss_slot_train)\n",
        "    ATIS_tot_losses_slot_dev.append(loss_slot_dev_array) \n",
        "    ATIS_tot_sampled_epochs.append(sampled_epochs)\n",
        "    ATIS_tot_intent_test.append(intent_test)\n",
        "    ATIS_tot_results_test.append(results_test)\n",
        "\n",
        "slot_f1s = np.asarray(slot_f1s)\n",
        "intent_acc = np.asarray(intent_acc)\n",
        "print('\\nSlot F1', round(slot_f1s.mean(),3), '+-', round(slot_f1s.std(),3))\n",
        "print('Intent Acc', round(intent_acc.mean(), 3), '+-', round(slot_f1s.std(), 3))"
      ],
      "metadata": {
        "id": "3Dxe0saGnnMd"
      },
      "execution_count": null,
      "outputs": []
    },
    {
      "cell_type": "markdown",
      "source": [
        "###Intent classification analysis "
      ],
      "metadata": {
        "id": "N9shZfUltLjH"
      }
    },
    {
      "cell_type": "markdown",
      "source": [
        "Accuracy"
      ],
      "metadata": {
        "id": "Q98BLjsoy1FY"
      }
    },
    {
      "cell_type": "code",
      "source": [
        "x = ATIS_tot_intent_test[0]\n",
        "x.pop('accuracy')"
      ],
      "metadata": {
        "id": "olpLH1QetLjI"
      },
      "execution_count": null,
      "outputs": []
    },
    {
      "cell_type": "markdown",
      "source": [
        "Macro average and weighted average"
      ],
      "metadata": {
        "id": "dMbEQkYztLjI"
      }
    },
    {
      "cell_type": "code",
      "source": [
        "avg = {'weighted avg': x['weighted avg'], 'macro avg' :  x['macro avg']}\n",
        "x.pop('macro avg')\n",
        "x.pop('weighted avg')\n",
        "table = pd.DataFrame.from_dict(avg).transpose()\n",
        "table.round(decimals=3)"
      ],
      "metadata": {
        "id": "bDEVGKtvtLjI"
      },
      "execution_count": null,
      "outputs": []
    },
    {
      "cell_type": "markdown",
      "source": [
        "10 best classified intent labels (based on F1-score):"
      ],
      "metadata": {
        "id": "68sYXf42tLjI"
      }
    },
    {
      "cell_type": "code",
      "source": [
        "best = dict(sorted(x.items(), key=lambda item: item[1]['f1-score'], reverse = True))\n",
        "table = pd.DataFrame.from_dict(best).transpose()[:10]\n",
        "table.round(decimals=3)"
      ],
      "metadata": {
        "id": "FkqEfwH2tLjI"
      },
      "execution_count": null,
      "outputs": []
    },
    {
      "cell_type": "markdown",
      "source": [
        "10 worst classified intent labels (based on F1-score):"
      ],
      "metadata": {
        "id": "lF4QvniitLjI"
      }
    },
    {
      "cell_type": "code",
      "source": [
        "worst = dict(sorted(x.items(), key=lambda item: item[1]['f1-score'], reverse = False))\n",
        "table = pd.DataFrame.from_dict(worst).transpose()[:10]\n",
        "table.round(decimals=3)"
      ],
      "metadata": {
        "id": "yXXPHDUqtLjI"
      },
      "execution_count": null,
      "outputs": []
    },
    {
      "cell_type": "markdown",
      "source": [
        "###Slot filling analysis"
      ],
      "metadata": {
        "id": "daGwBTnEtLjJ"
      }
    },
    {
      "cell_type": "code",
      "source": [
        "x = ATIS_tot_results_test[0]"
      ],
      "metadata": {
        "id": "Qdnhtgo7tLjJ"
      },
      "execution_count": null,
      "outputs": []
    },
    {
      "cell_type": "markdown",
      "source": [
        "15 best classified slot labels"
      ],
      "metadata": {
        "id": "QHZRWsb3tLjJ"
      }
    },
    {
      "cell_type": "code",
      "source": [
        "best = dict(sorted(x.items(), key=lambda item: item[1]['f'], reverse = True))\n",
        "table = pd.DataFrame.from_dict(best).transpose()[:15]\n",
        "table.round(decimals=3)"
      ],
      "metadata": {
        "id": "eBVNAvdYtLjJ"
      },
      "execution_count": null,
      "outputs": []
    },
    {
      "cell_type": "markdown",
      "source": [
        "15 worst classified slot labels"
      ],
      "metadata": {
        "id": "0Ytc7gjvtLjJ"
      }
    },
    {
      "cell_type": "code",
      "source": [
        "worst = dict(sorted(x.items(), key=lambda item: item[1]['f'], reverse = False))\n",
        "table = pd.DataFrame.from_dict(worst).transpose()[:15]\n",
        "table.round(decimals=3)"
      ],
      "metadata": {
        "id": "G4STiyG1tLjJ"
      },
      "execution_count": null,
      "outputs": []
    },
    {
      "cell_type": "markdown",
      "source": [
        "###Losses Plots "
      ],
      "metadata": {
        "id": "pgt-ueY2EiMm"
      }
    },
    {
      "cell_type": "markdown",
      "source": [
        "Total loss plot"
      ],
      "metadata": {
        "id": "D_rTEROVElMC"
      }
    },
    {
      "cell_type": "code",
      "source": [
        "plot_losses(ATIS_tot_sampled_epochs[0], ATIS_tot_losses_train[0], ATIS_tot_losses_dev[0])"
      ],
      "metadata": {
        "id": "ajWWJ_fx07kS"
      },
      "execution_count": null,
      "outputs": []
    },
    {
      "cell_type": "markdown",
      "source": [
        "Intent loss plot "
      ],
      "metadata": {
        "id": "neN8gPDoEzu4"
      }
    },
    {
      "cell_type": "code",
      "source": [
        "plot_losses(ATIS_tot_sampled_epochs[0], ATIS_tot_losses_intent_train[0], ATIS_tot_losses_intent_dev[0])"
      ],
      "metadata": {
        "id": "iD35ZPRgUpbv"
      },
      "execution_count": null,
      "outputs": []
    },
    {
      "cell_type": "markdown",
      "source": [
        "Slot loss plot"
      ],
      "metadata": {
        "id": "fr5gQOFCE1SJ"
      }
    },
    {
      "cell_type": "code",
      "source": [
        "plot_losses(ATIS_tot_sampled_epochs[0], ATIS_tot_losses_slot_train[0], ATIS_tot_losses_slot_dev[0])"
      ],
      "metadata": {
        "id": "vcFsV21mUplN"
      },
      "execution_count": null,
      "outputs": []
    },
    {
      "cell_type": "markdown",
      "source": [
        "##Train on SNIPS"
      ],
      "metadata": {
        "id": "5IThtpUxqefc"
      }
    },
    {
      "cell_type": "code",
      "source": [
        "runs = 5\n",
        "slot_f1s, intent_acc = [], []\n",
        "SNIPS_tot_losses_train, SNIPS_tot_losses_dev = [], []\n",
        "SNIPS_tot_losses_intent_train, SNIPS_tot_losses_intent_dev = [], []\n",
        "SNIPS_tot_losses_slot_train, SNIPS_tot_losses_slot_dev = [], []\n",
        "SNIPS_tot_sampled_epochs = []\n",
        " \n",
        "for x in tqdm(range(0, runs)):\n",
        "\n",
        "    SNIPS_model_adv = Model_adv(hid_size, SNIPS_out_slot, SNIPS_out_int, emb_size, SNIPS_vocab_len, pad_index=PAD_TOKEN).to(device)\n",
        "    SNIPS_model_adv.apply(init_weights)\n",
        "    SNIPS_optimizer_adv = optim.Adam(SNIPS_model_adv.parameters(), lr=lr) #take default parameters, just modify lr\n",
        "    \n",
        "    results_test, intent_test, sampled_epochs, losses_train, losses_dev, loss_intent_train, loss_slot_train, loss_intent_dev_array, loss_slot_dev_array = train_adv(\n",
        "        train_loader = SNIPS_train_loader, \n",
        "        test_loader = SNIPS_test_loader, \n",
        "        dev_loader = SNIPS_dev_loader, \n",
        "        model = SNIPS_model_adv, \n",
        "        criterion_slots = criterion_slots,\n",
        "        criterion_intents = criterion_intents,\n",
        "        optimizer = SNIPS_optimizer_adv,\n",
        "        lang = SNIPS_lang,\n",
        "        patience=5)\n",
        "    \n",
        "    intent_acc.append(intent_test['accuracy'])\n",
        "    slot_f1s.append(results_test['total']['f'])\n",
        "    SNIPS_tot_losses_train.append(losses_train)\n",
        "    SNIPS_tot_losses_dev.append(losses_dev)\n",
        "    SNIPS_tot_losses_intent_train.append(loss_intent_train)\n",
        "    SNIPS_tot_losses_intent_dev.append(loss_intent_dev_array)\n",
        "    SNIPS_tot_losses_slot_train.append(loss_slot_train)\n",
        "    SNIPS_tot_losses_slot_dev.append(loss_slot_dev_array) \n",
        "    SNIPS_tot_sampled_epochs.append(sampled_epochs)\n",
        " \n",
        "slot_f1s = np.asarray(slot_f1s)\n",
        "intent_acc = np.asarray(intent_acc)\n",
        "print('\\nSlot F1', round(slot_f1s.mean(),3), '+-', round(slot_f1s.std(),3))\n",
        "print('Intent Acc', round(intent_acc.mean(), 3), '+-', round(slot_f1s.std(), 3))"
      ],
      "metadata": {
        "id": "r-vg-wO8qheH"
      },
      "execution_count": null,
      "outputs": []
    },
    {
      "cell_type": "markdown",
      "source": [
        "###Intent classification analysis "
      ],
      "metadata": {
        "id": "swrxM1NR-BSe"
      }
    },
    {
      "cell_type": "code",
      "source": [
        "x = SNIPS_tot_intent_test[0]\n",
        "x.pop('accuracy')"
      ],
      "metadata": {
        "id": "sTAQ7C2e-BSf"
      },
      "execution_count": null,
      "outputs": []
    },
    {
      "cell_type": "markdown",
      "source": [
        "Macro average and weighted average"
      ],
      "metadata": {
        "id": "KT9txNWC-BSf"
      }
    },
    {
      "cell_type": "code",
      "source": [
        "avg = {'weighted avg': x['weighted avg'], 'macro avg' :  x['macro avg']}\n",
        "x.pop('macro avg')\n",
        "x.pop('weighted avg')\n",
        "table = pd.DataFrame.from_dict(avg).transpose()\n",
        "table.round(decimals=3)"
      ],
      "metadata": {
        "id": "mlctqWY0-BSf"
      },
      "execution_count": null,
      "outputs": []
    },
    {
      "cell_type": "markdown",
      "source": [
        "classified intent labels (based on F1-score):"
      ],
      "metadata": {
        "id": "CNx97Z1C-BSf"
      }
    },
    {
      "cell_type": "code",
      "source": [
        "best = dict(sorted(x.items(), key=lambda item: item[1]['f1-score'], reverse = True))\n",
        "table = pd.DataFrame.from_dict(best).transpose()\n",
        "table.round(decimals=3)"
      ],
      "metadata": {
        "id": "B1vwC2c_-BSf"
      },
      "execution_count": null,
      "outputs": []
    },
    {
      "cell_type": "markdown",
      "source": [
        "###Slot filling analysis"
      ],
      "metadata": {
        "id": "uB7JJbEK-BSf"
      }
    },
    {
      "cell_type": "code",
      "source": [
        "x = SNIPS_tot_results_test[0]"
      ],
      "metadata": {
        "id": "EN1bXuaW-BSf"
      },
      "execution_count": null,
      "outputs": []
    },
    {
      "cell_type": "markdown",
      "source": [
        "15 best classified slots"
      ],
      "metadata": {
        "id": "RWOldOuBFHnY"
      }
    },
    {
      "cell_type": "code",
      "source": [
        "best = dict(sorted(x.items(), key=lambda item: item[1]['f'], reverse = True))\n",
        "table = pd.DataFrame.from_dict(best).transpose()[:15]\n",
        "table.round(decimals=3)"
      ],
      "metadata": {
        "id": "98478aDx-BSf"
      },
      "execution_count": null,
      "outputs": []
    },
    {
      "cell_type": "markdown",
      "source": [
        "15 worst classified slot labels"
      ],
      "metadata": {
        "id": "PfP2QtPK-BSg"
      }
    },
    {
      "cell_type": "code",
      "source": [
        "worst = dict(sorted(x.items(), key=lambda item: item[1]['f'], reverse = False))\n",
        "table = pd.DataFrame.from_dict(worst).transpose()[:15]\n",
        "table.round(decimals=3)"
      ],
      "metadata": {
        "id": "Mh2O1LSJ-BSg"
      },
      "execution_count": null,
      "outputs": []
    },
    {
      "cell_type": "markdown",
      "source": [
        "###Losses Plots"
      ],
      "metadata": {
        "id": "0JweE6U-FN5X"
      }
    },
    {
      "cell_type": "markdown",
      "source": [
        "Total loss plot "
      ],
      "metadata": {
        "id": "SsvTgFUCFQQE"
      }
    },
    {
      "cell_type": "code",
      "source": [
        "plot_losses(SNIPS_tot_sampled_epochs[0], SNIPS_tot_losses_train[0], SNIPS_tot_losses_dev[0])"
      ],
      "metadata": {
        "id": "eKRq_k0cUp28"
      },
      "execution_count": null,
      "outputs": []
    },
    {
      "cell_type": "markdown",
      "source": [
        "Intent loss plot "
      ],
      "metadata": {
        "id": "KcQtAL7cFRmE"
      }
    },
    {
      "cell_type": "code",
      "source": [
        "plot_losses(SNIPS_tot_sampled_epochs[0], SNIPS_tot_losses_intent_train[0], SNIPS_tot_losses_intent_dev[0])"
      ],
      "metadata": {
        "id": "PbbeDEHnUp9P"
      },
      "execution_count": null,
      "outputs": []
    },
    {
      "cell_type": "markdown",
      "source": [
        "Slot loss plot "
      ],
      "metadata": {
        "id": "d5W-ZKY2FUss"
      }
    },
    {
      "cell_type": "code",
      "source": [
        "plot_losses(SNIPS_tot_sampled_epochs[0], SNIPS_tot_losses_slot_train[0], SNIPS_tot_losses_slot_dev[0])"
      ],
      "metadata": {
        "id": "h0M6OpFaUqCh"
      },
      "execution_count": null,
      "outputs": []
    },
    {
      "cell_type": "markdown",
      "source": [
        "#Third model: BERT Model"
      ],
      "metadata": {
        "id": "Xihe-20hWwcx"
      }
    },
    {
      "cell_type": "code",
      "source": [
        "!pip install transformers"
      ],
      "metadata": {
        "id": "edCcLhP0c5eN",
        "colab": {
          "base_uri": "https://localhost:8080/"
        },
        "outputId": "1e9d7236-bfb9-4b1f-f7a5-d8e077d77faf"
      },
      "execution_count": 119,
      "outputs": [
        {
          "output_type": "stream",
          "name": "stdout",
          "text": [
            "Looking in indexes: https://pypi.org/simple, https://us-python.pkg.dev/colab-wheels/public/simple/\n",
            "Collecting transformers\n",
            "  Downloading transformers-4.20.1-py3-none-any.whl (4.4 MB)\n",
            "\u001b[K     |████████████████████████████████| 4.4 MB 13.6 MB/s \n",
            "\u001b[?25hCollecting pyyaml>=5.1\n",
            "  Downloading PyYAML-6.0-cp37-cp37m-manylinux_2_5_x86_64.manylinux1_x86_64.manylinux_2_12_x86_64.manylinux2010_x86_64.whl (596 kB)\n",
            "\u001b[K     |████████████████████████████████| 596 kB 59.4 MB/s \n",
            "\u001b[?25hRequirement already satisfied: requests in /usr/local/lib/python3.7/dist-packages (from transformers) (2.23.0)\n",
            "Requirement already satisfied: regex!=2019.12.17 in /usr/local/lib/python3.7/dist-packages (from transformers) (2022.6.2)\n",
            "Requirement already satisfied: filelock in /usr/local/lib/python3.7/dist-packages (from transformers) (3.7.1)\n",
            "Requirement already satisfied: numpy>=1.17 in /usr/local/lib/python3.7/dist-packages (from transformers) (1.21.6)\n",
            "Requirement already satisfied: importlib-metadata in /usr/local/lib/python3.7/dist-packages (from transformers) (4.12.0)\n",
            "Collecting tokenizers!=0.11.3,<0.13,>=0.11.1\n",
            "  Downloading tokenizers-0.12.1-cp37-cp37m-manylinux_2_12_x86_64.manylinux2010_x86_64.whl (6.6 MB)\n",
            "\u001b[K     |████████████████████████████████| 6.6 MB 38.1 MB/s \n",
            "\u001b[?25hRequirement already satisfied: tqdm>=4.27 in /usr/local/lib/python3.7/dist-packages (from transformers) (4.64.0)\n",
            "Collecting huggingface-hub<1.0,>=0.1.0\n",
            "  Downloading huggingface_hub-0.8.1-py3-none-any.whl (101 kB)\n",
            "\u001b[K     |████████████████████████████████| 101 kB 5.6 MB/s \n",
            "\u001b[?25hRequirement already satisfied: packaging>=20.0 in /usr/local/lib/python3.7/dist-packages (from transformers) (21.3)\n",
            "Requirement already satisfied: typing-extensions>=3.7.4.3 in /usr/local/lib/python3.7/dist-packages (from huggingface-hub<1.0,>=0.1.0->transformers) (4.1.1)\n",
            "Requirement already satisfied: pyparsing!=3.0.5,>=2.0.2 in /usr/local/lib/python3.7/dist-packages (from packaging>=20.0->transformers) (3.0.9)\n",
            "Requirement already satisfied: zipp>=0.5 in /usr/local/lib/python3.7/dist-packages (from importlib-metadata->transformers) (3.8.1)\n",
            "Requirement already satisfied: chardet<4,>=3.0.2 in /usr/local/lib/python3.7/dist-packages (from requests->transformers) (3.0.4)\n",
            "Requirement already satisfied: certifi>=2017.4.17 in /usr/local/lib/python3.7/dist-packages (from requests->transformers) (2022.6.15)\n",
            "Requirement already satisfied: urllib3!=1.25.0,!=1.25.1,<1.26,>=1.21.1 in /usr/local/lib/python3.7/dist-packages (from requests->transformers) (1.24.3)\n",
            "Requirement already satisfied: idna<3,>=2.5 in /usr/local/lib/python3.7/dist-packages (from requests->transformers) (2.10)\n",
            "Installing collected packages: pyyaml, tokenizers, huggingface-hub, transformers\n",
            "  Attempting uninstall: pyyaml\n",
            "    Found existing installation: PyYAML 3.13\n",
            "    Uninstalling PyYAML-3.13:\n",
            "      Successfully uninstalled PyYAML-3.13\n",
            "Successfully installed huggingface-hub-0.8.1 pyyaml-6.0 tokenizers-0.12.1 transformers-4.20.1\n"
          ]
        }
      ]
    },
    {
      "cell_type": "code",
      "source": [
        "# BERT model script from: huggingface.co\n",
        "from transformers import BertModel, BertConfig"
      ],
      "metadata": {
        "id": "jjHD55flXE66"
      },
      "execution_count": 120,
      "outputs": []
    },
    {
      "cell_type": "code",
      "source": [
        "class Bert_model(nn.Module):\n",
        "#hidden size of rnn, embedding size (size of the vector that represent the word embedding)\n",
        "    def __init__(self, hid_size, out_slot, out_int, emb_size, vocab_len, pad_index=0):\n",
        "        super(Bert_model, self).__init__()\n",
        "        \n",
        "        #self.embedding = nn.Embedding(vocab_len, \n",
        "        #                              emb_size, \n",
        "        #                              padding_idx=pad_index) #pad idx --> the entities at pad_index do not contribute to the gradient\n",
        "\n",
        "        config = BertConfig(vocab_size=vocab_len)\n",
        "        \n",
        "        self.bert = BertModel.from_pretrained(\"bert-base-uncased\", config = config, ignore_mismatched_sizes=True)\n",
        "\n",
        "        self.dropout = nn.Dropout(0.3)\n",
        "\n",
        "        self.slot_out = nn.Linear(768, out_slot)\n",
        "\n",
        "        self.intent_out = nn.Linear(768, out_int)\n",
        "      \n",
        "        \n",
        "    def forward(self, utterance, seq_lengths): \n",
        "\n",
        "        #utt_emb = self.embedding(utterance) # utt_emb.size() = batch_size X seq_len X emb_size\n",
        "\n",
        "        #utt_emb = utt_emb.permute(1,0,2) # we need seq len first -> seq_len X batch_size X emb_size\n",
        "           \n",
        "        output = self.bert(utterance) \n",
        "\n",
        "        hidden_slot = output.last_hidden_state\n",
        "        hidden_slot = hidden_slot.permute(1,0,2) \n",
        "\n",
        "        utt_encoded = output.pooler_output\n",
        "\n",
        "        drop_utt = self.dropout(utt_encoded)\n",
        "        drop_hidden = self.dropout(hidden_slot)\n",
        "\n",
        "        slots = self.slot_out(drop_hidden)\n",
        "\n",
        "        intent = self.intent_out(drop_utt)\n",
        "\n",
        "        slots = slots.permute(1,2,0) # We need this for computing the loss\n",
        "\n",
        "        return slots, intent"
      ],
      "metadata": {
        "id": "OGIQ86j3WvvY"
      },
      "execution_count": 125,
      "outputs": []
    },
    {
      "cell_type": "markdown",
      "source": [
        "##Train on ATIS"
      ],
      "metadata": {
        "id": "Czjs6rJRF6vQ"
      }
    },
    {
      "cell_type": "code",
      "source": [
        "runs = 1\n",
        "slot_f1s, intent_acc = [], []\n",
        "ATIS_tot_losses_train, ATIS_tot_losses_dev = [], []\n",
        "ATIS_tot_losses_intent_train, ATIS_tot_losses_intent_dev = [], []\n",
        "ATIS_tot_losses_slot_train, ATIS_tot_losses_slot_dev = [], []\n",
        "ATIS_tot_sampled_epochs = []\n",
        " \n",
        "for x in tqdm(range(0, runs)):\n",
        "    \n",
        "    ATIS_model_bert = Bert_model(hid_size, ATIS_out_slot, ATIS_out_int, emb_size, ATIS_vocab_len, pad_index=PAD_TOKEN).to(device)\n",
        "    ATIS_model_bert.apply(init_weights)\n",
        "    ATIS_optimizer_bert = optim.Adam(ATIS_model_bert.parameters(), lr=lr) #take default parameters, just modify lr\n",
        "    \n",
        "    results_test, intent_test, sampled_epochs, losses_train, losses_dev, loss_intent_train, loss_slot_train, loss_intent_dev_array, loss_slot_dev_array = train_adv(\n",
        "        train_loader = ATIS_train_loader, \n",
        "        test_loader = ATIS_test_loader, \n",
        "        dev_loader = ATIS_dev_loader, \n",
        "        model = ATIS_model_bert, \n",
        "        criterion_slots = criterion_slots,\n",
        "        criterion_intents = criterion_intents,\n",
        "        optimizer = ATIS_optimizer_bert,\n",
        "        lang = ATIS_lang,\n",
        "        patience=8)\n",
        "    \n",
        "    intent_acc.append(intent_test['accuracy'])\n",
        "    slot_f1s.append(results_test['total']['f'])\n",
        "    ATIS_tot_losses_train.append(losses_train)\n",
        "    ATIS_tot_losses_dev.append(losses_dev)\n",
        "    ATIS_tot_losses_intent_train.append(loss_intent_train)\n",
        "    ATIS_tot_losses_intent_dev.append(loss_intent_dev_array)\n",
        "    ATIS_tot_losses_slot_train.append(loss_slot_train)\n",
        "    ATIS_tot_losses_slot_dev.append(loss_slot_dev_array) \n",
        "    ATIS_tot_sampled_epochs.append(sampled_epochs)\n",
        " \n",
        "slot_f1s = np.asarray(slot_f1s)\n",
        "intent_acc = np.asarray(intent_acc)\n",
        "print('\\nSlot F1', round(slot_f1s.mean(),3), '+-', round(slot_f1s.std(),3))\n",
        "print('Intent Acc', round(intent_acc.mean(), 3), '+-', round(slot_f1s.std(), 3))"
      ],
      "metadata": {
        "id": "Xe7isvZk1nyF",
        "colab": {
          "base_uri": "https://localhost:8080/",
          "height": 309,
          "referenced_widgets": [
            "b0f6519363854974810a92c69e572157",
            "b668ec350d634a32bfd0fb0bc753d87a",
            "5740f58f84c34a7e99f4984db13b956e",
            "900fedd80c984cdaa1df431f4105c2c0",
            "a7395d0b5ee54e66ae7d9ea177ecd3b1",
            "06bd04b9f45e4b2ca28e34b9c754f10d",
            "2c73d229ee7541c1aaaad011b778ac17",
            "239b4b7a0c17452c92ac6a4d89ae2a36",
            "1c306494f41b44a9a017adce5e4286d7",
            "21111f4e1d6648469abb292abb5b2a48",
            "68599ee639e842c2b60698074d3ae49d",
            "3fc367d32f4747afbe6379241d72ba91",
            "12d973bbeeab4dcd820f0b1ac9d6b8d8",
            "0c2749ba96854a09a48d33006c598696",
            "3178e1bdc24a407ea2e04b2071c54c5a",
            "80303f59b7ef4ac1ba9897af6b2f8ae8",
            "83f5c7c431314521bb9d91bfc8a35aec",
            "1c465efdb5204bb28f6ef17068716654",
            "37eef8c9c2384f6b8742fa5f8e328583",
            "d6c2604234224cf8ad51871e77508d0b",
            "db10a3b69a324900a0f53d8d37380041",
            "29239bb39e234d40bc1929f514e001f3"
          ]
        },
        "outputId": "db6124cc-7447-4151-f781-b3fa6413b810"
      },
      "execution_count": 126,
      "outputs": [
        {
          "output_type": "display_data",
          "data": {
            "text/plain": [
              "  0%|          | 0/1 [00:00<?, ?it/s]"
            ],
            "application/vnd.jupyter.widget-view+json": {
              "version_major": 2,
              "version_minor": 0,
              "model_id": "b0f6519363854974810a92c69e572157"
            }
          },
          "metadata": {}
        },
        {
          "output_type": "stream",
          "name": "stderr",
          "text": [
            "Some weights of the model checkpoint at bert-base-uncased were not used when initializing BertModel: ['cls.seq_relationship.bias', 'cls.predictions.transform.dense.bias', 'cls.predictions.decoder.weight', 'cls.predictions.bias', 'cls.predictions.transform.LayerNorm.bias', 'cls.seq_relationship.weight', 'cls.predictions.transform.LayerNorm.weight', 'cls.predictions.transform.dense.weight']\n",
            "- This IS expected if you are initializing BertModel from the checkpoint of a model trained on another task or with another architecture (e.g. initializing a BertForSequenceClassification model from a BertForPreTraining model).\n",
            "- This IS NOT expected if you are initializing BertModel from the checkpoint of a model that you expect to be exactly identical (initializing a BertForSequenceClassification model from a BertForSequenceClassification model).\n",
            "Some weights of BertModel were not initialized from the model checkpoint at bert-base-uncased and are newly initialized because the shapes did not match:\n",
            "- bert.embeddings.word_embeddings.weight: found shape torch.Size([30522, 768]) in the checkpoint and torch.Size([863, 768]) in the model instantiated\n",
            "You should probably TRAIN this model on a down-stream task to be able to use it for predictions and inference.\n"
          ]
        },
        {
          "output_type": "display_data",
          "data": {
            "text/plain": [
              "  0%|          | 0/199 [00:00<?, ?it/s]"
            ],
            "application/vnd.jupyter.widget-view+json": {
              "version_major": 2,
              "version_minor": 0,
              "model_id": "3fc367d32f4747afbe6379241d72ba91"
            }
          },
          "metadata": {}
        },
        {
          "output_type": "stream",
          "name": "stdout",
          "text": [
            "\n",
            "Slot F1:  0.0\n",
            "Intent Accuracy: 0.7077267637178052\n",
            "\n",
            "Slot F1 0.0 +- 0.0\n",
            "Intent Acc 0.708 +- 0.0\n"
          ]
        }
      ]
    },
    {
      "cell_type": "markdown",
      "source": [
        "###Intent classification analysis "
      ],
      "metadata": {
        "id": "27uyPjtVF4lo"
      }
    },
    {
      "cell_type": "markdown",
      "source": [
        "Accuracy"
      ],
      "metadata": {
        "id": "SPeLrID9F4lp"
      }
    },
    {
      "cell_type": "code",
      "source": [
        "x = ATIS_tot_intent_test[0]\n",
        "x.pop('accuracy')"
      ],
      "metadata": {
        "id": "ivWTVZaFF4lp"
      },
      "execution_count": null,
      "outputs": []
    },
    {
      "cell_type": "markdown",
      "source": [
        "Macro average and weighted average"
      ],
      "metadata": {
        "id": "xhsaSTzFF4lp"
      }
    },
    {
      "cell_type": "code",
      "source": [
        "avg = {'weighted avg': x['weighted avg'], 'macro avg' :  x['macro avg']}\n",
        "x.pop('macro avg')\n",
        "x.pop('weighted avg')\n",
        "table = pd.DataFrame.from_dict(avg).transpose()\n",
        "table.round(decimals=3)"
      ],
      "metadata": {
        "id": "jupaoFHaF4lp"
      },
      "execution_count": null,
      "outputs": []
    },
    {
      "cell_type": "markdown",
      "source": [
        "10 best classified intent labels (based on F1-score):"
      ],
      "metadata": {
        "id": "1ZAkELWYF4lp"
      }
    },
    {
      "cell_type": "code",
      "source": [
        "best = dict(sorted(x.items(), key=lambda item: item[1]['f1-score'], reverse = True))\n",
        "table = pd.DataFrame.from_dict(best).transpose()[:10]\n",
        "table.round(decimals=3)"
      ],
      "metadata": {
        "id": "wJF0lAfAF4lp"
      },
      "execution_count": null,
      "outputs": []
    },
    {
      "cell_type": "markdown",
      "source": [
        "10 worst classified intent labels (based on F1-score):"
      ],
      "metadata": {
        "id": "fkGhnMDYF4lp"
      }
    },
    {
      "cell_type": "code",
      "source": [
        "worst = dict(sorted(x.items(), key=lambda item: item[1]['f1-score'], reverse = False))\n",
        "table = pd.DataFrame.from_dict(worst).transpose()[:10]\n",
        "table.round(decimals=3)"
      ],
      "metadata": {
        "id": "l70ZpFfZF4lp"
      },
      "execution_count": null,
      "outputs": []
    },
    {
      "cell_type": "markdown",
      "source": [
        "###Slot filling analysis"
      ],
      "metadata": {
        "id": "Fr3WfunpF4lq"
      }
    },
    {
      "cell_type": "code",
      "source": [
        "x = ATIS_tot_results_test[0]"
      ],
      "metadata": {
        "id": "2xsMzDQ8F4lq"
      },
      "execution_count": null,
      "outputs": []
    },
    {
      "cell_type": "markdown",
      "source": [
        "15 best classified slot labels"
      ],
      "metadata": {
        "id": "DjI1NIChF4lq"
      }
    },
    {
      "cell_type": "code",
      "source": [
        "best = dict(sorted(x.items(), key=lambda item: item[1]['f'], reverse = True))\n",
        "table = pd.DataFrame.from_dict(best).transpose()[:15]\n",
        "table.round(decimals=3)"
      ],
      "metadata": {
        "id": "YfXT1TbhF4lq"
      },
      "execution_count": null,
      "outputs": []
    },
    {
      "cell_type": "markdown",
      "source": [
        "15 worst classified slot labels"
      ],
      "metadata": {
        "id": "scYQReLTF4lq"
      }
    },
    {
      "cell_type": "code",
      "source": [
        "worst = dict(sorted(x.items(), key=lambda item: item[1]['f'], reverse = False))\n",
        "table = pd.DataFrame.from_dict(worst).transpose()[:15]\n",
        "table.round(decimals=3)"
      ],
      "metadata": {
        "id": "w-Orcu2cF4lq"
      },
      "execution_count": null,
      "outputs": []
    },
    {
      "cell_type": "markdown",
      "source": [
        "###Losses Plots "
      ],
      "metadata": {
        "id": "1_u_9D6OF4lq"
      }
    },
    {
      "cell_type": "markdown",
      "source": [
        "Total loss plot"
      ],
      "metadata": {
        "id": "HFxADvCjF4lq"
      }
    },
    {
      "cell_type": "code",
      "source": [
        "plot_losses(ATIS_tot_sampled_epochs[0], ATIS_tot_losses_train[0], ATIS_tot_losses_dev[0])"
      ],
      "metadata": {
        "id": "4fmx3ghkF4lq"
      },
      "execution_count": null,
      "outputs": []
    },
    {
      "cell_type": "markdown",
      "source": [
        "Intent loss plot "
      ],
      "metadata": {
        "id": "Kjrczh_kF4lq"
      }
    },
    {
      "cell_type": "code",
      "source": [
        "plot_losses(ATIS_tot_sampled_epochs[0], ATIS_tot_losses_intent_train[0], ATIS_tot_losses_intent_dev[0])"
      ],
      "metadata": {
        "id": "HnoBEz_mF4lq"
      },
      "execution_count": null,
      "outputs": []
    },
    {
      "cell_type": "markdown",
      "source": [
        "Slot loss plot"
      ],
      "metadata": {
        "id": "P_pTaUG6F4lq"
      }
    },
    {
      "cell_type": "code",
      "source": [
        "plot_losses(ATIS_tot_sampled_epochs[0], ATIS_tot_losses_slot_train[0], ATIS_tot_losses_slot_dev[0])"
      ],
      "metadata": {
        "id": "Q74M8fWtF4lr"
      },
      "execution_count": null,
      "outputs": []
    },
    {
      "cell_type": "markdown",
      "source": [
        "##Train on SNIPS "
      ],
      "metadata": {
        "id": "I2HHFbarGEEY"
      }
    },
    {
      "cell_type": "code",
      "source": [
        "runs = 1\n",
        "slot_f1s, intent_acc = [], []\n",
        "SNIPS_tot_losses_train, SNIPS_tot_losses_dev = [], []\n",
        "SNIPS_tot_losses_intent_train, SNIPS_tot_losses_intent_dev = [], []\n",
        "SNIPS_tot_losses_slot_train, SNIPS_tot_losses_slot_dev = [], []\n",
        "SNIPS_tot_sampled_epochs = []\n",
        " \n",
        "for x in tqdm(range(0, runs)):\n",
        "    \n",
        "    SNIPS_model_bert = Bert_model(hid_size, SNIPS_out_slot, SNIPS_out_int, emb_size, SNIPS_vocab_len, pad_index=PAD_TOKEN).to(device)\n",
        "    SNIPS_model_adv.apply(init_weights)\n",
        "    SNIPS_optimizer_bert = optim.Adam(SNIPS_model_bert.parameters(), lr=lr) #take default parameters, just modify lr\n",
        "    \n",
        "    results_test, intent_test, sampled_epochs, losses_train, losses_dev, loss_intent_train, loss_slot_train, loss_intent_dev_array, loss_slot_dev_array = train_adv(\n",
        "        train_loader = SNIPS_train_loader, \n",
        "        test_loader = SNIPS_test_loader, \n",
        "        dev_loader = SNIPS_dev_loader, \n",
        "        model = SNIPS_model_bert, \n",
        "        criterion_slots = criterion_slots,\n",
        "        criterion_intents = criterion_intents,\n",
        "        optimizer = SNIPS_optimizer_bert,\n",
        "        lang = SNIPS_lang,\n",
        "        patience=8)\n",
        "    \n",
        "    intent_acc.append(intent_test['accuracy'])\n",
        "    slot_f1s.append(results_test['total']['f'])\n",
        "    SNIPS_tot_losses_train.append(losses_train)\n",
        "    SNIPS_tot_losses_dev.append(losses_dev)\n",
        "    SNIPS_tot_losses_intent_train.append(loss_intent_train)\n",
        "    SNIPS_tot_losses_intent_dev.append(loss_intent_dev_array)\n",
        "    SNIPS_tot_losses_slot_train.append(loss_slot_train)\n",
        "    SNIPS_tot_losses_slot_dev.append(loss_slot_dev_array) \n",
        "    SNIPS_tot_sampled_epochs.append(sampled_epochs)\n",
        " \n",
        "slot_f1s = np.asarray(slot_f1s)\n",
        "intent_acc = np.asarray(intent_acc)\n",
        "print('\\nSlot F1', round(slot_f1s.mean(),3), '+-', round(slot_f1s.std(),3))\n",
        "print('Intent Acc', round(intent_acc.mean(), 3), '+-', round(slot_f1s.std(), 3))"
      ],
      "metadata": {
        "id": "arBO9HTD1Cfv"
      },
      "execution_count": null,
      "outputs": []
    },
    {
      "cell_type": "markdown",
      "source": [
        "###Intent classification analysis "
      ],
      "metadata": {
        "id": "FHgCeK1YGo_h"
      }
    },
    {
      "cell_type": "code",
      "source": [
        "x = SNIPS_tot_intent_test[0]\n",
        "x.pop('accuracy')"
      ],
      "metadata": {
        "id": "X2tWqMr1Go_h"
      },
      "execution_count": null,
      "outputs": []
    },
    {
      "cell_type": "markdown",
      "source": [
        "Macro average and weighted average"
      ],
      "metadata": {
        "id": "BOKYEEbEGo_i"
      }
    },
    {
      "cell_type": "code",
      "source": [
        "avg = {'weighted avg': x['weighted avg'], 'macro avg' :  x['macro avg']}\n",
        "x.pop('macro avg')\n",
        "x.pop('weighted avg')\n",
        "table = pd.DataFrame.from_dict(avg).transpose()\n",
        "table.round(decimals=3)"
      ],
      "metadata": {
        "id": "aHjFj6fOGo_i"
      },
      "execution_count": null,
      "outputs": []
    },
    {
      "cell_type": "markdown",
      "source": [
        "classified intent labels (based on F1-score):"
      ],
      "metadata": {
        "id": "RzuwULYzGo_i"
      }
    },
    {
      "cell_type": "code",
      "source": [
        "best = dict(sorted(x.items(), key=lambda item: item[1]['f1-score'], reverse = True))\n",
        "table = pd.DataFrame.from_dict(best).transpose()\n",
        "table.round(decimals=3)"
      ],
      "metadata": {
        "id": "vB4mU2TQGo_j"
      },
      "execution_count": null,
      "outputs": []
    },
    {
      "cell_type": "markdown",
      "source": [
        "###Slot filling analysis"
      ],
      "metadata": {
        "id": "crzs6LlLGo_j"
      }
    },
    {
      "cell_type": "code",
      "source": [
        "x = SNIPS_tot_results_test[0]"
      ],
      "metadata": {
        "id": "lYxH1pKCGo_j"
      },
      "execution_count": null,
      "outputs": []
    },
    {
      "cell_type": "markdown",
      "source": [
        "15 best classified slots"
      ],
      "metadata": {
        "id": "aH15Y4IKGo_j"
      }
    },
    {
      "cell_type": "code",
      "source": [
        "best = dict(sorted(x.items(), key=lambda item: item[1]['f'], reverse = True))\n",
        "table = pd.DataFrame.from_dict(best).transpose()[:15]\n",
        "table.round(decimals=3)"
      ],
      "metadata": {
        "id": "1z1I2sFCGo_j"
      },
      "execution_count": null,
      "outputs": []
    },
    {
      "cell_type": "markdown",
      "source": [
        "15 worst classified slot labels"
      ],
      "metadata": {
        "id": "tvt1lRDIGo_k"
      }
    },
    {
      "cell_type": "code",
      "source": [
        "worst = dict(sorted(x.items(), key=lambda item: item[1]['f'], reverse = False))\n",
        "table = pd.DataFrame.from_dict(worst).transpose()[:15]\n",
        "table.round(decimals=3)"
      ],
      "metadata": {
        "id": "60V1hiSDGo_k"
      },
      "execution_count": null,
      "outputs": []
    },
    {
      "cell_type": "markdown",
      "source": [
        "###Losses Plots"
      ],
      "metadata": {
        "id": "YjMft-1kGo_k"
      }
    },
    {
      "cell_type": "markdown",
      "source": [
        "Total loss plot "
      ],
      "metadata": {
        "id": "DEu18TIVGo_k"
      }
    },
    {
      "cell_type": "code",
      "source": [
        "plot_losses(SNIPS_tot_sampled_epochs[0], SNIPS_tot_losses_train[0], SNIPS_tot_losses_dev[0])"
      ],
      "metadata": {
        "colab": {
          "base_uri": "https://localhost:8080/",
          "height": 513
        },
        "outputId": "4d456420-8ca3-480f-85c7-0c278b08c435",
        "id": "PNy_8yZeGo_k"
      },
      "execution_count": null,
      "outputs": [
        {
          "output_type": "display_data",
          "data": {
            "text/plain": [
              "<Figure size 864x576 with 1 Axes>"
            ],
            "image/png": "[encoded data removed]"
          },
          "metadata": {}
        }
      ]
    },
    {
      "cell_type": "markdown",
      "source": [
        "Intent loss plot "
      ],
      "metadata": {
        "id": "kMbHSjDqGo_l"
      }
    },
    {
      "cell_type": "code",
      "source": [
        "plot_losses(SNIPS_tot_sampled_epochs[0], SNIPS_tot_losses_intent_train[0], SNIPS_tot_losses_intent_dev[0])"
      ],
      "metadata": {
        "colab": {
          "base_uri": "https://localhost:8080/",
          "height": 513
        },
        "outputId": "a98d785c-5bfc-4da2-a7c4-43b0375e56d9",
        "id": "f--q5piWGo_l"
      },
      "execution_count": null,
      "outputs": [
        {
          "output_type": "display_data",
          "data": {
            "text/plain": [
              "<Figure size 864x576 with 1 Axes>"
            ],
            "image/png": "[encoded data removed]"
          },
          "metadata": {}
        }
      ]
    },
    {
      "cell_type": "markdown",
      "source": [
        "Slot loss plot "
      ],
      "metadata": {
        "id": "rYHxrZnsGo_l"
      }
    },
    {
      "cell_type": "code",
      "source": [
        "plot_losses(SNIPS_tot_sampled_epochs[0], SNIPS_tot_losses_slot_train[0], SNIPS_tot_losses_slot_dev[0])"
      ],
      "metadata": {
        "colab": {
          "base_uri": "https://localhost:8080/",
          "height": 513
        },
        "outputId": "4496ffdf-cc22-4446-83b4-37639ddddfe2",
        "id": "5TcptZycGo_l"
      },
      "execution_count": null,
      "outputs": [
        {
          "output_type": "display_data",
          "data": {
            "text/plain": [
              "<Figure size 864x576 with 1 Axes>"
            ],
            "image/png": "[encoded data removed]"
          },
          "metadata": {}
        }
      ]
    },
    {
      "cell_type": "code",
      "source": [
        ""
      ],
      "metadata": {
        "id": "1MZcfyr71n8I"
      },
      "execution_count": null,
      "outputs": []
    },
    {
      "cell_type": "code",
      "source": [
        ""
      ],
      "metadata": {
        "id": "bloVbWUG1n-v"
      },
      "execution_count": null,
      "outputs": []
    },
    {
      "cell_type": "code",
      "source": [
        ""
      ],
      "metadata": {
        "id": "0sV7GtlN1oBx"
      },
      "execution_count": null,
      "outputs": []
    },
    {
      "cell_type": "code",
      "source": [
        ""
      ],
      "metadata": {
        "id": "By0Byj8a1oEB"
      },
      "execution_count": null,
      "outputs": []
    },
    {
      "cell_type": "code",
      "source": [
        ""
      ],
      "metadata": {
        "id": "gMrZDN7MGrrM"
      },
      "execution_count": null,
      "outputs": []
    },
    {
      "cell_type": "code",
      "source": [
        ""
      ],
      "metadata": {
        "id": "ft6kp3ssGrvo"
      },
      "execution_count": null,
      "outputs": []
    },
    {
      "cell_type": "markdown",
      "source": [
        "tolto voc size --> prossima cambia dropout probability (0.1)"
      ],
      "metadata": {
        "id": "5xZaK4Ym_7yA"
      }
    },
    {
      "cell_type": "markdown",
      "source": [
        ""
      ],
      "metadata": {
        "id": "bScn0huJzIvi"
      }
    },
    {
      "cell_type": "code",
      "source": [
        "ATIS_model.load_state_dict(torch.load('/content/drive/MyDrive/NLU_trained_models/ATIS_model_bert.pt'))"
      ],
      "metadata": {
        "id": "RSode7nPjo5m"
      },
      "execution_count": null,
      "outputs": []
    },
    {
      "cell_type": "code",
      "source": [
        "torch.save(ATIS_model.state_dict(), '/content/drive/MyDrive/NLU_trained_models/ATIS_model_bert.pt')"
      ],
      "metadata": {
        "id": "gUnq0s9GTI3E"
      },
      "execution_count": null,
      "outputs": []
    },
    {
      "cell_type": "code",
      "source": [
        "plt.figure(num = 3, figsize=(8, 5)).patch.set_facecolor('white')\n",
        "plt.title('Train and Dev Losses')\n",
        "plt.ylabel('Loss')\n",
        "plt.xlabel('Epochs')\n",
        "plt.plot(ATIS_sampled_epochs, ATIS_losses_train, label='Train loss')\n",
        "plt.plot(ATIS_sampled_epochs, ATIS_losses_dev, label='Dev loss')\n",
        "plt.legend()\n",
        "plt.show()"
      ],
      "metadata": {
        "id": "erbqc1xKkweH"
      },
      "execution_count": null,
      "outputs": []
    },
    {
      "cell_type": "code",
      "source": [
        "plt.figure(num = 3, figsize=(8, 5)).patch.set_facecolor('white')\n",
        "plt.title('Train and Dev Intent Losses')\n",
        "plt.ylabel('Loss')\n",
        "plt.xlabel('Epochs')\n",
        "\n",
        "plt.plot(ATIS_sampled_epochs, ATIS_loss_intent_train, label='Train intent loss')\n",
        "plt.plot(ATIS_sampled_epochs, ATIS_loss_intent_dev, label='Dev intent loss')\n",
        "plt.legend()\n",
        "plt.show()"
      ],
      "metadata": {
        "id": "QK_otkYA31jB"
      },
      "execution_count": null,
      "outputs": []
    },
    {
      "cell_type": "code",
      "source": [
        "plt.figure(num = 3, figsize=(8, 5)).patch.set_facecolor('white')\n",
        "plt.title('Train and Dev Slot Losses')\n",
        "plt.ylabel('Loss')\n",
        "plt.xlabel('Epochs')\n",
        "plt.plot(ATIS_sampled_epochs, ATIS_loss_slot_train, label='Train slot loss')\n",
        "plt.plot(ATIS_sampled_epochs, ATIS_loss_slot_dev, label='Dev slot loss')\n",
        "plt.legend()\n",
        "plt.show()"
      ],
      "metadata": {
        "id": "aIfkyP6e31jB"
      },
      "execution_count": null,
      "outputs": []
    },
    {
      "cell_type": "code",
      "source": [
        "SNIPS_model = Bert_model(hid_size, SNIPS_out_slot, SNIPS_out_int, emb_size, SNIPS_vocab_len, pad_index=PAD_TOKEN).to(device)"
      ],
      "metadata": {
        "id": "uFv8NAlqAEwA"
      },
      "execution_count": null,
      "outputs": []
    },
    {
      "cell_type": "code",
      "source": [
        "lr=0.0001\n",
        "SNIPS_optimizer = optim.Adam(SNIPS_model.parameters(), lr=lr) #take default parameters, just modify lr"
      ],
      "metadata": {
        "id": "fo8Sq4vpALhd"
      },
      "execution_count": null,
      "outputs": []
    },
    {
      "cell_type": "code",
      "source": [
        "SNIPS_sampled_epochs, SNIPS_losses_train, SNIPS_losses_dev, SNIPS_loss_intent_train, SNIPS_loss_slot_train, SNIPS_loss_intent_dev, SNIPS_loss_slot_dev = train_try(\n",
        "    train_loader = SNIPS_train_loader, \n",
        "    test_loader = SNIPS_test_loader, \n",
        "    dev_loader = SNIPS_dev_loader, \n",
        "    model = SNIPS_model, \n",
        "    optimizer = SNIPS_optimizer,\n",
        "    lang = SNIPS_lang,\n",
        "    train = True)"
      ],
      "metadata": {
        "id": "IUoKHwtWAPKM"
      },
      "execution_count": null,
      "outputs": []
    },
    {
      "cell_type": "code",
      "source": [
        "plt.figure(num = 3, figsize=(8, 5)).patch.set_facecolor('white')\n",
        "plt.title('Train and Dev Losses')\n",
        "plt.ylabel('Loss')\n",
        "plt.xlabel('Epochs')\n",
        "plt.plot(SNIPS_sampled_epochs, SNIPS_losses_train, label='Train loss')\n",
        "plt.plot(SNIPS_sampled_epochs, SNIPS_losses_dev, label='Dev loss')\n",
        "plt.legend()\n",
        "plt.show()"
      ],
      "metadata": {
        "id": "6qoERPDhAny4"
      },
      "execution_count": null,
      "outputs": []
    },
    {
      "cell_type": "code",
      "source": [
        "plt.figure(num = 3, figsize=(20, 12)).patch.set_facecolor('white')\n",
        "plt.title('Train and Dev Intent Losses')\n",
        "plt.ylabel('Loss')\n",
        "plt.xlabel('Epochs')\n",
        "\n",
        "plt.plot(SNIPS_sampled_epochs, SNIPS_loss_intent_train, label='Train intent loss')\n",
        "plt.plot(SNIPS_sampled_epochs, SNIPS_loss_intent_dev, label='Dev intent loss')\n",
        "plt.legend()\n",
        "plt.show()"
      ],
      "metadata": {
        "id": "F0W3ddGSWt5q"
      },
      "execution_count": null,
      "outputs": []
    },
    {
      "cell_type": "code",
      "source": [
        "plt.figure(num = 3, figsize=(20, 12)).patch.set_facecolor('white')\n",
        "plt.title('Train and Dev Losses')\n",
        "plt.ylabel('Loss')\n",
        "plt.xlabel('Epochs')\n",
        "plt.plot(SNIPS_sampled_epochs, SNIPS_loss_slot_train, label='Train slot loss')\n",
        "plt.plot(SNIPS_sampled_epochs, SNIPS_loss_slot_dev, label='Dev slot loss')\n",
        "plt.legend()\n",
        "plt.show()"
      ],
      "metadata": {
        "id": "0CbAAl5QWt5s"
      },
      "execution_count": null,
      "outputs": []
    },
    {
      "cell_type": "code",
      "source": [
        "from conll import evaluate\n",
        "from sklearn.metrics import classification_report\n",
        "\n",
        "def train_loop_try2(data, optimizer, criterion_slots, criterion_intents, model):\n",
        "    model.train()\n",
        "    loss_array = []\n",
        "    loss_intent_array = []\n",
        "    loss_slot_array = []\n",
        "    for sample in data:\n",
        "        optimizer.zero_grad() # Zeroing the gradient\n",
        "        slots, intent = model(sample['utterances'], sample['slots_len'])\n",
        "        loss_intent = criterion_intents(intent, sample['intents'])\n",
        "\n",
        "        #print(\"\\nslots.shape:\\n \",slots.shape)\n",
        "        #print(\"\\nsample.shape\\n: \",sample['y_slots'].shape)\n",
        "\n",
        "        #print(\"\\nslots:\\n \",slots)\n",
        "        #print(\"\\nsample\\n: \",sample['y_slots'])\n",
        "\n",
        "        loss_slot = criterion_slots(slots, sample['y_slots'])\n",
        "\n",
        "        loss_intent_array.append(loss_intent.item())\n",
        "        loss_slot_array.append(loss_slot.item())\n",
        "\n",
        "\n",
        "\n",
        "        loss = 0.3*loss_intent + 0.7*loss_slot # In joint training we sum the losses. \n",
        "                                       # Is there another way to do that?\n",
        "                                       # you can decide to give more imporante to intent or slots with a linear combination\n",
        "\n",
        "        \"\"\"#Add L2 regularization \n",
        "        l2_lambda = 0.001\n",
        "        l2_norm = sum(p.pow(2.0).sum()\n",
        "                  for p in model.intent_out.parameters())\n",
        "        \n",
        "        loss = loss + l2_lambda * l2_norm\"\"\"\n",
        "\n",
        "        loss_array.append(loss.item())\n",
        "        loss.backward() # Compute the gradient, deleting the computational graph\n",
        "        # clip the gradient to avoid explosioning gradients\n",
        "        # torch.nn.utils.clip_grad_norm_(model.parameters(), clip)  \n",
        "        optimizer.step() # Update the weights\n",
        "    return loss_array, loss_intent_array, loss_slot_array\n",
        "\n",
        "def eval_loop_try2(data, criterion_slots, criterion_intents, model, lang):\n",
        "    model.eval()\n",
        "    loss_array = []\n",
        "    loss_intent_array = []\n",
        "    loss_slot_array = []\n",
        "    \n",
        "    ref_intents = []\n",
        "    hyp_intents = []\n",
        "    \n",
        "    ref_slots = []\n",
        "    hyp_slots = []\n",
        "    #softmax = nn.Softmax(dim=1) # Use Softmax if you need the actual probability\n",
        "    with torch.no_grad(): # It used to avoid the creation of computational graph\n",
        "        for sample in data:\n",
        "            slots, intents = model(sample['utterances'], sample['slots_len'])\n",
        "            loss_intent = criterion_intents(intents, sample['intents'])\n",
        "            loss_slot = criterion_slots(slots, sample['y_slots'])\n",
        "            loss = 0.3*loss_intent + 0.7*loss_slot \n",
        "\n",
        "            loss_intent_array.append(loss_intent.item())\n",
        "            loss_slot_array.append(loss_slot.item())\n",
        "            loss_array.append(loss.item())\n",
        "            # Intent inference\n",
        "            # Get the highest probable class\n",
        "            out_intents = [lang.id2intent[x] \n",
        "                           for x in torch.argmax(intents, dim=1).tolist()] \n",
        "            gt_intents = [lang.id2intent[x] for x in sample['intents'].tolist()]\n",
        "            ref_intents.extend(gt_intents)\n",
        "            hyp_intents.extend(out_intents)\n",
        "            \n",
        "            # Slot inference \n",
        "            output_slots = torch.argmax(slots, dim=1)\n",
        "            for id_seq, seq in enumerate(output_slots):\n",
        "                length = sample['slots_len'].tolist()[id_seq]\n",
        "                utt_ids = sample['utterance'][id_seq][:length].tolist()\n",
        "                gt_ids = sample['y_slots'][id_seq].tolist()\n",
        "                gt_slots = [lang.id2slot[elem] for elem in gt_ids[:length]]\n",
        "                #print(utt_ids)\n",
        "                utterance = [lang.id2word[elem] for elem in utt_ids]\n",
        "                #print(utterance)\n",
        "                to_decode = seq[:length].tolist()\n",
        "                ref_slots.append([(utterance[id_el], elem) for id_el, elem in enumerate(gt_slots)])\n",
        "                tmp_seq = []\n",
        "                for id_el, elem in enumerate(to_decode):\n",
        "                    tmp_seq.append((utterance[id_el], lang.id2slot[elem]) if elem != 0 else (utterance[id_el], 'O'))\n",
        "                hyp_slots.append(tmp_seq)\n",
        "                #print(hyp_slots)\n",
        "    try:            \n",
        "        results = evaluate(ref_slots, hyp_slots)\n",
        "    except Exception as ex: #if your model predict slot that are not in ref, it gives error\n",
        "        # Sometimes the model predics a class that is not in REF\n",
        "        print(ex)\n",
        "        ref_s = set([x[1] for x in ref_slots])\n",
        "        hyp_s = set([x[1] for x in hyp_slots])\n",
        "        print(hyp_s.difference(ref_s))\n",
        "        \n",
        "    report_intent = classification_report(ref_intents, hyp_intents, \n",
        "                                          zero_division=False, output_dict=True)\n",
        "    return results, report_intent, loss_array, loss_intent_array, loss_slot_array\n"
      ],
      "metadata": {
        "id": "ca32iVZlM90W"
      },
      "execution_count": null,
      "outputs": []
    },
    {
      "cell_type": "code",
      "source": [
        "def train_try2(train_loader, test_loader, dev_loader, model, optimizer, lang, tokenizer, n_epochs=200, patience=3, train=True):\n",
        " \n",
        "  losses_train = []\n",
        "  loss_intent_train = []\n",
        "  loss_slot_train = []\n",
        "  losses_dev = [] \n",
        "  loss_intent_dev_array = []\n",
        "  loss_slot_dev_array= []\n",
        "\n",
        "  sampled_epochs = []\n",
        "  best_f1 = 0\n",
        "  for x in tqdm(range(1,n_epochs)):\n",
        "      if train:\n",
        "        loss, loss_intent, loss_slot = train_loop_try2(train_loader, optimizer, criterion_slots, \n",
        "                          criterion_intents, model)\n",
        "        if x % 3 == 0:\n",
        "            sampled_epochs.append(x)\n",
        "            losses_train.append(np.asarray(loss).mean())\n",
        "            loss_intent_train.append(np.asarray(loss_intent).mean())\n",
        "            loss_slot_train.append(np.asarray(loss_slot).mean())\n",
        "\n",
        "            results_dev, intent_res, loss_dev, loss_intent_dev, loss_slot_dev = eval_loop_try2(dev_loader, criterion_slots, \n",
        "                                                          criterion_intents, model, lang)\n",
        "            losses_dev.append(np.asarray(loss_dev).mean())\n",
        "            loss_intent_dev_array.append(np.asarray(loss_intent_dev).mean())\n",
        "            loss_slot_dev_array.append(np.asarray(loss_slot_dev).mean())\n",
        "            f1 = results_dev['total']['f']\n",
        "\n",
        "            \"\"\"if(x=50):\n",
        "              parameters = []\n",
        "              for param in model.parameters():\"\"\"\n",
        "\n",
        "            \n",
        "            if f1 > best_f1: #sometimes loss words but f1 increases, we have to look at both and figure out what of the 2 to use to stop the training\n",
        "                best_f1 = f1\n",
        "            else:\n",
        "                patience -= 1\n",
        "            if patience <= 0: # Early stopping with patience\n",
        "                break # Not nice but it keeps the code clean\n",
        "\n",
        "  results_test, intent_test, _ , _ , _ = eval_loop_try2(test_loader, criterion_slots, \n",
        "                                          criterion_intents, model, lang)    \n",
        "  print('\\nSlot F1: ', results_test['total']['f'])\n",
        "  print('Intent Accuracy:', intent_test['accuracy'])\n",
        "  return sampled_epochs, losses_train, losses_dev, loss_intent_train, loss_slot_train, loss_intent_dev_array, loss_slot_dev_array"
      ],
      "metadata": {
        "id": "OYogDyFpF9Nh"
      },
      "execution_count": null,
      "outputs": []
    },
    {
      "cell_type": "code",
      "source": [
        ""
      ],
      "metadata": {
        "id": "PCxjboMHAn1e"
      },
      "execution_count": null,
      "outputs": []
    },
    {
      "cell_type": "code",
      "source": [
        ""
      ],
      "metadata": {
        "id": "6PWC3nShF828"
      },
      "execution_count": null,
      "outputs": []
    },
    {
      "cell_type": "code",
      "source": [
        ""
      ],
      "metadata": {
        "id": "vVYyIKH9F85C"
      },
      "execution_count": null,
      "outputs": []
    },
    {
      "cell_type": "code",
      "source": [
        ""
      ],
      "metadata": {
        "id": "Yd3m1V7SF87L"
      },
      "execution_count": null,
      "outputs": []
    },
    {
      "cell_type": "code",
      "source": [
        ""
      ],
      "metadata": {
        "id": "PI1EdIf8F89j"
      },
      "execution_count": null,
      "outputs": []
    },
    {
      "cell_type": "code",
      "source": [
        ""
      ],
      "metadata": {
        "id": "WxAx9aoYAn4j"
      },
      "execution_count": null,
      "outputs": []
    },
    {
      "cell_type": "code",
      "execution_count": null,
      "metadata": {
        "id": "YjIkTY3LO0y0"
      },
      "outputs": [],
      "source": [
        "class Lang():\n",
        "    def __init__(self, words, intents, slots, tokenizer, cutoff=0):\n",
        "        self.word2id = self.w2id(words, tokenizer, cutoff=cutoff, unk=True)\n",
        "        self.slot2id = self.lab2id(slots)\n",
        "        self.intent2id = self.lab2id(intents, pad=False)\n",
        "        self.id2word = {v:k for k, v in self.word2id.items()}\n",
        "        self.id2slot = {v:k for k, v in self.slot2id.items()}\n",
        "        self.id2intent = {v:k for k, v in self.intent2id.items()}\n",
        "\n",
        "    #method to transform words to id \n",
        "    def w2id(self, elements, tokenizer, cutoff=None, unk=True):\n",
        "        vocab = {'pad': PAD_TOKEN}\n",
        "        if unk:\n",
        "            vocab['unk'] = len(vocab)\n",
        "        count = Counter(elements)\n",
        "        for k, v in count.items():\n",
        "            if v > cutoff:\n",
        "                #print(\"k: \", k)\n",
        "                #print(\"v: \", v)\n",
        "                #print(\"len(vocab): \", len(vocab))\n",
        "                vocab[k] = tokenizer.convert_tokens_to_ids(k)\n",
        "                #print(\"vocab[k]: \", vocab[k])\n",
        "        #pprint(vocab)\n",
        "        return vocab\n",
        "    \n",
        "    def lab2id(self, elements, pad=True):\n",
        "        vocab = {}\n",
        "        if pad:\n",
        "            vocab['pad'] = PAD_TOKEN\n",
        "        for elem in elements:\n",
        "                vocab[elem] = len(vocab)\n",
        "        return vocab"
      ]
    },
    {
      "cell_type": "code",
      "source": [
        "lr=0.0001\n",
        "\n",
        "parameters = []\n",
        "\n",
        "for param in ATIS_model.slot_out.parameters():\n",
        "  parameters.append(param)\n",
        "\n",
        "for param in ATIS_model.intent_out.parameters():\n",
        "  parameters.append(param)\n",
        "\n",
        "ATIS_optimizer = optim.Adam(parameters, lr=lr) #take default parameters, just modify lr"
      ],
      "metadata": {
        "id": "dmH-Ose-o2wR"
      },
      "execution_count": null,
      "outputs": []
    },
    {
      "cell_type": "code",
      "source": [
        ""
      ],
      "metadata": {
        "id": "dn3JmMnKPCbi"
      },
      "execution_count": null,
      "outputs": []
    },
    {
      "cell_type": "code",
      "source": [
        ""
      ],
      "metadata": {
        "id": "DHJBxmgOPCdo"
      },
      "execution_count": null,
      "outputs": []
    },
    {
      "cell_type": "code",
      "source": [
        "import torch\n",
        "import torch.utils.data as data\n",
        "\n",
        "class IntentsAndSlotsBert(data.Dataset):\n",
        "    # Mandatory methods are __init__, __len__ and __getitem__\n",
        "    def __init__(self, dataset, lang, tokenizer, unk='unk'):\n",
        "        self.utterances = []\n",
        "        self.intents = []\n",
        "        self.slots = []\n",
        "        self.unk = unk\n",
        "\n",
        "        \n",
        "        for x in dataset:\n",
        "            self.utterances.append(x['utterance'])\n",
        "            self.slots.append(x['slots'])\n",
        "            self.intents.append(x['intent'])\n",
        "\n",
        "        max_length = max(len([x.split()]) for x in self.utterances)\n",
        "        \n",
        "        \"\"\"        \n",
        "        slot_map = {}\n",
        "        for label in self.slots:\n",
        "            slot_map[label] = lang.slot2id(label)\n",
        "        \"\"\"\n",
        "#convert to numbers\n",
        "        self.utt_ids = self.mapping_utt(self.utterances, tokenizer, max_length)\n",
        "        #self.slot_ids = self.encode_token_labels(self.utterances, self.slots, tokenizer, lang.slot2id, max_length)\n",
        "        self.slot_ids = self.mapping_seq(self.slots, lang.slot2id)\n",
        "        self.intent_ids = self.mapping_lab(self.intents, lang.intent2id)\n",
        "\n",
        "    def __len__(self):\n",
        "        return len(self.utterances)\n",
        "\n",
        "    def __getitem__(self, idx):\n",
        "        utt = torch.Tensor(self.utt_ids[idx])\n",
        "        slots = torch.Tensor(self.slot_ids[idx])\n",
        "        intent = self.intent_ids[idx]\n",
        "        sample = {'utterance': utt, 'slots': slots, 'intent': intent}\n",
        "        return sample #dictionary with 3 keys\n",
        "    \n",
        "    # Auxiliary methods\n",
        "    \n",
        "    def mapping_lab(self, data, mapper):\n",
        "        return [mapper[x] if x in mapper else mapper[self.unk] for x in data]\n",
        "    \n",
        "    def mapping_utt(self, utterances, tokenizer, max_length): # Map sequences to number\n",
        "        token_ids = np.zeros(shape=(len(utterances), max_length+2), dtype=np.int32) #max_length +2 because of [CLS] and [SEP] tokens\n",
        "        for i, utterance in enumerate(utterances):\n",
        "          #print(utterance)\n",
        "          encoded = tokenizer.encode(utterance)\n",
        "          #print(len(encoded))\n",
        "          token_ids[i, 0:len(encoded)] = encoded\n",
        "        #print(token_ids)\n",
        "        return token_ids\n",
        "\n",
        "    def encode_token_labels(self, utterances, slot_names, tokenizer, slot_map, max_length):\n",
        "      encoded = np.zeros(shape=(len(utterances), max_length+2), dtype=np.int32)\n",
        "      for i, (utterance, word_labels) in enumerate(zip(utterances, slot_names)):\n",
        "          encoded_labels = []\n",
        "          for word, word_label in zip(utterance.split(), word_labels.split()):\n",
        "              tokens = [word]\n",
        "              encoded_labels.append(slot_map[word_label])\n",
        "              expand_label = word_label.replace(\"B-\", \"I-\")\n",
        "              if not expand_label in slot_map:\n",
        "                  expand_label = word_label\n",
        "              encoded_labels.extend([slot_map[expand_label]] *\\\n",
        "                                      (len(tokens) - 1))\n",
        "          encoded[i, 1:len(encoded_labels) + 1] = encoded_labels\n",
        "          #print(len(utterance.split()))\n",
        "          #print(len(encoded_labels))\n",
        "\n",
        "      return encoded\n",
        "\n",
        "    def mapping_seq(self, data, mapper): # Map sequences to number\n",
        "      res = []\n",
        "      for seq in data:\n",
        "          tmp_seq = []\n",
        "          for x in seq.split():\n",
        "              if x in mapper:\n",
        "                  tmp_seq.append(mapper[x])\n",
        "              else:\n",
        "                  tmp_seq.append(mapper[self.unk])\n",
        "          res.append(tmp_seq)\n",
        "      return res\n",
        "\n",
        "    def mapping_seq_old(self, data, mapper): # Map sequences to number\n",
        "      res = []\n",
        "      for seq in data:\n",
        "          tmp_seq = []\n",
        "          for x in seq.split():\n",
        "              if x in mapper:\n",
        "                  tmp_seq.append(mapper[x])\n",
        "              else:\n",
        "                  tmp_seq.append(mapper[self.unk])\n",
        "          res.append(tmp_seq)\n",
        "      return res\n"
      ],
      "metadata": {
        "id": "RpaXlEnNDASX"
      },
      "execution_count": null,
      "outputs": []
    },
    {
      "cell_type": "code",
      "source": [
        ""
      ],
      "metadata": {
        "id": "l0jg6i8fPCgC"
      },
      "execution_count": null,
      "outputs": []
    },
    {
      "cell_type": "code",
      "execution_count": null,
      "metadata": {
        "id": "Ert3-b3cF9Ng"
      },
      "outputs": [],
      "source": [
        "from conll import evaluate\n",
        "from sklearn.metrics import classification_report\n",
        "\n",
        "def train_loop_try2(data, optimizer, criterion_slots, criterion_intents, model):\n",
        "    model.train()\n",
        "    loss_array = []\n",
        "    loss_intent_array = []\n",
        "    loss_slot_array = []\n",
        "    for sample in data:\n",
        "        optimizer.zero_grad() # Zeroing the gradient\n",
        "        slots, intent = model(sample['utterances'], sample['slots_len'])\n",
        "        loss_intent = criterion_intents(intent, sample['intents'])\n",
        "\n",
        "        #print(\"\\nslots.shape:\\n \",slots.shape)\n",
        "        #print(\"\\nsample.shape\\n: \",sample['y_slots'].shape)\n",
        "\n",
        "        #print(\"\\nslots:\\n \",slots)\n",
        "        #print(\"\\nsample\\n: \",sample['y_slots'])\n",
        "\n",
        "        loss_slot = criterion_slots(slots, sample['y_slots'])\n",
        "\n",
        "        loss_intent_array.append(loss_intent.item())\n",
        "        loss_slot_array.append(loss_slot.item())\n",
        "\n",
        "\n",
        "        #loss = loss_intent #HO CAMBIATO IL LOSSSSSSSSSSSSSSSSSS\n",
        "        loss = 0.3*loss_intent + 0.7*loss_slot # In joint training we sum the losses. \n",
        "                                       # Is there another way to do that?\n",
        "                                       # you can decide to give more imporante to intent or slots with a linear combination\n",
        "\n",
        "        \"\"\"#Add L2 regularization \n",
        "        l2_lambda = 0.001\n",
        "        l2_norm = sum(p.pow(2.0).sum()\n",
        "                  for p in model.intent_out.parameters())\n",
        "        \n",
        "        loss = loss + l2_lambda * l2_norm\"\"\"\n",
        "\n",
        "        loss_array.append(loss.item())\n",
        "        loss.backward() # Compute the gradient, deleting the computational graph\n",
        "        # clip the gradient to avoid explosioning gradients\n",
        "        # torch.nn.utils.clip_grad_norm_(model.parameters(), clip)  \n",
        "        optimizer.step() # Update the weights\n",
        "    return loss_array, loss_intent_array, loss_slot_array\n",
        "\n",
        "def eval_loop_try2(data, criterion_slots, criterion_intents, model, lang, tokenizer):\n",
        "    model.eval()\n",
        "    loss_array = []\n",
        "    loss_intent_array = []\n",
        "    loss_slot_array = []\n",
        "    \n",
        "    ref_intents = []\n",
        "    hyp_intents = []\n",
        "    \n",
        "    ref_slots = []\n",
        "    hyp_slots = []\n",
        "    #softmax = nn.Softmax(dim=1) # Use Softmax if you need the actual probability\n",
        "    with torch.no_grad(): # It used to avoid the creation of computational graph\n",
        "        for sample in data:\n",
        "            slots, intents = model(sample['utterances'], sample['slots_len'])\n",
        "\n",
        "            #print(slots.shape)\n",
        "            #print(\"\\nutt\\n:\", sample[\"utterances\"].shape)\n",
        "            #print(slots)\n",
        "            loss_intent = criterion_intents(intents, sample['intents'])\n",
        "            loss_slot = criterion_slots(slots, sample['y_slots'])\n",
        "            loss = 0.3*loss_intent + 0.7*loss_slot \n",
        "\n",
        "            loss_intent_array.append(loss_intent.item())\n",
        "            loss_slot_array.append(loss_slot.item())\n",
        "            loss_array.append(loss.item())\n",
        "            # Intent inference\n",
        "            # Get the highest probable class\n",
        "            out_intents = [lang.id2intent[x] \n",
        "                           for x in torch.argmax(intents, dim=1).tolist()] \n",
        "            gt_intents = [lang.id2intent[x] for x in sample['intents'].tolist()]\n",
        "            ref_intents.extend(gt_intents)\n",
        "            hyp_intents.extend(out_intents)\n",
        "            \n",
        "            # Slot inference \n",
        "            output_slots = torch.argmax(slots, dim=1)\n",
        "            for id_seq, seq in enumerate(output_slots):\n",
        "                length = sample['slots_len'].tolist()[id_seq]\n",
        "                utt_ids = sample['utterance'][id_seq][:length].tolist()\n",
        "                gt_ids = sample['y_slots'][id_seq].tolist()\n",
        "                gt_slots = [lang.id2slot[elem] for elem in gt_ids[:length]] \n",
        "                \n",
        "                \n",
        "                #print(utt_ids)\n",
        "                #print(gt_slots)\n",
        "                utterance = tokenizer.decode(utt_ids)\n",
        "                utterance = utterance.split()\n",
        "                #print(utterance)\n",
        "                \n",
        "                to_decode = seq[:length].tolist()\n",
        "                \n",
        "                \"\"\"if len(gt_slots) > len(utterance) :\n",
        "                  gt_slots.pop()\n",
        "                  to_decode.pop()\n",
        "                elif len(gt_slots) < len(utterance):\n",
        "                  utterance.pop()\n",
        "              \n",
        "                print(len(gt_slots))\n",
        "                print(len(utterance))\"\"\"\n",
        "                #utterance = tokenizer.\n",
        "                \n",
        "                #print(to_decode)\n",
        "                ref_slots.append([(utterance[id_el], elem) for id_el, elem in enumerate(gt_slots)])\n",
        "                tmp_seq = []\n",
        "                #print(len(utterance))\n",
        "                #print(\"len to_decode\", len(to_decode))\n",
        "                for id_el, elem in enumerate(to_decode):\n",
        "                    #print(\"utterance: \", utterance[id_el])\n",
        "                    tmp_seq.append((utterance[id_el], lang.id2slot[elem]) if elem != 0 else (utterance[id_el], 'O'))\n",
        "                    #print(tmp_seq)\n",
        "                hyp_slots.append(tmp_seq)\n",
        "                #print(ref_slots)\n",
        "    \n",
        "    try:            \n",
        "        results = evaluate(ref_slots, hyp_slots)\n",
        "    except Exception as ex: #if your model predict slot that are not in ref, it gives error\n",
        "        # Sometimes the model predics a class that is not in REF\n",
        "        print(ex)\n",
        "        ref_s = set([x[1] for x in ref_slots])\n",
        "        hyp_s = set([x[1] for x in hyp_slots])\n",
        "        print(hyp_s.difference(ref_s))\n",
        "        \n",
        "    report_intent = classification_report(ref_intents, hyp_intents, \n",
        "                                          zero_division=False, output_dict=True)\n",
        "    return results, report_intent, loss_array, loss_intent_array, loss_slot_array\n"
      ]
    },
    {
      "cell_type": "code",
      "source": [
        ""
      ],
      "metadata": {
        "id": "n_ZpIxFYPCiJ"
      },
      "execution_count": null,
      "outputs": []
    },
    {
      "cell_type": "code",
      "source": [
        ""
      ],
      "metadata": {
        "id": "-LLO0nt7PCkS"
      },
      "execution_count": null,
      "outputs": []
    },
    {
      "cell_type": "code",
      "source": [
        ""
      ],
      "metadata": {
        "id": "5-t4he5ZPCmf"
      },
      "execution_count": null,
      "outputs": []
    },
    {
      "cell_type": "markdown",
      "source": [
        "##separated lstm"
      ],
      "metadata": {
        "id": "RRKoHt7AuZFY"
      }
    },
    {
      "cell_type": "code",
      "source": [
        "class Model_sep(nn.Module):\n",
        "#hidden size of rnn, embedding size (size of the vector that represent the word embedding)\n",
        "    def __init__(self, hid_size, out_slot, out_int, emb_size, vocab_len, n_layer=1, pad_index=0):\n",
        "        super(Model_sep, self).__init__()\n",
        "        # hid_size = Hidden size\n",
        "        # out_slot = number of slots (output size for slot filling)\n",
        "        # out_int = number of intents (ouput size for intent class)\n",
        "        # emb_size = word embedding size\n",
        "        \n",
        "        #A simple lookup table that stores embeddings of a fixed dictionary and size.\n",
        "        #The input to the module is a list of indices, and the output is the corresponding word embeddings.\n",
        "        \n",
        "        self.embedding = nn.Embedding(vocab_len, \n",
        "                                      emb_size, \n",
        "                                      padding_idx=pad_index) #pad idx --> the entities at pad_index do not contribute to the gradient\n",
        "        \n",
        "        \"\"\"\n",
        "        num_embeddings (int) – size of the dictionary of embeddings\n",
        "\n",
        "        embedding_dim (int) – the size of each embedding vector\n",
        "\n",
        "        padding_idx (int, optional) – If specified, the entries at padding_idx do not contribute to the gradient; \n",
        "      \n",
        "        \"\"\"\n",
        "        self.utt_encoder1 = nn.LSTM(emb_size, \n",
        "                                   emb_size, \n",
        "                                   n_layer,\n",
        "                                   bidirectional=True)     #network, bidirectional\n",
        "        \n",
        "        self.utt_encoder2 = nn.LSTM(emb_size*2, \n",
        "                                   emb_size, \n",
        "                                   n_layer,\n",
        "                                   bidirectional=True) \n",
        "\n",
        "\n",
        "        #self.conv_intent = nn.Conv1d(in_channels = 300, out_channels = 200, kernel_size = 4, padding = 1)\n",
        "\n",
        "        \"\"\"  \n",
        "        input_size – The number of expected features in the input x\n",
        "        hidden_size – The number of features in the hidden state h\n",
        "        num_layers – Number of recurrent layers. \n",
        "        \"\"\"\n",
        "        self.dropout = nn.Dropout(0.6) #regularization --> randomly mute a neuron, only on training phase. Helps to avoid overfitting\n",
        "\n",
        "\n",
        "        self.slot_out = nn.Linear(600, out_slot)\n",
        "\n",
        "        self.intent_out = nn.Linear(300, out_int)\n",
        "      \n",
        "        \n",
        "    def forward(self, utterance, seq_lengths): #define the architecture\n",
        "        # utterance.size() = batch_size X seq_len\n",
        "        utt_emb = self.embedding(utterance) # utt_emb.size() = batch_size X seq_len X emb_size\n",
        "\n",
        "        \n",
        "\n",
        "        #--> get word embedding\n",
        "        utt_emb = utt_emb.permute(1,0,2) # we need seq len first -> seq_len X batch_size X emb_size\n",
        "        \n",
        "        # pack_padded_sequence avoid computation over pad tokens reducing the computational cost\n",
        "\n",
        "        utt_emb_drop = self.dropout(utt_emb)\n",
        "        \n",
        "        packed_input = pack_padded_sequence(utt_emb_drop, seq_lengths.cpu().numpy())\n",
        "        # Process the batch\n",
        "        packed_output, (last_hidden, cell) = self.utt_encoder1(packed_input) \n",
        "\n",
        "        packed_output2, (last_hidden, cell) = self.utt_encoder2(packed_output)\n",
        "\n",
        "        #print(\"\\n\",last_hidden)\n",
        "        #print(packed_input.size)\n",
        "        #packed_output2, (last_hidden2, cell2) = self.utt_encoder(packed_output) \n",
        "  \n",
        "        #packed output containing the output features (h_t) from the last layer of the LSTM, \n",
        "        #for each t. If a torch.nn.utils.rnn.PackedSequence has been given as the \n",
        "        #input, the output will also be a packed sequence.\n",
        "\n",
        "        #last_hidden containing the final hidden state for each element in the sequence\n",
        "        #cell containing the final cell state for each element in the sequence\n",
        "        \n",
        "        # Unpack the sequence\n",
        "        utt_encoded, input_sizes = pad_packed_sequence(packed_output2)\n",
        "        #utt_encoded.shape: [sentence lenght, 128, 200] \n",
        "\n",
        "        # Get the last hidden state\n",
        "        #last_hidde.shape: [1, 128, 200]\n",
        "        \n",
        "        #last_hidde.shape: [128, 200] -> [batch size, hidden_size]\n",
        "\n",
        "        #print(\"\\nutt_encoded.shape: \", utt_encoded.shape)\n",
        "        #print(\"\\nlast hidden.shape\",last_hidden.shape)\n",
        "        \n",
        "        \"\"\"\n",
        "        utt_encoded = utt_encoded.permute(1,2,0)\n",
        "\n",
        "        print(\"\\nbefore:\\n\", utt_encoded.shape)\n",
        "\n",
        "        utt_conv = self.conv_slots(utt_encoded)\n",
        "\n",
        "        print(\"\\nafter:\\n\", utt_conv.shape)\n",
        "\n",
        "        utt_conv = utt_conv.permute(2,0,1)\n",
        "        \"\"\"\n",
        "        \n",
        "        \n",
        "        \n",
        "        \"\"\"\n",
        "        last_hidden = last_hidden.permute(1,2,0)\n",
        "\n",
        "        hidden_conv = self.conv_intent(last_hidden)\n",
        "\n",
        "        hidden_conv = hidden_conv.permute(2,0,1)\n",
        "        \"\"\"\n",
        "\n",
        "        hidden_conv = last_hidden\n",
        "\n",
        "        hidden_conv = hidden_conv[-1,:,:]\n",
        "\n",
        "        drop_utt = self.dropout(utt_encoded)\n",
        "        drop_hidden = self.dropout(hidden_conv)\n",
        "       \n",
        "        # Compute slot logits, i use the encoded representation of the utterance, with the encoding of each word\n",
        "        slots = self.slot_out(drop_utt)\n",
        "\n",
        "        #slots.shape: [sentence_lenght, batch_size, out_slots]\n",
        "        #print(\"slots size: \", slots.shape)\n",
        "        #print(\"\\n\\n\",slots,\"\\n\\n\")\n",
        "        \n",
        "        \n",
        "        #print(type(drop_hidden[0][0]))\n",
        "\n",
        "        #FOR EACH SENT IN BATCH, SAVES THE SLOTS IN IT\n",
        "\n",
        "        \"\"\"prova = slots\n",
        "        #print(\"\\n\\nprova size:\", prova.shape, \"\\n\\n\")\n",
        "\n",
        "        prova = prova.permute(1,0,2)\n",
        "          \n",
        "        #print(last_hidden.shape)\n",
        "        sents_slots = []\n",
        "        for i, sent in enumerate(prova):\n",
        "          #print(\"\\nsent:\\n\", sent)\n",
        "          slots_in_sentence = [0] * 73\n",
        "          for word in sent:\n",
        "            #print(\"\\nword:\\n\", word)\n",
        "            pred_slot = int(torch.argmax(word))\n",
        "            slots_in_sentence[pred_slot] += 1\n",
        "            \n",
        "          #tensor_slots = torch.tensor(slots_in_sentence).to(device)\n",
        "          #print(\"\\nlast hidden\\n\",last_hidden[i].shape)\n",
        "          #print(\"\\ntensor_slots.shape\\n\",tensor_slots.shape)\n",
        "          \n",
        "          # repr = torch.cat((last_hidden[i], tensor_slots))\n",
        "          # new_hidden.append(list(repr))\n",
        "          sents_slots.append(slots_in_sentence)\n",
        "\n",
        "        #new_hidden = torch.tensor(new_hidden).to(device)  \n",
        "\n",
        "        sents_slots = torch.tensor(sents_slots).to(device)  \"\"\"\n",
        "\n",
        "        intent = self.intent_out(drop_hidden)\n",
        "       \n",
        "        slots = slots.permute(1,2,0) # We need this for computing the loss\n",
        "\n",
        "\n",
        "        return slots, intent"
      ],
      "metadata": {
        "id": "RD_ncHTVsGTn"
      },
      "execution_count": null,
      "outputs": []
    },
    {
      "cell_type": "code",
      "source": [
        "SNIPS_model_sep = Model_sep(hid_size, SNIPS_out_slot, SNIPS_out_int, emb_size, SNIPS_vocab_len, pad_index=PAD_TOKEN).to(device)\n",
        "SNIPS_model_sep.apply(init_weights)\n",
        "SNIPS_optimizer_sep = optim.Adam(SNIPS_model_sep.parameters(), lr=lr, weight_decay=wd) #take default parameters, just modify lr"
      ],
      "metadata": {
        "id": "P-e4pQIYuedI"
      },
      "execution_count": null,
      "outputs": []
    },
    {
      "cell_type": "code",
      "source": [
        "SNIPS_sampled_epochs_adv, SNIPS_losses_train_adv, SNIPS_losses_dev_adv = train_adv(\n",
        "train_loader = SNIPS_train_loader, \n",
        "test_loader = SNIPS_test_loader, \n",
        "dev_loader = SNIPS_dev_loader, \n",
        "model = SNIPS_model_sep, \n",
        "optimizer = SNIPS_optimizer_sep,\n",
        "lang = SNIPS_lang,\n",
        "train = True)"
      ],
      "metadata": {
        "id": "T1dmwcc0uiPI"
      },
      "execution_count": null,
      "outputs": []
    },
    {
      "cell_type": "code",
      "source": [
        "parameters = []\n",
        "\n",
        "for param in SNIPS_model_sep.utt_encoder2.parameters():\n",
        "  parameters.append(param)\n",
        "\n",
        "for param in SNIPS_model_sep.slot_out.parameters():\n",
        "  parameters.append(param)\n",
        "\n",
        "SNIPS_optimizer_sep = optim.Adam(parameters, lr=lr, weight_decay=wd) #take default parameters, just modify lr"
      ],
      "metadata": {
        "id": "tofWPHgLu7Si"
      },
      "execution_count": null,
      "outputs": []
    },
    {
      "cell_type": "code",
      "source": [
        ""
      ],
      "metadata": {
        "id": "WuhkDdvFPCo8"
      },
      "execution_count": null,
      "outputs": []
    },
    {
      "cell_type": "code",
      "source": [
        ""
      ],
      "metadata": {
        "id": "0Xuqvm9JPCrX"
      },
      "execution_count": null,
      "outputs": []
    },
    {
      "cell_type": "markdown",
      "source": [
        "##SEPARATE CLASSIFIERS"
      ],
      "metadata": {
        "id": "FnwwFRNwxpcL"
      }
    },
    {
      "cell_type": "code",
      "source": [
        "class Bert_encoder(nn.Module):\n",
        "#hidden size of rnn, embedding size (size of the vector that represent the word embedding)\n",
        "    def __init__(self, hid_size, out_slot, out_int, emb_size, vocab_len, n_layer=2, pad_index=0):\n",
        "        super(Bert_encoder, self).__init__()\n",
        "\n",
        "        config = BertConfig(vocab_size=vocab_len)\n",
        "        \n",
        "        self.bert = BertModel.from_pretrained(\"bert-base-uncased\", config = config, ignore_mismatched_sizes=True)\n",
        "        \n",
        "    def forward(self, utterance): \n",
        "\n",
        "        output = self.bert(utterance) \n",
        "\n",
        "        return output.last_hidden_state, output.pooler_output"
      ],
      "metadata": {
        "id": "VuXVeqR3nrky"
      },
      "execution_count": null,
      "outputs": []
    },
    {
      "cell_type": "code",
      "source": [
        "class Slot_classifier(nn.Module):\n",
        "#hidden size of rnn, embedding size (size of the vector that represent the word embedding)\n",
        "    def __init__(self,out_slot):\n",
        "        super(Slot_classifier, self).__init__()\n",
        "        \n",
        "        self.slot_out = nn.Linear(768, out_slot)\n",
        "        \n",
        "    def forward(self, hidden_slot): \n",
        "\n",
        "        hidden_slot = hidden_slot.permute(1,0,2) \n",
        "        \n",
        "        slots = self.slot_out(hidden_slot)\n",
        "       \n",
        "        slots = slots.permute(1,2,0) # We need this for computing the loss\n",
        "\n",
        "        return slots"
      ],
      "metadata": {
        "id": "_s2h9NzpwAa9"
      },
      "execution_count": null,
      "outputs": []
    },
    {
      "cell_type": "code",
      "source": [
        "class Intent_classifier(nn.Module):\n",
        "#hidden size of rnn, embedding size (size of the vector that represent the word embedding)\n",
        "    def __init__(self,out_int):\n",
        "        super(Intent_classifier, self).__init__()\n",
        "\n",
        "        self.intent_out = nn.Linear(768, out_int)      \n",
        "        \n",
        "    def forward(self, pooler_output): \n",
        "\n",
        "        intent = self.intent_out(pooler_output)\n",
        "\n",
        "        return intent"
      ],
      "metadata": {
        "id": "sPH1QQeywjkQ"
      },
      "execution_count": null,
      "outputs": []
    },
    {
      "cell_type": "markdown",
      "source": [
        "####Train"
      ],
      "metadata": {
        "id": "RqdTVGsqx99s"
      }
    },
    {
      "cell_type": "code",
      "source": [
        "def train_bert(train_loader, test_loader, dev_loader, encoder, slot_classifier, intent_classifier, encoder_optimizer, slot_optimizer, intent_optimizer, lang, n_epochs=200, patience=3):\n",
        " \n",
        "  losses_train = []\n",
        "  losses_dev = []\n",
        "  sampled_epochs = []\n",
        "  best_f1 = 0\n",
        "  for x in tqdm(range(1,n_epochs)):\n",
        "      loss = train_loop_bert(train_loader, encoder_optimizer, slot_optimizer, intent_optimizer, criterion_slots, \n",
        "                        criterion_intents, encoder, slot_classifier, intent_classifier)\n",
        "      if x % 5 == 0:\n",
        "          sampled_epochs.append(x)\n",
        "          losses_train.append(np.asarray(loss).mean())\n",
        "          results_dev, intent_res, loss_dev = eval_loop_bert(dev_loader, criterion_slots, \n",
        "                                                        criterion_intents, encoder, slot_classifier, intent_classifier, lang)\n",
        "          losses_dev.append(np.asarray(loss_dev).mean())\n",
        "          f1 = results_dev['total']['f']\n",
        "          \n",
        "          if f1 > best_f1: #sometimes loss words but f1 increases, we have to look at both and figure out what of the 2 to use to stop the training\n",
        "              best_f1 = f1\n",
        "          else:\n",
        "              patience -= 1\n",
        "          if patience <= 0: # Early stopping with patience\n",
        "              break # Not nice but it keeps the code clean\n",
        "\n",
        "  results_test, intent_test, _ = eval_loop_bert(test_loader, criterion_slots, \n",
        "                                          criterion_intents, encoder, slot_classifier, intent_classifier, lang)    \n",
        "  print('\\nSlot F1: ', results_test['total']['f'])\n",
        "  print('Intent Accuracy:', intent_test['accuracy'])\n",
        "  return sampled_epochs, losses_train, losses_dev"
      ],
      "metadata": {
        "id": "Z-5swAGgx8Xc"
      },
      "execution_count": null,
      "outputs": []
    },
    {
      "cell_type": "code",
      "execution_count": null,
      "metadata": {
        "id": "NGh0fMrRx2a5"
      },
      "outputs": [],
      "source": [
        "from conll import evaluate\n",
        "from sklearn.metrics import classification_report\n",
        "\n",
        "def train_loop_bert(data, encoder_optimizer, slot_optimizer, intent_optimizer, criterion_slots, criterion_intents, encoder, slot_classifier, intent_classifier):\n",
        "    encoder.train()\n",
        "    slot_classifier.train()\n",
        "    intent_classifier.train()\n",
        "    loss_array = []\n",
        "    for sample in data:\n",
        "        encoder_optimizer.zero_grad()\n",
        "        slot_optimizer.zero_grad()\n",
        "        intent_optimizer.zero_grad()\n",
        "        slots_hidden, intent_hidden = encoder(sample['utterances'])\n",
        "        intent = intent_classifier(intent_hidden)\n",
        "        slots = slot_classifier(slots_hidden)\n",
        "        loss_intent = criterion_intents(intent, sample['intents'])\n",
        "        loss_slot = criterion_slots(slots, sample['y_slots'])\n",
        "        loss = loss_intent + loss_slot # In joint training we sum the losses. \n",
        "                                       # Is there another way to do that?\n",
        "                                       # you can decide to give more imporante to intent or slots with a linear combination\n",
        "        loss_array.append(loss.item())\n",
        "        loss.backward() # Compute the gradient, deleting the computational graph\n",
        "        # clip the gradient to avoid explosioning gradients\n",
        "        # torch.nn.utils.clip_grad_norm_(model.parameters(), clip)  \n",
        "        encoder_optimizer.step()\n",
        "        slot_optimizer.step()\n",
        "        intent_optimizer.step()\n",
        "    return loss_array\n",
        "\n",
        "def eval_loop_bert(data, criterion_slots, criterion_intents, encoder, slot_classifier, intent_classifier, lang):\n",
        "    encoder.eval()\n",
        "    slot_classifier.eval()\n",
        "    intent_classifier.eval()\n",
        "    loss_array = []\n",
        "    \n",
        "    ref_intents = []\n",
        "    hyp_intents = []\n",
        "    \n",
        "    ref_slots = []\n",
        "    hyp_slots = []\n",
        "    #softmax = nn.Softmax(dim=1) # Use Softmax if you need the actual probability\n",
        "    with torch.no_grad(): # It used to avoid the creation of computational graph\n",
        "        for sample in data:\n",
        "            slots_hidden, intent_hidden = encoder(sample['utterances'])\n",
        "            intents = intent_classifier(intent_hidden)\n",
        "            slots = slot_classifier(slots_hidden)\n",
        "            loss_intent = criterion_intents(intents, sample['intents'])\n",
        "            loss_slot = criterion_slots(slots, sample['y_slots'])\n",
        "            loss = loss_intent + loss_slot \n",
        "            loss_array.append(loss.item())\n",
        "            # Intent inference\n",
        "            # Get the highest probable class\n",
        "            out_intents = [lang.id2intent[x] \n",
        "                           for x in torch.argmax(intents, dim=1).tolist()] \n",
        "            gt_intents = [lang.id2intent[x] for x in sample['intents'].tolist()]\n",
        "            ref_intents.extend(gt_intents)\n",
        "            hyp_intents.extend(out_intents)\n",
        "            \n",
        "            # Slot inference \n",
        "            output_slots = torch.argmax(slots, dim=1)\n",
        "            for id_seq, seq in enumerate(output_slots):\n",
        "                length = sample['slots_len'].tolist()[id_seq]\n",
        "                utt_ids = sample['utterance'][id_seq][:length].tolist()\n",
        "                gt_ids = sample['y_slots'][id_seq].tolist()\n",
        "                gt_slots = [lang.id2slot[elem] for elem in gt_ids[:length]]\n",
        "                utterance = [lang.id2word[elem] for elem in utt_ids]\n",
        "                to_decode = seq[:length].tolist()\n",
        "                ref_slots.append([(utterance[id_el], elem) for id_el, elem in enumerate(gt_slots)])\n",
        "                tmp_seq = []\n",
        "                for id_el, elem in enumerate(to_decode):\n",
        "                    tmp_seq.append((utterance[id_el], lang.id2slot[elem]) if elem != 0 else (utterance[id_el], 'O'))\n",
        "                hyp_slots.append(tmp_seq)\n",
        "    try:            \n",
        "        results = evaluate(ref_slots, hyp_slots)\n",
        "    except Exception as ex: #if your model predict slot that are not in ref, it gives error\n",
        "        # Sometimes the model predics a class that is not in REF\n",
        "        print(ex)\n",
        "        ref_s = set([x[1] for x in ref_slots])\n",
        "        hyp_s = set([x[1] for x in hyp_slots])\n",
        "        print(hyp_s.difference(ref_s))\n",
        "        \n",
        "    report_intent = classification_report(ref_intents, hyp_intents, \n",
        "                                          zero_division=False, output_dict=True)\n",
        "    return results, report_intent, loss_array\n"
      ]
    },
    {
      "cell_type": "code",
      "source": [
        "ATIS_encoder = Bert_encoder(hid_size, ATIS_out_slot, ATIS_out_int, emb_size, ATIS_vocab_len, pad_index=PAD_TOKEN).to(device)\n",
        "ATIS_slot_classifier = Slot_classifier(ATIS_out_slot).to(device)\n",
        "ATIS_intent_classifier = Intent_classifier(ATIS_out_int).to(device)"
      ],
      "metadata": {
        "id": "VvVAP9Etx03T"
      },
      "execution_count": null,
      "outputs": []
    },
    {
      "cell_type": "code",
      "source": [
        "lr=0.0001\n",
        "ATIS_encoder_optimizer = optim.Adam(ATIS_encoder.parameters(), lr=lr) #take default parameters, just modify lr\n",
        "lr=0.0001\n",
        "ATIS_slot_optimizer = optim.Adam(ATIS_encoder.parameters(), lr=lr) #take default parameters, just modify lr\n",
        "lr=0.0001\n",
        "ATIS_intent_optimizer = optim.Adam(ATIS_encoder.parameters(), lr=lr) #take default parameters, just modify lr"
      ],
      "metadata": {
        "id": "pg8xphWxx056"
      },
      "execution_count": null,
      "outputs": []
    },
    {
      "cell_type": "code",
      "source": [
        "ATIS_sampled_epochs, ATIS_losses_train, ATIS_losses_dev = train_bert(\n",
        "    train_loader = ATIS_train_loader, \n",
        "    test_loader = ATIS_test_loader, \n",
        "    dev_loader = ATIS_dev_loader, \n",
        "    encoder = ATIS_encoder, \n",
        "    slot_classifier=ATIS_slot_classifier,\n",
        "    intent_classifier=ATIS_intent_classifier,\n",
        "    encoder_optimizer=ATIS_encoder_optimizer,\n",
        "    slot_optimizer=ATIS_slot_optimizer,\n",
        "    intent_optimizer=ATIS_intent_optimizer,\n",
        "    lang = ATIS_lang)"
      ],
      "metadata": {
        "id": "xeEqcY38x076"
      },
      "execution_count": null,
      "outputs": []
    },
    {
      "cell_type": "code",
      "source": [
        "plt.figure(num = 3, figsize=(8, 5)).patch.set_facecolor('white')\n",
        "plt.title('Train and Dev Losses')\n",
        "plt.ylabel('Loss')\n",
        "plt.xlabel('Epochs')\n",
        "plt.plot(ATIS_sampled_epochs, ATIS_losses_train, label='Train loss')\n",
        "plt.plot(ATIS_sampled_epochs, ATIS_losses_dev, label='Dev loss')\n",
        "plt.legend()\n",
        "plt.show()"
      ],
      "metadata": {
        "id": "UaAAvtjxx0-Y"
      },
      "execution_count": null,
      "outputs": []
    },
    {
      "cell_type": "code",
      "source": [
        ""
      ],
      "metadata": {
        "id": "GI5Uzg2zx1C5"
      },
      "execution_count": null,
      "outputs": []
    },
    {
      "cell_type": "code",
      "source": [
        ""
      ],
      "metadata": {
        "id": "YDqSx4Ppx1JT"
      },
      "execution_count": null,
      "outputs": []
    },
    {
      "cell_type": "markdown",
      "source": [
        "#Try convolution"
      ],
      "metadata": {
        "id": "71_kt8BAX5nx"
      }
    },
    {
      "cell_type": "code",
      "source": [
        "class Model_adv(nn.Module):\n",
        "#hidden size of rnn, embedding size (size of the vector that represent the word embedding)\n",
        "    def __init__(self, hid_size, out_slot, out_int, emb_size, vocab_len, n_layer=2, pad_index=0):\n",
        "        super(Model_adv, self).__init__()\n",
        "        # hid_size = Hidden size\n",
        "        # out_slot = number of slots (output size for slot filling)\n",
        "        # out_int = number of intents (ouput size for intent class)\n",
        "        # emb_size = word embedding size\n",
        "        \n",
        "        #A simple lookup table that stores embeddings of a fixed dictionary and size.\n",
        "        #The input to the module is a list of indices, and the output is the corresponding word embeddings.\n",
        "        \n",
        "        self.embedding = nn.Embedding(vocab_len, \n",
        "                                      emb_size, \n",
        "                                      padding_idx=pad_index) #pad idx --> the entities at pad_index do not contribute to the gradient\n",
        "        \n",
        "        \"\"\"\n",
        "        num_embeddings (int) – size of the dictionary of embeddings\n",
        "\n",
        "        embedding_dim (int) – the size of each embedding vector\n",
        "\n",
        "        padding_idx (int, optional) – If specified, the entries at padding_idx do not contribute to the gradient; \n",
        "      \n",
        "        \"\"\"\n",
        "        self.utt_encoder = nn.LSTM(emb_size, \n",
        "                                   hid_size, \n",
        "                                   n_layer,\n",
        "                                   bidirectional=True)     #network, bidirectional\n",
        "\n",
        "\n",
        "        self.conv_intent = nn.Conv1d(in_channels = 200, out_channels = 100, kernel_size = 3, padding =1)\n",
        "\n",
        "        \"\"\"  \n",
        "        input_size – The number of expected features in the input x\n",
        "        hidden_size – The number of features in the hidden state h\n",
        "        num_layers – Number of recurrent layers. \n",
        "        \"\"\"\n",
        "        self.dropout = nn.Dropout(0.7) #regularization --> randomly mute a neuron, only on training phase. Helps to avoid overfitting\n",
        "\n",
        "\n",
        "        self.slot_out = nn.Linear(hid_size*2, out_slot)\n",
        "\n",
        "        self.intent_out = nn.Linear(100, out_int)\n",
        "      \n",
        "        #self.dropout = nn.Dropout(0.7) #regularization --> randomly mute a neuron, only on training phase. Helps to avoid overfitting\n",
        "        \n",
        "    def forward(self, utterance, seq_lengths): #define the architecture\n",
        "        # utterance.size() = batch_size X seq_len\n",
        "        utt_emb = self.embedding(utterance) # utt_emb.size() = batch_size X seq_len X emb_size\n",
        "        #--> get word embedding\n",
        "        utt_emb = utt_emb.permute(1,0,2) # we need seq len first -> seq_len X batch_size X emb_size\n",
        "        \n",
        "        # pack_padded_sequence avoid computation over pad tokens reducing the computational cost\n",
        "        \n",
        "        packed_input = pack_padded_sequence(utt_emb, seq_lengths.cpu().numpy())\n",
        "        # Process the batch\n",
        "        packed_output, (last_hidden, cell) = self.utt_encoder(packed_input) \n",
        "\n",
        "        #print(\"\\n\",last_hidden)\n",
        "        #print(packed_input.size)\n",
        "        #packed_output2, (last_hidden2, cell2) = self.utt_encoder(packed_output) \n",
        "  \n",
        "        #packed output containing the output features (h_t) from the last layer of the LSTM, \n",
        "        #for each t. If a torch.nn.utils.rnn.PackedSequence has been given as the \n",
        "        #input, the output will also be a packed sequence.\n",
        "\n",
        "        #last_hidden containing the final hidden state for each element in the sequence\n",
        "        #cell containing the final cell state for each element in the sequence\n",
        "        \n",
        "        # Unpack the sequence\n",
        "        utt_encoded, input_sizes = pad_packed_sequence(packed_output)\n",
        "        #utt_encoded.shape: [sentence lenght, 128, 200] \n",
        "\n",
        "        # Get the last hidden state\n",
        "        #last_hidde.shape: [1, 128, 200]\n",
        "        \n",
        "        #last_hidde.shape: [128, 200] -> [batch size, hidden_size]\n",
        "\n",
        "        #print(\"\\nutt_encoded.shape: \", utt_encoded.shape)\n",
        "        #print(\"\\nlast hidden.shape\",last_hidden.shape)\n",
        "        \n",
        "        \"\"\"\n",
        "        utt_encoded = utt_encoded.permute(1,2,0)\n",
        "\n",
        "        print(\"\\nbefore:\\n\", utt_encoded.shape)\n",
        "\n",
        "        utt_conv = self.conv_slots(utt_encoded)\n",
        "\n",
        "        print(\"\\nafter:\\n\", utt_conv.shape)\n",
        "\n",
        "        utt_conv = utt_conv.permute(2,0,1)\n",
        "        \"\"\"\n",
        "        \n",
        "        last_hidden = last_hidden.permute(1,2,0)\n",
        "\n",
        "        \"\"\"hidden_conv = self.conv_intent(last_hidden)\n",
        "\n",
        "        hidden_conv = hidden_conv.permute(2,0,1)\n",
        "\n",
        "        hidden_conv = hidden_conv[-1,:,:]\"\"\"\n",
        "\n",
        "        drop_utt = self.dropout(utt_encoded)\n",
        "        drop_hidden = self.dropout(last_hidden)\n",
        "       \n",
        "        # Compute slot logits, i use the encoded representation of the utterance, with the encoding of each word\n",
        "        slots = self.slot_out(drop_utt)\n",
        "        #slots.shape: [sentence_lenght, batch_size, out_slots]\n",
        "        #print(\"slots size: \", slots.shape)\n",
        "        #print(\"\\n\\n\",slots,\"\\n\\n\")\n",
        "        \n",
        "        \"\"\"\n",
        "        prova = slots\n",
        "        #print(\"\\n\\nprova size:\", prova.shape, \"\\n\\n\")\n",
        "\n",
        "        prova = prova.permute(1,0,2)\n",
        "          \n",
        "        #print(last_hidden.shape)\n",
        "        new_hidden = []\n",
        "        for i, sent in enumerate(prova):\n",
        "          #print(\"\\nsent:\\n\", sent)\n",
        "          slots_in_sentence = [0] * 73\n",
        "          for word in sent:\n",
        "            #print(\"\\nword:\\n\", word)\n",
        "            pred_slot = int(torch.argmax(word))\n",
        "            slots_in_sentence[pred_slot] += 1 \n",
        "          #tensor_pred_slots = torch.tensor(pred_slots).to(device)\n",
        "          #last_hidden[i] = torch.cat((last_hidden[i], tensor_pred_slots))\n",
        "          #print(\"\\npred_slots\\n\", slots_in_sentence)\n",
        "          tensor_slots = torch.tensor(slots_in_sentence).to(device)\n",
        "          #print(\"\\nlast hidden\\n\",last_hidden[i].shape)\n",
        "          #print(\"\\ntensor_slots.shape\\n\",tensor_slots.shape)\n",
        "          repr = torch.cat((last_hidden[i], tensor_slots))\n",
        "          new_hidden.append(list(repr))\n",
        "        new_hidden = torch.tensor(new_hidden).to(device)  \n",
        "        #print(\"\\n New hidden SHAPE\\n\",new_hidden.shape)\n",
        "        #last_hidden[i] = new_hidden\n",
        "        \"\"\"\n",
        "\n",
        "        #print(last_hidden.shape)\n",
        "        #utt_encoded[1] = torch.cat((utt_encoded[1], slots[2]))\n",
        "        #utt_and_slot = torch.cat((utt_encoded, slots[2]), dim=1) \n",
        "        #print(\"\\nutt_and_slot.shape: \", utt_encoded.shape)\n",
        "\n",
        "        # Compute intent logits\n",
        "        #intent = self.intent_out(last_hidden)\n",
        "\n",
        "        #drop_hidden = self.dropout(last_hidden)\n",
        "\n",
        "        intent = self.intent_out(drop_hidden)\n",
        "        #print(intent.shape)\n",
        "\n",
        "        #intent.shape: [128, out_intent] --> [batch_size, possible slots in dataset]\n",
        "        \n",
        "        #print(\"\\n intent.shape: \\n\", intent.shape)\n",
        "        #print(\"\\n slots.shape first: \\n\", slots.shape)\n",
        "        #print(\"\\n intent: \\n\", intent)\n",
        "        #print(\"\\n slots first: \\n\", slots)\n",
        "\n",
        "\n",
        "        # Slot size: [seq_len, batch size, out_slot] \n",
        "        slots = slots.permute(1,2,0) # We need this for computing the loss\n",
        "        # Slot size: [batch_size, out_slot, seq_len]\n",
        "\n",
        "        return slots, intent"
      ],
      "metadata": {
        "id": "hcrXFrpDYYhw"
      },
      "execution_count": null,
      "outputs": []
    },
    {
      "cell_type": "code",
      "source": [
        ""
      ],
      "metadata": {
        "id": "tIhwgs8fWu2a"
      },
      "execution_count": null,
      "outputs": []
    },
    {
      "cell_type": "code",
      "source": [
        "class Model_adv(nn.Module):\n",
        "#hidden size of rnn, embedding size (size of the vector that represent the word embedding)\n",
        "    def __init__(self, hid_size, out_slot, out_int, emb_size, vocab_len, n_layer=1, pad_index=0):\n",
        "        super(Model_adv, self).__init__()\n",
        "        # hid_size = Hidden size\n",
        "        # out_slot = number of slots (output size for slot filling)\n",
        "        # out_int = number of intents (ouput size for intent class)\n",
        "        # emb_size = word embedding size\n",
        "        \n",
        "        #A simple lookup table that stores embeddings of a fixed dictionary and size.\n",
        "        #The input to the module is a list of indices, and the output is the corresponding word embeddings.\n",
        "        \n",
        "        self.embedding = nn.Embedding(vocab_len, \n",
        "                                      emb_size, \n",
        "                                      padding_idx=pad_index) #pad idx --> the entities at pad_index do not contribute to the gradient\n",
        "        \n",
        "        \"\"\"\n",
        "        num_embeddings (int) – size of the dictionary of embeddings\n",
        "\n",
        "        embedding_dim (int) – the size of each embedding vector\n",
        "\n",
        "        padding_idx (int, optional) – If specified, the entries at padding_idx do not contribute to the gradient; \n",
        "      \n",
        "        \"\"\"\n",
        "        self.utt_encoder = nn.LSTM(emb_size, \n",
        "                                   hid_size, \n",
        "                                   n_layer,\n",
        "                                   bidirectional=True)     #network, bidirectional\n",
        "\n",
        "\n",
        "\n",
        "        \"\"\"  \n",
        "        input_size – The number of expected features in the input x\n",
        "        hidden_size – The number of features in the hidden state h\n",
        "        num_layers – Number of recurrent layers. \n",
        "        \"\"\"\n",
        "        self.dropout = nn.Dropout(0.7) #regularization --> randomly mute a neuron, only on training phase. Helps to avoid overfitting\n",
        "\n",
        "        self.slot_out = nn.Linear(hid_size*2, out_slot)\n",
        "\n",
        "        self.intent_out = nn.Linear(hid_size, out_int)\n",
        "      \n",
        "        #self.dropout = nn.Dropout(0.7) #regularization --> randomly mute a neuron, only on training phase. Helps to avoid overfitting\n",
        "        \n",
        "    def forward(self, utterance, seq_lengths): #define the architecture\n",
        "        # utterance.size() = batch_size X seq_len\n",
        "        utt_emb = self.embedding(utterance) # utt_emb.size() = batch_size X seq_len X emb_size\n",
        "        #--> get word embedding\n",
        "        utt_emb = utt_emb.permute(1,0,2) # we need seq len first -> seq_len X batch_size X emb_size\n",
        "        \n",
        "        # pack_padded_sequence avoid computation over pad tokens reducing the computational cost\n",
        "        \n",
        "        packed_input = pack_padded_sequence(utt_emb, seq_lengths.cpu().numpy())\n",
        "        # Process the batch\n",
        "        packed_output, (last_hidden, cell) = self.utt_encoder(packed_input) \n",
        "\n",
        "        #print(\"\\n\",last_hidden)\n",
        "        #print(packed_input.size)\n",
        "        #packed_output2, (last_hidden2, cell2) = self.utt_encoder(packed_output) \n",
        "  \n",
        "        #packed output containing the output features (h_t) from the last layer of the LSTM, \n",
        "        #for each t. If a torch.nn.utils.rnn.PackedSequence has been given as the \n",
        "        #input, the output will also be a packed sequence.\n",
        "\n",
        "        #last_hidden containing the final hidden state for each element in the sequence\n",
        "        #cell containing the final cell state for each element in the sequence\n",
        "        \n",
        "        # Unpack the sequence\n",
        "        utt_encoded, input_sizes = pad_packed_sequence(packed_output)\n",
        "        #utt_encoded.shape: [sentence lenght, 128, 200] \n",
        "\n",
        "        # Get the last hidden state\n",
        "        #last_hidde.shape: [1, 128, 200]\n",
        "        last_hidden = last_hidden[-1,:,:]\n",
        "        #last_hidde.shape: [128, 200] -> [batch size, hidden_size]\n",
        "\n",
        "        #print(\"\\nutt_encoded.shape: \", utt_encoded.shape)\n",
        "        #print(\"\\nlast hidden.shape\",last_hidden.shape)\n",
        "        \n",
        "        drop_utt = self.dropout(utt_encoded)\n",
        "        drop_hidden = self.dropout(last_hidden)\n",
        "       \n",
        "        # Compute slot logits, i use the encoded representation of the utterance, with the encoding of each word\n",
        "        slots = self.slot_out(drop_utt)\n",
        "        #slots.shape: [sentence_lenght, batch_size, out_slots]\n",
        "        #print(\"slots size: \", slots.shape)\n",
        "        #print(\"\\n\\n\",slots,\"\\n\\n\")\n",
        "        #print(\"\\nslots_before.shape:\\n\", slots.shape)\n",
        "        \"\"\"\n",
        "        prova = slots\n",
        "        #print(\"\\n\\nprova size:\", prova.shape, \"\\n\\n\")\n",
        "\n",
        "        prova = prova.permute(1,0,2)\n",
        "          \n",
        "        #print(last_hidden.shape)\n",
        "        new_hidden = []\n",
        "        for i, sent in enumerate(prova):\n",
        "          #print(\"\\nsent:\\n\", sent)\n",
        "          slots_in_sentence = [0] * 73\n",
        "          for word in sent:\n",
        "            #print(\"\\nword:\\n\", word)\n",
        "            pred_slot = int(torch.argmax(word))\n",
        "            slots_in_sentence[pred_slot] += 1 \n",
        "          #tensor_pred_slots = torch.tensor(pred_slots).to(device)\n",
        "          #last_hidden[i] = torch.cat((last_hidden[i], tensor_pred_slots))\n",
        "          #print(\"\\npred_slots\\n\", slots_in_sentence)\n",
        "          tensor_slots = torch.tensor(slots_in_sentence).to(device)\n",
        "          #print(\"\\nlast hidden\\n\",last_hidden[i].shape)\n",
        "          #print(\"\\ntensor_slots.shape\\n\",tensor_slots.shape)\n",
        "          repr = torch.cat((last_hidden[i], tensor_slots))\n",
        "          new_hidden.append(list(repr))\n",
        "        new_hidden = torch.tensor(new_hidden).to(device)  \n",
        "        #print(\"\\n New hidden SHAPE\\n\",new_hidden.shape)\n",
        "        #last_hidden[i] = new_hidden\n",
        "        \"\"\"\n",
        "\n",
        "        #print(last_hidden.shape)\n",
        "        #utt_encoded[1] = torch.cat((utt_encoded[1], slots[2]))\n",
        "        #utt_and_slot = torch.cat((utt_encoded, slots[2]), dim=1) \n",
        "        #print(\"\\nutt_and_slot.shape: \", utt_encoded.shape)\n",
        "\n",
        "        # Compute intent logits\n",
        "        #intent = self.intent_out(last_hidden)\n",
        "\n",
        "        #drop_hidden = self.dropout(last_hidden)\n",
        "\n",
        "        intent = self.intent_out(drop_hidden)\n",
        "        #print(intent.shape)\n",
        "\n",
        "        #intent.shape: [128, out_intent] --> [batch_size, possible slots in dataset]\n",
        "        \n",
        "        #print(\"\\n intent.shape: \\n\", intent.shape)\n",
        "        #print(\"\\n slots.shape first: \\n\", slots.shape)\n",
        "        #print(\"\\n intent: \\n\", intent)\n",
        "        #print(\"\\n slots first: \\n\", slots)\n",
        "\n",
        "\n",
        "        # Slot size: [seq_len, batch size, out_slot] \n",
        "        slots = slots.permute(1,2,0) # We need this for computing the loss\n",
        "        # Slot size: [batch_size, out_slot, seq_len]\n",
        "\n",
        "        return slots, intent"
      ],
      "metadata": {
        "id": "J_g6sqSUVCDS"
      },
      "execution_count": null,
      "outputs": []
    },
    {
      "cell_type": "code",
      "source": [
        ""
      ],
      "metadata": {
        "id": "Te_W_dItWu43"
      },
      "execution_count": null,
      "outputs": []
    },
    {
      "cell_type": "code",
      "source": [
        ""
      ],
      "metadata": {
        "id": "VkXgMD2xWu73"
      },
      "execution_count": null,
      "outputs": []
    },
    {
      "cell_type": "code",
      "source": [
        ""
      ],
      "metadata": {
        "id": "576hptF5Wu9X"
      },
      "execution_count": null,
      "outputs": []
    },
    {
      "cell_type": "code",
      "source": [
        ""
      ],
      "metadata": {
        "id": "L6wu3QcwWvA9"
      },
      "execution_count": null,
      "outputs": []
    },
    {
      "cell_type": "code",
      "source": [
        ""
      ],
      "metadata": {
        "id": "zMbk8KHaWvCG"
      },
      "execution_count": null,
      "outputs": []
    },
    {
      "cell_type": "code",
      "source": [
        ""
      ],
      "metadata": {
        "id": "xTjoA0SIWvIA"
      },
      "execution_count": null,
      "outputs": []
    },
    {
      "cell_type": "code",
      "source": [
        ""
      ],
      "metadata": {
        "id": "xkwg4zxuWvKt"
      },
      "execution_count": null,
      "outputs": []
    },
    {
      "cell_type": "code",
      "source": [
        ""
      ],
      "metadata": {
        "id": "ZXvwASqqWvM_"
      },
      "execution_count": null,
      "outputs": []
    },
    {
      "cell_type": "code",
      "source": [
        ""
      ],
      "metadata": {
        "id": "luI3etNfWvPe"
      },
      "execution_count": null,
      "outputs": []
    },
    {
      "cell_type": "code",
      "source": [
        ""
      ],
      "metadata": {
        "id": "_EobQ675WvR5"
      },
      "execution_count": null,
      "outputs": []
    },
    {
      "cell_type": "code",
      "source": [
        ""
      ],
      "metadata": {
        "id": "H3dUKb6nWvVJ"
      },
      "execution_count": null,
      "outputs": []
    },
    {
      "cell_type": "markdown",
      "source": [
        "PROVO 2 LSTM"
      ],
      "metadata": {
        "id": "bzMAH7XJFp8f"
      }
    },
    {
      "cell_type": "code",
      "source": [
        "class Model_both(nn.Module):\n",
        "#hidden size of rnn, embedding size (size of the vector that represent the word embedding)\n",
        "    def __init__(self, hid_size, out_slot, out_int, emb_size, vocab_len, n_layer=1, pad_index=0):\n",
        "        super(Model_both, self).__init__()\n",
        "        # hid_size = Hidden size\n",
        "        # out_slot = number of slots (output size for slot filling)\n",
        "        # out_int = number of intents (ouput size for intent class)\n",
        "        # emb_size = word embedding size\n",
        "        \n",
        "        #A simple lookup table that stores embeddings of a fixed dictionary and size.\n",
        "        #The input to the module is a list of indices, and the output is the corresponding word embeddings.\n",
        "        \n",
        "        self.embedding = nn.Embedding(vocab_len, \n",
        "                                      emb_size, \n",
        "                                      padding_idx=pad_index) #pad idx --> the entities at pad_index do not contribute to the gradient\n",
        "        \n",
        "        \"\"\"\n",
        "        num_embeddings (int) – size of the dictionary of embeddings\n",
        "\n",
        "        embedding_dim (int) – the size of each embedding vector\n",
        "\n",
        "        padding_idx (int, optional) – If specified, the entries at padding_idx do not contribute to the gradient; \n",
        "      \n",
        "        \"\"\"\n",
        "        self.utt_encoder = nn.LSTM(emb_size, \n",
        "                                   hid_size, \n",
        "                                   n_layer,\n",
        "                                   bidirectional=False)     #network, bidirectional\n",
        "\n",
        "        self.intent_LSTM = nn.LSTM(hid_size, \n",
        "                                  hid_size, \n",
        "                                  n_layer,\n",
        "                                  bidirectional=False) \n",
        "\n",
        "        \"\"\"  \n",
        "        input_size – The number of expected features in the input x\n",
        "        hidden_size – The number of features in the hidden state h\n",
        "        num_layers – Number of recurrent layers. \n",
        "        \"\"\"\n",
        "        self.dropout = nn.Dropout(0.1) #regularization --> randomly mute a neuron, only on training phase. Helps to avoid overfitting\n",
        "\n",
        "        self.slot_out = nn.Linear(hid_size, out_slot)\n",
        "\n",
        "        self.intent_out = nn.Linear(hid_size, out_int)\n",
        "      \n",
        "        #self.dropout = nn.Dropout(0.7) #regularization --> randomly mute a neuron, only on training phase. Helps to avoid overfitting\n",
        "        \n",
        "    def forward(self, utterance, seq_lengths, both_LSTM): #define the architecture\n",
        "        # utterance.size() = batch_size X seq_len\n",
        "        utt_emb = self.embedding(utterance) # utt_emb.size() = batch_size X seq_len X emb_size\n",
        "        #--> get word embedding\n",
        "        utt_emb = utt_emb.permute(1,0,2) # we need seq len first -> seq_len X batch_size X emb_size\n",
        "        \n",
        "        # pack_padded_sequence avoid computation over pad tokens reducing the computational cost\n",
        "        \n",
        "        packed_input = pack_padded_sequence(utt_emb, seq_lengths.cpu().numpy())\n",
        "        # Process the batch\n",
        "        packed_output, (last_hidden, cell) = self.utt_encoder(packed_input) \n",
        "\n",
        "        \n",
        "        if both_LSTM:\n",
        "          packed_output, (last_hidden, cell) = self.intent_LSTM(packed_output)\n",
        "          \n",
        "        # Unpack the sequence\n",
        "        utt_encoded, input_sizes = pad_packed_sequence(packed_output)\n",
        "        #utt_encoded.shape: [sentence lenght, 128, 200] \n",
        "        #print(utt_encoded.shape)\n",
        "        # Get the last hidden state\n",
        "        #last_hidde.shape: [1, 128, 200]\n",
        "        last_hidden = last_hidden[-1,:,:]\n",
        "        #last_hidde.shape: [128, 200] -> [batch size, hidden_size]\n",
        "\n",
        "        #print(\"\\nutt_encoded.shape: \", utt_encoded.shape)\n",
        "        #print(\"\\nlast hidden.shape\",last_hidden.shape)\n",
        "        \n",
        "        #drop_utt = self.dropout(utt_encoded)\n",
        "\n",
        "        # Compute slot logits, i use the encoded representation of the utterance, with the encoding of each word\n",
        "        \n",
        "        #slots.shape: [sentence_lenght, batch_size, out_slots]\n",
        "        intent = self.intent_out(last_hidden)\n",
        "        \n",
        "        if not both_LSTM:\n",
        "          slots = self.slot_out(utt_encoded)\n",
        "          slots = slots.permute(1,2,0) # We need this for computing the loss\n",
        "        else:\n",
        "          slots = None\n",
        "        #print(intent.shape)\n",
        "\n",
        "        #intent.shape: [128, out_intent] --> [batch_size, possible slots in dataset]\n",
        "\n",
        "        # Slot size: [seq_len, batch size, out_slot] \n",
        "       \n",
        "        # Slot size: [batch_size, out_slot, seq_len]\n",
        "\n",
        "        return slots, intent"
      ],
      "metadata": {
        "id": "PpxesL0YGvZG"
      },
      "execution_count": null,
      "outputs": []
    },
    {
      "cell_type": "markdown",
      "source": [
        "TRAIN BOTH"
      ],
      "metadata": {
        "id": "Vkij35UvIpQK"
      }
    },
    {
      "cell_type": "code",
      "source": [
        "def train_adv(train_loader, test_loader, dev_loader, model, optimizer, lang, both_LSTM, n_epochs=200, patience=8):\n",
        " \n",
        "  losses_train = []\n",
        "  losses_dev = []\n",
        "  sampled_epochs = []\n",
        "  best_f1 = 0\n",
        "  for x in tqdm(range(1,n_epochs)):\n",
        "      loss = train_loop_adv(train_loader, optimizer, criterion_slots, \n",
        "                        criterion_intents, model, both_LSTM)\n",
        "      if x % 5 == 0:\n",
        "          sampled_epochs.append(x)\n",
        "          losses_train.append(np.asarray(loss).mean())\n",
        "          results_dev, intent_res, loss_dev = eval_loop_adv(dev_loader, criterion_slots, \n",
        "                                                        criterion_intents, model, lang, both_LSTM)\n",
        "          losses_dev.append(np.asarray(loss_dev).mean())\n",
        "          f1 = results_dev['total']['f']\n",
        "          \n",
        "          if f1 > best_f1: #sometimes loss words but f1 increases, we have to look at both and figure out what of the 2 to use to stop the training\n",
        "              best_f1 = f1\n",
        "          else:\n",
        "              patience -= 1\n",
        "          if patience <= 0: # Early stopping with patience\n",
        "              break # Not nice but it keeps the code clean\n",
        "\n",
        "  results_test, intent_test, _ = eval_loop_adv(test_loader, criterion_slots, \n",
        "                                          criterion_intents, model, lang, both_LSTM)    \n",
        "  print('\\nSlot F1: ', results_test['total']['f'])\n",
        "  print('Intent Accuracy:', intent_test['accuracy'])\n",
        "  return sampled_epochs, losses_train, losses_dev"
      ],
      "metadata": {
        "id": "dSc6ZSvqIoUZ"
      },
      "execution_count": null,
      "outputs": []
    },
    {
      "cell_type": "code",
      "execution_count": null,
      "metadata": {
        "id": "1_fOXtHhIuKP"
      },
      "outputs": [],
      "source": [
        "from conll import evaluate\n",
        "from sklearn.metrics import classification_report\n",
        "\n",
        "def train_loop_adv(data, optimizer, criterion_slots, criterion_intents, model, both_LSTM):\n",
        "    model.train()\n",
        "    loss_array = []\n",
        "    for sample in data:\n",
        "        optimizer.zero_grad() # Zeroing the gradient\n",
        "        slots, intent = model(utterance = sample['utterances'], seq_lengths = sample['slots_len'], both_LSTM = both_LSTM)\n",
        "        loss_intent = criterion_intents(intent, sample['intents'])\n",
        "        loss = loss_intent # In joint training we sum the losses. \n",
        "                                       # Is there another way to do that?\n",
        "                                       # you can decide to give more imporante to intent or slots with a linear combination\n",
        "        loss_array.append(loss.item())\n",
        "        loss.backward() # Compute the gradient, deleting the computational graph\n",
        "        # clip the gradient to avoid explosioning gradients\n",
        "        # torch.nn.utils.clip_grad_norm_(model.parameters(), clip)  \n",
        "        optimizer.step() # Update the weights\n",
        "    return loss_array\n",
        "\n",
        "def eval_loop_adv(data, criterion_slots, criterion_intents, model, lang, both_LSTM):\n",
        "    model.eval()\n",
        "    loss_array = []\n",
        "    \n",
        "    ref_intents = []\n",
        "    hyp_intents = []\n",
        "    \n",
        "    ref_slots = []\n",
        "    hyp_slots = []\n",
        "    #softmax = nn.Softmax(dim=1) # Use Softmax if you need the actual probability\n",
        "    with torch.no_grad(): # It used to avoid the creation of computational graph\n",
        "        for sample in data:\n",
        "            slots, intents = model(sample['utterances'], sample['slots_len'], both_LSTM)\n",
        "            loss_intent = criterion_intents(intents, sample['intents'])\n",
        "            \n",
        "            loss = loss_intent\n",
        "            loss_array.append(loss.item())\n",
        "            # Intent inference\n",
        "            # Get the highest probable class\n",
        "            out_intents = [lang.id2intent[x] \n",
        "                           for x in torch.argmax(intents, dim=1).tolist()] \n",
        "            gt_intents = [lang.id2intent[x] for x in sample['intents'].tolist()]\n",
        "            ref_intents.extend(gt_intents)\n",
        "            hyp_intents.extend(out_intents)\n",
        "            \n",
        "            if not both_LSTM:\n",
        "              # Slot inference \n",
        "              output_slots = torch.argmax(slots, dim=1)\n",
        "              for id_seq, seq in enumerate(output_slots):\n",
        "                  length = sample['slots_len'].tolist()[id_seq]\n",
        "                  utt_ids = sample['utterance'][id_seq][:length].tolist()\n",
        "                  gt_ids = sample['y_slots'][id_seq].tolist()\n",
        "                  gt_slots = [lang.id2slot[elem] for elem in gt_ids[:length]]\n",
        "                  utterance = [lang.id2word[elem] for elem in utt_ids]\n",
        "                  to_decode = seq[:length].tolist()\n",
        "                  ref_slots.append([(utterance[id_el], elem) for id_el, elem in enumerate(gt_slots)])\n",
        "                  tmp_seq = []\n",
        "                  for id_el, elem in enumerate(to_decode):\n",
        "                      tmp_seq.append((utterance[id_el], lang.id2slot[elem]) if elem != 0 else (utterance[id_el], 'O'))\n",
        "                  hyp_slots.append(tmp_seq)\n",
        "    try:            \n",
        "        results = evaluate(ref_slots, hyp_slots)\n",
        "    except Exception as ex: #if your model predict slot that are not in ref, it gives error\n",
        "        # Sometimes the model predics a class that is not in REF\n",
        "        print(ex)\n",
        "        ref_s = set([x[1] for x in ref_slots])\n",
        "        hyp_s = set([x[1] for x in hyp_slots])\n",
        "        print(hyp_s.difference(ref_s))\n",
        "        \n",
        "    report_intent = classification_report(ref_intents, hyp_intents, \n",
        "                                          zero_division=False, output_dict=True)\n",
        "    return results, report_intent, loss_array\n"
      ]
    },
    {
      "cell_type": "code",
      "source": [
        "SNIPS_model_both = Model_both(hid_size, SNIPS_out_slot, SNIPS_out_int, emb_size, SNIPS_vocab_len, pad_index=PAD_TOKEN).to(device)\n",
        "SNIPS_model_both.apply(init_weights)\n",
        "SNIPS_optimizer_adv = optim.Adam(SNIPS_model_both.parameters(), lr=lr, weight_decay=wd) #take default parameters, just modify lr"
      ],
      "metadata": {
        "id": "FyC_cMWUKrmF"
      },
      "execution_count": null,
      "outputs": []
    },
    {
      "cell_type": "code",
      "source": [
        "SNIPS_sampled_epochs_adv, SNIPS_losses_train_adv, SNIPS_losses_dev_adv = train_adv(\n",
        "  train_loader = SNIPS_train_loader, \n",
        "  test_loader = SNIPS_test_loader, \n",
        "  dev_loader = SNIPS_dev_loader, \n",
        "  model = SNIPS_model_both, \n",
        "  optimizer = SNIPS_optimizer_adv,\n",
        "  lang = SNIPS_lang,\n",
        "  both_LSTM = False)"
      ],
      "metadata": {
        "id": "_JddQ-3aTjbf"
      },
      "execution_count": null,
      "outputs": []
    },
    {
      "cell_type": "code",
      "source": [
        "plt.figure(num = 3, figsize=(8, 5)).patch.set_facecolor('white')\n",
        "plt.title('Train and Dev Losses')\n",
        "plt.ylabel('Loss')\n",
        "plt.xlabel('Epochs')\n",
        "plt.plot(SNIPS_sampled_epochs_adv, SNIPS_losses_train_adv, label='Train loss')\n",
        "plt.plot(SNIPS_sampled_epochs_adv, SNIPS_losses_dev_adv, label='Dev loss')\n",
        "plt.legend()\n",
        "plt.show()"
      ],
      "metadata": {
        "id": "xtsAUl33Vcx-"
      },
      "execution_count": null,
      "outputs": []
    },
    {
      "cell_type": "code",
      "source": [
        "SNIPS_sampled_epochs_adv, SNIPS_losses_train_adv, SNIPS_losses_dev_adv = train_adv(\n",
        "train_loader = SNIPS_train_loader, \n",
        "test_loader = SNIPS_test_loader, \n",
        "dev_loader = SNIPS_dev_loader, \n",
        "model = SNIPS_model_both, \n",
        "optimizer = SNIPS_optimizer_adv,\n",
        "lang = SNIPS_lang,\n",
        "both_LSTM = True)"
      ],
      "metadata": {
        "id": "efuzW9Z-J4qB"
      },
      "execution_count": null,
      "outputs": []
    },
    {
      "cell_type": "code",
      "source": [
        "plt.figure(num = 3, figsize=(8, 5)).patch.set_facecolor('white')\n",
        "plt.title('Train and Dev Losses')\n",
        "plt.ylabel('Loss')\n",
        "plt.xlabel('Epochs')\n",
        "plt.plot(SNIPS_sampled_epochs_adv, SNIPS_losses_train_adv, label='Train loss')\n",
        "plt.plot(SNIPS_sampled_epochs_adv, SNIPS_losses_dev_adv, label='Dev loss')\n",
        "plt.legend()\n",
        "plt.show()"
      ],
      "metadata": {
        "id": "dKH4mWb5VfCV"
      },
      "execution_count": null,
      "outputs": []
    },
    {
      "cell_type": "code",
      "source": [
        ""
      ],
      "metadata": {
        "id": "_r_OnwGNFWx6"
      },
      "execution_count": null,
      "outputs": []
    },
    {
      "cell_type": "code",
      "source": [
        ""
      ],
      "metadata": {
        "id": "tlzC5SoYFW2C"
      },
      "execution_count": null,
      "outputs": []
    },
    {
      "cell_type": "code",
      "source": [
        ""
      ],
      "metadata": {
        "id": "35C94plOFW4B"
      },
      "execution_count": null,
      "outputs": []
    },
    {
      "cell_type": "code",
      "source": [
        ""
      ],
      "metadata": {
        "id": "PM4XBlhtFW63"
      },
      "execution_count": null,
      "outputs": []
    },
    {
      "cell_type": "code",
      "source": [
        ""
      ],
      "metadata": {
        "id": "Ic0bm7NuFW9O"
      },
      "execution_count": null,
      "outputs": []
    },
    {
      "cell_type": "code",
      "source": [
        ""
      ],
      "metadata": {
        "id": "UpFcRkftFW_t"
      },
      "execution_count": null,
      "outputs": []
    },
    {
      "cell_type": "code",
      "source": [
        ""
      ],
      "metadata": {
        "id": "s-2l5kE8FXCK"
      },
      "execution_count": null,
      "outputs": []
    },
    {
      "cell_type": "code",
      "source": [
        ""
      ],
      "metadata": {
        "id": "wTBzw3SbFXEz"
      },
      "execution_count": null,
      "outputs": []
    },
    {
      "cell_type": "code",
      "source": [
        ""
      ],
      "metadata": {
        "id": "7q81wp6gFXGx"
      },
      "execution_count": null,
      "outputs": []
    },
    {
      "cell_type": "code",
      "source": [
        ""
      ],
      "metadata": {
        "id": "P5ztT2iqFXJD"
      },
      "execution_count": null,
      "outputs": []
    },
    {
      "cell_type": "code",
      "source": [
        ""
      ],
      "metadata": {
        "id": "1ssCeKUQFXLJ"
      },
      "execution_count": null,
      "outputs": []
    },
    {
      "cell_type": "code",
      "source": [
        ""
      ],
      "metadata": {
        "id": "r74ooNG2FXN3"
      },
      "execution_count": null,
      "outputs": []
    },
    {
      "cell_type": "code",
      "source": [
        "class Encoder(nn.Module):\n",
        "#hidden size of rnn, embedding size (size of the vector that represent the word embedding)\n",
        "    def __init__(self, hid_size, out_slot, out_int, emb_size, vocab_len, n_layer=1, pad_index=0):\n",
        "        super(Encoder, self).__init__()\n",
        "        # hid_size = Hidden size\n",
        "        # out_slot = number of slots (output size for slot filling)\n",
        "        # out_int = number of intents (ouput size for intent class)\n",
        "        # emb_size = word embedding size\n",
        "        \n",
        "        #A simple lookup table that stores embeddings of a fixed dictionary and size.\n",
        "        #The input to the module is a list of indices, and the output is the corresponding word embeddings.\n",
        "        \n",
        "        self.embedding = nn.Embedding(vocab_len, \n",
        "                                      emb_size, \n",
        "                                      padding_idx=pad_index) #pad idx --> the entities at pad_index do not contribute to the gradient\n",
        "        \n",
        "        \"\"\"\n",
        "        num_embeddings (int) – size of the dictionary of embeddings\n",
        "\n",
        "        embedding_dim (int) – the size of each embedding vector\n",
        "\n",
        "        padding_idx (int, optional) – If specified, the entries at padding_idx do not contribute to the gradient; \n",
        "        \"\"\"\n",
        "        self.utt_encoder = nn.LSTM(emb_size, \n",
        "                                   hid_size, \n",
        "                                   n_layer,\n",
        "                                   bidirectional=True)     #network, bidirectional\n",
        "\n",
        "        \"\"\"  \n",
        "        input_size – The number of expected features in the input x\n",
        "        hidden_size – The number of features in the hidden state h\n",
        "        num_layers – Number of recurrent layers. \n",
        "        \"\"\"\n",
        "      \n",
        "        \n",
        "    def forward(self, utterance, seq_lengths): #define the architecture\n",
        "        # utterance.size() = batch_size X seq_len\n",
        "        utt_emb = self.embedding(utterance) # utt_emb.size() = batch_size X seq_len X emb_size\n",
        "        #--> get word embedding\n",
        "        utt_emb = utt_emb.permute(1,0,2) # we need seq len first -> seq_len X batch_size X emb_size\n",
        "        \n",
        "        # pack_padded_sequence avoid computation over pad tokens reducing the computational cost\n",
        "        \n",
        "        packed_input = pack_padded_sequence(utt_emb, seq_lengths.cpu().numpy())\n",
        "        # Process the batch\n",
        "        packed_output, (last_hidden, cell) = self.utt_encoder(packed_input) \n",
        "        \n",
        "        # Unpack the sequence\n",
        "        utt_encoded, input_sizes = pad_packed_sequence(packed_output)\n",
        "        #utt_encoded.shape: [sentence lenght, 128, 200] \n",
        "\n",
        "        # Get the last hidden state\n",
        "        #last_hidde.shape: [1, 128, 200]\n",
        "        last_hidden = last_hidden[-1,:,:]\n",
        "        #last_hidde.shape: [128, 200] -> [batch size, hidden_size]\n",
        "\n",
        "        return last_hidden"
      ],
      "metadata": {
        "id": "YuAkSJZNCN13"
      },
      "execution_count": null,
      "outputs": []
    },
    {
      "cell_type": "code",
      "source": [
        "SNIPS_model_adv = Encoder(hid_size, SNIPS_out_slot, SNIPS_out_int, emb_size, SNIPS_vocab_len, pad_index=PAD_TOKEN).to(device)\n",
        "SNIPS_model_adv.apply(init_weights)\n",
        "SNIPS_optimizer_adv = optim.Adam(SNIPS_model_adv.parameters(), lr=lr, weight_decay=wd) #take default parameters, just modify lr"
      ],
      "metadata": {
        "id": "9IM5nlWBDoyf"
      },
      "execution_count": null,
      "outputs": []
    },
    {
      "cell_type": "code",
      "source": [
        "SNIPS_sampled_epochs_adv, SNIPS_losses_train_adv, SNIPS_losses_dev_adv = train_adv(\n",
        "train_loader = SNIPS_train_loader, \n",
        "test_loader = SNIPS_test_loader, \n",
        "dev_loader = SNIPS_dev_loader, \n",
        "model = SNIPS_model_adv, \n",
        "optimizer = SNIPS_optimizer_adv,\n",
        "lang = SNIPS_lang)"
      ],
      "metadata": {
        "id": "RVTFpnSWDo2e"
      },
      "execution_count": null,
      "outputs": []
    },
    {
      "cell_type": "code",
      "source": [
        "SNIPS_model_adv.slot_out = nn.Identity()\n",
        "SNIPS_model_adv.intent_out = nn.Identity()"
      ],
      "metadata": {
        "id": "i90KQwcwGK6q"
      },
      "execution_count": null,
      "outputs": []
    },
    {
      "cell_type": "code",
      "source": [
        "print(SNIPS_model_adv)"
      ],
      "metadata": {
        "id": "BS_lMssNFuVZ"
      },
      "execution_count": null,
      "outputs": []
    },
    {
      "cell_type": "code",
      "source": [
        "class Intent_LSTM(nn.Module):\n",
        "#hidden size of rnn, embedding size (size of the vector that represent the word embedding)\n",
        "    def __init__(self, hid_size, out_int, vocab_len, n_layer=1, pad_index=0):\n",
        "        super(Intent_LSTM, self).__init__()\n",
        "\n",
        "        self.final_hidden = nn.LSTM(200, \n",
        "                                   200, \n",
        "                                   n_layer,\n",
        "                                   bidirectional=False)     #network, bidirectional\n",
        "\n",
        "        self.dropout = nn.Dropout(0.1) #regularization --> randomly mute a neuron, only on training phase. Helps to avoid overfitting\n",
        "\n",
        "        self.intent_out = nn.Linear(hid_size, out_int)\n",
        "      \n",
        "        \n",
        "    def forward(self, hidden_repr): #define the architecture\n",
        "        # Process the batch\n",
        "        #print(len(hidden_repr[0]))\n",
        "        hidden_tensor = torch.Tensor(hidden_repr[0])\n",
        "        print(hidden_tensor.shape)\n",
        "        packed_output, (last_hidden, cell) = self.final_hidden(hidden_repr[0]) \n",
        "        \n",
        "        #utt_encoded.shape: [sentence lenght, 128, 200] \n",
        "\n",
        "        # Get the last hidden state\n",
        "        #last_hidde.shape: [1, 128, 200]\n",
        "        print(\"last hidden shape\", last_hidden.shape)\n",
        "        last_hidden = last_hidden[-1,:,:]\n",
        "        #last_hidde.shape: [128, 200] -> [batch size, hidden_size]\n",
        "\n",
        "        intent = self.intent_out(last_hidden)\n",
        "\n",
        "        return intent"
      ],
      "metadata": {
        "id": "0Q-ry1RREhYk"
      },
      "execution_count": null,
      "outputs": []
    },
    {
      "cell_type": "code",
      "source": [
        "SNIPS_intent_LSTM = Intent_LSTM(hid_size, SNIPS_out_int, SNIPS_vocab_len, pad_index=PAD_TOKEN).to(device)"
      ],
      "metadata": {
        "id": "p0akVZT3HB8s"
      },
      "execution_count": null,
      "outputs": []
    },
    {
      "cell_type": "code",
      "source": [
        "SNIPS_intent_LSTM.apply(init_weights)\n",
        "SNIPS_optimizer_intent = optim.Adam(SNIPS_intent_LSTM.parameters(), lr=lr) #take default parameters, just modify lr"
      ],
      "metadata": {
        "id": "riUeX9jYEKUc"
      },
      "execution_count": null,
      "outputs": []
    },
    {
      "cell_type": "code",
      "source": [
        "print(SNIPS_intent_LSTM)"
      ],
      "metadata": {
        "id": "-75Qj5oqDo5G"
      },
      "execution_count": null,
      "outputs": []
    },
    {
      "cell_type": "code",
      "source": [
        "SNIPS_sampled_epochs_final, SNIPS_losses_train_final, SNIPS_losses_dev_final = train_intent_LSTM(\n",
        "train_loader = SNIPS_train_loader, \n",
        "test_loader = SNIPS_test_loader, \n",
        "dev_loader = SNIPS_dev_loader, \n",
        "encoder = SNIPS_model_adv,\n",
        "model = SNIPS_intent_LSTM, \n",
        "optimizer = SNIPS_optimizer_intent,\n",
        "lang = SNIPS_lang)"
      ],
      "metadata": {
        "id": "z9A5WqK4Do7W"
      },
      "execution_count": null,
      "outputs": []
    },
    {
      "cell_type": "code",
      "execution_count": null,
      "metadata": {
        "id": "d2Eb6HC2IFHZ"
      },
      "outputs": [],
      "source": [
        "from conll import evaluate\n",
        "from sklearn.metrics import classification_report\n",
        "\n",
        "def train_loop_intent_LSTM(data, optimizer, criterion_slots, criterion_intents, encoder, model):\n",
        "    model.train()\n",
        "    loss_array = []\n",
        "    for sample in data:\n",
        "        optimizer.zero_grad() # Zeroing the gradient\n",
        "        hidden = encoder(sample['utterances'], sample['slots_len'])\n",
        "        print(\"hidden_shape: \", torch.Tensor(hidden).shape)\n",
        "        final = model(hidden)\n",
        "        loss_intent = criterion_intents(final, sample['intents'])\n",
        "        loss = loss_intent  # In joint training we sum the losses. \n",
        "                            # Is there another way to do that?\n",
        "                            # you can decide to give more imporante to intent or slots with a linear combination\n",
        "        loss_array.append(loss.item())\n",
        "        loss.backward() # Compute the gradient, deleting the computational graph\n",
        "        # clip the gradient to avoid explosioning gradients\n",
        "        # torch.nn.utils.clip_grad_norm_(model.parameters(), clip)  \n",
        "        optimizer.step() # Update the weights\n",
        "    return loss_array\n",
        "\n",
        "def eval_loop_intent_LSTM(data, criterion_slots, criterion_intents, encoder, model, lang):\n",
        "    model.eval()\n",
        "    loss_array = []\n",
        "    \n",
        "    ref_intents = []\n",
        "    hyp_intents = []\n",
        "    \n",
        "    ref_slots = []\n",
        "    hyp_slots = []\n",
        "    #softmax = nn.Softmax(dim=1) # Use Softmax if you need the actual probability\n",
        "    with torch.no_grad(): # It used to avoid the creation of computational graph\n",
        "        for sample in data:\n",
        "            hidden = encoder(sample['utterances'], sample['slots_len'])\n",
        "            final = model(hidden)\n",
        "            loss_intent = criterion_intents(final, sample['intents'])\n",
        "            loss = loss_intent\n",
        "            loss_array.append(loss.item())\n",
        "            # Intent inference\n",
        "            # Get the highest probable class\n",
        "            out_intents = [lang.id2intent[x] \n",
        "                           for x in torch.argmax(final, dim=1).tolist()] \n",
        "            gt_intents = [lang.id2intent[x] for x in sample['intents'].tolist()]\n",
        "            ref_intents.extend(gt_intents)\n",
        "            hyp_intents.extend(out_intents)\n",
        "        \n",
        "    report_intent = classification_report(ref_intents, hyp_intents, \n",
        "                                          zero_division=False, output_dict=True)\n",
        "    return report_intent, loss_array"
      ]
    },
    {
      "cell_type": "code",
      "source": [
        "def train_intent_LSTM(train_loader, test_loader, dev_loader,encoder, model, optimizer, lang, n_epochs=200, patience=3):\n",
        " \n",
        "  losses_train = []\n",
        "  losses_dev = []\n",
        "  sampled_epochs = []\n",
        "  best_f1 = 0\n",
        "  for x in tqdm(range(1,n_epochs)):\n",
        "      loss = train_loop_intent_LSTM(train_loader, optimizer, criterion_slots, \n",
        "                        criterion_intents, encoder, model)\n",
        "      if x % 5 == 0:\n",
        "          sampled_epochs.append(x)\n",
        "          losses_train.append(np.asarray(loss).mean())\n",
        "          results_dev, intent_res, loss_dev = eval_loop_adv(dev_loader, criterion_slots, \n",
        "                                                        criterion_intents, encoder, model, lang)\n",
        "          losses_dev.append(np.asarray(loss_dev).mean())\n",
        "          f1 = results_dev['total']['f']\n",
        "          \n",
        "          if f1 > best_f1: #sometimes loss words but f1 increases, we have to look at both and figure out what of the 2 to use to stop the training\n",
        "              best_f1 = f1\n",
        "          else:\n",
        "              patience -= 1\n",
        "          if patience <= 0: # Early stopping with patience\n",
        "              break # Not nice but it keeps the code clean\n",
        "\n",
        "  results_test, intent_test, _ = eval_loop_adv(test_loader, criterion_slots, \n",
        "                                          criterion_intents, model, lang)    \n",
        "  print('\\nSlot F1: ', results_test['total']['f'])\n",
        "  print('Intent Accuracy:', intent_test['accuracy'])\n",
        "  return sampled_epochs, losses_train, losses_dev"
      ],
      "metadata": {
        "id": "ED3nczzXHzmJ"
      },
      "execution_count": null,
      "outputs": []
    },
    {
      "cell_type": "code",
      "source": [
        ""
      ],
      "metadata": {
        "id": "wuvdF_lEDo-P"
      },
      "execution_count": null,
      "outputs": []
    },
    {
      "cell_type": "code",
      "source": [
        ""
      ],
      "metadata": {
        "id": "v2zg8sw0In_X"
      },
      "execution_count": null,
      "outputs": []
    },
    {
      "cell_type": "code",
      "source": [
        ""
      ],
      "metadata": {
        "id": "iGkwAS7JIoBi"
      },
      "execution_count": null,
      "outputs": []
    },
    {
      "cell_type": "code",
      "source": [
        ""
      ],
      "metadata": {
        "id": "HcEYqZ6JIoDc"
      },
      "execution_count": null,
      "outputs": []
    },
    {
      "cell_type": "code",
      "source": [
        ""
      ],
      "metadata": {
        "id": "8luRYo-sIoFw"
      },
      "execution_count": null,
      "outputs": []
    },
    {
      "cell_type": "code",
      "source": [
        ""
      ],
      "metadata": {
        "id": "wDKSbqbNIoHo"
      },
      "execution_count": null,
      "outputs": []
    },
    {
      "cell_type": "code",
      "source": [
        ""
      ],
      "metadata": {
        "id": "ck85-2HHIoKA"
      },
      "execution_count": null,
      "outputs": []
    },
    {
      "cell_type": "code",
      "source": [
        ""
      ],
      "metadata": {
        "id": "Wztt1f4wIoMl"
      },
      "execution_count": null,
      "outputs": []
    },
    {
      "cell_type": "code",
      "source": [
        "ATIS_model_adv = Model_adv(hid_size, ATIS_out_slot, ATIS_out_int, emb_size, ATIS_vocab_len, pad_index=PAD_TOKEN).to(device)\n",
        "ATIS_model_adv.apply(init_weights)\n",
        "ATIS_optimizer_adv = optim.Adam(ATIS_model_adv.parameters(), lr=lr, weight_decay=wd) #take default parameters, just modify lr"
      ],
      "metadata": {
        "id": "ZHq4SovEDgK9"
      },
      "execution_count": null,
      "outputs": []
    },
    {
      "cell_type": "code",
      "source": [
        "ATIS_sampled_epochs_adv, ATIS_losses_train_adv, ATIS_losses_dev_adv = train(\n",
        "    train_loader = ATIS_train_loader, \n",
        "    test_loader = ATIS_test_loader, \n",
        "    dev_loader = ATIS_dev_loader, \n",
        "    model = ATIS_model_adv, \n",
        "    optimizer = ATIS_optimizer_adv,\n",
        "    lang = ATIS_lang)"
      ],
      "metadata": {
        "id": "IqOkwOmqDWZm"
      },
      "execution_count": null,
      "outputs": []
    },
    {
      "cell_type": "code",
      "source": [
        "plt.figure(num = 3, figsize=(8, 5)).patch.set_facecolor('white')\n",
        "plt.title('Train and Dev Losses')\n",
        "plt.ylabel('Loss')\n",
        "plt.xlabel('Epochs')\n",
        "plt.plot(ATIS_sampled_epochs_adv, ATIS_losses_train_adv, label='Train loss')\n",
        "plt.plot(ATIS_sampled_epochs_adv, ATIS_losses_dev_adv, label='Dev loss')\n",
        "plt.legend()\n",
        "plt.show()"
      ],
      "metadata": {
        "id": "g_N1NIYoF-CF"
      },
      "execution_count": null,
      "outputs": []
    },
    {
      "cell_type": "code",
      "source": [
        ""
      ],
      "metadata": {
        "id": "o0t63Pn4qfn5"
      },
      "execution_count": null,
      "outputs": []
    },
    {
      "cell_type": "markdown",
      "source": [
        "Third model"
      ],
      "metadata": {
        "id": "ZtjN621xluNr"
      }
    },
    {
      "cell_type": "code",
      "source": [
        "# BERT model script from: huggingface.co\n",
        "from transformers import BertModel #tokenizer + architecture (actual weights)\n",
        "\n",
        "model = BertModel.from_pretrained(\"bert-base-uncased\")\n",
        "\n",
        "outputs = model(**inputs)\n",
        "\n",
        "last_hidden_states = outputs.last_hidden_state"
      ],
      "metadata": {
        "id": "jyPrrdVvlttO"
      },
      "execution_count": null,
      "outputs": []
    },
    {
      "cell_type": "markdown",
      "source": [
        "##Train"
      ],
      "metadata": {
        "id": "kVeM3IxTfkNJ"
      }
    },
    {
      "cell_type": "code",
      "source": [
        "import torch.optim as optim\n",
        "\n",
        "hid_size = 200\n",
        "emb_size = 300\n",
        "\n",
        "lr = 0.0001 # learning rate\n",
        "clip = 5 # Clip the gradient #clip gradient to a threshold (hyperparameter)"
      ],
      "metadata": {
        "id": "-s2LDJ91TjBJ"
      },
      "execution_count": null,
      "outputs": []
    },
    {
      "cell_type": "code",
      "source": [
        "SNIPS_model_adv = Model_adv(hid_size, SNIPS_out_slot, SNIPS_out_int, emb_size, SNIPS_vocab_len, pad_index=PAD_TOKEN).to(device)\n",
        "SNIPS_model_adv.apply(init_weights)\n",
        "SNIPS_optimizer_adv = optim.Adam(SNIPS_model_adv.parameters(), lr=lr) #take default parameters, just modify lr"
      ],
      "metadata": {
        "id": "zhCBr8SdXuB-"
      },
      "execution_count": null,
      "outputs": []
    },
    {
      "cell_type": "code",
      "source": [
        "SNIPS_sampled_epochs_adv, SNIPS_losses_train_adv, SNIPS_losses_dev_adv = train_adv(\n",
        "train_loader = SNIPS_train_loader, \n",
        "test_loader = SNIPS_test_loader, \n",
        "dev_loader = SNIPS_dev_loader, \n",
        "model = SNIPS_model_adv, \n",
        "optimizer = SNIPS_optimizer_adv,\n",
        "lang = SNIPS_lang,\n",
        "train = True)"
      ],
      "metadata": {
        "id": "48phA9wRXv6V"
      },
      "execution_count": null,
      "outputs": []
    },
    {
      "cell_type": "code",
      "source": [
        "plt.figure(num = 3, figsize=(8, 5)).patch.set_facecolor('white')\n",
        "plt.title('Train and Dev Losses')\n",
        "plt.ylabel('Loss')\n",
        "plt.xlabel('Epochs')\n",
        "plt.plot(SNIPS_sampled_epochs_adv, SNIPS_losses_train_adv, label='Train loss')\n",
        "plt.plot(SNIPS_sampled_epochs_adv, SNIPS_losses_dev_adv, label='Dev loss')\n",
        "plt.legend()\n",
        "plt.show()"
      ],
      "metadata": {
        "id": "a_RxYFo7U5n9"
      },
      "execution_count": null,
      "outputs": []
    },
    {
      "cell_type": "code",
      "source": [
        "ATIS_model_adv = Model_adv(hid_size, ATIS_out_slot, ATIS_out_int, emb_size, ATIS_vocab_len, pad_index=PAD_TOKEN).to(device)\n",
        "ATIS_model_adv.apply(init_weights)\n",
        "lr=0.0001\n",
        "ATIS_optimizer_adv = optim.Adam(ATIS_model_adv.parameters(), lr=lr) #take default parameters, just modify lr"
      ],
      "metadata": {
        "id": "d7G_r3iaa4it"
      },
      "execution_count": null,
      "outputs": []
    },
    {
      "cell_type": "code",
      "source": [
        "ATIS_sampled_epochs, ATIS_losses_train, ATIS_losses_dev = train_adv(\n",
        "    train_loader = ATIS_train_loader, \n",
        "    test_loader = ATIS_test_loader, \n",
        "    dev_loader = ATIS_dev_loader, \n",
        "    model = ATIS_model, \n",
        "    optimizer = ATIS_optimizer,\n",
        "    lang = ATIS_lang)"
      ],
      "metadata": {
        "id": "u8i4C0h_bDz0"
      },
      "execution_count": null,
      "outputs": []
    },
    {
      "cell_type": "code",
      "source": [
        "plt.figure(num = 3, figsize=(8, 5)).patch.set_facecolor('white')\n",
        "plt.title('Train and Dev Losses')\n",
        "plt.ylabel('Loss')\n",
        "plt.xlabel('Epochs')\n",
        "plt.plot(ATIS_sampled_epochs, ATIS_losses_train, label='Train loss')\n",
        "plt.plot(ATIS_sampled_epochs, ATIS_losses_dev, label='Dev loss')\n",
        "plt.legend()\n",
        "plt.show()"
      ],
      "metadata": {
        "id": "MIX91eCBa9rV"
      },
      "execution_count": null,
      "outputs": []
    },
    {
      "cell_type": "code",
      "execution_count": null,
      "metadata": {
        "id": "nj2w3XCpqiDH"
      },
      "outputs": [],
      "source": [
        "from conll import evaluate\n",
        "from sklearn.metrics import classification_report\n",
        "\n",
        "def train_loop_adv(data, optimizer, criterion_slots, criterion_intents, model):\n",
        "    model.train()\n",
        "    loss_array = []\n",
        "    for sample in data:\n",
        "        optimizer.zero_grad() # Zeroing the gradient\n",
        "        slots, intent = model(sample['utterances'], sample['slots_len'])\n",
        "        loss_intent = criterion_intents(intent, sample['intents'])\n",
        "\n",
        "        #print(\"\\nslots.shape:\\n \",slots.shape)\n",
        "        #print(\"\\nsample.shape\\n: \",sample['y_slots'].shape)\n",
        "\n",
        "        #print(\"\\nslots:\\n \",slots)\n",
        "        #print(\"\\nsample\\n: \",sample['y_slots'])\n",
        "\n",
        "        loss_slot = criterion_slots(slots, sample['y_slots'])\n",
        "        loss = loss_intent + loss_slot # In joint training we sum the losses. \n",
        "                                       # Is there another way to do that?\n",
        "                                       # you can decide to give more imporante to intent or slots with a linear combination\n",
        "        loss_array.append(loss.item())\n",
        "        loss.backward() # Compute the gradient, deleting the computational graph\n",
        "        # clip the gradient to avoid explosioning gradients\n",
        "        # torch.nn.utils.clip_grad_norm_(model.parameters(), clip)  \n",
        "        optimizer.step() # Update the weights\n",
        "    return loss_array\n",
        "\n",
        "def eval_loop_adv(data, criterion_slots, criterion_intents, model, lang):\n",
        "    model.eval()\n",
        "    loss_array = []\n",
        "    \n",
        "    ref_intents = []\n",
        "    hyp_intents = []\n",
        "    \n",
        "    ref_slots = []\n",
        "    hyp_slots = []\n",
        "    #softmax = nn.Softmax(dim=1) # Use Softmax if you need the actual probability\n",
        "    with torch.no_grad(): # It used to avoid the creation of computational graph\n",
        "        for sample in data:\n",
        "            slots, intents = model(sample['utterances'], sample['slots_len'])\n",
        "            loss_intent = criterion_intents(intents, sample['intents'])\n",
        "            loss_slot = criterion_slots(slots, sample['y_slots'])\n",
        "            loss = loss_intent + loss_slot \n",
        "            loss_array.append(loss.item())\n",
        "            # Intent inference\n",
        "            # Get the highest probable class\n",
        "            out_intents = [lang.id2intent[x] \n",
        "                           for x in torch.argmax(intents, dim=1).tolist()] \n",
        "            gt_intents = [lang.id2intent[x] for x in sample['intents'].tolist()]\n",
        "            ref_intents.extend(gt_intents)\n",
        "            hyp_intents.extend(out_intents)\n",
        "            \n",
        "            # Slot inference \n",
        "            output_slots = torch.argmax(slots, dim=1)\n",
        "            for id_seq, seq in enumerate(output_slots):\n",
        "                length = sample['slots_len'].tolist()[id_seq]\n",
        "                utt_ids = sample['utterance'][id_seq][:length].tolist()\n",
        "                gt_ids = sample['y_slots'][id_seq].tolist()\n",
        "                gt_slots = [lang.id2slot[elem] for elem in gt_ids[:length]]\n",
        "                utterance = [lang.id2word[elem] for elem in utt_ids]\n",
        "                to_decode = seq[:length].tolist()\n",
        "                ref_slots.append([(utterance[id_el], elem) for id_el, elem in enumerate(gt_slots)])\n",
        "                tmp_seq = []\n",
        "                for id_el, elem in enumerate(to_decode):\n",
        "                    tmp_seq.append((utterance[id_el], lang.id2slot[elem]) if elem != 0 else (utterance[id_el], 'O'))\n",
        "                hyp_slots.append(tmp_seq)\n",
        "    try:            \n",
        "        results = evaluate(ref_slots, hyp_slots)\n",
        "    except Exception as ex: #if your model predict slot that are not in ref, it gives error\n",
        "        # Sometimes the model predics a class that is not in REF\n",
        "        print(ex)\n",
        "        ref_s = set([x[1] for x in ref_slots])\n",
        "        hyp_s = set([x[1] for x in hyp_slots])\n",
        "        print(hyp_s.difference(ref_s))\n",
        "        \n",
        "    report_intent = classification_report(ref_intents, hyp_intents, \n",
        "                                          zero_division=False, output_dict=True)\n",
        "    return results, report_intent, loss_array\n"
      ]
    },
    {
      "cell_type": "code",
      "source": [
        "def train_adv(train_loader, test_loader, dev_loader, model, optimizer, lang, n_epochs=200, patience=3, train=True):\n",
        " \n",
        "  losses_train = []\n",
        "  losses_dev = []\n",
        "  sampled_epochs = []\n",
        "  best_f1 = 0\n",
        "  for x in tqdm(range(1,n_epochs)):\n",
        "      if train:\n",
        "        loss = train_loop_adv(train_loader, optimizer, criterion_slots, \n",
        "                          criterion_intents, model)\n",
        "        if x % 5 == 0:\n",
        "            sampled_epochs.append(x)\n",
        "            losses_train.append(np.asarray(loss).mean())\n",
        "            results_dev, intent_res, loss_dev = eval_loop_adv(dev_loader, criterion_slots, \n",
        "                                                          criterion_intents, model, lang)\n",
        "            losses_dev.append(np.asarray(loss_dev).mean())\n",
        "            f1 = results_dev['total']['f']\n",
        "            \n",
        "            if f1 > best_f1: #sometimes loss words but f1 increases, we have to look at both and figure out what of the 2 to use to stop the training\n",
        "                best_f1 = f1\n",
        "            else:\n",
        "                patience -= 1\n",
        "            if patience <= 0: # Early stopping with patience\n",
        "                break # Not nice but it keeps the code clean\n",
        "\n",
        "  results_test, intent_test, _ = eval_loop_adv(test_loader, criterion_slots, \n",
        "                                          criterion_intents, model, lang)    \n",
        "  print('\\nSlot F1: ', results_test['total']['f'])\n",
        "  print('Intent Accuracy:', intent_test['accuracy'])\n",
        "  return sampled_epochs, losses_train, losses_dev"
      ],
      "metadata": {
        "id": "BL14A-BRqszl"
      },
      "execution_count": null,
      "outputs": []
    },
    {
      "cell_type": "code",
      "source": [
        "def train_try(train_loader, test_loader, dev_loader, model, optimizer, lang, n_epochs=200, patience=3, train=True):\n",
        " \n",
        "  losses_train = []\n",
        "  loss_intent_train = []\n",
        "  loss_slot_train = []\n",
        "  losses_dev = [] \n",
        "  loss_intent_dev_array = []\n",
        "  loss_slot_dev_array= []\n",
        "\n",
        "  sampled_epochs = []\n",
        "  best_f1 = 0\n",
        "  for x in tqdm(range(1,n_epochs)):\n",
        "      if train:\n",
        "        loss, loss_intent, loss_slot = train_loop_try(train_loader, optimizer, criterion_slots, \n",
        "                          criterion_intents, model)\n",
        "        if x % 3 == 0:\n",
        "            sampled_epochs.append(x)\n",
        "            losses_train.append(np.asarray(loss).mean())\n",
        "            loss_intent_train.append(np.asarray(loss_intent).mean())\n",
        "            loss_slot_train.append(np.asarray(loss_slot).mean())\n",
        "\n",
        "            results_dev, intent_res, loss_dev, loss_intent_dev, loss_slot_dev = eval_loop_try(dev_loader, criterion_slots, \n",
        "                                                          criterion_intents, model, lang)\n",
        "            losses_dev.append(np.asarray(loss_dev).mean())\n",
        "            loss_intent_dev_array.append(np.asarray(loss_intent_dev).mean())\n",
        "            loss_slot_dev_array.append(np.asarray(loss_slot_dev).mean())\n",
        "            f1 = results_dev['total']['f']\n",
        "\n",
        "            \"\"\"if(x=50):\n",
        "              parameters = []\n",
        "              for param in model.parameters():\"\"\"\n",
        "\n",
        "            \n",
        "            if f1 > best_f1: #sometimes loss words but f1 increases, we have to look at both and figure out what of the 2 to use to stop the training\n",
        "                best_f1 = f1\n",
        "            else:\n",
        "                patience -= 1\n",
        "            if patience <= 0: # Early stopping with patience\n",
        "                break # Not nice but it keeps the code clean\n",
        "\n",
        "  results_test, intent_test, _ , _ , _ = eval_loop_try(test_loader, criterion_slots, \n",
        "                                          criterion_intents, model, lang)    \n",
        "  print('\\nSlot F1: ', results_test['total']['f'])\n",
        "  print('Intent Accuracy:', intent_test['accuracy'])\n",
        "  return sampled_epochs, losses_train, losses_dev, loss_intent_train, loss_slot_train, loss_intent_dev_array, loss_slot_dev_array"
      ],
      "metadata": {
        "id": "OjTY-FQCKlgj"
      },
      "execution_count": null,
      "outputs": []
    },
    {
      "cell_type": "code",
      "source": [
        "def train_multiple_runs_try(train_loader, test_loader, dev_loader, model, criterion_slots, criterion_intents, optimizer, lang, n_epochs=200, patience=3, runs=5):\n",
        "  slot_f1s, intent_acc = [], []\n",
        "  tot_losses_train, tot_losses_dev = [], []\n",
        "  tot_losses_intent_train, tot_losses_intent_dev = [], []\n",
        "  tot_losses_slot_train, tot_losses_slot_dev = [], []\n",
        "  tot_sampled_epochs = []\n",
        "\n",
        "  for x in tqdm(range(0, runs)):\n",
        "      model.apply(init_weights)\n",
        "\n",
        "      losses_train = []\n",
        "      losses_dev = []\n",
        "      loss_intent_train = []\n",
        "      loss_slot_train = []\n",
        "      loss_intent_dev_array = []\n",
        "      loss_slot_dev_array= []\n",
        "\n",
        "      sampled_epochs = []\n",
        "      best_f1 = 0\n",
        "      for x in tqdm(range(1,n_epochs)):\n",
        "          loss, loss_intent, loss_slot = train_loop_try(train_loader, optimizer, criterion_slots, \n",
        "                            criterion_intents, model)\n",
        "          if x % 5 == 0:\n",
        "              sampled_epochs.append(x)\n",
        "              losses_train.append(np.asarray(loss).mean())\n",
        "              loss_intent_train.append(np.asarray(loss_intent).mean())\n",
        "              loss_slot_train.append(np.asarray(loss_slot).mean())\n",
        "              \n",
        "              results_dev, intent_res, loss_dev, loss_intent_dev, loss_slot_dev = eval_loop_try(dev_loader, criterion_slots, \n",
        "                                                            criterion_intents, model, lang)\n",
        "              losses_dev.append(np.asarray(loss_dev).mean())\n",
        "              loss_intent_dev_array.append(np.asarray(loss_intent_dev).mean())\n",
        "              loss_slot_dev_array.append(np.asarray(loss_slot_dev).mean())\n",
        "              f1 = results_dev['total']['f']\n",
        "\n",
        "              if f1 > best_f1:\n",
        "                  best_f1 = f1\n",
        "              else:\n",
        "                  patience -= 1\n",
        "              if patience <= 0: # Early stoping with patient\n",
        "                  break # Not nice but it keeps the code clean\n",
        "\n",
        "      results_test, intent_test, _ , _ , _  = eval_loop_try(test_loader, criterion_slots, \n",
        "                                              criterion_intents, model, lang)\n",
        "      intent_acc.append(intent_test['accuracy'])\n",
        "      slot_f1s.append(results_test['total']['f'])\n",
        "      tot_losses_train.append(losses_train)\n",
        "      tot_losses_dev.append(losses_dev)\n",
        "      tot_losses_intent_train.append(loss_intent_train)\n",
        "      tot_losses_intent_dev.append(loss_intent_dev_array)\n",
        "      tot_losses_slot_train.append(loss_slot_train)\n",
        "      tot_losses_slot_dev.append(loss_slot_dev_array) \n",
        "      tot_sampled_epochs.append(sampled_epochs)\n",
        "\n",
        "  slot_f1s = np.asarray(slot_f1s)\n",
        "  intent_acc = np.asarray(intent_acc)\n",
        "  print('\\nSlot F1', round(slot_f1s.mean(),3), '+-', round(slot_f1s.std(),3))\n",
        "  print('Intent Acc', round(intent_acc.mean(), 3), '+-', round(slot_f1s.std(), 3))\n",
        "  return tot_sampled_epochs, tot_losses_train, tot_losses_dev, tot_losses_intent_train, tot_losses_slot_train, tot_losses_intent_dev, tot_losses_slot_dev"
      ],
      "metadata": {
        "id": "yMDY__XpNPzk"
      },
      "execution_count": null,
      "outputs": []
    },
    {
      "cell_type": "code",
      "source": [
        ""
      ],
      "metadata": {
        "id": "BihEwceONnog"
      },
      "execution_count": null,
      "outputs": []
    },
    {
      "cell_type": "code",
      "source": [
        "fdict = {}\n",
        "for k, v in ATIS_tot_intent_test[0].items():\n",
        "  fdict[k] = v['f1-score']\n",
        "\n",
        "plt.barh(list(fdict.keys()), list(fdict.values()), align = 'center')\n",
        "plt.show()"
      ],
      "metadata": {
        "id": "U8qEHaeNNnrK"
      },
      "execution_count": null,
      "outputs": []
    },
    {
      "cell_type": "code",
      "source": [
        "SNIPS_tot_intent_test[0].pop('accuracy')\n",
        "fdict = {}\n",
        "for k, v in SNIPS_tot_intent_test[0].items():\n",
        "  fdict[k] = v['f1-score']\n",
        "\n",
        "plt.barh(list(fdict.keys()), list(fdict.values()), align = 'center')\n",
        "plt.show()"
      ],
      "metadata": {
        "id": "mEX_0D7cPohU"
      },
      "execution_count": null,
      "outputs": []
    },
    {
      "cell_type": "code",
      "source": [
        ""
      ],
      "metadata": {
        "id": "HDBDy63VGJ0C"
      },
      "execution_count": null,
      "outputs": []
    },
    {
      "cell_type": "code",
      "source": [
        ""
      ],
      "metadata": {
        "id": "T_ypHgz6GJ6N"
      },
      "execution_count": null,
      "outputs": []
    },
    {
      "cell_type": "code",
      "source": [
        ""
      ],
      "metadata": {
        "id": "JrwJzYLzGJ8O"
      },
      "execution_count": null,
      "outputs": []
    }
  ]
}